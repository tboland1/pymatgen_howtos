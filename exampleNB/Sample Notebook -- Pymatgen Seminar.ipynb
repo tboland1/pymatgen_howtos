{
 "cells": [
  {
   "cell_type": "markdown",
   "metadata": {},
   "source": []
  },
  {
   "cell_type": "code",
   "execution_count": 1,
   "metadata": {},
   "outputs": [],
   "source": [
    "import pymatgen\n",
    "from pymatgen import MPRester"
   ]
  },
  {
   "cell_type": "code",
   "execution_count": 2,
   "metadata": {},
   "outputs": [],
   "source": [
    "mpr = MPRester(api_key='your_api_key')"
   ]
  },
  {
   "cell_type": "code",
   "execution_count": 3,
   "metadata": {},
   "outputs": [],
   "source": [
    "struc = mpr.get_structure_by_material_id(material_id='mp-5020')"
   ]
  },
  {
   "cell_type": "code",
   "execution_count": 4,
   "metadata": {},
   "outputs": [
    {
     "name": "stdout",
     "output_type": "stream",
     "text": [
      "Full Formula (Ba1 Ti1 O3)\n",
      "Reduced Formula: BaTiO3\n",
      "abc   :   4.081131   4.081131   4.081130\n",
      "angles:  89.664584  89.664583  89.664586\n",
      "Sites (5)\n",
      "  #  SP           a         b         c    magmom\n",
      "---  ----  --------  --------  --------  --------\n",
      "  0  Ba    0.997931  0.997931  0.997931        -0\n",
      "  1  Ti    0.48356   0.48356   0.48356         -0\n",
      "  2  O     0.026247  0.515381  0.515381         0\n",
      "  3  O     0.515381  0.026247  0.515381         0\n",
      "  4  O     0.515381  0.515381  0.026247         0\n"
     ]
    }
   ],
   "source": [
    "print(struc)"
   ]
  },
  {
   "cell_type": "code",
   "execution_count": 5,
   "metadata": {},
   "outputs": [],
   "source": [
    "from pymatgen.analysis.defects.generators import SubstitutionGenerator"
   ]
  },
  {
   "cell_type": "markdown",
   "metadata": {},
   "source": [
    "This is a generator object"
   ]
  },
  {
   "cell_type": "code",
   "execution_count": 6,
   "metadata": {},
   "outputs": [],
   "source": [
    "subs = SubstitutionGenerator(struc,\"Bi\")"
   ]
  },
  {
   "cell_type": "code",
   "execution_count": 7,
   "metadata": {},
   "outputs": [],
   "source": [
    "all_subs = list(subs)"
   ]
  },
  {
   "cell_type": "code",
   "execution_count": 8,
   "metadata": {},
   "outputs": [
    {
     "data": {
      "text/plain": [
       "<pymatgen.analysis.defects.core.Substitution at 0x7f9569a81eb8>"
      ]
     },
     "execution_count": 8,
     "metadata": {},
     "output_type": "execute_result"
    }
   ],
   "source": [
    "all_subs[0]"
   ]
  },
  {
   "cell_type": "code",
   "execution_count": 9,
   "metadata": {},
   "outputs": [
    {
     "data": {
      "text/plain": [
       "{'@module': 'pymatgen.analysis.defects.core',\n",
       " '@class': 'Substitution',\n",
       " 'structure': {'@module': 'pymatgen.core.structure',\n",
       "  '@class': 'Structure',\n",
       "  'charge': None,\n",
       "  'lattice': {'matrix': [[4.08106962, 0.00160894, 0.02227365],\n",
       "    [0.02216099, 4.08100973, 0.02227365],\n",
       "    [0.00161705, 0.00160892, 4.08112967]],\n",
       "   'a': 4.081130719232011,\n",
       "   'b': 4.081130681724952,\n",
       "   'c': 4.081130307504108,\n",
       "   'alpha': 89.66458352647857,\n",
       "   'beta': 89.66458343089579,\n",
       "   'gamma': 89.66458613749262,\n",
       "   'volume': 67.97030671913357},\n",
       "  'sites': [{'species': [{'element': 'Ba', 'occu': 1}],\n",
       "    'abc': [0.99793097, 0.99793097, 0.99793097],\n",
       "    'xyz': [4.09635460704603, 4.075777200589462, 4.1171408205787605],\n",
       "    'label': 'Ba',\n",
       "    'properties': {'magmom': -0.0}},\n",
       "   {'species': [{'element': 'Ti', 'occu': 1}],\n",
       "    'abc': [0.48356042, 0.48356042, 0.48356042],\n",
       "    'xyz': [1.984941858505617, 1.9749708087959879, 1.9950140883975274],\n",
       "    'label': 'Ti',\n",
       "    'properties': {'magmom': -0.0}},\n",
       "   {'species': [{'element': 'O', 'occu': 1}],\n",
       "    'abc': [0.02624658, 0.51538102, 0.51538102],\n",
       "    'xyz': [0.1193688707757004, 2.104146393280448, 2.1154007956696033],\n",
       "    'label': 'O',\n",
       "    'properties': {'magmom': 0.0}},\n",
       "   {'species': [{'element': 'O', 'occu': 1}],\n",
       "    'abc': [0.51538102, 0.02624658, 0.51538102],\n",
       "    'xyz': [2.1047208705219176, 0.1087709723282406, 2.1154007956696033],\n",
       "    'label': 'O',\n",
       "    'properties': {'magmom': 0.0}},\n",
       "   {'species': [{'element': 'O', 'occu': 1}],\n",
       "    'abc': [0.51538102, 0.51538102, 0.02624658],\n",
       "    'xyz': [2.1147696191092114, 2.1041464030631367, 0.13007452928627458],\n",
       "    'label': 'O',\n",
       "    'properties': {'magmom': 0.0}}]},\n",
       " 'defect_site': {'species': [{'element': 'Bi', 'occu': 1}],\n",
       "  'abc': [0.9979309700000002, 0.99793097, 0.9979309699999999],\n",
       "  'lattice': {'@module': 'pymatgen.core.lattice',\n",
       "   '@class': 'Lattice',\n",
       "   'matrix': [[4.08106962, 0.00160894, 0.02227365],\n",
       "    [0.02216099, 4.08100973, 0.02227365],\n",
       "    [0.00161705, 0.00160892, 4.08112967]]},\n",
       "  '@module': 'pymatgen.core.sites',\n",
       "  '@class': 'PeriodicSite'},\n",
       " 'charge': 0.0}"
      ]
     },
     "execution_count": 9,
     "metadata": {},
     "output_type": "execute_result"
    }
   ],
   "source": [
    "all_subs[0].as_dict()"
   ]
  },
  {
   "cell_type": "code",
   "execution_count": 10,
   "metadata": {},
   "outputs": [],
   "source": [
    "sub = all_subs[0]"
   ]
  },
  {
   "cell_type": "code",
   "execution_count": 11,
   "metadata": {},
   "outputs": [
    {
     "data": {
      "text/plain": [
       "Structure Summary\n",
       "Lattice\n",
       "    abc : 4.081130719232011 4.081130681724952 4.081130307504108\n",
       " angles : 89.66458352647857 89.66458343089579 89.66458613749262\n",
       " volume : 67.97030671913357\n",
       "      A : 4.08106962 0.00160894 0.02227365\n",
       "      B : 0.02216099 4.08100973 0.02227365\n",
       "      C : 0.00161705 0.00160892 4.08112967\n",
       "PeriodicSite: Ti (1.9849, 1.9750, 1.9950) [0.4836, 0.4836, 0.4836]\n",
       "PeriodicSite: O (0.1194, 2.1041, 2.1154) [0.0262, 0.5154, 0.5154]\n",
       "PeriodicSite: O (2.1047, 0.1088, 2.1154) [0.5154, 0.0262, 0.5154]\n",
       "PeriodicSite: O (2.1148, 2.1041, 0.1301) [0.5154, 0.5154, 0.0262]\n",
       "PeriodicSite: Bi (4.0964, 4.0758, 4.1171) [0.9979, 0.9979, 0.9979]"
      ]
     },
     "execution_count": 11,
     "metadata": {},
     "output_type": "execute_result"
    }
   ],
   "source": [
    "sub.generate_defect_structure()"
   ]
  },
  {
   "cell_type": "code",
   "execution_count": 12,
   "metadata": {},
   "outputs": [
    {
     "data": {
      "text/plain": [
       "Structure Summary\n",
       "Lattice\n",
       "    abc : 4.081130719232011 4.081130681724952 4.081130307504108\n",
       " angles : 89.66458352647857 89.66458343089579 89.66458613749262\n",
       " volume : 67.97030671913357\n",
       "      A : 4.08106962 0.00160894 0.02227365\n",
       "      B : 0.02216099 4.08100973 0.02227365\n",
       "      C : 0.00161705 0.00160892 4.08112967\n",
       "PeriodicSite: Ba (4.0964, 4.0758, 4.1171) [0.9979, 0.9979, 0.9979]\n",
       "PeriodicSite: O (0.1194, 2.1041, 2.1154) [0.0262, 0.5154, 0.5154]\n",
       "PeriodicSite: O (2.1047, 0.1088, 2.1154) [0.5154, 0.0262, 0.5154]\n",
       "PeriodicSite: O (2.1148, 2.1041, 0.1301) [0.5154, 0.5154, 0.0262]\n",
       "PeriodicSite: Bi (1.9849, 1.9750, 1.9950) [0.4836, 0.4836, 0.4836]"
      ]
     },
     "execution_count": 12,
     "metadata": {},
     "output_type": "execute_result"
    }
   ],
   "source": [
    "all_subs[1].generate_defect_structure()"
   ]
  },
  {
   "cell_type": "code",
   "execution_count": 13,
   "metadata": {},
   "outputs": [
    {
     "ename": "ModuleNotFoundError",
     "evalue": "No module named 'pymatgen.analysis.gb.grain'",
     "output_type": "error",
     "traceback": [
      "\u001b[0;31m---------------------------------------------------------------------------\u001b[0m",
      "\u001b[0;31mModuleNotFoundError\u001b[0m                       Traceback (most recent call last)",
      "\u001b[0;32m<ipython-input-13-406dcc697f53>\u001b[0m in \u001b[0;36m<module>\u001b[0;34m()\u001b[0m\n\u001b[0;32m----> 1\u001b[0;31m \u001b[0;32mfrom\u001b[0m \u001b[0mpymatgen\u001b[0m\u001b[0;34m.\u001b[0m\u001b[0manalysis\u001b[0m\u001b[0;34m.\u001b[0m\u001b[0mgb\u001b[0m\u001b[0;34m.\u001b[0m\u001b[0mgrain\u001b[0m \u001b[0;32mimport\u001b[0m \u001b[0mGrainBoundaryGenerator\u001b[0m\u001b[0;34m\u001b[0m\u001b[0m\n\u001b[0m",
      "\u001b[0;31mModuleNotFoundError\u001b[0m: No module named 'pymatgen.analysis.gb.grain'"
     ]
    }
   ],
   "source": [
    "from pymatgen.analysis.gb.grain import GrainBoundaryGenerator"
   ]
  },
  {
   "cell_type": "code",
   "execution_count": null,
   "metadata": {},
   "outputs": [],
   "source": []
  },
  {
   "cell_type": "code",
   "execution_count": null,
   "metadata": {},
   "outputs": [],
   "source": []
  }
 ],
 "metadata": {
  "kernelspec": {
   "display_name": "Python 3",
   "language": "python",
   "name": "python3"
  },
  "language_info": {
   "codemirror_mode": {
    "name": "ipython",
    "version": 3
   },
   "file_extension": ".py",
   "mimetype": "text/x-python",
   "name": "python",
   "nbconvert_exporter": "python",
   "pygments_lexer": "ipython3",
   "version": "3.6.8"
  },
  "latex_envs": {
   "LaTeX_envs_menu_present": true,
   "autoclose": false,
   "autocomplete": true,
   "bibliofile": "biblio.bib",
   "cite_by": "apalike",
   "current_citInitial": 1,
   "eqLabelWithNumbers": true,
   "eqNumInitial": 1,
   "hotkeys": {
    "equation": "Ctrl-E",
    "itemize": "Ctrl-I"
   },
   "labels_anchors": false,
   "latex_user_defs": false,
   "report_style_numbering": false,
   "user_envs_cfg": false
  },
  "varInspector": {
   "cols": {
    "lenName": 16,
    "lenType": 16,
    "lenVar": 40
   },
   "kernels_config": {
    "python": {
     "delete_cmd_postfix": "",
     "delete_cmd_prefix": "del ",
     "library": "var_list.py",
     "varRefreshCmd": "print(var_dic_list())"
    },
    "r": {
     "delete_cmd_postfix": ") ",
     "delete_cmd_prefix": "rm(",
     "library": "var_list.r",
     "varRefreshCmd": "cat(var_dic_list()) "
    }
   },
   "types_to_exclude": [
    "module",
    "function",
    "builtin_function_or_method",
    "instance",
    "_Feature"
   ],
   "window_display": false
  }
 },
 "nbformat": 4,
 "nbformat_minor": 2
}
