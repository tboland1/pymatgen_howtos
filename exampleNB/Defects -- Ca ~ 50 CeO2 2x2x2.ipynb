{
 "cells": [
  {
   "cell_type": "code",
   "execution_count": 1,
   "metadata": {
    "code_folding": []
   },
   "outputs": [
    {
     "data": {
      "application/javascript": [
       "IPython.notebook.set_autosave_interval(120000)"
      ]
     },
     "metadata": {},
     "output_type": "display_data"
    },
    {
     "name": "stdout",
     "output_type": "stream",
     "text": [
      "Autosaving every 120 seconds\n"
     ]
    }
   ],
   "source": [
    "%autosave 120\n",
    "%matplotlib inline\n",
    "from pymatgen.symmetry.analyzer import SpacegroupAnalyzer\n",
    "from pymatgen.analysis.structure_matcher import StructureMatcher\n",
    "from basicimports import *"
   ]
  },
  {
   "cell_type": "code",
   "execution_count": 2,
   "metadata": {
    "code_folding": [
     0
    ]
   },
   "outputs": [
    {
     "name": "stdout",
     "output_type": "stream",
     "text": [
      "Last ran on /home/tboland1/Dropbox/Crozier Group User- Tara Boland/pymatgen from  2018-12-10 13:17:25.115175\n"
     ]
    }
   ],
   "source": [
    "### Get the date and time that the script was executed ###\n",
    "pwd = os.getcwd()\n",
    "date = datetime.datetime.now()\n",
    "print('Last ran on', pwd, 'from ', date)"
   ]
  },
  {
   "cell_type": "markdown",
   "metadata": {},
   "source": [
    "The lattice constant used for this structure was obtained using DFT under the conditions that the unit cell was relaxed using isif 3, ENCUT 520 with 4x4x4 MP-KP grid for a 2x2x2 CeO2 unit cell. This value (a0) is stored below and used for the creation of this grain boundary."
   ]
  },
  {
   "cell_type": "code",
   "execution_count": 3,
   "metadata": {},
   "outputs": [],
   "source": [
    "a0 = 11.0040675479162573/2"
   ]
  },
  {
   "cell_type": "markdown",
   "metadata": {},
   "source": [
    "Get the structure. \n",
    "\n",
    "Define the equilibrium bond distance for CeO2 computed by DFT. \n",
    "\n",
    "View structure."
   ]
  },
  {
   "cell_type": "code",
   "execution_count": 4,
   "metadata": {},
   "outputs": [],
   "source": [
    "lat = Lattice.cubic(5.494)  # define the lattice\n",
    "coord = [[0, 0, 0], [0.25, 0.25, 0.25]]  # symmetry enfored basis coords\n",
    "structure = mg.Structure.from_spacegroup(\n",
    "    sg=\"Fm-3m\", lattice=lat, species=[\"Ce\", \"O\"],\n",
    "    coords=coord)  # create the structure\n",
    "struct_1 = structure.copy()"
   ]
  },
  {
   "cell_type": "code",
   "execution_count": 5,
   "metadata": {},
   "outputs": [],
   "source": [
    "struct_1.make_supercell(scaling_matrix=(2,2,2))"
   ]
  },
  {
   "cell_type": "markdown",
   "metadata": {},
   "source": [
    "Set up the substitution generator."
   ]
  },
  {
   "cell_type": "code",
   "execution_count": 6,
   "metadata": {},
   "outputs": [],
   "source": [
    "from pymatgen.analysis.defects.generators import SubstitutionGenerator"
   ]
  },
  {
   "cell_type": "markdown",
   "metadata": {},
   "source": [
    "This is how you initialize a generator. You pass it the structure and the atom which you want to substitute into the structure."
   ]
  },
  {
   "cell_type": "code",
   "execution_count": 7,
   "metadata": {},
   "outputs": [],
   "source": [
    "subs = SubstitutionGenerator(structure,\"Ca\")"
   ]
  },
  {
   "cell_type": "code",
   "execution_count": 8,
   "metadata": {},
   "outputs": [
    {
     "data": {
      "text/plain": [
       "2"
      ]
     },
     "execution_count": 8,
     "metadata": {},
     "output_type": "execute_result"
    }
   ],
   "source": [
    "all_subs = list(subs)\n",
    "len(all_subs)"
   ]
  },
  {
   "cell_type": "markdown",
   "metadata": {},
   "source": [
    "The generator object, subs, constructs a structure {} of all possible substitutional sites for the given structure. all_subs is our list of all these crystallographically inequivalent substitutions."
   ]
  },
  {
   "cell_type": "code",
   "execution_count": 9,
   "metadata": {},
   "outputs": [
    {
     "data": {
      "text/plain": [
       "<pymatgen.analysis.defects.core.Substitution at 0x7fc0154ff1d0>"
      ]
     },
     "execution_count": 9,
     "metadata": {},
     "output_type": "execute_result"
    }
   ],
   "source": [
    "all_subs[0]"
   ]
  },
  {
   "cell_type": "markdown",
   "metadata": {},
   "source": [
    "This tells us it is a python *dictionary* which is not super useful for use. We can make this more useful by converting this to a dictionary using the as_dict() method.\n",
    "\n",
    "A lot of pymatgen uses this methodology. So let's take a look at this."
   ]
  },
  {
   "cell_type": "code",
   "execution_count": 10,
   "metadata": {},
   "outputs": [
    {
     "data": {
      "text/plain": [
       "{'@module': 'pymatgen.analysis.defects.core',\n",
       " '@class': 'Substitution',\n",
       " 'structure': {'@module': 'pymatgen.core.structure',\n",
       "  '@class': 'Structure',\n",
       "  'charge': None,\n",
       "  'lattice': {'matrix': [[5.494, 0.0, 0.0],\n",
       "    [0.0, 5.494, 0.0],\n",
       "    [0.0, 0.0, 5.494]],\n",
       "   'a': 5.494,\n",
       "   'b': 5.494,\n",
       "   'c': 5.494,\n",
       "   'alpha': 90.0,\n",
       "   'beta': 90.0,\n",
       "   'gamma': 90.0,\n",
       "   'volume': 165.831093784},\n",
       "  'sites': [{'species': [{'element': 'Ce', 'occu': 1}],\n",
       "    'abc': [0.0, 0.0, 0.0],\n",
       "    'xyz': [0.0, 0.0, 0.0],\n",
       "    'label': 'Ce'},\n",
       "   {'species': [{'element': 'Ce', 'occu': 1}],\n",
       "    'abc': [0.0, 0.5, 0.5],\n",
       "    'xyz': [0.0, 2.747, 2.747],\n",
       "    'label': 'Ce'},\n",
       "   {'species': [{'element': 'Ce', 'occu': 1}],\n",
       "    'abc': [0.5, 0.0, 0.5],\n",
       "    'xyz': [2.747, 0.0, 2.747],\n",
       "    'label': 'Ce'},\n",
       "   {'species': [{'element': 'Ce', 'occu': 1}],\n",
       "    'abc': [0.5, 0.5, 0.0],\n",
       "    'xyz': [2.747, 2.747, 0.0],\n",
       "    'label': 'Ce'},\n",
       "   {'species': [{'element': 'O', 'occu': 1}],\n",
       "    'abc': [0.25, 0.25, 0.25],\n",
       "    'xyz': [1.3735, 1.3735, 1.3735],\n",
       "    'label': 'O'},\n",
       "   {'species': [{'element': 'O', 'occu': 1}],\n",
       "    'abc': [0.75, 0.25, 0.25],\n",
       "    'xyz': [4.1205, 1.3735, 1.3735],\n",
       "    'label': 'O'},\n",
       "   {'species': [{'element': 'O', 'occu': 1}],\n",
       "    'abc': [0.75, 0.75, 0.25],\n",
       "    'xyz': [4.1205, 4.1205, 1.3735],\n",
       "    'label': 'O'},\n",
       "   {'species': [{'element': 'O', 'occu': 1}],\n",
       "    'abc': [0.25, 0.75, 0.25],\n",
       "    'xyz': [1.3735, 4.1205, 1.3735],\n",
       "    'label': 'O'},\n",
       "   {'species': [{'element': 'O', 'occu': 1}],\n",
       "    'abc': [0.25, 0.75, 0.75],\n",
       "    'xyz': [1.3735, 4.1205, 4.1205],\n",
       "    'label': 'O'},\n",
       "   {'species': [{'element': 'O', 'occu': 1}],\n",
       "    'abc': [0.25, 0.25, 0.75],\n",
       "    'xyz': [1.3735, 1.3735, 4.1205],\n",
       "    'label': 'O'},\n",
       "   {'species': [{'element': 'O', 'occu': 1}],\n",
       "    'abc': [0.75, 0.25, 0.75],\n",
       "    'xyz': [4.1205, 1.3735, 4.1205],\n",
       "    'label': 'O'},\n",
       "   {'species': [{'element': 'O', 'occu': 1}],\n",
       "    'abc': [0.75, 0.75, 0.75],\n",
       "    'xyz': [4.1205, 4.1205, 4.1205],\n",
       "    'label': 'O'}]},\n",
       " 'defect_site': {'species': [{'element': 'Ca', 'occu': 1}],\n",
       "  'abc': [0.0, 0.0, 0.0],\n",
       "  'lattice': {'@module': 'pymatgen.core.lattice',\n",
       "   '@class': 'Lattice',\n",
       "   'matrix': [[5.494, 0.0, 0.0], [0.0, 5.494, 0.0], [0.0, 0.0, 5.494]]},\n",
       "  '@module': 'pymatgen.core.sites',\n",
       "  '@class': 'PeriodicSite'},\n",
       " 'charge': 0.0}"
      ]
     },
     "execution_count": 10,
     "metadata": {},
     "output_type": "execute_result"
    }
   ],
   "source": [
    "all_subs[0].as_dict()"
   ]
  },
  {
   "cell_type": "markdown",
   "metadata": {},
   "source": [
    "Now we can see all the properties of this python object. As we can see it has a lot of properties which are useful when manipulating structures. \n",
    "\n",
    "So lets store this as a variable so we can have it be more useful and access all it's properties."
   ]
  },
  {
   "cell_type": "code",
   "execution_count": 11,
   "metadata": {},
   "outputs": [],
   "source": [
    "sub = all_subs[0]"
   ]
  },
  {
   "cell_type": "markdown",
   "metadata": {},
   "source": [
    "If we type sub. and look at all the methods of this class we can see what we can do with this instance of our object.\n",
    "\n",
    "Let's pick generate defect structure because this seems like what we want to if we want to run simulations on it."
   ]
  },
  {
   "cell_type": "code",
   "execution_count": 12,
   "metadata": {},
   "outputs": [
    {
     "data": {
      "text/plain": [
       "<bound method Substitution.generate_defect_structure of <pymatgen.analysis.defects.core.Substitution object at 0x7fc0154ff1d0>>"
      ]
     },
     "execution_count": 12,
     "metadata": {},
     "output_type": "execute_result"
    }
   ],
   "source": [
    "sub.generate_defect_structure"
   ]
  },
  {
   "cell_type": "markdown",
   "metadata": {},
   "source": [
    "Python is telling us that this is a method! So we have to do something with a method to get something back. Let's add () to this and see what we get."
   ]
  },
  {
   "cell_type": "code",
   "execution_count": 13,
   "metadata": {},
   "outputs": [
    {
     "data": {
      "text/plain": [
       "Structure Summary\n",
       "Lattice\n",
       "    abc : 5.494 5.494 5.494\n",
       " angles : 90.0 90.0 90.0\n",
       " volume : 165.831093784\n",
       "      A : 5.494 0.0 0.0\n",
       "      B : 0.0 5.494 0.0\n",
       "      C : 0.0 0.0 5.494\n",
       "PeriodicSite: Ce (0.0000, 2.7470, 2.7470) [0.0000, 0.5000, 0.5000]\n",
       "PeriodicSite: Ce (2.7470, 0.0000, 2.7470) [0.5000, 0.0000, 0.5000]\n",
       "PeriodicSite: Ce (2.7470, 2.7470, 0.0000) [0.5000, 0.5000, 0.0000]\n",
       "PeriodicSite: O (1.3735, 1.3735, 1.3735) [0.2500, 0.2500, 0.2500]\n",
       "PeriodicSite: O (4.1205, 1.3735, 1.3735) [0.7500, 0.2500, 0.2500]\n",
       "PeriodicSite: O (4.1205, 4.1205, 1.3735) [0.7500, 0.7500, 0.2500]\n",
       "PeriodicSite: O (1.3735, 4.1205, 1.3735) [0.2500, 0.7500, 0.2500]\n",
       "PeriodicSite: O (1.3735, 4.1205, 4.1205) [0.2500, 0.7500, 0.7500]\n",
       "PeriodicSite: O (1.3735, 1.3735, 4.1205) [0.2500, 0.2500, 0.7500]\n",
       "PeriodicSite: O (4.1205, 1.3735, 4.1205) [0.7500, 0.2500, 0.7500]\n",
       "PeriodicSite: O (4.1205, 4.1205, 4.1205) [0.7500, 0.7500, 0.7500]\n",
       "PeriodicSite: Ca (0.0000, 0.0000, 0.0000) [0.0000, 0.0000, 0.0000]"
      ]
     },
     "execution_count": 13,
     "metadata": {},
     "output_type": "execute_result"
    }
   ],
   "source": [
    "sub_struct_0 = sub.generate_defect_structure()\n",
    "sub_struct_0"
   ]
  },
  {
   "cell_type": "markdown",
   "metadata": {},
   "source": [
    "As you can see our very last site is now a Ca atom. Now let's look at the composition to make sure it substituted the Ce atom and not the oxygen atoms."
   ]
  },
  {
   "cell_type": "code",
   "execution_count": 14,
   "metadata": {},
   "outputs": [
    {
     "data": {
      "text/plain": [
       "Comp: Ca1 Ce3 O8"
      ]
     },
     "execution_count": 14,
     "metadata": {},
     "output_type": "execute_result"
    }
   ],
   "source": [
    "sub_struct_0.composition"
   ]
  },
  {
   "cell_type": "markdown",
   "metadata": {},
   "source": [
    "We can see that the stoichiometry is not conserved which is okay since we have not gave our generator any information regarding chemistry or oxidation. Now let's look at the second structure. "
   ]
  },
  {
   "cell_type": "code",
   "execution_count": 15,
   "metadata": {},
   "outputs": [
    {
     "data": {
      "text/plain": [
       "Structure Summary\n",
       "Lattice\n",
       "    abc : 5.494 5.494 5.494\n",
       " angles : 90.0 90.0 90.0\n",
       " volume : 165.831093784\n",
       "      A : 5.494 0.0 0.0\n",
       "      B : 0.0 5.494 0.0\n",
       "      C : 0.0 0.0 5.494\n",
       "PeriodicSite: Ce (0.0000, 0.0000, 0.0000) [0.0000, 0.0000, 0.0000]\n",
       "PeriodicSite: Ce (0.0000, 2.7470, 2.7470) [0.0000, 0.5000, 0.5000]\n",
       "PeriodicSite: Ce (2.7470, 0.0000, 2.7470) [0.5000, 0.0000, 0.5000]\n",
       "PeriodicSite: Ce (2.7470, 2.7470, 0.0000) [0.5000, 0.5000, 0.0000]\n",
       "PeriodicSite: O (4.1205, 1.3735, 1.3735) [0.7500, 0.2500, 0.2500]\n",
       "PeriodicSite: O (4.1205, 4.1205, 1.3735) [0.7500, 0.7500, 0.2500]\n",
       "PeriodicSite: O (1.3735, 4.1205, 1.3735) [0.2500, 0.7500, 0.2500]\n",
       "PeriodicSite: O (1.3735, 4.1205, 4.1205) [0.2500, 0.7500, 0.7500]\n",
       "PeriodicSite: O (1.3735, 1.3735, 4.1205) [0.2500, 0.2500, 0.7500]\n",
       "PeriodicSite: O (4.1205, 1.3735, 4.1205) [0.7500, 0.2500, 0.7500]\n",
       "PeriodicSite: O (4.1205, 4.1205, 4.1205) [0.7500, 0.7500, 0.7500]\n",
       "PeriodicSite: Ca (1.3735, 1.3735, 1.3735) [0.2500, 0.2500, 0.2500]"
      ]
     },
     "execution_count": 15,
     "metadata": {},
     "output_type": "execute_result"
    }
   ],
   "source": [
    "sub_struct_1 = all_subs[1].generate_defect_structure()\n",
    "sub_struct_1"
   ]
  },
  {
   "cell_type": "markdown",
   "metadata": {},
   "source": [
    "Now we see that the Ca atom is in a different place. Lets look at the composition again and see what is up with this site."
   ]
  },
  {
   "cell_type": "code",
   "execution_count": 16,
   "metadata": {},
   "outputs": [
    {
     "data": {
      "text/plain": [
       "Comp: Ca1 Ce4 O7"
      ]
     },
     "execution_count": 16,
     "metadata": {},
     "output_type": "execute_result"
    }
   ],
   "source": [
    "sub_struct_1.composition"
   ]
  },
  {
   "cell_type": "markdown",
   "metadata": {},
   "source": [
    "Now we have a dopant atom at the O site. So the substitution generator just finds all the atom specie which are potential sites for substitutions and naively puts them there.\n",
    "\n",
    "There are a number of different defect generators which are part of pymatgen. A number of them are listed as imports below. We are probably most interested in the Interstitial Generator since it is the most complex generator. It uses the NN algorithms to put interstitials.\n",
    "\n",
    "Adding in oxidation states will enable us to use charge based methods to include charge neutrality in our substitution generator. "
   ]
  },
  {
   "cell_type": "code",
   "execution_count": 17,
   "metadata": {},
   "outputs": [],
   "source": [
    "from pymatgen.transformations.standard_transformations import PartialRemoveSitesTransformation, RemoveSpeciesTransformation, SubstitutionTransformation\n",
    "from pymatgen.analysis.defects.core import Substitution, DefectEntry, Defect\n",
    "from pymatgen.analysis.defects.core import Interstitial, Vacancy, DefectCorrection"
   ]
  },
  {
   "cell_type": "markdown",
   "metadata": {},
   "source": [
    "# 50% Ca doped structure\n",
    "Create the structure to dope with 50% Ca atoms. This uses the orderdisorder structure transformation."
   ]
  },
  {
   "cell_type": "code",
   "execution_count": 18,
   "metadata": {},
   "outputs": [
    {
     "name": "stdout",
     "output_type": "stream",
     "text": [
      "6\n"
     ]
    }
   ],
   "source": [
    "specie = [{\"Ce4+\":0.5,\"Ca2+\":0.5}, {\"O2-\":1}]\n",
    "struct_50 = Structure.from_spacegroup(\"Fm-3m\", Lattice.cubic(a0),\n",
    "                                 specie, \n",
    "                                 [[0, 0, 0],[0.25,0.25,0.25]])\n",
    "from pymatgen.transformations.standard_transformations import OrderDisorderedStructureTransformation\n",
    "# generate all possible crystallographical configurations\n",
    "trans = OrderDisorderedStructureTransformation()\n",
    "ss = trans.apply_transformation(struct_50, return_ranked_list=100)\n",
    "print(len(ss))"
   ]
  },
  {
   "cell_type": "code",
   "execution_count": 19,
   "metadata": {},
   "outputs": [
    {
     "name": "stdout",
     "output_type": "stream",
     "text": [
      "1\n",
      "[0. 0. 0.] Ca2+\n"
     ]
    }
   ],
   "source": [
    "from pymatgen.analysis.structure_matcher import StructureMatcher\n",
    "\n",
    "matcher = StructureMatcher()\n",
    "temp = matcher.group_structures([d[\"structure\"] for d in ss])\n",
    "groups = [temp[i][0] for i in range(len(temp)) ]\n",
    "print(len(groups))\n",
    "print(groups[0][0])"
   ]
  },
  {
   "cell_type": "code",
   "execution_count": 20,
   "metadata": {},
   "outputs": [
    {
     "name": "stdout",
     "output_type": "stream",
     "text": [
      "100\n"
     ]
    }
   ],
   "source": [
    "struct_50_222 = struct_50.copy()\n",
    "struct_50_222.make_supercell(2)\n",
    "ss = trans.apply_transformation(struct_50_222, return_ranked_list=100)\n",
    "print(len(ss))"
   ]
  },
  {
   "cell_type": "code",
   "execution_count": 21,
   "metadata": {
    "code_folding": [
     10
    ]
   },
   "outputs": [
    {
     "name": "stdout",
     "output_type": "stream",
     "text": [
      "4\n",
      "Getting the unique structures\n"
     ]
    },
    {
     "data": {
      "text/html": [
       "<a href='https://viewer.materialsproject.org?structure=eJzNmc1um0AURl_FYtsEDcP80VWkPkAWXUZRhQlKLWE7snGVNMq7F-y0AXFhvjryXDaOGTA-PvnmzkXzGt2stw-Hqoy-LqKnl3VeP5abuNjuynhf7w5FfdiV0dUiuimqfL9vL_reHS5-5rvH9rObQ1U1x1Ve16uiHXiNmnvtVs_N27u7JImFUMJYrWyWGKnt1ULE4vhyf7W4O74fuejf-ZGL7psLorz5Gurz0XLsRDF2Iq-efra3y47fFy3LunP0mK_XncNf2-qwbn9tkqYyVtYKozOlksTpt-b0flWXrbO712j_VBarvwdlVa7LTd3a_Ja3GrfPq4e8Xm03P_Z1Xrc3lMf7b4vi0N797fgbly1zx8VJTvT88pscr_JlWZ2-Q36JGp5LUWiSQsdaSJGm1qaZdonMQjFp0swAJ6gnTXoimDisHeHk-2uHkcCTsdWJSIxzJrOZMCqlxsIy2zOYXfPZVGhhjMhSm2TBkC2keYDHadlClglkDsmnSIiBZCoEx-tYvHYoLUTJp3KYVwoSmnZhmb1ikRAHQLadUtZdtaAaEGoR60Lq_4fkWNVsp3h5vBJDIbVaRCsx9GmrJU2sfCvCoPekmyvCYqkuyuRZo5C-9HKEgyQi7V9Qh4McYoQcRsVIzzqypvuXo0tTWojSswBdDpLoS-nGg9Mk0YmOQXKItCO9J728MIm0I63nGCSfyGEikTWQVeswnxgyh2Q50ndixTPUuiRHGk-UkmNtkiOdJ1Tww4odtp4g5Ge93tLE11PdcnJi_vjTwU7i1GotnFKpcplOpbxaYGM98Ft5fWlucxa3iZ21WkmZWKWsMUkwbIPqHiCy2jaobQKbQbaZyDYklke2mYg2iM0nm0w2EgdW12SwMWoG1akdz7Vqjo1ulpZUKON0ZvR8gt3nNmdx8-kmk01hzyTafWy_7Xlk201kO2t-hdM6S4RS0lip5hNtNxFtEJtPNplsgnomwXYTwcao-YrIRwn0zEasHobm9lcRqLIEw3aobmiOhsb220biHmxCktkmCOcSbTcRbRCbTzaZbIJ6JsF2E8HGqPke1slcUyv4XILd5_Y_rc8k2e_YZLIp7JlEu4_ttz2PbJuJbBMd01yibSaiDWLzySaTTVDPJNhmItgYNXvNTu05tW84FprbncU9-A-ELn5-3VBfFRrbbxtpUUIXv75ssPhxyDYT0Qax-WSTycaqH6NrMtgYNV8R-SiBntmI1cPQ3P4qAlWWYNgG1Q3N0dDYfttI3INNSDLb4GYeYx0how1i88kmk43t5jG6JoONUTOo7u_l9VWje3kcsvvc7ixuPt1kssHNPEbbZLRBbAbZbiLb4GYeh2w3EW0Qm082mWxsN4_RNRlsjJqviJDPj-heHmMVIR8gUW4-3eQTJLiZx2ibfIQEsfnKCJltcDOPsY6Q0Qax-WSTycZ28xhdk8HGqAHV929_AIbpM_g=' target='_blank'>Click to view structure.</a>"
      ],
      "text/plain": [
       "<IPython.core.display.HTML object>"
      ]
     },
     "metadata": {},
     "output_type": "display_data"
    },
    {
     "data": {
      "text/html": [
       "<a href='https://viewer.materialsproject.org?structure=eJzNmctum0AUhl_FYtsEDcPc6CpSHyCLLqOowgQllrAd2bhKGuXdC3bagDgwvxx5DhvH3D9_-edwRvMW3ay3D4eqjL4voufXdV4_lpu42O7KeF_vDkV92JXR1SK6Kap8v29P-tndXTzlu8f22s2hqprtKq_rVdHueIuae-1WL83Xu7skiYVQwlitbJYYqe3VQsTi-HF_tbg7fh856f_xkZPumxOivHkMdX20HDtQjB3Iq-en9nbZ8XnRsqw7W4_5et3Z_L2tDuv21yZpKmNlrTA6UypJnH5vDu9Xddk6u3uL9s9lsfq3UVblutzUrc0featx-7J6yOvVdvNrX-d1e0N5vP-2KA7t3d-Pv3HZMndcnOREL69_yP1Vviyr0zPkt6jhuRSFJil0rIUUaWptmmmXyCwUkybNDHCCetKkJ4KJw9oRTn58dhgJPBlbnYjEOGcymwmjUmpfWGZ7BrNrrk2FFsaILLVJFgzZQpoHeJyWLWSZQOaQfIqEGEimQnA8j8Vrh9JClHwqh3mlIKFhF5bZKxYJcQBkO5JYYkDxBdaOBHYMkk_kMK8E41ziakfiiiF_WXJJEyvfG2HQe9LNFdFhleqiTJ53FNKXXo5w0Jci7V9Qh4MuFSPkMCpGetaREukf35emtBClZ0hfDpLoS-lCzmmS6ETHIDlEys6kpDvOsTiGGuldSl-LBLVNwZgtZJZuSQJD-sQiL_gAyHYksdCoD-XVjgQWhOTzOswrUqjCah3GFWP8qtVbGvh6qltOThn4_NOhTuLUai2cUqlymU6lvFpg-3rgt_L60tzmLG4TO2u1kjKxSlljkmDYBtU9QGS1bVDbBDaDbDORbUgsj2wzEW0Qm082mWwkDqyuyWBj1AyqUzuea9VsG928WlKhjNOZ0fMJdp_bnMXNp5tMNoU9k2j3sf2255FtN5HtrPkVTussEUpJY6WaT7TdRLRBbD7ZZLIJ6pkE200EG6PmKyKfJdAzGrF6GJrbX0WgyhIM26G6oTEaGttvG4l7sAFJZpsgnEu03US0QWw-2WSyCeqZBNtNBBuj5pusk7mm3uBzCXaf2z9bn0myP7DJZFPYM4l2H9tvex7ZNhPZJjqmuUTbTEQbxOaTTSaboJ5JsM1EsDFq9pqd2nNq33BfaG53FvfgPxC6-Pl1Q31VaGy_baRFCV38-rLB4sch20xEG8Tmk00mG6t-jK7JYGPUfEXkswR6RiNWD0Nz-6sIVFmCYRtUNzRGQ2P7bSNxDzYgyWyDi3mMdYSMNojNJ5tMNraax-iaDDZGzaC6v5bXV42u5XHI7nO7s7j5dJPJBhfzGG2T0QaxGWS7iWyDi3kcst1EtEFsPtlksrHVPEbXZLAxar4iQs4f0bU8xipCTiBRbj7d5AwSXMxjtE1OIUFsvjJCZhtczGOsI2S0QWw-2WSysdU8RtdksDFqQPX9-1815TP4' target='_blank'>Click to view structure.</a>"
      ],
      "text/plain": [
       "<IPython.core.display.HTML object>"
      ]
     },
     "metadata": {},
     "output_type": "display_data"
    },
    {
     "data": {
      "text/html": [
       "<a href='https://viewer.materialsproject.org?structure=eJzNmc1u2kAURl8FeVti2eP5c1eR-gBZdImiyjhWgmQgAlMljfLutaFtcH3H_kTE3NkkwfwdTs5cbM1bdLvePhzqKvo6i55f10XzWG3icrur4n2zO5TNYVdF81l0W9bFft896Pv54fKp2D12z90c6rq9XRdNsyq7A29R-1q71Uv752KRpnGSyEQbJU2eaqHMfJbEyfHH_Xy2OP7teNC_-x0Pum8fEBXt21DPj5auO0rXHUX9_NS9XH58v2hZNWe3Hov1-uzmz219WHefNs0yEUtjEq1yKdPUqvf27v2qqTpni7do_1yVq783qrpaV5ums_mt6DRuX1YPRbPabn7sm6LpXlAcX39blofu1d-Pn3HZMZ-5OMmJXl5_kcfrYlnVp_cQX6KW51oUiqRQsUpEkmXGZLmyqch9MSnSzADHqydFeiKYOKwpsidamC9riqzLxcRmbdAa8i_16nBQHkbItnqFOv38f62I2Kg0SbW1Ojd5omVGHfNLaSBK2z46S1SidZJnJs29QRqHygEQp0njMElAcohUjiaJJRNMocpRKMjMppnolUAOpV7lqBdD_rTkiiaWI8Ti40u1J5mKwDHN-pSVvC6lgSgnVF4RctgrBQktO7_Mk2KRiD0gG0exxILiC9Y4gnVB8okc9kowhpKrceSKIfMNBTG4JsBODIirgqtTTo0BaDR4YzaQWXrZeYacEotE7G2NDYuFzrF8eTWOYEFIPq_DXpETQb9ah7lijJ-1ekcD34ydcaenBj5-nVGncWaUSqyUmbS5yoSYz7BjPfA7cXNtbn0Rt46tMUoKkRopjdapN2yN6h4gstrWqG0Cm0G2HmkbEssjW4-kDWLzySbLRnJgdU2GjVEzqM6Mu2vZ3taq_WrJEqmtyrUKJ-w-t76Im083WTaFHUjafexp22G0bUfazttPYZXK00RKoY2Q4aRtR9IGsflkk2UT1IGEbUfCxqj5hsjHCJxYjdg89M09PUWgyeIN26K6oTXqG3vaNpK7twVJtk0QhpK2HUkbxOaTTZZNUAcSth0JG6Pmu1gnu6a-wUMJu889fbUeSNl_sMmyKexA0u5jT9sOo2090jZxxhRK2nokbRCbTzZZNkEdSNh6JGyMmn1mZ-aS2Tc85pvbXsQ9-A_4Hn7TuqHzKt_Y07aRUxTfw68vGxx-HLL1SNogNp9ssmxs-jG6JsPGqPmGyMcInFiN2Dz0zT09RaDJ4g1bo7qhNeobe9o2kru3BUm2DW7mMc4RMm0Qm082WTa2m8fomgwbo2ZQ3d_L66tG9_I4ZPe57UXcfLrJssHNPEbbZNogNoNsO9I2uJnHIduOpA1i88kmy8Z28xhdk2Fj1HxDhLx-RPfyGKcIeQGJcvPpJq8gwc08RtvkJSSIzTdGyLbBzTzGOUKmDWLzySbLxnbzGF2TYWPUgOr799_N-TP4' target='_blank'>Click to view structure.</a>"
      ],
      "text/plain": [
       "<IPython.core.display.HTML object>"
      ]
     },
     "metadata": {},
     "output_type": "display_data"
    },
    {
     "data": {
      "text/html": [
       "<a href='https://viewer.materialsproject.org?structure=eJzNmc1um0AURl_FYtsEwTB_dBWpD5BFl1FUYYJSS9iObFwljfLuBbuJTbnDfLHquWycMMb4-OPMnYvmNbpZrh92dRV9nUVPL8uieaxWcbneVPG22ezKZrepoqtZdFPWxXbbnfT9dLj8WWweu8-udnXdHtdF0yzKbuA1aq-1WTy3_97dpWmcJDLRRkmTp1ooczVL4mT_cn81u9v_7zjp433HSfftCVHRfg31-WjueqN0vVHUTz-7y-X774vmVXNy9FgslyeHv9b1btn92jTLRCyNSbTKpUxTq97at7eLpuoyu3uNtk9VuXg_qOpqWa2aLs1vRRfj-nnxUDSL9erHtima7oJif_11We66q7_tf-O8Y37PQr2HEz2__P4YV7FKRJJlxmS5sqnIP86qi3lVH75RfIlauv_LpHo39J2JxgnKNMiJYOJN7fDyacLBUADe_a0T6vD6r3siNipNUm2tzk2eaJlRY2EpDURp27OzRCVaJ3lm0jwYpHFEOQBiSlI57jeh42TuvjiWoh4zBegwIiylgSg5HBXH-uSFJJTgQDaOXIkZxRyrGdR9qDTxFH5zUgk8sUJyBEM2g_WfQKblCMzoifUSIlQ0sfQtW4M-bzB-pKjkRSkGSyfdBodiGtxJV1fOQajI1Fw9OluGxtG5IZMiVIpEdwn2RGzIRK-JrNn-_ujSyL6UJ-LFSbPk7TshVwIwG0ev7OqWGCGHwSIrIj-yrwv9fN98QXvFoFvCHutCrfvC0YailBxrmnD0oWC3HyZY47j9YH__echbmvF6rFtOD3zHPyegaZwZpRIrZSZtrjIhrmbYWA_8Vlxfmlufxa1ja4ySQqRGSqN1Ggxbo3EPEFnT1mjaBDZD2HrEbShYnrD1iNogNl_YpNmIDqxZk2Jj1AxRZ8bttWyPtWoXmCyR2qpcq-mI3efWZ3HzxU2aTWFPRO0-tj_tabhtR9zO219hlcrTREqhjZDTUduOqA1i84VNmk1QT0RsOyI2Rs1XRI4l0DMbsXoYmttfRaDKEgzbonFDczQ0tj9tRPdgE5J0myCcitp2RG0Qmy9s0myCeiJi2xGxMWq-h3XSa2oFn4rYfW7_0_pEzP6LTZpNYU9E7T62P-1puK1H3CY6pqmorUfUBrH5wibNJqgnIrYeERujZq_ZmTmn9g3HQnPbs7gHdyB08fPHDfVVobH9aSMtSuji1w8bLH4cYesRtUFsvrBJs7Hqx5g1KTZGzVdEjiXQMxuxehia219FoMoSDFujcUNzNDS2P21E92ATknQb3MxjrCOk2iA2X9ik2dhuHmPWpNgYNUPU_b28ftToXh5H2H1uexY3X9yk2eBmHmPapNogNkPYdsRtcDOPI2w7ojaIzRc2aTa2m8eYNSk2Rs1XRMjnR3Qvj7GKkA-QKDdf3OQTJLiZx5g2-QgJYvOVEdJtcDOPsY6QaoPYfGGTZmO7eYxZk2Jj1EDU929_ALCiM_g=' target='_blank'>Click to view structure.</a>"
      ],
      "text/plain": [
       "<IPython.core.display.HTML object>"
      ]
     },
     "metadata": {},
     "output_type": "display_data"
    }
   ],
   "source": [
    "groups = matcher.group_structures([d[\"structure\"] for d in ss])\n",
    "print(len(groups))\n",
    "#print(groups[0][0])\n",
    "\n",
    "# Now since the length of groups is 3 we have generated 3 unique crystallographic\n",
    "# Ca doped ceria structures. We can access these structures by cycling through the \n",
    "# first index corresponding to the groups.\n",
    "\n",
    "print(\"Getting the unique structures\")\n",
    "unique_struc = []\n",
    "for i in range(len(groups)):\n",
    "    gvl(groups[i][0])\n",
    "    unique_struc.append(groups[i][0])\n"
   ]
  },
  {
   "cell_type": "code",
   "execution_count": 22,
   "metadata": {
    "code_folding": []
   },
   "outputs": [
    {
     "name": "stdout",
     "output_type": "stream",
     "text": [
      "Getting the location of the dopant atoms\n",
      "Ca2+16 Ce4+16 O2-64\n",
      "There are  16  dopant atoms in the structure\n",
      "The defect composition is  Ca2+16 Ce4+16 O2-48 and the charge is 0.0\n"
     ]
    },
    {
     "data": {
      "text/html": [
       "<a href='https://viewer.materialsproject.org?structure=eJzNmdtu4jAQhl8F5XbbyHZ83KtK-wC92EtUrUIatUgBKggruqjvvknoboM8TqZUeHJDiXPg4-uf8Zgck7vV5nFflcn3WfLyusrrp3KdFpttme7q7b6o99syuZkld0WV73btQT_7w8Vzvn1qz13vq6rZrvK6XhbtwDFprrVdHpq38znnKWOSaaOkcVwLZW5mLGXdy8PNbN69Dxz0f3_goIfmgCRvPgY6P1mEdhShHXn18txeznWflyzKurf1lK9Wvc3fm2q_ar8tzzKRSmOYVk5Kzq16a3bvlnXZOpsfk91LWSz_bZRVuSrXdWvzR95q3ByWj3m93Kx_7eq8bi8ouutvimLfXv2t-46Llrnn4iQnObz-AcerfFFWp88Q35KG51oUCqRQqWKCZZkxmVOWCxeLSYFmPJyonhToCWCisNbBiffXHiOAJ1KjOOPaWu2MY1pm0FhcZnMBs23OzZhiWjOXGe6iIRuUZg-P0rJBWQaQKSSfIsE8yVAIuuNIvPYoDYqSTqWfVwgSddvFZR4ViwlxBGTTK2X9WQtVA2JNYn1I9XlIilnN9IrXiFdgKKZWg9EKDH3ZagkTy7EZwes94eYKsFjKqzKNzFGYvvR6hF4SMe1fVIdeDnGEFEZZoGcNzOnj09G1KQ2KcmQCuh4k0JfCjQelSaATDUFSiDSB3hOeXohEmkDrGYKkE-knEjMHkmr184lDppAsAn0nrnjGmpdEoPHEUlLMTSLQeaIKflyxfuuJhPyq13uY-HaoW85OtO9_-FlpkM22Vg1mxqS2yunmGGiMt6crZqXMpHUqE-IM_F7cXptbX8StU2uMkkJwI6XRmkfDtljdrvlqVinHmZRCGyFJbVusbQCbQLYdyDZAOJVo24FoI7HpZIPJBqgnEmw7EGwcNYFqLsK59iVOJ9jn3PoibjrdYLIh7IlE-xx73PY0sq0Hsu3hTCfaeiDaSGw62WCyAeqJBFsPBBtHTV6zM3NJ7fPHYnPbi7i9_0Ds4jeuG9VXxcYet41pUWIXv3PZyOJHIVsPRBuJTScbTDau-hG6BoONo6YrIh8lcORuxNXD2NzjVQRVWaJha6xu1D0aG3vcNibu0W5IMNsA4VSirQeijcSmkw0mG6CeSLD1QLBx1ASqPxaOvmrcYpFG9jm3vYibTjeYbNQil9Q2GG0kNoFsO5Bt1NqcRrYdiDYSm042mGzMTwqkrsFg46jpigi4fsQ-yyOsIuACEstNpxtcQSIf5hHaBpeQSGy6MgJmG_kwj7COgNFGYtPJBpONe5pH6BoMNo4aofrh7S9yklaD' target='_blank'>Click to view structure.</a>"
      ],
      "text/plain": [
       "<IPython.core.display.HTML object>"
      ]
     },
     "metadata": {},
     "output_type": "display_data"
    },
    {
     "name": "stdout",
     "output_type": "stream",
     "text": [
      "0\n",
      "Ca2+16 Ce4+16 O2-64\n",
      "There are  16  dopant atoms in the structure\n",
      "The defect composition is  Ca2+16 Ce4+16 O2-48 and the charge is 0.0\n"
     ]
    },
    {
     "data": {
      "text/html": [
       "<a href='https://viewer.materialsproject.org?structure=eJzNmdtuozAQhl8l4nZbZBvbY_aq0j5AL_YyqlaEojYSOSghq3arvvtC0t0SeQyjVPFwk4bzx9ffwzi8JXerzeOhrpLvs2T7uiqap2qdlptdle6b3aFsDrsquZkld2Vd7PfdTj_7q8vnYvfUHbs-1HW7XBdNsyy7FW9Je67d8qX9Op9LmQqhhQWjIZdWGbiZiVQcPx5uZvPj98BO_7cHdnpod0iK9jLY8ckitKEMbSjq7XN3uvx4vWRRNb2lp2K16i3-3tSHVXe3MstUqgGENbnWUjrz3m7eL5uqczZ_S_bbqlz-W6jqalWtm87mj6LTuHlZPhbNcrP-tW-KpjuhOp5_U5aH7uzvx3tcdMw9Fyc5ycvrH3R9XSyq-nQN9S1pea5FYVAKkxqhRJYBZLlxUuWxmAxqxsOJ6smgnhAmDmtHOPXx2WNE8FQKRgppnbM55MLqDFsXlxkuYHbtsZkwwlqRZyDzaMhA0uzhcVoGkmUEmUPyKRLCk4yF4Lgfi9ceJZAo-VT6ecUgScMuLvOoWEqIIyBDILHIgOILLAQCG4LkE-nnFWGcSlwhEFca8pclVzixHnsieL0n3lwhHValr8o08oyi9KXXI_T6Ukr7F9Wh16XSCDmMikDPGiiR4-P72pRAohwZ0teDRPpSvJBzmkQ60RAkh0jVm5T0xzktjrFGep9yrEUitU3RmIFkFm9JIkOOiaU84CMgQyCxpFEfyysEAkuE5PPq55VSqOJq9eNKY_yq1Xsc-HaoW85OsB9_5NnDSrfL1rSYmdDWmdy2-2DrZHe4EU7rTLvcZEqdgd-r22tz24u4beoAjFZKgtZgrYyG7ai68_bWnDG5FForC0qz2nZU2wg2g2w3kG2EcCrRdgPRJmLzyUaTjVBPJNhuINg0agbVUoVz7UucTrDPue1F3Hy60WRj2BOJ9jn2uO1pZNsOZNvDmU607UC0idh8stFkI9QTCbYdCDaNmr1mZ3BJ7fPXxeZ2F3F7_4HYxW9cN6mvio09bpvSosQufueyicWPQ7YdiDYRm082mmxa9WN0jQabRs1XRD5L4MhopNXD2NzjVYRUWaJhW6pu0hiNjT1umxL3aAMSzTZCOJVo24FoE7H5ZKPJRqgnEmw7EGwaNYPqz4mjr5o2WeSRfc7tLuLm040mmzTJZbWNRpuIzSDbDWSbNDfnke0Gok3E5pONJpvykwKrazTYNGq-IoLOH6nv8hirCDqBpHLz6UZnkMSXeYy20SkkEZuvjKDZJr7MY6wjaLSJ2Hyy0WTT3uYxukaDTaMmqH54_wshjlaD' target='_blank'>Click to view structure.</a>"
      ],
      "text/plain": [
       "<IPython.core.display.HTML object>"
      ]
     },
     "metadata": {},
     "output_type": "display_data"
    },
    {
     "name": "stdout",
     "output_type": "stream",
     "text": [
      "1\n",
      "Ca2+16 Ce4+16 O2-64\n",
      "There are  16  dopant atoms in the structure\n",
      "The defect composition is  Ca2+16 Ce4+16 O2-48 and the charge is 0.0\n"
     ]
    },
    {
     "data": {
      "text/html": [
       "<a href='https://viewer.materialsproject.org?structure=eJzNmctO20AUQH8l8rZgzYzn5a6Q-gEsuoxQ5ZgRRHIeSpwKivj32klb4s6d8VVQ5noD2HGck8OZi03esrvV5vHQuOzrLNu-rqr2ya3zerNz-b7dHer2sHPZzSy7q5tqv-8P-n6-u36udk_9c9eHpum2m6ptl3W_4y3rzrVbvnQ_zuec54xJpo2SpuRaKHMzYzk7fnm4mc2PPwcO-vd44KCH7oCs6l4Gen62CD1Qhx6omu1zf7ry-HrZwrVnW0_VanW2-XPTHFb9u-VFIXJpDNOqlJJzq967h_fL1vXO5m_Zfuvq5d8N17iVW7e9zW9Vr3Hzsnys2uVm_WPfVm1_QnE8_6auD_3Z34_vcdEzn7k4ycleXn-B-5tq4ZrTa4gvWcdzLQoFUqhcMcGKwpiiVJaLMhWTAs14OEk9KdATwERhTYE9wcJSWVNgXSEmMmtea5hfaVKHXnk4QrLVK9Tp6_9rReRGcca1tbo0JdOygPalpTQoStsdXTDFtGZlYXiZDNIEVHpAlCZNwCQASSFSBZoElsxkClWBQpHMZJqBXgHkqdSrAvXikD8t2cHEMkIsPv6oDiRDEQSm2ZDSyetSGhTliMorQvq9QpCoZZeWeVQsJuIEyCZQLLCg6II1gWBDkHQi_V4BxqnkagK54pDphoLw7glwFwbAXcHVKcfGAGo0JGM2KLPwsksMOSYWE3GyNeYXi7rGSuXVBIJFQtJ59XvFXAim1ernimP8rNV7GPg2dsVdnGD_fOODP2Sy29aqwyyY1FaVujsG2sf7pytmpSykLVUhxAD8Xtxem1tfxK1za4ySQnAjpdGaJ8O2WN1l99asUiVnUgpthCS1bbG2AWwC2TbSNkA4lbRtJG0kNp1ssGyAeiJh20jYOGoC1VyEu_YlTifsIbe-iJtON1g2hD2RtIfY47an0baOtO3hTCdtHUkbiU0nGywboJ5I2DoSNo6afGYX5pLZ5-9LzW0v4vZ-A6mH37hu1HVVauxx25hLlNTDbygbOfwoZOtI2khsOtlg2bjpR-gaDBtHTTdEPkbgyGrEzcPU3ONTBDVZkmFrrG7UGk2NPW4bk3uyBQm2DRBOJW0dSRuJTScbLBugnkjYOhI2jppA9ceNo68ad7NII3vIbS_iptMNlo26ySW1DaaNxCaQbSNto-7NaWTbSNpIbDrZYNmYfymQugbDxlHTDRHw_hH7WR7hFAFvILHcdLrBO0jkh3mEtsFbSCQ23RgB20Z-mEc4R8C0kdh0ssGycZ_mEboGw8ZRI1Q_vP8GuaJWgw==' target='_blank'>Click to view structure.</a>"
      ],
      "text/plain": [
       "<IPython.core.display.HTML object>"
      ]
     },
     "metadata": {},
     "output_type": "display_data"
    },
    {
     "name": "stdout",
     "output_type": "stream",
     "text": [
      "2\n",
      "Ca2+16 Ce4+16 O2-64\n",
      "There are  16  dopant atoms in the structure\n",
      "The defect composition is  Ca2+16 Ce4+16 O2-48 and the charge is 0.0\n"
     ]
    },
    {
     "data": {
      "text/html": [
       "<a href='https://viewer.materialsproject.org?structure=eJzNmc9u4jAQh18F5bptZDv-lz1V2gfoYY-oWoU0apECVBBW7VZ9901gKWQ9jgdUPLlQ4oTw8eWX8bh5T-4Wq8dtXSXfJ8nL26JonqplWq7WVbpp1tuy2a6r5GaS3JV1sdl0B_08HS6fi_VT99nltq7b7bpomnnZDbwn7bnW89f27XTKecqYZNooaXKuhTI3E5ay3cvDzWS6e-856HO_56CH9oCkaL8G-nwy8-0ofTuK-uW5O12--75kVjUnW0_FYnGy-XtVbxfdr-VZJlJpDNMql5Jzqz7a3Zt5U3XOpu_J5qUq54eNqq4W1bLpbP4oOo2r1_lj0cxXy1-bpmi6E4rd-Vdlue3O_rH7jbOO-eBCHeQkr29_PsdVqphgWWZMlivLRf55VF3Mqnr_jeJb0tJ9LZPqXdADE4wTlcnxBDDRWtu_nE3oDEXg3V06ofav_2dPpEZxxrW1Ojc50zKDxuJSGhSlbY_OmGJaszwzPI8GaTwqHSAik8pzvYE4jubqi2Mp6jFDgJ5ExKU0KEqKjIpjfQpCApGgQDYer8AdRazVOHUfVZpoCr85qQQBrahwREM2zvwPIMPhiMwY0HqNIFQwsQxNW06f54wfKSp5VQpn6oTb4FhMzpX0deUUhAq05uvRyRwaT-eGuSliWQS6S2RPRIYM9JqYOTvcH10bOWR5JLk4aZaCfScqKxGYjadX9nVLhJCuWMyMSI8c6kLP75uvmF7hdEu4ZV2seV942lAsJcWcJjx9KLLbjyPWeC4_sr8_H_IeZrwd6pazPeW_P7xXDGS7rVULmzGprcp1eww0xruPK2alzKTNVSZED_xe3F6bW1_ErVNrjJJCcCOl0ZpHw7ZY3Xn706xSOWdSCm2EJLVtsbYBbALZdiDbAOFYom0Hoo3EppMNJhugHkmw7UCwcdQEqrnw59qVOJ5g97n1Rdx0usFkQ9gjiXYfO2x7HNnWA9l2cMYTbT0QbSQ2nWww2QD1SIKtB4KNoyav2Zm5pPa5Y7G57UXczhWIXfzCulF9VWzssG1MixK7-PVlI4sfhWw9EG0kNp1sMNm46kfoGgw2jpquiBxLYOBuxNXD2NzhKoKqLNGwNVY36h6NjR22jYl7tBsSzDZAOJZo64FoI7HpZIPJBqhHEmw9EGwcNYHq48LRVY1bLNLI7nPbi7jpdIPJRi1ySW2D0UZiE8i2A9lGrc1pZNuBaCOx6WSDycb8S4HUNRhsHDVdEQHXj9hneYRVBFxAYrnpdIMrSOTDPELb4BISiU1XRsBsIx_mEdYRMNpIbDrZYLJxT_MIXYPBxlEjVD98_AWcS1aD' target='_blank'>Click to view structure.</a>"
      ],
      "text/plain": [
       "<IPython.core.display.HTML object>"
      ]
     },
     "metadata": {},
     "output_type": "display_data"
    },
    {
     "name": "stdout",
     "output_type": "stream",
     "text": [
      "3\n"
     ]
    }
   ],
   "source": [
    "print(\"Getting the location of the dopant atoms\")\n",
    "## Now find all Ca2+ and get the NN and remove 1 Oxygen atom from the NN shell\n",
    "file_counter = 0\n",
    "for temp_struc in unique_struc:\n",
    "    # 1. get the dopant atoms from each unique structure in the array \n",
    "    nn=[]\n",
    "    for atom in temp_struc:\n",
    "        # get the element symbol from the structure\n",
    "        atom_tag = str(atom.specie.element)\n",
    "        if atom_tag == \"Ca\":\n",
    "            #print(atom.coords)\n",
    "            nn_list = temp_struc.get_neighbors(site=atom,r=2.4,include_image=True,include_index=True)\n",
    "            nn.append(nn_list)\n",
    "    #print(nn)\n",
    "    # get a copy to change the structure of\n",
    "    del_struc = temp_struc.copy()\n",
    "    print(del_struc.composition)\n",
    "    # define flags & counters\n",
    "    b_flag,counter = 0,0\n",
    "    remove_atoms=[]\n",
    "    \n",
    "    # pull out the dopant atoms from the list and check the vacancy \n",
    "    # locations are within the [0,0,0] unit cell for each structure at each dopant\n",
    "    for dopant_atom in nn:\n",
    "        # break flag reset to move onto next dopant \n",
    "        if b_flag == 1:\n",
    "            #print(\"Flag tripped moving to the next dopant atom to remove O\")\n",
    "            b_flag = 0\n",
    "        #print(dopant_atom)\n",
    "        for index in range(len(dopant_atom)):\n",
    "            vacancy_site = dopant_atom[index]\n",
    "            location = vacancy_site[len(vacancy_site)-1]\n",
    "            # make sure that the oxygen atom is in the [0,0,0] unit cell\n",
    "            if str(location) == '[0 0 0]':\n",
    "                if del_struc[vacancy_site[2]] != vacancy_site[0]:\n",
    "                    print(\"Warning vacancy site being removed is not equal to the defect location in the [0,0,0] unit cell\")\n",
    "                remove_atoms.append(vacancy_site[2])\n",
    "                b_flag = 1\n",
    "                counter+=1\n",
    "                break\n",
    "    for remove in sorted(remove_atoms, reverse=True):\n",
    "        del del_struc[remove]\n",
    "\n",
    "    #print(remove_atoms)\n",
    "    print(\"There are \", counter,\" dopant atoms in the structure\")\n",
    "    print(\"The defect composition is \", del_struc.composition, \"and the charge is\", del_struc.charge)\n",
    "    gvl(del_struc)\n",
    "    filename = \"POSCAR_\"+str(file_counter)\n",
    "    print(file_counter)\n",
    "    file_counter+=1\n",
    "    del_struc.to(filename=filename, fmt=\"POSCAR\")"
   ]
  },
  {
   "cell_type": "code",
   "execution_count": null,
   "metadata": {},
   "outputs": [],
   "source": []
  },
  {
   "cell_type": "code",
   "execution_count": null,
   "metadata": {},
   "outputs": [],
   "source": []
  },
  {
   "cell_type": "code",
   "execution_count": null,
   "metadata": {},
   "outputs": [],
   "source": []
  }
 ],
 "metadata": {
  "kernelspec": {
   "display_name": "Python 3",
   "language": "python",
   "name": "python3"
  },
  "language_info": {
   "codemirror_mode": {
    "name": "ipython",
    "version": 3
   },
   "file_extension": ".py",
   "mimetype": "text/x-python",
   "name": "python",
   "nbconvert_exporter": "python",
   "pygments_lexer": "ipython3",
   "version": "3.6.8"
  },
  "latex_envs": {
   "LaTeX_envs_menu_present": true,
   "autoclose": false,
   "autocomplete": true,
   "bibliofile": "biblio.bib",
   "cite_by": "apalike",
   "current_citInitial": 1,
   "eqLabelWithNumbers": true,
   "eqNumInitial": 1,
   "hotkeys": {
    "equation": "Ctrl-E",
    "itemize": "Ctrl-I"
   },
   "labels_anchors": false,
   "latex_user_defs": false,
   "report_style_numbering": false,
   "user_envs_cfg": false
  },
  "varInspector": {
   "cols": {
    "lenName": 16,
    "lenType": 16,
    "lenVar": 40
   },
   "kernels_config": {
    "python": {
     "delete_cmd_postfix": "",
     "delete_cmd_prefix": "del ",
     "library": "var_list.py",
     "varRefreshCmd": "print(var_dic_list())"
    },
    "r": {
     "delete_cmd_postfix": ") ",
     "delete_cmd_prefix": "rm(",
     "library": "var_list.r",
     "varRefreshCmd": "cat(var_dic_list()) "
    }
   },
   "types_to_exclude": [
    "module",
    "function",
    "builtin_function_or_method",
    "instance",
    "_Feature"
   ],
   "window_display": false
  }
 },
 "nbformat": 4,
 "nbformat_minor": 2
}
