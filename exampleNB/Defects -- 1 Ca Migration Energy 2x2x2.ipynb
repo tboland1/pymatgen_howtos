{
 "cells": [
  {
   "cell_type": "code",
   "execution_count": 1,
   "metadata": {
    "code_folding": [
     0
    ],
    "slideshow": {
     "slide_type": "skip"
    }
   },
   "outputs": [
    {
     "name": "stdout",
     "output_type": "stream",
     "text": [
      "Last ran on /home/tboland1/Dropbox/Crozier Group User- Tara Boland/pymatgen from 2019-02-27 10:40:08.686833. \n",
      "\n",
      "home is /home/tboland1/Dropbox/TaraB/DFT/\n",
      "working directory contains \n",
      "['final', 'notes', 'o_configs', 'ca_charged', 'initial', 'old', 'migration']\n"
     ]
    }
   ],
   "source": [
    "# standard imports\n",
    "%matplotlib inline\n",
    "from basicimports import *\n",
    "\n",
    "# location, wd and dir contents\n",
    "forme_loc = home+\"formEox/\"\n",
    "wd = home + \"ca1vac/\"\n",
    "print(\"working directory contains \\n{}\".format(os.listdir(wd)))"
   ]
  },
  {
   "cell_type": "markdown",
   "metadata": {
    "slideshow": {
     "slide_type": "notes"
    }
   },
   "source": [
    "# Migration Energy In the Presence of Ca Dopants \n",
    "\n",
    "### TO DO's \n",
    "Section 3.4 \n",
    "\n",
    "NEB needs to have code left -- see section notes\n",
    "\n",
    "Sub methods based on Pratik's formula for finding the migration energy are mostly done. Need to have spE calculations synced to agave and ran for isif3 and finish running isif2 methods.\n",
    "\n",
    "## 0.0 Doping CeO$_{2}$ with 1 Ca atom \n",
    "* This is done for a 2x2x2 conventional supercell. \n",
    "* Remove 1 O atom\n",
    "* Relax structure using isif3.\n",
    "*See notebook Formation Energy of Oxygen Vacancy In CeO$_2$ 1 Vacancy for the details of this calculation."
   ]
  },
  {
   "cell_type": "code",
   "execution_count": 2,
   "metadata": {
    "code_folding": [
     0
    ],
    "slideshow": {
     "slide_type": "fragment"
    }
   },
   "outputs": [
    {
     "data": {
      "text/plain": [
       "PeriodicSite: Ce (5.5022, 5.5022, 5.5022) [0.5000, 0.5000, 0.5000]"
      ]
     },
     "execution_count": 2,
     "metadata": {},
     "output_type": "execute_result"
    }
   ],
   "source": [
    "# get init struct from prev calc, replace Ce # 7 == Ca \n",
    "path_novac = os.path.abspath(forme_loc+\"nfa0-1vceo2/novac/POSCAR\")\n",
    "novac_struc = Poscar.from_file(filename=path_novac).structure\n",
    "#find the Ce atom to replace with a Ca atom by looking @  the structure\n",
    "show_struct_ase(novac_struc)\n",
    "\n",
    "ce_replace = 7\n",
    "novac_struc[ce_replace]"
   ]
  },
  {
   "cell_type": "markdown",
   "metadata": {},
   "source": [
    "# 1.0 Creating DFT Structures\n",
    "\n",
    "## 1.1 Initial State Structure\n",
    "**1.1.0 Find NN to Dopant Site**\n",
    "* Now we have the structure w/o a vacancy in it. Let's export this to look at how the presence of a Ca atom influences the structure.\n",
    "\n",
    "We need to\n",
    "* Initialize the NN finder toolbox \n",
    "* Assign atoms their formal charge.\n",
    "\n",
    "**1.1.1 Remove O$_{vac}$**\n",
    "* Get the NN for Ce atom #7\n",
    "* Get ox-ox bond distance \n",
    "* Remove an O atom \n",
    "* Record the removed atom"
   ]
  },
  {
   "cell_type": "code",
   "execution_count": 3,
   "metadata": {
    "code_folding": [
     0
    ],
    "slideshow": {
     "slide_type": "fragment"
    }
   },
   "outputs": [],
   "source": [
    "# get NN for Ca dopant, create vac, remove O, create Ca doped struct\n",
    "from pymatgen.analysis.local_env import CrystalNN\n",
    "novac_struc.add_oxidation_state_by_element({\"Ce\":4,\"O\":-2,\"Ca\":2})\n",
    "cNN = CrystalNN(cation_anion=True,distance_cutoffs=([0,3]))\n",
    "\n",
    "\n",
    "# get the NN data from the structure\n",
    "nn_data = cNN.get_nn_data(structure=novac_struc, n=ce_replace)\n",
    "\n",
    "# get vacancy site information\n",
    "remove_atom = nn_data.all_nninfo.pop(2)['site_index']\n",
    "print(\"The number of NN is {}.\\n\"\n",
    "      'Remove oxygen atom number {}.'.format(len(nn_data.all_nninfo),\n",
    "                                     remove_atom))\n",
    "\n",
    "# copy the pure structure to make doped structure.\n",
    "doped_struc = novac_struc.copy()\n",
    "\n",
    "# create dopant\n",
    "doped_struc[ce_replace] = 'Ca'\n",
    "\n",
    "# write out the  poscar for the ca_charged DFT sim\n",
    "doped_struc.remove_oxidation_states()\n",
    "doped_struc.to(filename=wd+'ca_charged/relax-v0/POSCAR_init',\n",
    "               fmt='POSCAR')\n",
    "\n",
    "# create vacancy\n",
    "del doped_struc[remove_atom]\n",
    "\n",
    "# get oxygen oxygen bond distance\n",
    "ox_ox_bond = doped_struc.get_distance(i=88, j=49)\n",
    "print(\"The composition is {}.\\nThe O-O bond distance is {:0.2f}\".format(\n",
    "    doped_struc.composition, ox_ox_bond))\n",
    "\n",
    "# unrelaxed ca ceo2 structure\n",
    "ca_neb0_struc = doped_struc.copy()"
   ]
  },
  {
   "cell_type": "markdown",
   "metadata": {},
   "source": [
    "## Ca_Charged DFT Files\n",
    "Create the VASP simulation files: INCAR, POTCAR, KPOINTS, & parallel.sh files for ca_charged system. Record how the sync from cluster was done @ each step."
   ]
  },
  {
   "cell_type": "raw",
   "metadata": {},
   "source": [
    "Initial Relax\n",
    "Sync ca_charged to cluster\n",
    "    rsync -azPn ca_charged/ tboland1@agave.asu.edu:/scratch/tboland1/ca1vac/ca_charged/\n",
    "\n",
    "Second Relax\n",
    "Sync ca_charged to cluster\n",
    "    rsync -azPn --include='KPOINTS' --include='INCAR' --include='*/' --exclude='*' ca_charged/ tboland1@agave.asu.edu:/scratch/tboland1/ca1vac/ca_charged/\n",
    "\n",
    "Sync spE ca_charged to cluster\n",
    "    rsync -azPn --include='INCAR' --include='*/' --exclude='*' ca_charged/ tboland1@agave.asu.edu:/scratch/tboland1/ca1vac/ca_charged/\n",
    "\n",
    "Sync calcs ca_charged to Local \n",
    "    rsync -azPn --exclude='WAVECAR*' --include='*'  tboland1@agave.asu.edu:/scratch/tboland1/ca1vac/ca_charged/ ."
   ]
  },
  {
   "cell_type": "code",
   "execution_count": 5,
   "metadata": {
    "code_folding": [
     0
    ]
   },
   "outputs": [],
   "source": [
    "# create initial DFT files for ca_charged, create struct ca1vac\n",
    "from pymatgen.io.vasp.inputs import Incar, Kpoints, Potcar\n",
    "path = wd+'ca_charged/'\n",
    "struct = Poscar.from_file(path+'relax-v0/POSCAR_init').structure\n",
    "# create INCAR\n",
    "relax_init_incar = Incar.from_file(wd+'../INCAR')\n",
    "relax_init_incar['System']= \"Ca No vac initial relax\"\n",
    "relax_init_incar.pop('NPAR')\n",
    "relax_init_incar['KPAR']  = 4\n",
    "relax_init_incar['ENCUT'] = 520\n",
    "relax_init_incar['ISIF']  = 3\n",
    "relax_init_incar['ISPIN'] = 1\n",
    "relax_init_incar['NSIM']  = 18\n",
    "relax_init_incar['EDIFF'] = 1.0e-03\n",
    "relax_init_incar['NELM'] = 80             \n",
    "relax_init_incar['EDIFFG'] = -0.1\n",
    "relax_init_incar['NSW'] = 100\n",
    "                 \n",
    "ul = [-1]*len(struct.symbol_set)\n",
    "uu = [0]*len(struct.symbol_set)\n",
    "counter = 0\n",
    "for element in list(struct.symbol_set):\n",
    "    if element == 'Ce':\n",
    "        ul[counter] = 3    \n",
    "        uu[counter] = 5 \n",
    "    counter += 1\n",
    "relax_init_incar['LDAUL'] = ul\n",
    "relax_init_incar['LDAUU'] = uu\n",
    "relax_init_incar['LDAUJ'] = [0]*len(struct.symbol_set)\n",
    "relax_init_incar.write_file(path+'relax-v0/INCAR')\n",
    "\n",
    "# create KPOINTS\n",
    "kp_file = Kpoints.automatic_density(structure=struct,kppa=800)\n",
    "kp_file.write_file(path+'relax-v0/KPOINTS')\n",
    "\n",
    "# create POTCAR\n",
    "potcar = Potcar(symbols=[i.replace('Ca','Ca_sv')\n",
    "                     for i in struct.symbol_set],\n",
    "            functional=\"PBE\")\n",
    "potcar.write_file(path+'POTCAR')\n",
    "\n",
    "with open(path + \"asinghargpu1.sh\", \"w\") as f:\n",
    "    f.write(\n",
    "            '#!/bin/bash\\n'\n",
    "            '#SBATCH -p asinghargpu1 # Each node has one 1080Ti.\\n'\n",
    "            '#SBATCH -n 4            # Number of GPUs to use\\n'\n",
    "            '#SBATCH -c 8            # This will grab the CPUs on the same node. No need to change.\\n'\n",
    "            '#SBATCH -J CaCharged\\n'\n",
    "            '#SBATCH -t 1-00:00\\n#SBATCH --gres=gpu:1\\n'\n",
    "            '#SBATCH -q wildfire \\n'\n",
    "            '#SBATCH -o error.%j.out\\n'\n",
    "            '\\n'\n",
    "            \"module purge\\n\"\n",
    "            \"cd /scratch/tboland1/ca1vac/ca_charged/\\n\"\n",
    "            '\\n'\n",
    "            \"module load vasp/5.4.4-gpu\\n\"\n",
    "            'export I_MPI_HYDRA_BOOTSTRAP_EXEC_EXTRA_ARGS=\"--cpu-bind=verbose,none\"'\n",
    "            + '\\n'\n",
    "            \"export I_MPI_HYDRA_BOOTSTRAP=slurm \" + '\\n'\n",
    "            \"export I_MPI_HYDRA_BOOTSTRAP_EXEC=srun\" + '\\n'\n",
    "            '\\n'\n",
    "            '\\n'\n",
    "            \"mpiexec.hydra vasp_gpu\")"
   ]
  },
  {
   "cell_type": "code",
   "execution_count": 6,
   "metadata": {
    "code_folding": [
     0
    ]
   },
   "outputs": [],
   "source": [
    "# create Spin Relax INCAR for ca_charged\n",
    "relax_init_incar = Incar.from_file(wd+'../INCAR')\n",
    "relax_init_incar['System']= \"Ca vo vac spin relax\"\n",
    "relax_init_incar['NPAR']=2\n",
    "relax_init_incar['KPAR']=1\n",
    "relax_init_incar['ENCUT']=520\n",
    "relax_init_incar['ISIF']=3\n",
    "relax_init_incar['EDIFFG']=-0.01\n",
    "relax_init_incar['NSIM']  = 6\n",
    "relax_init_incar['NSW'] = 100\n",
    "relax_init_incar['ISPIN'] = 2\n",
    "ul = [-1]*len(struct.symbol_set)\n",
    "uu = [0]*len(struct.symbol_set)\n",
    "counter = 0\n",
    "for element in list(struct.symbol_set):\n",
    "    if element == 'Ce':\n",
    "        ul[counter] = 3    \n",
    "        uu[counter] = 5 \n",
    "    counter += 1\n",
    "relax_init_incar['LDAUL'] = ul\n",
    "relax_init_incar['LDAUU'] = uu\n",
    "relax_init_incar['LDAUJ'] =  [0]*len(struct.symbol_set)\n",
    "## edit to have 2 sig figs after totE power. set ediff to -(totEpow +2)\n",
    "relax_init_incar['EDIFF']=0.1E-06\n",
    "relax_init_incar.write_file(path+'relax-v1/INCAR')"
   ]
  },
  {
   "cell_type": "code",
   "execution_count": 7,
   "metadata": {
    "code_folding": [
     0
    ]
   },
   "outputs": [],
   "source": [
    "# create spE INCAR for ca_charged (done)\n",
    "relax_init_incar = Incar.from_file(wd+'../INCAR')\n",
    "relax_init_incar['System']= \"Ca No vac Spin spE\"\n",
    "relax_init_incar['NSIM']=18\n",
    "relax_init_incar['KPAR']=4\n",
    "relax_init_incar['ENCUT']=400\n",
    "relax_init_incar['ISIF']=2\n",
    "relax_init_incar['ISPIN']=2\n",
    "relax_init_incar.pop('NPAR')\n",
    "relax_init_incar.pop('EDIFFG')\n",
    "relax_init_incar['NSW']=0\n",
    "relax_init_incar['IBRION']=-1\n",
    "ul = [-1]*len(struct.symbol_set)\n",
    "uu = [0]*len(struct.symbol_set)\n",
    "counter = 0\n",
    "for element in list(struct.symbol_set):\n",
    "    if element == 'Ce':\n",
    "        ul[counter] = 3    \n",
    "        uu[counter] = 5 \n",
    "    counter += 1\n",
    "relax_init_incar['LDAUL'] = ul\n",
    "relax_init_incar['LDAUU'] = uu\n",
    "relax_init_incar['LDAUJ'] =  [0]*len(struct.symbol_set)\n",
    "## edit to have 2 sig figs after totE power. set ediff to -(totEpow +2)\n",
    "relax_init_incar['EDIFF']=0.1E-04\n",
    "relax_init_incar.write_file(path+'spE/INCAR')"
   ]
  },
  {
   "cell_type": "markdown",
   "metadata": {},
   "source": [
    "### Analysis: Ca_charged\n",
    "* DOS\n",
    "* Energy"
   ]
  },
  {
   "cell_type": "code",
   "execution_count": 8,
   "metadata": {
    "code_folding": [
     0
    ],
    "scrolled": true
   },
   "outputs": [
    {
     "data": {
      "image/png": "[encoded data removed]",
      "text/plain": [
       "<Figure size 432x288 with 1 Axes>"
      ]
     },
     "metadata": {
      "needs_background": "light"
     },
     "output_type": "display_data"
    },
    {
     "data": {
      "image/png": "[encoded data removed]",
      "text/plain": [
       "<Figure size 432x288 with 1 Axes>"
      ]
     },
     "metadata": {
      "needs_background": "light"
     },
     "output_type": "display_data"
    }
   ],
   "source": [
    "# DOS Plot\n",
    "plot_density_of_states(path+'spE/')"
   ]
  },
  {
   "cell_type": "code",
   "execution_count": 9,
   "metadata": {
    "code_folding": [
     0
    ]
   },
   "outputs": [
    {
     "name": "stdout",
     "output_type": "stream",
     "text": [
      "The final energy of the system is for: \n",
      "E_cacharged is -770.95.\n"
     ]
    }
   ],
   "source": [
    "# Energy\n",
    "E = Oszicar(path + 'spE/OSZICAR')\n",
    "print(\"The final energy of the system is for:\"\n",
    "      \" \\nE_cacharged is {:0.2f}.\".\n",
    "      format(E.final_energy))"
   ]
  },
  {
   "cell_type": "markdown",
   "metadata": {},
   "source": [
    "### 1.1.2 Initial State Structure\n",
    "\n",
    "After manipulating the 2x2x2 CeO$_2$ structure by replacing 1 Ce atom with a Ca atom, creating the dft files for ca_charged system and inducing 1 vacancy in the structure it is now time to write the files for ca1vac.\n",
    "\n",
    "Summary of the code above:\n",
    "* Create structures for\n",
    "    * W/ 1 Ca atom (no vacancy)\n",
    "        * DFT files and sync data\n",
    "    * W/ 1 Ca atom and 1 O$_{vac}$\n",
    "    \n",
    "### Ca1vac DFT files"
   ]
  },
  {
   "cell_type": "raw",
   "metadata": {},
   "source": [
    "Sync ca1vac to cluster\n",
    "    rsync -azPn initial/ tboland1@agave.asu.edu:/scratch/tboland1/ca1vac/initial/\n",
    "\n",
    "Sync ca1vac to cluster\n",
    "    rsync -azPn --include='INCAR,KPOINTS' --include='*/' --exclude='*' initial/ tboland1@agave.asu.edu:/scratch/tboland1/ca1vac/initial/\n",
    "\n",
    "Sync ca1vac to cluster\n",
    "    rsync -azPn --include='INCAR' --include='*/' --exclude='*' initial/ tboland1@agave.asu.edu:/scratch/tboland1/ca1vac/initial/\n",
    "\n",
    "Sync ca1vac to Local\n",
    "    rsync -azPn --exclude='WAVECAR*' --include='*'  tboland1@agave.asu.edu:/scratch/tboland1/ca1vac/initial/ ."
   ]
  },
  {
   "cell_type": "code",
   "execution_count": 10,
   "metadata": {
    "code_folding": [
     0
    ],
    "slideshow": {
     "slide_type": "fragment"
    }
   },
   "outputs": [],
   "source": [
    "# initial relax (done)\n",
    "structs = [ca_neb0_struc]\n",
    "labels = [\"POSCAR_init\"]\n",
    "for file, label in zip(structs, labels):\n",
    "    path = wd + 'initial/'\n",
    "    \n",
    "    file.remove_oxidation_states()\n",
    "    file.to(fmt='POSCAR', \n",
    "            filename=wd + 'initial/relax-v0/' + label)\n",
    "    \n",
    "    # create incar\n",
    "    relax_init_incar = Incar.from_file(wd + '../INCAR')\n",
    "    relax_init_incar['System']= \"Ca 1 vac initial relax\"\n",
    "    relax_init_incar['NPAR']   = 4\n",
    "    relax_init_incar['KPAR']   = 4\n",
    "    relax_init_incar['ENCUT']  = 400\n",
    "    relax_init_incar['ISIF']   = 2\n",
    "    relax_init_incar['ISPIN']  = 2\n",
    "    relax_init_incar['NSW']    = 150\n",
    "    relax_init_incar['EDIFFG'] = -0.01\n",
    "    relax_init_incar['EDIFF']  = 0.1E-04\n",
    "    \n",
    "    ul = [-1]*len(struct.symbol_set)\n",
    "    uu = [0]*len(struct.symbol_set)\n",
    "    counter = 0\n",
    "    for element in list(struct.symbol_set):\n",
    "        if element == 'Ce':\n",
    "            ul[counter] = 3    \n",
    "            uu[counter] = 5 \n",
    "        counter += 1\n",
    "    relax_init_incar['LDAUL'] = ul\n",
    "    relax_init_incar['LDAUU'] = uu\n",
    "    relax_init_incar['LDAUJ'] = [0]*len(struct.symbol_set)\n",
    "    relax_init_incar.write_file(path+'relax-v0/INCAR')\n",
    "    \n",
    "    # create KPOINTS (4x4x4 kp mesh)\n",
    "    kp_file = Kpoints.automatic_density(structure=file,kppa=6000)\n",
    "    #kp_file.write_file(path+'relax-v0/KPOINTS')\n",
    "    \n",
    "    # create POTCAR\n",
    "    potcar = Potcar(symbols=[i.replace('Ca','Ca_sv')\n",
    "                     for i in struct.symbol_set],\n",
    "                functional=\"PBE\")\n",
    "    potcar.write_file(path+'POTCAR')\n",
    "    \n",
    "ca_neb0_struc = doped_struc.copy()\n",
    "show_struct_ase(ca_neb0_struc)"
   ]
  },
  {
   "cell_type": "code",
   "execution_count": 11,
   "metadata": {
    "code_folding": [
     0
    ]
   },
   "outputs": [],
   "source": [
    "# 2nd relax (done)\n",
    "for file, label in zip(structs, labels):\n",
    "    path = wd + 'initial/'\n",
    "    \n",
    "    # create incar\n",
    "    relax_init_incar = Incar.from_file(wd+'../INCAR')\n",
    "    relax_init_incar['System']= \"Ca 1 vac 2nd relax\"\n",
    "    relax_init_incar['NPAR']   = 4\n",
    "    relax_init_incar['KPAR']   = 4\n",
    "    relax_init_incar['ENCUT']  = 520\n",
    "    relax_init_incar['ISIF']   = 3\n",
    "    relax_init_incar['ISPIN']  = 2\n",
    "    relax_init_incar['NSW']    = 150\n",
    "    relax_init_incar['EDIFFG'] = -0.01\n",
    "    \n",
    "    ul = [-1]*len(struct.symbol_set)\n",
    "    uu = [0]*len(struct.symbol_set)\n",
    "    counter = 0\n",
    "    for element in list(struct.symbol_set):\n",
    "        if element == 'Ce':\n",
    "            ul[counter] = 3    \n",
    "            uu[counter] = 5 \n",
    "        counter += 1\n",
    "    relax_init_incar['LDAUL'] = ul\n",
    "    relax_init_incar['LDAUU'] = uu\n",
    "    relax_init_incar['LDAUJ'] = [0]*len(struct.symbol_set)\n",
    "    relax_init_incar['EDIFF']  = 0.1E-04\n",
    "    \n",
    "    relax_init_incar.write_file(path+'relax-v1/INCAR')"
   ]
  },
  {
   "cell_type": "code",
   "execution_count": 12,
   "metadata": {
    "code_folding": [
     0
    ]
   },
   "outputs": [],
   "source": [
    "# spE (done)\n",
    "for file, label in zip(structs, labels):\n",
    "    path = wd + 'initial/'\n",
    "    \n",
    "    # create incar\n",
    "    relax_init_incar = Incar.from_file(wd+'../INCAR')\n",
    "    relax_init_incar['System']= \"Ca 1 vac spE\"\n",
    "    relax_init_incar['NPAR']   = 4\n",
    "    relax_init_incar['KPAR']   = 4\n",
    "    relax_init_incar['ENCUT']  = 400\n",
    "    relax_init_incar['ISIF']   = 2\n",
    "    relax_init_incar['ISPIN']  = 2\n",
    "    relax_init_incar['NSW']    = 0\n",
    "    relax_init_incar['IBRION'] = -1\n",
    "    relax_init_incar['EDIFF']  = 0.1E-04\n",
    "    \n",
    "    ul = [-1]*len(struct.symbol_set)\n",
    "    uu = [0]*len(struct.symbol_set)\n",
    "    counter = 0\n",
    "    for element in list(struct.symbol_set):\n",
    "        if element == 'Ce':\n",
    "            ul[counter] = 3    \n",
    "            uu[counter] = 5 \n",
    "        counter += 1\n",
    "    relax_init_incar['LDAUL'] = ul\n",
    "    relax_init_incar['LDAUU'] = uu\n",
    "    relax_init_incar['LDAUJ'] =  [0]*len(struct.symbol_set)\n",
    "    \n",
    "    relax_init_incar.pop('EDIFFG')\n",
    "    relax_init_incar.pop('POTIM')    \n",
    "    \n",
    "    relax_init_incar.write_file(path+'spE/INCAR')"
   ]
  },
  {
   "cell_type": "markdown",
   "metadata": {},
   "source": [
    " Bader run"
   ]
  },
  {
   "cell_type": "code",
   "execution_count": 13,
   "metadata": {
    "code_folding": [
     0
    ]
   },
   "outputs": [],
   "source": [
    "# grid 2 (port & run)\n",
    "for file, label in zip(structs, labels):\n",
    "    path = wd + 'initial/'\n",
    "    \n",
    "    # create incar\n",
    "    relax_init_incar = Incar.from_file(wd+'../INCAR')\n",
    "    relax_init_incar['System']= \"Ca 1 vac BADER\"\n",
    "    relax_init_incar['NPAR']   = 4\n",
    "    relax_init_incar['KPAR']   = 2\n",
    "    relax_init_incar['ENCUT']  = 400\n",
    "    relax_init_incar['ISIF']   = 2\n",
    "    relax_init_incar['ISPIN']  = 2\n",
    "    relax_init_incar['NSW']    = 0\n",
    "    relax_init_incar['IBRION'] = -1\n",
    "    relax_init_incar['EDIFF']  = 0.1E-04\n",
    "    \n",
    "    relax_init_incar['NGXF']   = 216\n",
    "    relax_init_incar['NGYF']   = 216\n",
    "    relax_init_incar['NGZF']   = 216\n",
    "    relax_init_incar['LAECHG'] = '.TRUE.'  \n",
    "    \n",
    "    relax_init_incar.pop('EDIFFG')\n",
    "    relax_init_incar.pop('POTIM')\n",
    "    \n",
    "    ul = [-1]*len(struct.symbol_set)\n",
    "    uu = [0]*len(struct.symbol_set)\n",
    "    counter = 0\n",
    "    for element in list(struct.symbol_set):\n",
    "        if element == 'Ce':\n",
    "            ul[counter] = 3    \n",
    "            uu[counter] = 5 \n",
    "        counter += 1\n",
    "    relax_init_incar['LDAUL'] = ul\n",
    "    relax_init_incar['LDAUU'] = uu\n",
    "    relax_init_incar['LDAUJ'] = [0]*len(struct.symbol_set)\n",
    "    \n",
    "    relax_init_incar.write_file(path+'bader/grid-2/INCAR')"
   ]
  },
  {
   "cell_type": "markdown",
   "metadata": {},
   "source": [
    "### Analysis for  Ca1vac: Initial State\n",
    "* DOS\n",
    "* System Energy"
   ]
  },
  {
   "cell_type": "code",
   "execution_count": 14,
   "metadata": {
    "code_folding": [
     0
    ]
   },
   "outputs": [
    {
     "name": "stdout",
     "output_type": "stream",
     "text": [
      "The final energy of the system is for: \n",
      "E_ca1vac is -767.42.\n"
     ]
    }
   ],
   "source": [
    "# sys E\n",
    "E_ca1vac = Oszicar(path + 'spE/OSZICAR')\n",
    "print(\"The final energy of the system is for:\"\n",
    "      \" \\nE_ca1vac is {:0.2f}.\".\n",
    "      format(E_ca1vac.final_energy))"
   ]
  },
  {
   "cell_type": "code",
   "execution_count": 15,
   "metadata": {
    "code_folding": [
     0
    ],
    "scrolled": true
   },
   "outputs": [
    {
     "data": {
      "image/png": "[encoded data removed]",
      "text/plain": [
       "<Figure size 432x288 with 1 Axes>"
      ]
     },
     "metadata": {
      "needs_background": "light"
     },
     "output_type": "display_data"
    },
    {
     "data": {
      "image/png": "[encoded data removed]",
      "text/plain": [
       "<Figure size 432x288 with 1 Axes>"
      ]
     },
     "metadata": {
      "needs_background": "light"
     },
     "output_type": "display_data"
    }
   ],
   "source": [
    "# ca1vac dos\n",
    "plot_density_of_states(wd+'initial/spE/')"
   ]
  },
  {
   "cell_type": "markdown",
   "metadata": {},
   "source": [
    "# Ca1vac Transition State"
   ]
  },
  {
   "cell_type": "code",
   "execution_count": null,
   "metadata": {
    "code_folding": [
     0
    ]
   },
   "outputs": [],
   "source": [
    "# make transition state\n",
    "ox_ox = struct.distance_matrix[38][45]\n",
    "struct.translate_sites(\n",
    "    indices=77,\n",
    "    vector=[0, 0, ox_ox/2],\n",
    "    frac_coords=False,\n",
    "    to_unit_cell=True)\n",
    "\n",
    "migrating = 77\n",
    "shell = 1\n",
    "from pymatgen.analysis.local_env import CrystalNN\n",
    "cNN = CrystalNN(cation_anion=True, distance_cutoffs=[0,2])\n",
    "\n",
    "# cNN requires the oxidation state\n",
    "struct.add_oxidation_state_by_element({'Ce':4,'O':-2})\n",
    "\n",
    "# find the NN for the migrating site\n",
    "NN_site_idx = [\n",
    "    nn['site_index']\n",
    "    for nn in cNN.get_nn_shell_info(struct, migrating, shell)\n",
    "]\n",
    "NN_site_idx.append(migrating) # include the vacancy as a site\n",
    "struct.remove_oxidation_states()\n",
    "\n",
    "tags = []\n",
    "for site in struct:\n",
    "    if struct.index(site) in NN_site_idx and site.specie.symbol == \"Ce\":\n",
    "        tags.append(['T'] * 3)\n",
    "    elif struct.index(site) in NN_site_idx and site.specie.symbol == \"O\":\n",
    "        tags.append([\"T\",'T','F'])\n",
    "    else :\n",
    "        tags.append(['T'] * 3)\n",
    "spins = ['ispin1', 'ispin2']\n",
    "trans = ['pos','mid','neg']\n",
    "shifts = [0.15,0,-0.15]\n",
    "\n",
    "from pymatgen.io.vasp.inputs import Incar, Kpoints, Potcar\n",
    "for spin in spins:\n",
    "    path = wd+\"ca1vac/migration/isif2/\" + spin + '/'\n",
    "    try :\n",
    "        os.makedirs(path)\n",
    "    except:\n",
    "        path = path\n",
    "    for tran,shift in zip(trans,shifts):\n",
    "        \n"
   ]
  },
  {
   "cell_type": "code",
   "execution_count": 2,
   "metadata": {
    "code_folding": [
     0
    ]
   },
   "outputs": [
    {
     "ename": "IndentationError",
     "evalue": "unexpected indent (<ipython-input-2-70539af8955a>, line 50)",
     "output_type": "error",
     "traceback": [
      "\u001b[0;36m  File \u001b[0;32m\"<ipython-input-2-70539af8955a>\"\u001b[0;36m, line \u001b[0;32m50\u001b[0m\n\u001b[0;31m    with open(path + \"parallel.sh\", \"w\") as f:\u001b[0m\n\u001b[0m    ^\u001b[0m\n\u001b[0;31mIndentationError\u001b[0m\u001b[0;31m:\u001b[0m unexpected indent\n"
     ]
    }
   ],
   "source": [
    "### initial relax (done)\n",
    "# create the migration pathway calculation\n",
    "spins = ['ispin1', 'ispin2']\n",
    "trans = ['pos','mid','neg']\n",
    "shifts = [0.15,0,-0.15]\n",
    "\n",
    "from pymatgen.io.vasp.inputs import Incar, Kpoints, Potcar\n",
    "for spin in spins:\n",
    "    path = wd+\"ca1vac/migration/isif2/\" + spin + '/'\n",
    "    try :\n",
    "        os.makedirs(path)\n",
    "    except:\n",
    "        path = path\n",
    "    for tran,shift in zip(trans,shifts): \n",
    "    \n",
    "        # create incar\n",
    "        relax_init_incar = Incar.from_file(wd + '../INCAR')\n",
    "        relax_init_incar['System']= \"Ca 1 vac initial relax\"\n",
    "        relax_init_incar['NPAR']   = 2\n",
    "        relax_init_incar['KPAR']   = 1\n",
    "        relax_init_incar['ENCUT']  = 400\n",
    "        relax_init_incar['ISIF']   = 2\n",
    "        relax_init_incar['ISPIN']  = 1\n",
    "        relax_init_incar['NSW']    = 150\n",
    "        relax_init_incar['EDIFFG'] = -0.01\n",
    "        relax_init_incar['EDIFF']  = 0.1E-05\n",
    "\n",
    "        ul = [-1]*len(struct.symbol_set)\n",
    "        uu = [0]*len(struct.symbol_set)\n",
    "        counter = 0\n",
    "        for element in list(struct.symbol_set):\n",
    "            if element == 'Ce':\n",
    "                ul[counter] = 3    \n",
    "                uu[counter] = 5 \n",
    "            counter += 1\n",
    "        relax_init_incar['LDAUL'] = ul\n",
    "        relax_init_incar['LDAUU'] = uu\n",
    "        relax_init_incar['LDAUJ'] = [0]*len(struct.symbol_set)\n",
    "        relax_init_incar.write_file(path+'INCAR')\n",
    "\n",
    "        # create KPOINTS (4x4x4 kp mesh)\n",
    "        kp_file = Kpoints.automatic_density(structure=file,kppa=50)\n",
    "        kp_file.write_file(path+'KPOINTS')\n",
    "\n",
    "        # create POTCAR\n",
    "        potcar = Potcar(symbols=[i.replace('Ca','Ca_sv')\n",
    "                     for i in struct.symbol_set],\n",
    "                    functional=\"PBE\")\n",
    "        potcar.write_file(path+'POTCAR')\n",
    "\n",
    "        # slurm for each calc\n",
    "            with open(path + \"parallel.sh\", \"w\") as f:\n",
    "                f.write(\n",
    "                    \"#!/bin/bash\\n\"\n",
    "\n",
    "                    \"#SBATCH -J V\" + spin + tran + \" \\n\"\n",
    "\n",
    "                    \"#SBATCH -t 0-06:00\\n\"\n",
    "                    \"#SBATCH -n 56\\n\"\n",
    "\n",
    "                    \"#SBATCH -q aggressive \\n#SBATCH --mem-per-cpu=4000\\n\"\n",
    "                    \"#SBATCH --exclusive\\n#SBATCH -o error.%j.out\\n\"\n",
    "\n",
    "                    \"cd /scratch/tboland1/1vac/migration/isif2/\"+ spin + '/' + tran + '/' +\"\\n\"\n",
    "\n",
    "                    \"\\nmodule load intel/2018x\\nmodule load vasp/5.4.4-elpa\\n\"\n",
    "                    'export I_MPI_HYDRA_BOOTSTRAP_EXEC_EXTRA_ARGS=\"--cpu-bind=verbose,none\"\\n'\n",
    "                    \"export I_MPI_HYDRA_BOOTSTRAP=slurm\\nexport I_MPI_HYDRA_BOOTSTRAP_EXEC=srun\\n\\n\\n\"\n",
    "                    \"mpiexec.hydra vasp_gam\")\n",
    "        show_struct_ase(struct)"
   ]
  },
  {
   "cell_type": "code",
   "execution_count": null,
   "metadata": {
    "code_folding": [
     0
    ]
   },
   "outputs": [],
   "source": [
    "# 2nd relax (done)\n",
    "for file, label in zip(structs, labels):\n",
    "    path = wd + 'initial/'\n",
    "    \n",
    "    # create incar\n",
    "    relax_init_incar = Incar.from_file(wd+'../INCAR')\n",
    "    relax_init_incar['System']= \"Ca 1 vac 2nd relax\"\n",
    "    relax_init_incar['NPAR']   = 4\n",
    "    relax_init_incar['KPAR']   = 4\n",
    "    relax_init_incar['ENCUT']  = 520\n",
    "    relax_init_incar['ISIF']   = 3\n",
    "    relax_init_incar['ISPIN']  = 2\n",
    "    relax_init_incar['NSW']    = 150\n",
    "    relax_init_incar['EDIFFG'] = -0.01\n",
    "    \n",
    "    ul = [-1]*len(struct.symbol_set)\n",
    "    uu = [0]*len(struct.symbol_set)\n",
    "    counter = 0\n",
    "    for element in list(struct.symbol_set):\n",
    "        if element == 'Ce':\n",
    "            ul[counter] = 3    \n",
    "            uu[counter] = 5 \n",
    "        counter += 1\n",
    "    relax_init_incar['LDAUL'] = ul\n",
    "    relax_init_incar['LDAUU'] = uu\n",
    "    relax_init_incar['LDAUJ'] = [0]*len(struct.symbol_set)\n",
    "    relax_init_incar['EDIFF']  = 0.1E-04\n",
    "    \n",
    "    relax_init_incar.write_file(path+'relax-v1/INCAR')"
   ]
  },
  {
   "cell_type": "code",
   "execution_count": null,
   "metadata": {
    "code_folding": [
     0,
     19
    ]
   },
   "outputs": [],
   "source": [
    "# spE (done)\n",
    "for file, label in zip(structs, labels):\n",
    "    path = wd + 'initial/'\n",
    "    \n",
    "    # create incar\n",
    "    relax_init_incar = Incar.from_file(wd+'../INCAR')\n",
    "    relax_init_incar['System']= \"Ca 1 vac spE\"\n",
    "    relax_init_incar['NPAR']   = 4\n",
    "    relax_init_incar['KPAR']   = 4\n",
    "    relax_init_incar['ENCUT']  = 400\n",
    "    relax_init_incar['ISIF']   = 2\n",
    "    relax_init_incar['ISPIN']  = 2\n",
    "    relax_init_incar['NSW']    = 0\n",
    "    relax_init_incar['IBRION'] = -1\n",
    "    relax_init_incar['EDIFF']  = 0.1E-04\n",
    "    \n",
    "    ul = [-1]*len(struct.symbol_set)\n",
    "    uu = [0]*len(struct.symbol_set)\n",
    "    counter = 0\n",
    "    for element in list(struct.symbol_set):\n",
    "        if element == 'Ce':\n",
    "            ul[counter] = 3    \n",
    "            uu[counter] = 5 \n",
    "        counter += 1\n",
    "    relax_init_incar['LDAUL'] = ul\n",
    "    relax_init_incar['LDAUU'] = uu\n",
    "    relax_init_incar['LDAUJ'] =  [0]*len(struct.symbol_set)\n",
    "    \n",
    "    relax_init_incar.pop('EDIFFG')\n",
    "    relax_init_incar.pop('POTIM')    \n",
    "    \n",
    "    relax_init_incar.write_file(path+'spE/INCAR')"
   ]
  },
  {
   "cell_type": "markdown",
   "metadata": {
    "slideshow": {
     "slide_type": "subslide"
    }
   },
   "source": [
    "###  1.2.0 Final State Structure\n",
    "The initial state structure will serve as the starting structure for a migration energy calculation. Next\n",
    "* Export initial state Ca doped structure as POSCAR file\n",
    "* Relax the structure using VASP.\n",
    "* Import the structure after.\n",
    "\n",
    "**1.2.1 Create FSS**\n",
    "* Move an O atom from one site to another using unrelaxed Initial state structure.\n",
    "* Export this structure as the final state POSCAR.\n",
    "* Relaxed on supercomputer."
   ]
  },
  {
   "cell_type": "code",
   "execution_count": null,
   "metadata": {
    "code_folding": [
     0
    ]
   },
   "outputs": [],
   "source": [
    "# read in relaxed poscar and the\n",
    "ca_neb5_struc = Poscar.from_file(\n",
    "    filename=wd + \"initial/POSCAR\").structure\n",
    "\n",
    "# displace the oxyge atoms to get final state for neb calculation.\n",
    "ca_neb5_struc.translate_sites(\n",
    "    indices=49,\n",
    "    vector=[0, 0, -ox_ox_bond],\n",
    "    frac_coords=False,\n",
    "    to_unit_cell=True)\n",
    "show_struct_ase(ca_neb5_struc)\n",
    "\n",
    "structs = [ca_neb5_struc]\n",
    "labels = [\"POSCAR_unrel_ca_neb5\"]\n",
    "for file, label in zip(structs, labels):\n",
    "    file.remove_oxidation_states()\n",
    "    file.to(fmt='POSCAR', filename=label)"
   ]
  },
  {
   "cell_type": "markdown",
   "metadata": {},
   "source": [
    "### 1.3.0 Midpoint/Transition State Structure\n",
    "* Use nebmake.pl to create mid point structure\n",
    "* See data below with all other imported data below in the DFT Results section\n",
    "\n",
    "* Use relaxed structures to make the NEB file when using nebmake.pl"
   ]
  },
  {
   "cell_type": "markdown",
   "metadata": {
    "slideshow": {
     "slide_type": "slide"
    },
    "variables": {
     "ce_replace": "<p><strong>NameError</strong>: name &#39;ce_replace&#39; is not defined</p>\n"
    }
   },
   "source": [
    "# 2.0 Analysis Migration Energy.\n",
    "\n",
    "## 2.1 Ca Relaxed Initial, Mid, & Final State\n",
    "* Replace Ca @ site {{ce_replace}}\n",
    "* Initial and final state structures have differing energies.\n",
    "* Check incar's\n",
    "    * only differences are in the KPAR value used\n",
    "* Check POSCAR\n",
    "    * **Nope** lattices are different for ca$_{neb5}$ structure.\n",
    "        * ca$_{neb0}$ has vasp precision for structs\n",
    "    * **Nope** ca$_{neb5}$ has pymatgen's default prec for decimals 6\n",
    "    * **Nope** precision of the lattice constants could be the origin of the 0.0049 eV difference...\n",
    "        * it is also below the precision in meV/A in the calculations\n",
    "    * **Nope** different symmetry between the 2 cells... (-_-)\n",
    "        * redo with isym = 0 & re-check\n",
    "* **Rez --> it should not matter**\n",
    "* **Arunima --> increase kp - waste of time**\n",
    "    * Need to check the KP vs Energy for the precision in which the E can be determined.  \n",
    "    "
   ]
  },
  {
   "cell_type": "code",
   "execution_count": 26,
   "metadata": {
    "code_folding": [],
    "scrolled": true
   },
   "outputs": [
    {
     "data": {
      "image/png": "[encoded data removed]",
      "text/plain": [
       "<Figure size 432x288 with 1 Axes>"
      ]
     },
     "metadata": {
      "needs_background": "light"
     },
     "output_type": "display_data"
    },
    {
     "data": {
      "image/png": "[encoded data removed]",
      "text/plain": [
       "<Figure size 432x288 with 1 Axes>"
      ]
     },
     "metadata": {
      "needs_background": "light"
     },
     "output_type": "display_data"
    }
   ],
   "source": [
    "# ca1vac Trans DOS\n",
    "plot_density_of_states(wd+'mid/spE/')"
   ]
  },
  {
   "cell_type": "code",
   "execution_count": 24,
   "metadata": {
    "code_folding": [
     0
    ],
    "slideshow": {
     "slide_type": "fragment"
    }
   },
   "outputs": [
    {
     "name": "stdout",
     "output_type": "stream",
     "text": [
      "The energy of the INITIAL state relaxed structure is    -767.42.\n",
      "The energy of the FINAL state relaxed structure is      -767.42.\n",
      "The energy of the TRANSITION state relaxed structure is -766.62.\n"
     ]
    }
   ],
   "source": [
    "# E for *initial, final, trans state* structure\n",
    "ca_Irelax = Oszicar(wd+'initial/OSZICAR')\n",
    "print(\"The energy of the INITIAL state relaxed structure is    {:0.2f}.\".format(\n",
    "    ca_Irelax.final_energy))\n",
    "ca_Frelax = Oszicar(wd+'final/OSZICAR')\n",
    "print(\"The energy of the FINAL state relaxed structure is      {:0.2f}.\".format(\n",
    "    ca_Frelax.final_energy))\n",
    "ca_Mrelax = Oszicar(wd+'mid/spE/OSZICAR')\n",
    "print(\"The energy of the TRANSITION state relaxed structure is {:0.2f}.\".format(\n",
    "    ca_Mrelax.final_energy))"
   ]
  },
  {
   "cell_type": "code",
   "execution_count": 25,
   "metadata": {
    "code_folding": []
   },
   "outputs": [
    {
     "name": "stdout",
     "output_type": "stream",
     "text": [
      "The migration energy for an O_vac 0.80 eV\n"
     ]
    }
   ],
   "source": [
    "# migration energy\n",
    "E_mig = ca_Mrelax.final_energy - ca_Frelax.final_energy\n",
    "print(\"The migration energy for an O_vac {:0.2f} eV\".format(E_mig))"
   ]
  },
  {
   "cell_type": "markdown",
   "metadata": {},
   "source": [
    "# 3.0 Ensure Crystallographic Uniqueness\n",
    "Use ODST to confirm that only 1 1NN unique configuration exists. For the structures where the O$_{vac}$ is in NN shells which are not the 1$^{st}$ shell gather system energy data.\n",
    "\n",
    "This method for finding the unique structures serves as a sanity check for 2 Ca atoms which is performed later.\n",
    "\n",
    "Below, there are benchmarks for the configuration finder code I developed using pymatgen functions. The structures are searched for\n",
    "* 1x1x1 conventional unit cell w/ 1 Ca dopant w/o the inclusion of an oxygen vacancy\n",
    "* 1x1x1 conventional unit cell w/ 1 Ca dopant & the inclusion of an oxygen vacancy\n"
   ]
  },
  {
   "cell_type": "markdown",
   "metadata": {},
   "source": [
    "## 3.1 ODST *w/o* O$_{vac}$ Conventional Unit Cell\n",
    "\n",
    "Let's do this for the conventional unit cell.\n",
    "Let the generator:\n",
    "* **1x1x1 Conventional Unit Cell**\n",
    "* find all Ca locations\n",
    "* initially use a conventional unit cell\n",
    "\n",
    "**Summary**\n",
    "\n",
    "That seems like a reasonable amount of structures. Let's look at how many are unique from our set.\n",
    "\n",
    "Timing for Run: 2 sec"
   ]
  },
  {
   "cell_type": "code",
   "execution_count": 16,
   "metadata": {
    "code_folding": [
     0
    ],
    "scrolled": true
   },
   "outputs": [
    {
     "name": "stdout",
     "output_type": "stream",
     "text": [
      "There is a total of 4 structure(s) created using the ODST.\n",
      "The composition is Ca2+1 Ce4+3 O2-8.\n",
      "\n",
      "The total number of unique structures found is 1.\n",
      "The number frequency with which each structure occures is \n",
      "\t 4.\n"
     ]
    }
   ],
   "source": [
    "# Define the Specie, Create the Structure, Use OrdDisTran generator\n",
    "con_Ca = 0.25\n",
    "con_Ce = 1-con_Ca\n",
    "con_O = 8/8\n",
    "specie = [{\"Ce4+\": con_Ce, \"Ca2+\": con_Ca}, {\"O2-\": con_O}]\n",
    "structure = Structure.from_spacegroup(\"Fm-3m\", Lattice.cubic(5.494), specie,\n",
    "                                      [[0, 0, 0], [0.25, 0.25, 0.25]])\n",
    "\n",
    "# obtain a copy of the structure \n",
    "struct = structure.copy()\n",
    "\n",
    "# load the transformer\n",
    "from pymatgen.transformations.standard_transformations import \\\n",
    "OrderDisorderedStructureTransformation\n",
    "\n",
    "# generate all possible crystallographic configurations\n",
    "odst = OrderDisorderedStructureTransformation()\n",
    "odst_structs = odst.apply_transformation(struct, return_ranked_list=10000)\n",
    "print(('There is a total of {} structure(s) created using the ODST.\\n'\n",
    "      'The composition is {}.\\n'.format(\n",
    "          len(odst_structs), odst_structs[0]['structure'].composition)))\n",
    "\n",
    "# Remove duplicated structures\n",
    "from pymatgen.analysis.structure_matcher import StructureMatcher\n",
    "\n",
    "# initialize the object\n",
    "matcher = StructureMatcher()\n",
    "\n",
    "# Pass a list of structures to the matcher\n",
    "# so the SM can group the structures by their similarity\n",
    "matches = matcher.group_structures([d[\"structure\"] for d in odst_structs])\n",
    "\n",
    "# collect # of groups, number frequency for each struct & disp data\n",
    "\n",
    "# the grouping of all structures by structural uniquiness found\n",
    "groups = [matches[i][0] for i in range(len(matches))]\n",
    "# the total number of unique structures found\n",
    "unique_count = len(groups)\n",
    "# the frequency with which each unique structure occurres\n",
    "num_freq =  [len(matches[i]) for i in range(len(matches))]\n",
    "\n",
    "print(\"The total number of unique structures found is {}.\\n\"\n",
    "       \"The number frequency with which each structure occures is \\n\\t {}.\".format(\n",
    "           unique_count, ' '.join([str(x) for x in num_freq])))"
   ]
  },
  {
   "cell_type": "markdown",
   "metadata": {
    "slideshow": {
     "slide_type": "slide"
    }
   },
   "source": [
    "## 3.2 ODST w/ O$_{vac}$ Conventional Unit Cell\n",
    "\n",
    "Let's do this for the conventional unit cell.\n",
    "Let the generator:\n",
    "* find all Ca locations & all O$_{vac}$ locations @ the same time\n",
    "* initially use a conventional unit cell\n",
    "\n",
    "**Summary**\n",
    "\n",
    "For initial structure search -- Comments: Now that's a lot of configuration for just one dopant & vacancy in a conventional unit cell... Let's remove duplicate structures now.\n",
    "\n",
    "So the behavior seems logical for out initial structures. Let's repeat this only using a bigger cell 2x2x2 supercell since it is more realistic.\n",
    "\n",
    "Timing for Run: 2 sec "
   ]
  },
  {
   "cell_type": "code",
   "execution_count": 17,
   "metadata": {
    "code_folding": [
     0
    ],
    "scrolled": true,
    "slideshow": {
     "slide_type": "fragment"
    }
   },
   "outputs": [
    {
     "name": "stdout",
     "output_type": "stream",
     "text": [
      "There is a total of 32 structure(s) created using the ODST.\n",
      "The composition is Ca2+1 Ce4+3 O2-7.\n",
      "\n",
      "The total number of unique structures found is 1.\n",
      "The number frequency with which each structure occures is \n",
      "\t 32.\n"
     ]
    }
   ],
   "source": [
    "# Define the Specie, Create the Structure, Use OrdDisTran generator\n",
    "con_Ca = 0.25\n",
    "con_Ce = 1-con_Ca\n",
    "con_O = 7/8\n",
    "specie = [{\"Ce4+\": con_Ce, \"Ca2+\": con_Ca}, {\"O2-\": con_O}]\n",
    "structure = Structure.from_spacegroup(\"Fm-3m\", Lattice.cubic(5.494), specie,\n",
    "                                      [[0, 0, 0], [0.25, 0.25, 0.25]])\n",
    "\n",
    "# obtain a copy of the structure \n",
    "struct = structure.copy()\n",
    "\n",
    "# load the transformer\n",
    "from pymatgen.transformations.standard_transformations import \\\n",
    "OrderDisorderedStructureTransformation\n",
    "\n",
    "# generate all possible crystallographic configurations\n",
    "odst = OrderDisorderedStructureTransformation()\n",
    "odst_structs = odst.apply_transformation(struct, return_ranked_list=10000)\n",
    "print(('There is a total of {} structure(s) created using the ODST.\\n'\n",
    "      'The composition is {}.\\n'.format(\n",
    "          len(odst_structs), odst_structs[0]['structure'].composition)))\n",
    "\n",
    "# Remove duplicated structures\n",
    "from pymatgen.analysis.structure_matcher import StructureMatcher\n",
    "\n",
    "# initialize the object\n",
    "matcher = StructureMatcher()\n",
    "\n",
    "# Pass a list of structures to the matcher\n",
    "# so the SM can group the structures by their similarity\n",
    "matches = matcher.group_structures([d[\"structure\"] for d in odst_structs])\n",
    "\n",
    "# collect # of groups, number frequency for each struct & disp data\n",
    "\n",
    "# the grouping of all structures by structural uniquiness found\n",
    "groups = [matches[i][0] for i in range(len(matches))]\n",
    "# the total number of unique structures found\n",
    "unique_count = len(groups)\n",
    "# the frequency with which each unique structure occurres\n",
    "num_freq =  [len(matches[i]) for i in range(len(matches))]\n",
    "\n",
    "print(\"The total number of unique structures found is {}.\\n\"\n",
    "       \"The number frequency with which each structure occures is \\n\\t {}.\".format(\n",
    "           unique_count, ' '.join([str(x) for x in num_freq])))"
   ]
  },
  {
   "cell_type": "markdown",
   "metadata": {
    "slideshow": {
     "slide_type": "subslide"
    }
   },
   "source": [
    "## 3.3 ODST w/ O$_{vac}$ Super Cell\n",
    "Results are pickled\n",
    "* 1 Ca dopant\n",
    "* 1 O$_{vac}$\n",
    "* 2x2x2 super cell\n",
    "\n",
    "Even when loading the pickled data the cell runs for 14 seconds"
   ]
  },
  {
   "cell_type": "code",
   "execution_count": 18,
   "metadata": {
    "code_folding": [
     0
    ],
    "slideshow": {
     "slide_type": "fragment"
    }
   },
   "outputs": [
    {
     "name": "stdout",
     "output_type": "stream",
     "text": [
      "There is a total of 2048 structure(s) created using the ODST.\n",
      "The composition is Ca2+1 Ce4+31 O2-63.\n",
      "\n",
      "The total number of unique structures found is 4.\n",
      "The number frequency with which each structure occurres is \n",
      "\t 256 768 768 256.\n"
     ]
    }
   ],
   "source": [
    "# repeat ^ but now make it a supercell\n",
    "# change just Ca ( enter total # of Ca you want)\n",
    "Ca = 1\n",
    "con_Ca = (Ca)/32\n",
    "con_Ce = 1-con_Ca\n",
    "con_O = (64-Ca)/64\n",
    "\n",
    "specie = [{\"Ce4+\": con_Ce, \"Ca2+\": con_Ca}, {\"O2-\": con_O}]\n",
    "structure = Structure.from_spacegroup(\"Fm-3m\", Lattice.cubic(5.494), specie,\n",
    "                                      [[0, 0, 0], [0.25, 0.25, 0.25]])\n",
    "\n",
    "# obtain a copy of the structure \n",
    "struct = structure.copy()\n",
    "struct.make_supercell([2,2,2])\n",
    "\n",
    "# load the transformer\n",
    "from pymatgen.transformations.standard_transformations import \\\n",
    "OrderDisorderedStructureTransformation\n",
    "\n",
    "# generate all possible crystallographic configurations\n",
    "odst = OrderDisorderedStructureTransformation()\n",
    "odst_structs = odst.apply_transformation(struct, return_ranked_list=10000)\n",
    "print(('There is a total of {} structure(s) created using the ODST.\\n'\n",
    "      'The composition is {}.\\n'.format(\n",
    "          len(odst_structs), odst_structs[0]['structure'].composition)))\n",
    "\n",
    "# Remove duplicated structures\n",
    "from pymatgen.analysis.structure_matcher import StructureMatcher\n",
    "\n",
    "# initialize the object\n",
    "matcher = StructureMatcher()\n",
    "\n",
    "## PICKLED\n",
    "#matches = matcher.group_structures([d[\"structure\"] for d in odst_structs])\n",
    "# load Pickled var to save time\n",
    "with open(\"../pkl/def2ca_odst_matches1Ca1Ov2cubed.pkl\", 'rb') as f:\n",
    "    matches = pickle.load(f)\n",
    "\n",
    "# Original pickling of \n",
    "#with open(\"../pkl/def2ca_odst_matches1Ca1Ov2cubed.pkl\",'wb') as f:\n",
    "#    pickle.dump(matches,f)\n",
    "\n",
    "# collect # of groups, number frequency for each struct & disp data\n",
    "\n",
    "# the grouping of all structures by structural uniquiness found\n",
    "groups = [matches[i][0] for i in range(len(matches))]\n",
    "# the total number of unique structures found\n",
    "unique_count = len(groups)\n",
    "# the frequency with which each unique structure occurres\n",
    "num_freq =  [len(matches[i]) for i in range(len(matches))]\n",
    "\n",
    "print(\"The total number of unique structures found is {}.\\n\"\n",
    "       \"The number frequency with which each structure occurres is \\n\\t {}.\".format(\n",
    "           unique_count, ' '.join([str(x) for x in num_freq])))"
   ]
  },
  {
   "cell_type": "code",
   "execution_count": 19,
   "metadata": {
    "code_folding": [
     0
    ]
   },
   "outputs": [],
   "source": [
    "# Shift Ca to center u.c. Cod Edt: entr type of defect to center\n",
    "defect_type = 'Ca2+'\n",
    "\n",
    "for struct in groups:\n",
    "    # get all the indices in the structure to translate\n",
    "    indices = [ index for index in range(len(struct))]\n",
    "    # find the defect site in the structure, pull out its coordinates\n",
    "    defect_sites = [\n",
    "        list(struct[defect_site].coords) for defect_site in [\n",
    "            struct.index(site) for site in struct\n",
    "            if str(site.specie) == defect_type\n",
    "        ]\n",
    "    ]\n",
    "    \n",
    "    # setup the translation vector to pass to translate sites \n",
    "    trans_flag=[0,0,0]\n",
    "    # loop over the defect coords and trip flag for position which are 0\n",
    "    for index in range(len(defect_sites[0])):\n",
    "        if defect_sites[0][index] == 0:\n",
    "            trans_flag[index] = 0.5\n",
    "            #print(trans_flag)\n",
    "    # now translate all the sites for the structure !! :D \n",
    "    struct.translate_sites(indices,trans_flag)"
   ]
  },
  {
   "cell_type": "markdown",
   "metadata": {},
   "source": [
    "Create INCAR, POTCAR, KPOINTS and batch script for o_configs"
   ]
  },
  {
   "cell_type": "raw",
   "metadata": {},
   "source": [
    "Second Relax\n",
    "* port only relevant files to cluster:\n",
    "    * rsync -azP --include='KPOINTS' --include='star/' --exclude='star' o_configs/ tboland1@agave.asu.edu:/scratch/tboland1/ca1vac/o_configs/\n",
    "\n",
    "Single Point Energy Calculation.\n",
    "* port to cluster \n",
    "    * rsync -azP --include='INCAR' --include='star/' --exclude='star' o_configs/ tboland1@agave.asu.edu:/scratch/tboland1/ca1vac/o_configs/"
   ]
  },
  {
   "cell_type": "code",
   "execution_count": 20,
   "metadata": {
    "code_folding": [
     0,
     39,
     45
    ]
   },
   "outputs": [],
   "source": [
    "# creating dft files\n",
    "counter = 0\n",
    "for struct in groups:\n",
    "    from pymatgen.io.vasp.inputs import Incar, Kpoints, Potcar\n",
    "    ## edit\n",
    "    path = wd+'o_configs/'+str(counter)+'/'\n",
    "    #os.makedirs(path)\n",
    "    # create poscar\n",
    "    struct.remove_oxidation_states()\n",
    "    struct.to(filename = path+'relax-v0/POSCAR_'+str(counter), fmt = 'POSCAR')\n",
    "    #show_struct_ase(struct)\n",
    "    # create INCAR\n",
    "    relax_init_incar = Incar.from_file(wd+'../INCAR')\n",
    "    relax_init_incar['System']= \"O Config \" + str(counter) + \" initial relax\"\n",
    "    relax_init_incar['NPAR']=2\n",
    "    relax_init_incar['KPAR']=1\n",
    "    relax_init_incar['ENCUT']=520\n",
    "    relax_init_incar['ISIF']=3\n",
    "    relax_init_incar['EDIFFG']=-0.01\n",
    "    relax_init_incar['EDIFF']=0.1E-05\n",
    "    \n",
    "    ul = [-1]*len(struct.symbol_set)\n",
    "    uu = [0]*len(struct.symbol_set)\n",
    "    count = 0\n",
    "    for element in list(struct.symbol_set):\n",
    "        if element == 'Ce':\n",
    "            ul[count] = 3    \n",
    "            uu[count] = 5 \n",
    "        count += 1\n",
    "    relax_init_incar['LDAUL'] = ul\n",
    "    relax_init_incar['LDAUU'] = uu\n",
    "    relax_init_incar['LDAUJ'] =  [0]*len(struct.symbol_set)\n",
    "    relax_init_incar.write_file(path+'relax-v0/INCAR')\n",
    "    \n",
    "    # create KPOINTS\n",
    "    kp_file = Kpoints.automatic_density(structure=struct,kppa=50)\n",
    "    kp_file.write_file(path+'relax-v0/KPOINTS')\n",
    "    \n",
    "    # create POTCAR\n",
    "    potcar = Potcar(symbols=[i.replace('Ca','Ca_sv')\n",
    "                     for i in struct.symbol_set],\n",
    "                functional=\"PBE\")\n",
    "    potcar.write_file(path+'relax-v0/POTCAR')\n",
    "    \n",
    "    # slurm for each calc\n",
    "    with open(path + \"relax-v0/parallel.sh\", \"w\") as f:\n",
    "        f.write(\n",
    "            \"#!/bin/bash\\n\"\n",
    "            \n",
    "            \"#SBATCH -J oCf\" + str(counter) + \" \\n\"\n",
    "            \n",
    "            \"#SBATCH -t 0-12:00\\n\"\n",
    "            \"#SBATCH -n 56\\n\"\n",
    "            \n",
    "            \"#SBATCH -q aggressive \\n#SBATCH --mem-per-cpu=4000\\n\"\n",
    "            \"#SBATCH --exclusive\\n#SBATCH -o error.%j.out\\n\"\n",
    "            \"#SBATCH --mail-user=tboland1@asu.edu\\n\"\n",
    "            \"#SBATCH --mail-type=end\\n\\nmodule purge\\n\"\n",
    "            \n",
    "            \"cd /scratch/tboland1/ca1vac/o_configs/\"+ str(counter) + \"/\\n\"\n",
    "            \n",
    "            \"\\nmodule load intel/2018x\\nmodule load vasp/5.4.4-elpa\\n\"\n",
    "            'export I_MPI_HYDRA_BOOTSTRAP_EXEC_EXTRA_ARGS=\"--cpu-bind=verbose,none\"\\n'\n",
    "            \"export I_MPI_HYDRA_BOOTSTRAP=slurm\\nexport I_MPI_HYDRA_BOOTSTRAP_EXEC=srun\\n\\n\\n\"\n",
    "            \"mpiexec.hydra vasp_std\")\n",
    "        \n",
    "    counter += 1 "
   ]
  },
  {
   "cell_type": "code",
   "execution_count": 21,
   "metadata": {
    "code_folding": [
     0
    ]
   },
   "outputs": [],
   "source": [
    "# high kp \n",
    "counter = 0\n",
    "for struct in groups:\n",
    "    from pymatgen.io.vasp.inputs import Incar, Kpoints\n",
    "    ## edit\n",
    "    path = wd+'o_configs/'+str(counter)+'/'\n",
    "    \n",
    "    # create INCAR\n",
    "    relax_init_incar = Incar.from_file(wd+'../INCAR')\n",
    "    ## edit\n",
    "    relax_init_incar['System']= \"O Config \" + str(counter) + \" High KP relax\"\n",
    "    relax_init_incar['NPAR']=2\n",
    "    relax_init_incar['KPAR']=1\n",
    "    relax_init_incar['ENCUT']=520\n",
    "    relax_init_incar['ISIF']=3\n",
    "    relax_init_incar['ISPIN']=2\n",
    "    relax_init_incar['EDIFFG']=-0.01\n",
    "    relax_init_incar['EDIFF']=0.1E-05\n",
    "    uu = [0]*len(struct.symbol_set)\n",
    "    \n",
    "    count = 0\n",
    "    for element in list(struct.symbol_set):\n",
    "        if element == 'Ce':\n",
    "            ul[count] = 3    \n",
    "            uu[count] = 5 \n",
    "        count += 1\n",
    "    relax_init_incar['LDAUL'] = ul\n",
    "    relax_init_incar['LDAUU'] = uu\n",
    "    relax_init_incar['LDAUJ'] =  [0]*len(struct.symbol_set)\n",
    "    relax_init_incar.write_file(path+'relax-v1/INCAR')\n",
    "    \n",
    "    # create KPOINTS\n",
    "    kp_file = Kpoints.automatic_density(structure=struct,kppa=800)\n",
    "    kp_file.write_file(path+'relax-v1/KPOINTS')\n",
    "        \n",
    "    counter += 1 "
   ]
  },
  {
   "cell_type": "code",
   "execution_count": 22,
   "metadata": {
    "code_folding": [
     0
    ]
   },
   "outputs": [],
   "source": [
    "# write final energy files -- spE\n",
    "counter = 0\n",
    "for struct in groups:\n",
    "    ## edit\n",
    "    path = wd+'o_configs/'+str(counter)+'/'\n",
    "    \n",
    "    # create INCAR\n",
    "    relax_init_incar = Incar.from_file(wd+'../INCAR')\n",
    "    relax_init_incar['System']= \"Ca 1 vac spin final E\"\n",
    "    relax_init_incar['NPAR']=2\n",
    "    relax_init_incar['KPAR']=1\n",
    "    relax_init_incar['ENCUT']=400\n",
    "    relax_init_incar['ISIF']=2\n",
    "    relax_init_incar['NSW']=0\n",
    "    relax_init_incar['IBRION']=-1\n",
    "    uu = [0]*len(struct.symbol_set)\n",
    "    count = 0\n",
    "    for element in list(struct.symbol_set):\n",
    "        if element == 'Ce':\n",
    "            ul[count] = 3    \n",
    "            uu[count] = 5 \n",
    "        count += 1\n",
    "    relax_init_incar['LDAUL'] = ul\n",
    "    relax_init_incar['LDAUU'] = uu\n",
    "    relax_init_incar['LDAUJ'] =  [0]*len(struct.symbol_set)\n",
    "    relax_init_incar['ISPIN']=2\n",
    "    \n",
    "    relax_init_incar.pop('EDIFFG')\n",
    "    relax_init_incar.pop('POTIM')\n",
    "    \n",
    "    relax_init_incar.write_file(path+'spE/INCAR')\n",
    "    counter += 1"
   ]
  },
  {
   "cell_type": "markdown",
   "metadata": {},
   "source": [
    "## Analysis for Ca$_1$Ce$_{31}$O$_{vac}$ Configs"
   ]
  },
  {
   "cell_type": "code",
   "execution_count": 23,
   "metadata": {
    "code_folding": [
     0
    ],
    "scrolled": true
   },
   "outputs": [
    {
     "name": "stdout",
     "output_type": "stream",
     "text": [
      "The DOS Ca O_vac config 0.\n"
     ]
    },
    {
     "data": {
      "image/png": "[encoded data removed]",
      "text/plain": [
       "<Figure size 432x288 with 1 Axes>"
      ]
     },
     "metadata": {
      "needs_background": "light"
     },
     "output_type": "display_data"
    },
    {
     "data": {
      "image/png": "[encoded data removed]",
      "text/plain": [
       "<Figure size 432x288 with 1 Axes>"
      ]
     },
     "metadata": {
      "needs_background": "light"
     },
     "output_type": "display_data"
    },
    {
     "name": "stdout",
     "output_type": "stream",
     "text": [
      "The DOS Ca O_vac config 1.\n"
     ]
    },
    {
     "data": {
      "image/png": "[encoded data removed]",
      "text/plain": [
       "<Figure size 432x288 with 1 Axes>"
      ]
     },
     "metadata": {
      "needs_background": "light"
     },
     "output_type": "display_data"
    },
    {
     "data": {
      "image/png": "[encoded data removed]",
      "text/plain": [
       "<Figure size 432x288 with 1 Axes>"
      ]
     },
     "metadata": {
      "needs_background": "light"
     },
     "output_type": "display_data"
    },
    {
     "name": "stdout",
     "output_type": "stream",
     "text": [
      "The DOS Ca O_vac config 2.\n"
     ]
    },
    {
     "data": {
      "image/png": "[encoded data removed]",
      "text/plain": [
       "<Figure size 432x288 with 1 Axes>"
      ]
     },
     "metadata": {
      "needs_background": "light"
     },
     "output_type": "display_data"
    },
    {
     "data": {
      "image/png": "[encoded data removed]",
      "text/plain": [
       "<Figure size 432x288 with 1 Axes>"
      ]
     },
     "metadata": {
      "needs_background": "light"
     },
     "output_type": "display_data"
    },
    {
     "name": "stdout",
     "output_type": "stream",
     "text": [
      "The DOS Ca O_vac config 3.\n"
     ]
    },
    {
     "data": {
      "image/png": "[encoded data removed]",
      "text/plain": [
       "<Figure size 432x288 with 1 Axes>"
      ]
     },
     "metadata": {
      "needs_background": "light"
     },
     "output_type": "display_data"
    },
    {
     "data": {
      "image/png": "[encoded data removed]",
      "text/plain": [
       "<Figure size 432x288 with 1 Axes>"
      ]
     },
     "metadata": {
      "needs_background": "light"
     },
     "output_type": "display_data"
    }
   ],
   "source": [
    "# DOS Plot\n",
    "counter = 0\n",
    "for struct in groups:\n",
    "    ## edit\n",
    "    path = wd+'o_configs/'+str(counter)+'/'\n",
    "    print(\"The DOS Ca O_vac config {}.\".format(counter))\n",
    "    plot_density_of_states(path+'spE/')\n",
    "    counter += 1"
   ]
  },
  {
   "cell_type": "code",
   "execution_count": 24,
   "metadata": {
    "code_folding": [
     0
    ]
   },
   "outputs": [
    {
     "name": "stdout",
     "output_type": "stream",
     "text": [
      "The System Energy for Ca O_vac config 0 is -767.44.\n",
      "The System Energy for Ca O_vac config 1 is -767.13.\n",
      "The System Energy for Ca O_vac config 2 is -767.03.\n",
      "The System Energy for Ca O_vac config 3 is -766.99.\n"
     ]
    }
   ],
   "source": [
    "# get sys E's\n",
    "counter = 0\n",
    "for struct in groups:\n",
    "    ## edit\n",
    "    path = wd+'o_configs/'+str(counter)+'/'\n",
    "    E = Oszicar(path + 'spE/OSZICAR')\n",
    "    print(\"The System Energy for Ca O_vac config {} is {:0.2f}.\"\n",
    "          .format(counter,E.final_energy))\n",
    "    counter += 1"
   ]
  },
  {
   "cell_type": "code",
   "execution_count": 25,
   "metadata": {
    "code_folding": []
   },
   "outputs": [],
   "source": [
    "# show structs\n",
    "counter = 0\n",
    "for struct in groups:\n",
    "    path = wd+'o_configs/'+str(counter)+'/'\n",
    "    struct = Poscar.from_file(path+'POSCAR').structure    \n",
    "    show_struct_ase(struct)\n",
    "    counter += 1"
   ]
  },
  {
   "cell_type": "markdown",
   "metadata": {},
   "source": [
    "## 3.4 Migration Energy -- work in progress\n",
    "Only neb section is left to code and relax.\n",
    "### 3.4.0 NEB Method for 1NN Vacancy Migration\n",
    "* Take structure #0 from the groups list of unique structures\n",
    "* Make 2 neb calculations\n",
    "    * with only 1 image\n",
    "    * with 3 images"
   ]
  },
  {
   "cell_type": "code",
   "execution_count": null,
   "metadata": {},
   "outputs": [],
   "source": [
    "init_struct = groups[0]\n",
    "#show_struct_ase(init_struct)"
   ]
  },
  {
   "cell_type": "markdown",
   "metadata": {},
   "source": [
    "Translate oxygen number 54 one oxy-oxy bond distance in the -z direction\n",
    "* using the distance matrix you get a 2D matrix filled with each atoms interatomic distance spacing in order form 0 to N for dat[N] and it follows that same logic for the second matrix in order from 0-N\n",
    "    * so if you want to know all the distances for atom number x you type dat[x]\n",
    "    * then you want to know the distance to atom index y you simply type dat[x][y]. \n",
    "    * Very useful. Correlates with ase's atom_index"
   ]
  },
  {
   "cell_type": "code",
   "execution_count": null,
   "metadata": {
    "code_folding": [
     0
    ]
   },
   "outputs": [],
   "source": [
    "def SelectDynNN(structure,NN_site_idx):\n",
    "    '''\n",
    "    Sets the selective dynamics tags for a migration energy\n",
    "    calculation. When given a structure and a site index + NN list\n",
    "    another list (Nx3 array) is created which specify the selective\n",
    "    dynamics tags for the xyz direction for each atom with True for \n",
    "    the NN sites and the migrating atom frozen perpendicular to the\n",
    "    path. \n",
    "    \n",
    "    struct is the structure you want to to get the selective \n",
    "            dynamics tags for\n",
    "    NN_site_idx a list of sites which you will allow to move and the\n",
    "                last is the migrating atom which u want to not move \n",
    "                perpendicular to the migration path.\n",
    "    '''\n",
    "    tags = []\n",
    "    for site in structure:\n",
    "        if structure.index(site) in NN_site_idx and site.specie.symbol == \"Ce\":\n",
    "            tags.append(['T'] * 3)\n",
    "        elif structure.index(site) in NN_site_idx and site.specie.symbol == \"O\":\n",
    "            tags.append([\"T\",'T','F'])\n",
    "        else :\n",
    "            tags.append(['F'] * 3)\n",
    "\n",
    "    return tags"
   ]
  },
  {
   "cell_type": "code",
   "execution_count": null,
   "metadata": {
    "code_folding": [
     0
    ]
   },
   "outputs": [],
   "source": [
    "# create selective dynamics tags, shift oxy mid - 0.15\n",
    "mid_struct = init_struct.copy()\n",
    "migrating = 54\n",
    "mid_struct.translate_sites(migrating,[0,0,ox_ox/2-0.15],frac_coords=False)\n",
    "struct = mid_struct\n",
    "\n",
    "NN_site_idx = []\n",
    "NN_site_idx.append(migrating) # include the vacancy as a site\n",
    "\n",
    "# create a set of sdynamics tags for the entire structure\n",
    "tags = SelectDynNN(struct,NN_site_idx)"
   ]
  },
  {
   "cell_type": "code",
   "execution_count": null,
   "metadata": {
    "code_folding": [
     0
    ]
   },
   "outputs": [],
   "source": [
    "# create poscar file \n",
    "p = Poscar(mid_struct, selective_dynamics=tags)\n",
    "p.write_file(filename=wd+'pratik_neb/neg/POSCAR_unrel')"
   ]
  },
  {
   "cell_type": "code",
   "execution_count": null,
   "metadata": {
    "code_folding": [
     0,
     41
    ]
   },
   "outputs": [],
   "source": [
    "# INCAR, KP POTCAR TO NEG NEB PRATIK\n",
    "from pymatgen.io.vasp.inputs import Incar, Kpoints, Potcar\n",
    "## edit\n",
    "path = wd + 'pratik_neb/neg/'\n",
    "# create the structure\n",
    "## edit\n",
    "struct = p.structure\n",
    "\n",
    "# create INCAR\n",
    "relax_init_incar = Incar.from_file(wd+'../INCAR')\n",
    "## edit\n",
    "relax_init_incar['System']= \"Pratik's Method: neg trans relax\"\n",
    "relax_init_incar['NPAR']=2\n",
    "relax_init_incar['KPAR']=1\n",
    "relax_init_incar['ENCUT']=400\n",
    "relax_init_incar['ISIF']=2\n",
    "relax_init_incar['EDIFFG']=-0.01\n",
    "relax_init_incar['EDIFF']=0.1E-05\n",
    "uu = [0]*len(struct.symbol_set)\n",
    "counter = 0\n",
    "for element in list(struct.symbol_set):\n",
    "    if element == 'Ce':\n",
    "        ul[counter] = 3    \n",
    "        uu[counter] = 5 \n",
    "    counter += 1\n",
    "relax_init_incar['LDAUL'] = ul\n",
    "relax_init_incar['LDAUU'] = uu\n",
    "relax_init_incar['LDAUJ'] =  [0]*len(struct.symbol_set)\n",
    "relax_init_incar.write_file(path+'INCAR')\n",
    "\n",
    "# create KPOINTS\n",
    "kp_file = Kpoints.automatic_density(structure=struct,kppa=800)\n",
    "kp_file.write_file(path+'KPOINTS')\n",
    "\n",
    "# create POTCAR\n",
    "potcar = Potcar(symbols=[i.replace('Ca','Ca_sv')\n",
    "                     for i in struct.symbol_set],\n",
    "            functional=\"PBE\")\n",
    "potcar.write_file(path+'POTCAR')\n",
    "\n",
    "# slurm for each calc\n",
    "with open(path + \"parallel.sh\", \"w\") as f:\n",
    "    f.write(\n",
    "        \"#!/bin/bash\\n\"\n",
    "\n",
    "        \"#SBATCH -J Pratneb \\n\"\n",
    "\n",
    "        \"#SBATCH -t 1-00:00\\n\"\n",
    "        \"#SBATCH -n 56\\n\"\n",
    "\n",
    "        \"#SBATCH -q aggressive \\n#SBATCH --mem-per-cpu=4000\\n\"\n",
    "        \"#SBATCH --exclusive\\n#SBATCH -o error.%j.out\\n\"\n",
    "        \"#SBATCH --mail-user=tboland1@asu.edu\\n\"\n",
    "        \"#SBATCH --mail-type=end\\n\\nmodule purge\\n\"\n",
    "\n",
    "        \"cd /scratch/tboland1/ca1vac/pratik_neb/neg/\\n\"\n",
    "\n",
    "        \"\\nmodule load intel/2018x\\nmodule load vasp/5.4.4-elpa\\n\"\n",
    "        'export I_MPI_HYDRA_BOOTSTRAP_EXEC_EXTRA_ARGS=\"--cpu-bind=verbose,none\"\\n'\n",
    "        \"export I_MPI_HYDRA_BOOTSTRAP=slurm\\nexport I_MPI_HYDRA_BOOTSTRAP_EXEC=srun\\n\\n\\n\"\n",
    "        \"mpiexec.hydra vasp_std\")"
   ]
  },
  {
   "cell_type": "code",
   "execution_count": null,
   "metadata": {
    "code_folding": [
     0
    ]
   },
   "outputs": [],
   "source": [
    "# spE \n",
    "path = wd + 'pratik_neb/neg/'\n",
    "struct = p.structure\n",
    "relax_init_incar = Incar.from_file(wd+'../INCAR')\n",
    "relax_init_incar['System']= \"Pratik's Method: neg trans spE\"\n",
    "relax_init_incar['NPAR']=2\n",
    "relax_init_incar['KPAR']=1\n",
    "relax_init_incar['ENCUT']=400\n",
    "relax_init_incar['ISIF']=2\n",
    "relax_init_incar['NSW']=0\n",
    "relax_init_incar['IBRION']=-1\n",
    "relax_init_incar['ISPIN']=2\n",
    "## edit to have 2 sig figs after totE power. set ediff to -(totEpow +2)\n",
    "relax_init_incar['EDIFF']=0.1E-05\n",
    "relax_init_incar.pop('EDIFFG')\n",
    "relax_init_incar.pop('POTIM')\n",
    "uu = [0]*len(struct.symbol_set)\n",
    "counter = 0\n",
    "for element in list(struct.symbol_set):\n",
    "    if element == 'Ce':\n",
    "        ul[counter] = 3    \n",
    "        uu[counter] = 5 \n",
    "    counter += 1\n",
    "relax_init_incar['LDAUL'] = ul\n",
    "relax_init_incar['LDAUU'] = uu\n",
    "relax_init_incar['LDAUJ'] =  [0]*len(struct.symbol_set)\n",
    "relax_init_incar.write_file(path+'INCAR')"
   ]
  },
  {
   "cell_type": "markdown",
   "metadata": {},
   "source": [
    "* @ mid point"
   ]
  },
  {
   "cell_type": "code",
   "execution_count": null,
   "metadata": {
    "code_folding": [
     0
    ]
   },
   "outputs": [],
   "source": [
    "# create selective dynamics tags, shift oxy to mid\n",
    "mid_struct = init_struct.copy()\n",
    "migrating = 54\n",
    "mid_struct.translate_sites(migrating,[0,0,ox_ox/2],frac_coords=False)\n",
    "struct = mid_struct\n",
    "\n",
    "NN_site_idx = []\n",
    "NN_site_idx.append(migrating) # include the vacancy as a site\n",
    "\n",
    "# create a set of sdynamics tags for the entire structure\n",
    "tags = SelectDynNN(struct,NN_site_idx)"
   ]
  },
  {
   "cell_type": "code",
   "execution_count": null,
   "metadata": {
    "code_folding": [
     0
    ]
   },
   "outputs": [],
   "source": [
    "# create poscar file\n",
    "p = Poscar(mid_struct, selective_dynamics=tags)\n",
    "p.write_file(filename=wd+'pratik_neb/0/POSCAR_unrel')"
   ]
  },
  {
   "cell_type": "code",
   "execution_count": null,
   "metadata": {
    "code_folding": [
     0
    ]
   },
   "outputs": [],
   "source": [
    "# INCAR, KP POTCAR TO mid NEB PRATIK\n",
    "from pymatgen.io.vasp.inputs import Incar, Kpoints, Potcar\n",
    "## edit\n",
    "path = wd + 'pratik_neb/0/'\n",
    "# create the structure\n",
    "## edit\n",
    "struct = p.structure\n",
    "\n",
    "# create INCAR\n",
    "relax_init_incar = Incar.from_file(wd+'../INCAR')\n",
    "## edit\n",
    "relax_init_incar['System']= \"Pratik's Method: @ trans initial relax\"\n",
    "relax_init_incar['NPAR']=2\n",
    "relax_init_incar['KPAR']=1\n",
    "relax_init_incar['ENCUT']=400\n",
    "relax_init_incar['ISIF']=2\n",
    "relax_init_incar['EDIFFG']=-0.01\n",
    "relax_init_incar['EDIFF']=0.1E-05\n",
    "uu = [0]*len(struct.symbol_set)\n",
    "counter = 0\n",
    "for element in list(struct.symbol_set):\n",
    "    if element == 'Ce':\n",
    "        ul[counter] = 3    \n",
    "        uu[counter] = 5 \n",
    "    counter += 1\n",
    "relax_init_incar['LDAUL'] = ul\n",
    "relax_init_incar['LDAUU'] = uu\n",
    "relax_init_incar['LDAUJ'] =  [0]*len(struct.symbol_set)\n",
    "relax_init_incar.write_file(path+'INCAR')\n",
    "\n",
    "# create KPOINTS\n",
    "kp_file = Kpoints.automatic_density(structure=struct,kppa=800)\n",
    "kp_file.write_file(path+'KPOINTS')\n",
    "\n",
    "# create POTCAR\n",
    "potcar = Potcar(symbols=[i.replace('Ca','Ca_sv')\n",
    "                     for i in struct.symbol_set],\n",
    "            functional=\"PBE\")\n",
    "potcar.write_file(path+'POTCAR')\n",
    "\n",
    "# slurm for each calc\n",
    "with open(path + \"parallel.sh\", \"w\") as f:\n",
    "    f.write(\n",
    "        \"#!/bin/bash\\n\"\n",
    "\n",
    "        \"#SBATCH -J Pratneb0 \\n\"\n",
    "\n",
    "        \"#SBATCH -t 1-00:00\\n\"\n",
    "        \"#SBATCH -n 56\\n\"\n",
    "\n",
    "        \"#SBATCH -q aggressive \\n#SBATCH --mem-per-cpu=4000\\n\"\n",
    "        \"#SBATCH --exclusive\\n#SBATCH -o error.%j.out\\n\"\n",
    "        \"#SBATCH --mail-user=tboland1@asu.edu\\n\"\n",
    "        \"#SBATCH --mail-type=end\\n\\nmodule purge\\n\"\n",
    "\n",
    "        \"cd /scratch/tboland1/ca1vac/pratik_neb/0/\\n\"\n",
    "\n",
    "        \"\\nmodule load intel/2018x\\nmodule load vasp/5.4.4-elpa\\n\"\n",
    "        'export I_MPI_HYDRA_BOOTSTRAP_EXEC_EXTRA_ARGS=\"--cpu-bind=verbose,none\"\\n'\n",
    "        \"export I_MPI_HYDRA_BOOTSTRAP=slurm\\nexport I_MPI_HYDRA_BOOTSTRAP_EXEC=srun\\n\\n\\n\"\n",
    "        \"mpiexec.hydra vasp_std\")"
   ]
  },
  {
   "cell_type": "code",
   "execution_count": null,
   "metadata": {
    "code_folding": [
     0
    ]
   },
   "outputs": [],
   "source": [
    "# spE\n",
    "path = wd + 'pratik_neb/0/'\n",
    "struct = p.structure\n",
    "relax_init_incar = Incar.from_file(wd+'../INCAR')\n",
    "relax_init_incar['System']= \"Pratik's Method: @ trans spE\"\n",
    "relax_init_incar['NPAR']=2\n",
    "relax_init_incar['KPAR']=1\n",
    "relax_init_incar['ENCUT']=400\n",
    "relax_init_incar['ISIF']=2\n",
    "relax_init_incar['NSW']=0\n",
    "relax_init_incar['IBRION']=-1\n",
    "relax_init_incar['ISPIN']=2\n",
    "## edit to have 2 sig figs after totE power. set ediff to -(totEpow +2)\n",
    "relax_init_incar['EDIFF']=0.1E-05\n",
    "uu = [0]*len(struct.symbol_set)\n",
    "counter = 0\n",
    "for element in list(struct.symbol_set):\n",
    "    if element == 'Ce':\n",
    "        ul[counter] = 3    \n",
    "        uu[counter] = 5 \n",
    "    counter += 1\n",
    "relax_init_incar['LDAUL'] = ul\n",
    "relax_init_incar['LDAUU'] = uu\n",
    "relax_init_incar['LDAUJ'] =  [0]*len(struct.symbol_set)\n",
    "relax_init_incar.pop('EDIFFG')\n",
    "relax_init_incar.pop('POTIM')\n",
    "relax_init_incar.write_file(path+'INCAR')"
   ]
  },
  {
   "cell_type": "markdown",
   "metadata": {},
   "source": [
    "Relax Pratik's method structure.\n",
    "* Initial sync to cluster\n",
    "    * rsync -azPn pratik_neb tboland1@agave.asu.edu:/scratch/tboland1/ca1vac/\n",
    "* spE sync to cluster\n",
    "    * rsync -azP --include='INCAR' --include='star/' --exclude='star' pratik_neb/ tboland1@agave.asu.edu:/scratch/tboland1/ca1vac/pratik_neb/"
   ]
  },
  {
   "cell_type": "markdown",
   "metadata": {},
   "source": [
    "### Relax the 1NN \n",
    "* all structs relaxing on agave"
   ]
  },
  {
   "cell_type": "code",
   "execution_count": null,
   "metadata": {
    "code_folding": [
     0
    ]
   },
   "outputs": [],
   "source": [
    "# @ neg\n",
    "mid_struct = init_struct.copy()\n",
    "migrating = 54\n",
    "mid_struct.translate_sites(migrating,[0,0,ox_ox/2-0.15],frac_coords=False)\n",
    "struct = mid_struct\n",
    "shell = 1\n",
    "\n",
    "# import the cNN to find the NN indices\n",
    "from pymatgen.analysis.local_env import CrystalNN\n",
    "cNN = CrystalNN(cation_anion=True, distance_cutoffs=[0,2])\n",
    "\n",
    "# cNN requires the oxidation state\n",
    "struct.add_oxidation_state_by_element({'Ce':4,'O':-2,'Ca':2})\n",
    "# find the NN for the migrating site\n",
    "NN_site_idx = [\n",
    "    nn['site_index']\n",
    "    for nn in cNN.get_nn_shell_info(struct, migrating, shell)\n",
    "]\n",
    "NN_site_idx.append(migrating) # include the vacancy as a site\n",
    "struct.remove_oxidation_states()\n",
    "\n",
    "# create a set of sdynamics tags for the entire structure\n",
    "tags = SelectDynNN(struct,NN_site_idx)\n",
    "\n",
    "p = Poscar(mid_struct, selective_dynamics=tags)\n",
    "p.write_file(filename=wd+'pratik_neb_1NN/neg/POSCAR_unrel')"
   ]
  },
  {
   "cell_type": "code",
   "execution_count": null,
   "metadata": {
    "code_folding": [
     0
    ]
   },
   "outputs": [],
   "source": [
    "# INCAR, KP POTCAR TO neg NEB PRATIK\n",
    "from pymatgen.io.vasp.inputs import Incar, Kpoints, Potcar\n",
    "## edit\n",
    "path = wd + 'pratik_neb_1NN/neg/'\n",
    "struct = p.structure\n",
    "\n",
    "# create INCAR\n",
    "relax_init_incar = Incar.from_file(wd+'../INCAR')\n",
    "## edit\n",
    "relax_init_incar['System']= \"Pratik's Method: @ trans neg initial relax\"\n",
    "relax_init_incar['NPAR']=2\n",
    "relax_init_incar['KPAR']=1\n",
    "relax_init_incar['ENCUT']=400\n",
    "relax_init_incar['ISIF']=2\n",
    "relax_init_incar['EDIFFG']=-0.01\n",
    "relax_init_incar['EDIFF']=0.1E-05\n",
    "uu = [0]*len(struct.symbol_set)\n",
    "counter = 0\n",
    "for element in list(struct.symbol_set):\n",
    "    if element == 'Ce':\n",
    "        ul[counter] = 3    \n",
    "        uu[counter] = 5 \n",
    "    counter += 1\n",
    "relax_init_incar['LDAUL'] = ul\n",
    "relax_init_incar['LDAUU'] = uu\n",
    "relax_init_incar['LDAUJ'] =  [0]*len(struct.symbol_set)\n",
    "relax_init_incar.write_file(path+'INCAR')\n",
    "\n",
    "# create KPOINTS\n",
    "kp_file = Kpoints.automatic_density(structure=struct,kppa=800)\n",
    "kp_file.write_file(path+'KPOINTS')\n",
    "\n",
    "# create POTCAR\n",
    "potcar = Potcar(symbols=[i.replace('Ca','Ca_sv')\n",
    "                     for i in struct.symbol_set],\n",
    "            functional=\"PBE\")\n",
    "potcar.write_file(path+'POTCAR')\n",
    "\n",
    "# slurm for each calc\n",
    "with open(path + \"parallel.sh\", \"w\") as f:\n",
    "    f.write(\n",
    "        \"#!/bin/bash\\n\"\n",
    "\n",
    "        \"#SBATCH -J Prat1nnN \\n\"\n",
    "\n",
    "        \"#SBATCH -t 1-00:00\\n\"\n",
    "        \"#SBATCH -n 56\\n\"\n",
    "\n",
    "        \"#SBATCH -q aggressive \\n#SBATCH --mem-per-cpu=4000\\n\"\n",
    "        \"#SBATCH --exclusive\\n#SBATCH -o error.%j.out\\n\"\n",
    "        \"#SBATCH --mail-user=tboland1@asu.edu\\n\"\n",
    "        \"#SBATCH --mail-type=end\\n\\nmodule purge\\n\"\n",
    "\n",
    "        \"cd /scratch/tboland1/ca1vac/pratik_neb_1NN/neg/\\n\"\n",
    "\n",
    "        \"\\nmodule load intel/2018x\\nmodule load vasp/5.4.4-elpa\\n\"\n",
    "        'export I_MPI_HYDRA_BOOTSTRAP_EXEC_EXTRA_ARGS=\"--cpu-bind=verbose,none\"\\n'\n",
    "        \"export I_MPI_HYDRA_BOOTSTRAP=slurm\\nexport I_MPI_HYDRA_BOOTSTRAP_EXEC=srun\\n\\n\\n\"\n",
    "        \"mpiexec.hydra vasp_std\")"
   ]
  },
  {
   "cell_type": "code",
   "execution_count": null,
   "metadata": {
    "code_folding": [
     0
    ]
   },
   "outputs": [],
   "source": [
    "# spE files\n",
    "path = wd + 'pratik_neb_1NN/neg/'\n",
    "struct = p.structure\n",
    "relax_init_incar = Incar.from_file(wd+'../INCAR')\n",
    "relax_init_incar['System']= \"Pratik's Method: @ trans neg spE\"\n",
    "relax_init_incar['NPAR']=2\n",
    "relax_init_incar['KPAR']=1\n",
    "relax_init_incar['ENCUT']=400\n",
    "relax_init_incar['ISIF']=2\n",
    "relax_init_incar['NSW']=0\n",
    "relax_init_incar['IBRION']=-1\n",
    "relax_init_incar['ISPIN']=2\n",
    "uu = [0]*len(struct.symbol_set)\n",
    "counter = 0\n",
    "for element in list(struct.symbol_set):\n",
    "    if element == 'Ce':\n",
    "        ul[counter] = 3    \n",
    "        uu[counter] = 5 \n",
    "    counter += 1\n",
    "relax_init_incar['LDAUL'] = ul\n",
    "relax_init_incar['LDAUU'] = uu\n",
    "relax_init_incar['LDAUJ'] =  [0]*len(struct.symbol_set)\n",
    "## edit to have 2 sig figs after totE power. set ediff to -(totEpow +2)\n",
    "relax_init_incar['EDIFF']=0.1E-05\n",
    "relax_init_incar.pop('EDIFFG')\n",
    "relax_init_incar.pop('POTIM')\n",
    "relax_init_incar.write_file(path+'INCAR')"
   ]
  },
  {
   "cell_type": "code",
   "execution_count": null,
   "metadata": {
    "code_folding": [
     0
    ]
   },
   "outputs": [],
   "source": [
    "# @ mid\n",
    "mid_struct = init_struct.copy()\n",
    "migrating = 54\n",
    "mid_struct.translate_sites(migrating,[0,0,ox_ox/2],frac_coords=False)\n",
    "struct = mid_struct\n",
    "shell = 1\n",
    "\n",
    "# import the cNN to find the NN indices\n",
    "from pymatgen.analysis.local_env import CrystalNN\n",
    "cNN = CrystalNN(cation_anion=True, distance_cutoffs=[0,2])\n",
    "\n",
    "# cNN requires the oxidation state\n",
    "struct.add_oxidation_state_by_element({'Ce':4,'O':-2,'Ca':2})\n",
    "# find the NN for the migrating site\n",
    "NN_site_idx = [\n",
    "    nn['site_index']\n",
    "    for nn in cNN.get_nn_shell_info(struct, migrating, shell)\n",
    "]\n",
    "NN_site_idx.append(migrating) # include the vacancy as a site\n",
    "struct.remove_oxidation_states()\n",
    "\n",
    "# create a set of sdynamics tags for the entire structure\n",
    "tags = SelectDynNN(struct,NN_site_idx)\n",
    "\n",
    "p = Poscar(mid_struct, selective_dynamics=tags)\n",
    "p.write_file(filename=wd+'pratik_neb_1NN/0/POSCAR_unrel')"
   ]
  },
  {
   "cell_type": "code",
   "execution_count": null,
   "metadata": {
    "code_folding": [
     0
    ]
   },
   "outputs": [],
   "source": [
    "# INCAR, KP POTCAR TO @ mid NEB PRATIK\n",
    "from pymatgen.io.vasp.inputs import Incar, Kpoints, Potcar\n",
    "## edit\n",
    "path = wd + 'pratik_neb_1NN/0/'\n",
    "struct = p.structure\n",
    "\n",
    "# create INCAR\n",
    "relax_init_incar = Incar.from_file(wd+'../INCAR')\n",
    "## edit\n",
    "relax_init_incar['System']= \"Pratik's Method: @ trans initial relax\"\n",
    "relax_init_incar['NPAR']=2\n",
    "relax_init_incar['KPAR']=1\n",
    "relax_init_incar['ENCUT']=400\n",
    "relax_init_incar['ISIF']=2\n",
    "relax_init_incar['EDIFFG']=-0.01\n",
    "relax_init_incar['EDIFF']=0.1E-05\n",
    "uu = [0]*len(struct.symbol_set)\n",
    "counter = 0\n",
    "for element in list(struct.symbol_set):\n",
    "    if element == 'Ce':\n",
    "        ul[counter] = 3    \n",
    "        uu[counter] = 5 \n",
    "    counter += 1\n",
    "relax_init_incar['LDAUL'] = ul\n",
    "relax_init_incar['LDAUU'] = uu\n",
    "relax_init_incar['LDAUJ'] =  [0]*len(struct.symbol_set)\n",
    "relax_init_incar.write_file(path+'INCAR')\n",
    "\n",
    "# create KPOINTS\n",
    "kp_file = Kpoints.automatic_density(structure=struct,kppa=800)\n",
    "kp_file.write_file(path+'KPOINTS')\n",
    "\n",
    "# create POTCAR\n",
    "potcar = Potcar(symbols=[i.replace('Ca','Ca_sv')\n",
    "                     for i in struct.symbol_set],\n",
    "            functional=\"PBE\")\n",
    "potcar.write_file(path+'POTCAR')\n",
    "\n",
    "# slurm for each calc\n",
    "with open(path + \"parallel.sh\", \"w\") as f:\n",
    "    f.write(\n",
    "        \"#!/bin/bash\\n\"\n",
    "\n",
    "        \"#SBATCH -J Prat1nn0 \\n\"\n",
    "\n",
    "        \"#SBATCH -t 1-00:00\\n\"\n",
    "        \"#SBATCH -n 56\\n\"\n",
    "\n",
    "        \"#SBATCH -q aggressive \\n#SBATCH --mem-per-cpu=4000\\n\"\n",
    "        \"#SBATCH --exclusive\\n#SBATCH -o error.%j.out\\n\"\n",
    "        \"#SBATCH --mail-user=tboland1@asu.edu\\n\"\n",
    "        \"#SBATCH --mail-type=end\\n\\nmodule purge\\n\"\n",
    "\n",
    "        \"cd /scratch/tboland1/ca1vac/pratik_neb_1NN/0/\\n\"\n",
    "\n",
    "        \"\\nmodule load intel/2018x\\nmodule load vasp/5.4.4-elpa\\n\"\n",
    "        'export I_MPI_HYDRA_BOOTSTRAP_EXEC_EXTRA_ARGS=\"--cpu-bind=verbose,none\"\\n'\n",
    "        \"export I_MPI_HYDRA_BOOTSTRAP=slurm\\nexport I_MPI_HYDRA_BOOTSTRAP_EXEC=srun\\n\\n\\n\"\n",
    "        \"mpiexec.hydra vasp_std\")"
   ]
  },
  {
   "cell_type": "code",
   "execution_count": null,
   "metadata": {
    "code_folding": [
     0
    ]
   },
   "outputs": [],
   "source": [
    "# spE\n",
    "relax_init_incar['NPAR']   = 2\n",
    "relax_init_incar['KPAR']   = 1\n",
    "relax_init_incar['ENCUT']  = 400\n",
    "relax_init_incar['ISIF']   = 2\n",
    "relax_init_incar['NSW']    = 0\n",
    "relax_init_incar['IBRION'] = -1\n",
    "relax_init_incar['ISPIN']  = 2\n",
    "## edit to have 2 sig figs after totE power. set ediff to -(totEpow +2)\n",
    "relax_init_incar['EDIFF']  = 0.1E-05\n",
    "uu = [0]*len(struct.symbol_set)\n",
    "counter = 0\n",
    "for element in list(struct.symbol_set):\n",
    "    if element == 'Ce':\n",
    "        ul[counter] = 3    \n",
    "        uu[counter] = 5 \n",
    "    counter += 1\n",
    "relax_init_incar['LDAUL'] = ul\n",
    "relax_init_incar['LDAUU'] = uu\n",
    "relax_init_incar['LDAUJ'] =  [0]*len(struct.symbol_set)\n",
    "relax_init_incar.pop('EDIFFG')\n",
    "relax_init_incar.pop('POTIM')\n",
    "relax_init_incar.write_file(path+'INCAR')"
   ]
  },
  {
   "cell_type": "code",
   "execution_count": null,
   "metadata": {
    "code_folding": [
     0
    ]
   },
   "outputs": [],
   "source": [
    "# @ pos\n",
    "mid_struct = init_struct.copy()\n",
    "migrating = 54\n",
    "mid_struct.translate_sites(migrating,[0,0,ox_ox/2+0.15],frac_coords=False)\n",
    "struct = mid_struct\n",
    "shell = 1\n",
    "\n",
    "# import the cNN to find the NN indices\n",
    "from pymatgen.analysis.local_env import CrystalNN\n",
    "cNN = CrystalNN(cation_anion=True, distance_cutoffs=[0,2])\n",
    "\n",
    "# cNN requires the oxidation state\n",
    "struct.add_oxidation_state_by_element({'Ce':4,'O':-2,'Ca':2})\n",
    "# find the NN for the migrating site\n",
    "NN_site_idx = [\n",
    "    nn['site_index']\n",
    "    for nn in cNN.get_nn_shell_info(struct, migrating, shell)\n",
    "]\n",
    "NN_site_idx.append(migrating) # include the vacancy as a site\n",
    "struct.remove_oxidation_states()\n",
    "\n",
    "# create a set of sdynamics tags for the entire structure\n",
    "tags = SelectDynNN(struct,NN_site_idx)\n",
    "\n",
    "p = Poscar(mid_struct, selective_dynamics=tags)\n",
    "p.write_file(filename=wd+'pratik_neb_1NN/pos/POSCAR_unrel')"
   ]
  },
  {
   "cell_type": "code",
   "execution_count": null,
   "metadata": {
    "code_folding": [
     0
    ]
   },
   "outputs": [],
   "source": [
    "# INCAR, KP POTCAR TO pos NEB PRATIK\n",
    "from pymatgen.io.vasp.inputs import Incar, Kpoints, Potcar\n",
    "## edit\n",
    "path = wd + 'pratik_neb_1NN/pos/'\n",
    "struct = p.structure\n",
    "\n",
    "# create INCAR\n",
    "relax_init_incar = Incar.from_file(wd+'../INCAR')\n",
    "## edit\n",
    "relax_init_incar['System']= \"Pratik's Method: @ trans pos initial relax\"\n",
    "relax_init_incar['NPAR']=2\n",
    "relax_init_incar['KPAR']=1\n",
    "relax_init_incar['ENCUT']=400\n",
    "relax_init_incar['ISIF']=2\n",
    "relax_init_incar['EDIFFG']=-0.01\n",
    "relax_init_incar['EDIFF']=0.1E-05\n",
    "uu = [0]*len(struct.symbol_set)\n",
    "counter = 0\n",
    "for element in list(struct.symbol_set):\n",
    "    if element == 'Ce':\n",
    "        ul[counter] = 3    \n",
    "        uu[counter] = 5 \n",
    "    counter += 1\n",
    "relax_init_incar['LDAUL'] = ul\n",
    "relax_init_incar['LDAUU'] = uu\n",
    "relax_init_incar['LDAUJ'] =  [0]*len(struct.symbol_set)\n",
    "relax_init_incar.write_file(path+'INCAR')\n",
    "\n",
    "# create KPOINTS\n",
    "kp_file = Kpoints.automatic_density(structure=struct,kppa=800)\n",
    "kp_file.write_file(path+'KPOINTS')\n",
    "\n",
    "# create POTCAR\n",
    "potcar = Potcar(symbols=[i.replace('Ca','Ca_sv')\n",
    "                     for i in struct.symbol_set],\n",
    "            functional=\"PBE\")\n",
    "potcar.write_file(path+'POTCAR')\n",
    "\n",
    "# slurm for each calc\n",
    "with open(path + \"parallel.sh\", \"w\") as f:\n",
    "    f.write(\n",
    "        \"#!/bin/bash\\n\"\n",
    "\n",
    "        \"#SBATCH -J Prat1nnP \\n\"\n",
    "\n",
    "        \"#SBATCH -t 1-00:00\\n\"\n",
    "        \"#SBATCH -n 56\\n\"\n",
    "\n",
    "        \"#SBATCH -q aggressive \\n#SBATCH --mem-per-cpu=4000\\n\"\n",
    "        \"#SBATCH --exclusive\\n#SBATCH -o error.%j.out\\n\"\n",
    "        \"#SBATCH --mail-user=tboland1@asu.edu\\n\"\n",
    "        \"#SBATCH --mail-type=end\\n\\nmodule purge\\n\"\n",
    "\n",
    "        \"cd /scratch/tboland1/ca1vac/pratik_neb_1NN/pos/\\n\"\n",
    "\n",
    "        \"\\nmodule load intel/2018x\\nmodule load vasp/5.4.4-elpa\\n\"\n",
    "        'export I_MPI_HYDRA_BOOTSTRAP_EXEC_EXTRA_ARGS=\"--cpu-bind=verbose,none\"\\n'\n",
    "        \"export I_MPI_HYDRA_BOOTSTRAP=slurm\\nexport I_MPI_HYDRA_BOOTSTRAP_EXEC=srun\\n\\n\\n\"\n",
    "        \"mpiexec.hydra vasp_std\")"
   ]
  },
  {
   "cell_type": "code",
   "execution_count": null,
   "metadata": {
    "code_folding": [
     0
    ]
   },
   "outputs": [],
   "source": [
    "#spE\n",
    "path = wd + 'pratik_neb_1NN/pos/'\n",
    "struct = p.structure\n",
    "\n",
    "# create INCAR\n",
    "relax_init_incar = Incar.from_file(wd+'../INCAR')\n",
    "relax_init_incar['System']= \"Pratik's Method: @ trans pos spE\"\n",
    "relax_init_incar['NPAR']=2\n",
    "relax_init_incar['KPAR']=1\n",
    "relax_init_incar['ENCUT']=400\n",
    "relax_init_incar['ISIF']=2\n",
    "relax_init_incar['NSW']=0\n",
    "relax_init_incar['IBRION']=-1\n",
    "relax_init_incar['ISPIN']=2\n",
    "## edit to have 2 sig figs after totE power. set ediff to -(totEpow +2)\n",
    "relax_init_incar['EDIFF']=0.1E-05\n",
    "uu = [0]*len(struct.symbol_set)\n",
    "counter = 0\n",
    "for element in list(struct.symbol_set):\n",
    "    if element == 'Ce':\n",
    "        ul[counter] = 3    \n",
    "        uu[counter] = 5 \n",
    "    counter += 1\n",
    "relax_init_incar['LDAUL'] = ul\n",
    "relax_init_incar['LDAUU'] = uu\n",
    "relax_init_incar['LDAUJ'] =  [0]*len(struct.symbol_set)\n",
    "relax_init_incar.pop('EDIFFG')\n",
    "relax_init_incar.pop('POTIM')\n",
    "relax_init_incar.write_file(path+'INCAR')"
   ]
  },
  {
   "cell_type": "markdown",
   "metadata": {},
   "source": [
    "Relax Pratik's method structure.\n",
    "* synced to cluster\n",
    "    * rsync -azPn pratik_neb_1NN/ tboland1@agave.asu.edu:/scratch/tboland1/ca1vac/pratik_neb_1NN/"
   ]
  },
  {
   "cell_type": "markdown",
   "metadata": {},
   "source": [
    "The structures are all the same only the O$_{vac}$ has been moved from the NN position. If we repeat this analysis and exclude the option of having an O$_{vac}$ we can see the number of configurations which are likely to occur when the O$_{vac}$ is constrained to the 1NN.\n",
    "\n",
    "**3.1 ODST w/o O$_{vac}$ Super Cell**\n",
    "\n",
    "Let's give that a try. Let the generator:\n",
    "* only use 1 Ca dopant\n",
    "* 2x2x2 super cell "
   ]
  },
  {
   "cell_type": "code",
   "execution_count": null,
   "metadata": {
    "code_folding": [
     0
    ]
   },
   "outputs": [],
   "source": [
    "# repeat ^ but now make it a supercell\n",
    "# change just Ca ( enter total # of Ca you want)\n",
    "Ca = 1\n",
    "con_Ca = (Ca)/32\n",
    "con_Ce = 1-con_Ca\n",
    "con_O = (64-0)/64\n",
    "\n",
    "specie = [{\"Ce4+\": con_Ce, \"Ca2+\": con_Ca}, {\"O2-\": con_O}]\n",
    "structure = Structure.from_spacegroup(\"Fm-3m\", Lattice.cubic(5.494), specie,\n",
    "                                      [[0, 0, 0], [0.25, 0.25, 0.25]])\n",
    "\n",
    "# obtain a copy of the structure \n",
    "struct = structure.copy()\n",
    "struct.make_supercell([2,2,2])\n",
    "\n",
    "# load the transformer\n",
    "from pymatgen.transformations.standard_transformations import \\\n",
    "OrderDisorderedStructureTransformation\n",
    "\n",
    "# generate all possible crystallographic configurations\n",
    "odst = OrderDisorderedStructureTransformation()\n",
    "odst_structs = odst.apply_transformation(struct, return_ranked_list=10000)\n",
    "print(('There is a total of {} structure(s) created using the ODST.\\n'\n",
    "      'The composition is {}.\\n'.format(\n",
    "          len(odst_structs), odst_structs[0]['structure'].composition)))\n",
    "# Remove duplicated structures\n",
    "from pymatgen.analysis.structure_matcher import StructureMatcher\n",
    "\n",
    "# initialize the object\n",
    "matcher = StructureMatcher()\n",
    "\n",
    "# Pass a list of structures to the matcher\n",
    "# so the SM can group the structures by their similarity\n",
    "matches = matcher.group_structures([d[\"structure\"] for d in odst_structs])\n",
    "\n",
    "# collect # of groups, number frequency for each struct & disp data\n",
    "# the grouping of all structures by structural uniquiness found\n",
    "groups = [matches[i][0] for i in range(len(matches))]\n",
    "\n",
    "# the total number of unique structures found\n",
    "unique_count = len(groups)\n",
    "\n",
    "# the frequency with which each unique structure occurres\n",
    "num_freq =  [len(matches[i]) for i in range(len(matches))]\n",
    "\n",
    "print(\"The total number of unique structures found is {}.\\n\"\n",
    "       \"The number frequency with which each structure occurres is \\n\\t {}.\".format(\n",
    "           unique_count, ' '.join([str(x) for x in num_freq])))"
   ]
  },
  {
   "cell_type": "markdown",
   "metadata": {
    "slideshow": {
     "slide_type": "fragment"
    }
   },
   "source": [
    "For one vacancy this will be okay since from literature we can assume *a prior* knowledge of where the O$_{vac}$ is located. This is probably not going to be the case for 2 Ca solute atoms."
   ]
  },
  {
   "cell_type": "markdown",
   "metadata": {},
   "source": [
    "## 4.0 Vacancy Generator\n",
    "Maybe there is an efficient way to induce O$_{vac}$'s. This section explores the initial stages involved in using the VacancyGenerator class to find the locations of O$_{vac}$\n",
    "* Use the vacancy generator to include the O$_{vac}$'s in the structure.\n",
    "* need to check if this is efficient in later version.\n",
    "\n",
    "**4.1 Generators Default Behavior**"
   ]
  },
  {
   "cell_type": "code",
   "execution_count": null,
   "metadata": {
    "code_folding": [
     0
    ]
   },
   "outputs": [],
   "source": [
    "# grab the only unique structure\n",
    "struct = groups[0]\n",
    "\n",
    "# load the generator\n",
    "from pymatgen.analysis.defects.generators import VacancyGenerator\n",
    "\n",
    "# initialize the generator, pass necessary variable\n",
    "vg = VacancyGenerator(struct)"
   ]
  },
  {
   "cell_type": "code",
   "execution_count": null,
   "metadata": {
    "code_folding": [
     0
    ]
   },
   "outputs": [],
   "source": [
    "# check out the generated structures\n",
    "vg_struct = vg.structure\n",
    "vg_struct.composition"
   ]
  },
  {
   "cell_type": "code",
   "execution_count": null,
   "metadata": {
    "code_folding": [
     0
    ]
   },
   "outputs": [],
   "source": [
    "# look at the structures\n",
    "gvl(vg_struct)"
   ]
  },
  {
   "cell_type": "markdown",
   "metadata": {},
   "source": [
    "**4.2 Generators Optional Behavior**\n",
    "\n",
    "Let's check out what the include_bv_charge does."
   ]
  },
  {
   "cell_type": "code",
   "execution_count": null,
   "metadata": {
    "code_folding": [
     0
    ]
   },
   "outputs": [],
   "source": [
    "# initialize the generator, pass necessary variable\n",
    "vg_w_ibv = VacancyGenerator(struct,include_bv_charge=True)"
   ]
  },
  {
   "cell_type": "code",
   "execution_count": null,
   "metadata": {
    "code_folding": [
     0
    ]
   },
   "outputs": [],
   "source": [
    "# check out the generated structures\n",
    "vg_w_ibv_struct = vg_w_ibv.structure\n",
    "vg_w_ibv_struct.composition"
   ]
  },
  {
   "cell_type": "markdown",
   "metadata": {},
   "source": [
    "The structure is identical to the previous structure."
   ]
  },
  {
   "cell_type": "code",
   "execution_count": null,
   "metadata": {
    "scrolled": true
   },
   "outputs": [],
   "source": [
    "gvl(vg_w_ibv_struct)"
   ]
  },
  {
   "cell_type": "code",
   "execution_count": null,
   "metadata": {},
   "outputs": [],
   "source": [
    "print((vg_w_ibv.as_dict()).keys())\n",
    "vg_w_ibv.as_dict()"
   ]
  },
  {
   "cell_type": "code",
   "execution_count": null,
   "metadata": {},
   "outputs": [],
   "source": [
    "print((vg.as_dict()).keys())\n",
    "vg.as_dict()"
   ]
  },
  {
   "cell_type": "markdown",
   "metadata": {},
   "source": [
    "This seems simple enough for one vacancy. Let's check it on the Defects -- 2 Ca Solutes nb."
   ]
  }
 ],
 "metadata": {
  "celltoolbar": "Slideshow",
  "kernelspec": {
   "display_name": "Environment (conda_anaconda3)",
   "language": "python",
   "name": "conda_anaconda3"
  },
  "language_info": {
   "codemirror_mode": {
    "name": "ipython",
    "version": 3
   },
   "file_extension": ".py",
   "mimetype": "text/x-python",
   "name": "python",
   "nbconvert_exporter": "python",
   "pygments_lexer": "ipython3",
   "version": "3.6.8"
  },
  "latex_envs": {
   "LaTeX_envs_menu_present": true,
   "autoclose": false,
   "autocomplete": true,
   "bibliofile": "biblio.bib",
   "cite_by": "apalike",
   "current_citInitial": 1,
   "eqLabelWithNumbers": true,
   "eqNumInitial": 1,
   "hotkeys": {
    "equation": "Ctrl-E",
    "itemize": "Ctrl-I"
   },
   "labels_anchors": false,
   "latex_user_defs": false,
   "report_style_numbering": false,
   "user_envs_cfg": false
  },
  "notify_time": "5",
  "varInspector": {
   "cols": {
    "lenName": 16,
    "lenType": 16,
    "lenVar": 40
   },
   "kernels_config": {
    "python": {
     "delete_cmd_postfix": "",
     "delete_cmd_prefix": "del ",
     "library": "var_list.py",
     "varRefreshCmd": "print(var_dic_list())"
    },
    "r": {
     "delete_cmd_postfix": ") ",
     "delete_cmd_prefix": "rm(",
     "library": "var_list.r",
     "varRefreshCmd": "cat(var_dic_list()) "
    }
   },
   "oldHeight": 506,
   "position": {
    "height": "528px",
    "left": "62px",
    "right": "20px",
    "top": "93px",
    "width": "690px"
   },
   "types_to_exclude": [
    "module",
    "function",
    "builtin_function_or_method",
    "instance",
    "_Feature"
   ],
   "varInspector_section_display": "block",
   "window_display": false
  }
 },
 "nbformat": 4,
 "nbformat_minor": 2
}
