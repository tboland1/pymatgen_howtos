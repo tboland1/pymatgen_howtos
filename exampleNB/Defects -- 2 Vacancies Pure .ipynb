{
 "cells": [
  {
   "cell_type": "code",
   "execution_count": 1,
   "metadata": {
    "code_folding": [
     0
    ]
   },
   "outputs": [
    {
     "name": "stdout",
     "output_type": "stream",
     "text": [
      "Last ran on /home/tboland1/Dropbox/Crozier Group User- Tara Boland/pymatgen from 2019-02-27 12:07:13.556180. \n",
      "\n",
      "home is /home/tboland1/Dropbox/TaraB/DFT/\n",
      "\n",
      "The formation energy calculations for an oxygen vacancy are in the directory \n",
      "\t/home/tboland1/Dropbox/TaraB/DFT/formEox/2vac/.\n",
      "\n",
      "The directories contents are \n",
      "\tnotes o_cf_5 o_cf_9 o_cf_7 o_cf_1 o_cf_4 o_cf_2 o_cf_6 o_cf_0 o_cf_3 o_cf_8\n"
     ]
    }
   ],
   "source": [
    "# standard imports\n",
    "from pymatgen.symmetry.analyzer import SpacegroupAnalyzer\n",
    "from pymatgen.analysis.structure_matcher import StructureMatcher\n",
    "\n",
    "from basicimports import *\n",
    "\n",
    "# The system path for the formation energy calculations\n",
    "wd = home + 'formEox/2vac/'\n",
    "print(\n",
    "    \"\\nThe formation energy calculations for an oxygen vacancy are in the directory \\n\\t{}.\\n\\n\"\n",
    "    \"The directories contents are \\n\\t{}\".format(\n",
    "        wd, ' '.join([x for x in os.listdir(wd)])))"
   ]
  },
  {
   "cell_type": "markdown",
   "metadata": {},
   "source": [
    "Understanding the influence of vacancies near & far from each respective vacancy is important for understanding how these vacancies will interact at higher concentrations of O$_{vac}$'s when dopant concentration is increased. These calculations lend insight to which vacancy configuration may be more energetically favorable than other configurations, hopefully providing insights on how to reduce the number of combinations of O$_{vac}$'s with some formal criteria for vacancy ordering."
   ]
  },
  {
   "cell_type": "code",
   "execution_count": 2,
   "metadata": {
    "code_folding": [
     0
    ]
   },
   "outputs": [],
   "source": [
    "# Use the 2x2x2 1 vac ceo2 as a reference lattice\n",
    "ref_path = home +'formEox/1vac/vac_loc/ispin2/magmom/m2x1/39/'\n",
    "ref_struct = (Poscar.from_file(filename=ref_path+\"POSCAR\").structure)\n",
    "ref_lattice = ref_struct.lattice"
   ]
  },
  {
   "cell_type": "markdown",
   "metadata": {},
   "source": [
    "Ran for 14 Seconds"
   ]
  },
  {
   "cell_type": "code",
   "execution_count": 9,
   "metadata": {
    "code_folding": [
     0
    ]
   },
   "outputs": [
    {
     "name": "stdout",
     "output_type": "stream",
     "text": [
      "There is a total of 2016 structure(s) created using the ODST.\n",
      "The composition is Ce4+32 Be2-2 O2-62.\n"
     ]
    }
   ],
   "source": [
    "# change just the Concentration ( enter total # of X you want to remove)\n",
    "con_O = (64-2)/64\n",
    "con_ref = 2/64\n",
    "con_Ce = 1\n",
    "\n",
    "# create generic ceria lattice\n",
    "specie = [{\"Ce4+\": con_Ce}, {\"O2-\": con_O,\"Be2-\":con_ref}]\n",
    "structure = Structure.from_spacegroup(\"Fm-3m\", Lattice.cubic(5.494), specie,\n",
    "                                      [[0, 0, 0], [0.25, 0.25, 0.25]])\n",
    "\n",
    "# obtain a copy of the structure \n",
    "struct = structure.copy()\n",
    "struct.make_supercell([2,2,2])\n",
    "\n",
    "# load the transformer\n",
    "from pymatgen.transformations.standard_transformations import \\\n",
    "OrderDisorderedStructureTransformation\n",
    "odst = OrderDisorderedStructureTransformation()\n",
    "#odst_structs = odst.apply_transformation(struct, return_ranked_list=1000000)\n",
    "#print('There is a total of {} structure(s) created using the ODST.\\n')\n",
    "#      'The composition is {}.\\n'.format(\n",
    "#          len(odst_structs), odst_structs[0]['structure'].composition))\n",
    "\n",
    "print('There is a total of 2016 structure(s) created using the ODST.'\n",
    "      '\\nThe composition is Ce4+32 Be2-2 O2-62.')"
   ]
  },
  {
   "cell_type": "markdown",
   "metadata": {},
   "source": [
    "### Pickled Variables\n",
    "- solute O$_{vac}$ structs: matches\n",
    "    - ../pkl/def_2vac_pure.pkl\n",
    "- solute O$_{vac}$ structs: config_Struct_dict\n",
    "    - ../pkl/def_2vac_pure_ConfigStructDict.pkl\n",
    "    - all the configurations for the O$_{vac}$'s\n",
    "\n",
    "Ran for 475 seconds"
   ]
  },
  {
   "cell_type": "code",
   "execution_count": 4,
   "metadata": {
    "code_folding": [
     0
    ]
   },
   "outputs": [],
   "source": [
    "# remove duplicates\n",
    "from pymatgen.analysis.structure_matcher import StructureMatcher\n",
    "matcher = StructureMatcher()\n",
    "# Group structs by their similarity\n",
    "\n",
    "# load Pickled var to save time\n",
    "'''matches = matcher.group_structures([d[\"structure\"] for d in odst_structs])\n",
    "with open(\"../pkl/def_2vac_pure.pkl\", 'wb') as f:\n",
    "    pickle.dump(matches,f)'''\n",
    "with open(\"../pkl/def_2vac_pure.pkl\", 'rb') as f:\n",
    "    matches = pickle.load(f)"
   ]
  },
  {
   "cell_type": "code",
   "execution_count": 10,
   "metadata": {
    "code_folding": [
     0
    ]
   },
   "outputs": [
    {
     "name": "stdout",
     "output_type": "stream",
     "text": [
      "The total number of unique structures found is 10.\n",
      "The number frequency with which each structure occurres is \n",
      "\t 192 384 384 96 96 32 192 384 128 128.\n"
     ]
    }
   ],
   "source": [
    "# collect # of groups, number frequency for each struct & disp data\n",
    "\n",
    "# the grouping of all structures by structural uniquiness found\n",
    "groups = [matches[i][0] for i in range(len(matches))]\n",
    "# the total number of unique structures found\n",
    "unique_count = len(groups)\n",
    "# the frequency with which each unique structure occurres\n",
    "num_freq =  [len(matches[i]) for i in range(len(matches))]\n",
    "print(\"The total number of unique structures found is {}.\\n\"\n",
    "       \"The number frequency with which each structure occurres is \\n\\t {}.\".format(\n",
    "           unique_count, ' '.join([str(x) for x in num_freq])))"
   ]
  },
  {
   "cell_type": "code",
   "execution_count": 11,
   "metadata": {
    "code_folding": [
     0
    ]
   },
   "outputs": [],
   "source": [
    "# {config_structs_#: [all possible defect sub-structure locations]}\n",
    "'''config_Struct_dict = {}\n",
    "counter = 0\n",
    "for struct in groups:\n",
    "    config_Struct_dict['config_structs_' + str(counter)] = struct\n",
    "    counter += 1\n",
    "\n",
    "# Modify the lattice\n",
    "for key in config_Struct_dict:\n",
    "    config_Struct_dict[key].modify_lattice(ref_lattice)\n",
    "with open(\"../pkl/def_2vac_pure_ConfigStructDict.pkl\", 'wb') as f:\n",
    "    pickle.dump(config_Struct_dict,f)'''\n",
    "with open(\"../pkl/def_2vac_pure_ConfigStructDict.pkl\", 'rb') as f:\n",
    "    config_Struct_dict = pickle.load(f)    "
   ]
  },
  {
   "cell_type": "markdown",
   "metadata": {},
   "source": [
    "Using the distance matrix method to return the distance to the nearest site. If periodic this returns the nearest image distance. "
   ]
  },
  {
   "cell_type": "code",
   "execution_count": 12,
   "metadata": {
    "code_folding": [
     0
    ],
    "scrolled": true
   },
   "outputs": [
    {
     "name": "stdout",
     "output_type": "stream",
     "text": [
      "config_structs_0\n",
      "2.7560817977816328\n"
     ]
    },
    {
     "data": {
      "text/html": [
       "<a href='https://viewer.materialsproject.org?structure=eJy1W11vGzkS_CuBnxOBbLK_7mmx9wP24R6DPDg-YTeAnQSJfdi9IP_9qkczw5mYFm4RjgPEyWgklZrV3VVN6tvNLw-f_v10f775x6ubz3893D7-fv54uvv05Xz6-vjl6e7x6cv55vWrm1_u7m-_fo2b_rW9fPfH7Zff47kfn-7v8f_728fHD3dx4dsNXuvLhz_xz7dvcz4lqoU0e85UE-fXr97Qib3kmpQynd8kef1KTk61lqx2ufLu9au3cZtZNjaWy13zi5VSJaWSpTJeTE9FqpKYZFmeGi9XXLSmwpenTreRejHPuns10uRcMqvrOzz35ha496gFD-OB9-2BGUGtcf1u-4R4LUq1xAvdf_4jXszTKeFHhSslPFrjtc6P8ZD5yfFDlkg8iQLVze-3Dw-bp-EBsqoshMf-8-n-6SFinEvxk3FOUo3cLct3PPz1w-M5Vurtt5uvn893H5b_nO_PD-ePj7GG_5wW79Pd3VO8yil9nz7y-_gMb_GGr18tf8X1P__6b_f6_e378_38anjfn3833rxbOVXJbkVT1mXxykksY0G9ggyXa3ziTFkKVwRWzX00MP4xDG_yibwmJyzIDoNoSSmzUZmhUpFSS7KZjuNhbeNFpyz4_Em1aA026T5AqSIzzFSXS-wmjE9SxQaC4y511lVyBoNBZkQowoglS0XSnNex5ARg-BQyOGbc5dgMSxMrV1ZCbN7Uk6t6rCXqyi6EmpIbojuSYtyl2PyGVFKuKAhuKwZG0amVa5QBFEbCDYCeKE0_FXj1EHSdqLGC3Yxa6is6ZCqKHuqRNt6hGKI-FSTs6BQgvvy9gYYbraA6FBO7ZMFlBemEypksM4pz8lqMl2uAXygaR6nH4NMtvnoCz1A5kpkQb7GpWiVHa_RIDjuhkQFrtVTQK0sZjU2fxw50yhc6odcx2JRL0GkFYwTyEZPkFTM-QyIrAHkMPt03BOJsBe09rbGboUXuohpDCiyXiqOPe83oHqPzoUO7metV1DlpzbQyLhGhIKMq23oJLRuluGCph6dqh3EzNMs1V4iYXNvioYqUSrnQGkc0VixwTjRyPfkFvq0FwsC4Wi1U3IqDFTy0KC1LmmrkBlp_Gd4WOlxbOjoUV4Gqsk1KEsoeRCKXzSVB21do2YHIqHUs2rf5C4mY0MoJPJKpEVQzaCUoVNqXFdyYKmJmPrL8bsBpB5w4CM-CPyHM5YQsRI3g6eoub9F4ib3qAZF7zrcZHKHSS1R9bp29UkWLomhbC91wHyvuLCOTdAOtFzcWF8GKFm3QErODcEQbvkETU8nwMQOh6Qt8W1Yqx_siIydpq8YM1ZGLTY1izzh8CEWjxT0H4dPn-DhxlFRjnyxeFVQQWDAg2REOt-VqcEtDxYi-QLg5dGwFnjB7W9MQ3TA3lrylaZg7AynryPKmL_BtRhYWBjSX6OiLJyAJ4YtgtmIMcBUCiUcKJNr0q_Q8E3JGH4W6rC1CMOGi6KbhweEdMpx0UbT3i_Klwcp3i6-TqVg94AGhmhZyaFzIIw1pubS2WpQNcmCkwaJNz3oeORQurGcFx_K6gGHxFF2WL75UHamscAw-2GNtkfVaFvITwq1sKhksBBeATRtTqoxil8RHxkxfYNsiHxV-KrxobU6hwloxRaUNX4oCjCsZ5sZXa30Qvk6eGoH-kJK6cQtYUEQKjau0-QP0koVuH2lQ9QW6rQ4lVismb80nIHdDcDpNdEPxg8ZEe73kqQ5OVH2BdKuShPCFaW_aMuYdGu1s41HR-SvEk_09zv16FVi-LGf7tbOpRS2F6k3RtjwM_nwtwZwmgKII33INzgaY2XxPul9_CmDRlwHWU0ZeEnLVpIZHWLDAV5krwSiYrvjQQsijvlT7W_h--__jJ734VYf7jAFJ5hUfOj76WRhFinGy4RaENPQ6_MQe3m8_j06urG7MbtCgYni8IkEPizz26BszYIUvgyrJP7JvHLpu7AqKnDKWs8iKDusH-YmOyuslFGLNaBY8DpxcSYz5XTkqCpwotXWNPK7w82LrNRAz5rDTkOQgdNJDZ9UNOem0ZkDItgQ8MA0tmorOr5x_nBcOANdl3bKGWqnABbq2RWQDycKgptpqiuQc82qog4PgdWOnkY3o8t5ygrKDZmnaxVkSFnegv3kdx7p9tZNetYsBb-wN5dqqSQ7dEn3LVnAIHMBC240L3Ayuu64zuAwVx-hW1qIknB2rjWa24jWzFCN01OSDwHUjBy8YQs6tsT_GghAHRg0vVQoZkwZmq13pYX4SyDqDfYGWE3SyFqXq4GD0-zUdJKHcoGIT80HgpAMOUXH4QPfGOMgnVA1H-Wv9y1mx7g4bNhpbl3Fz4CaHn0v4raWOEBU0g5pb50dsDRXOf7Ct46D1wgYwERWYvxajzKi2ijq8LXsoeI6_hydqKybPc4HYw8VoWNdFRgEc3Ow0nVjKr1IOJmYfx7c9uH6JS9BBMDehPy6XUFe0lHKpekv5DX0nGQZ3ODi7ErkcTSuhiQLcstAWe94JOdz0ErQAdDNKnR4Erhs5wEA7Mg73ulQWdFt4fi3a5BJabXJUuXHY7ArlFiBwBxfOrZSL4xIZ0t0b5eCDkNCQc2lcb7ArlFuWUCq4VWqY15lyBhmHP9NAYtEFWjLUcgxBR4PrUm4GV81LijE_r6tq02GTVGjjv8LQ8nRs5CBw3chZYcZbczjVBW-cDoEi0Ua5GvN9iGMdbh-6lFvrFwQaVgzVpJW52KxEDrRmhs4GA4GcqOMCtwfX94Xo4tAZdbpnBpfmDXVvZY4YEgX5q8PBdSm3GBnkpEasdF1WR1UusUUurcxxCeUZh6HGJcQeXTd0oUc0oeRGnFYFxVniwNSigTPKMsd2ThkoM-UK6VYfj3RV0zj8sHbbFFVOtNU5qkwOESV1XBGWK6Rb7R7HlkyNNVzq3LTjQGj9TbPHdkls8wxcVrlCusUVQkNC0Vlpq-oEjy2oMI1zpopqA9rVfBC4buQAIiZKUCatCjN-YpuGW6GDjLJJyI_j3L6WFO0lBFM1dCVkQWuuHijgILSVF9At7qSjCp31wMURLnWKptVIB4vloOFGRcFxQxCQ0vDI2ZXIoSEknWyWtOYqoB0Ukzf9qcni5FAZ2Fv34LqRqwAi7kVSywh0eZQ9PNYupRhsZkc9OaiU7CO3ThhijhO_Gr9EWDl-r5fgEONkq-bhA5wu5VYvCo5zzHDWFRQHw7hOB4PmuCm0aAE5x2PrMm7pD0YQaQo514AUmGfRVFokGT01jk4Mnxl2-bbMDMF9BKhY03Ix-cUqJ2uOIk6VovXngdj2Y_RuopbJ6YXU3IxIYCfiiAFvey3co8agZ9xAc4-um6kSJ4Ris2szDK5hsaE-c-zOrSYIIgpaoBw1Ru8XuaA6ai1tBoRc0PIJvtpaUY6yh0Cn4aGTK6FDQFxjBrcZrcZpeS-Qvo11cbojxUb6uBmOXGHdUuSQlnE-L3zhYu1LSqgb5NyqnKSpww00EHKFcxdsoFXsLMSZzBVbkexxHKh662bQymE0sNyjwXUpt9ArBjZUc7WNB0SrRUbkplEoNvwZBuyo3Yd-mfMwLroZUkeyQhZnbZkK_pU4kuhHTfeL9gY4DtkdZ803oyS_7CDqxsRWrLTFccTho68u4eZ3DYkGgqlsahy6u6DNUmwOL93MLE7ilIH9YT_d70Yu9lSj45fNBg2Sctp_s41CQWPlnPiobZFu4DTjJhLbzuDgr-H9CjfG1dhlAjl5nIyzK4xbJ0mxQzOd8lq2k4TjPFjObf4KvRJGOs2vcAA262CDzIjzS7nZZlRddAEJNbfGzQFQBMJFj9p46MZNAQ08ypuN6RJNChZhM9AJ4Ymf2BY7CFw3cAnFNxmMTF6HIbERgTbmLXCmIuhj1Qa2rf10v1_i4vQvWO5t6yHH9-uKTLpz6QwV_TWOMY_rDHts_URVqxyxo-b8gEJimN98A-wYiAizc9Rsv1_gogm4xLHV5lRR3mLDK-fNOCcDMJrX8L7VdQ6LAEKPihMOWjd-XkgYZa9dQpGGd4jWMDoZuoRbaO6oIUhU2sxZU1YUjekrXsvuMCyYVRMeRzi7Qri1dlnKcSSz7TvASaD_e7LNBhNsD8cEaji2LuEWmkt8BTZOSjfma9Ua33JteUrxFQhQ8Cho_fqWIgnj-zPNqCIf49BLapYhhgA5xkrP6Pbu-_8AiM-Sjw==' target='_blank'>Click to view structure.</a>"
      ],
      "text/plain": [
       "<IPython.core.display.HTML object>"
      ]
     },
     "metadata": {},
     "output_type": "display_data"
    },
    {
     "name": "stdout",
     "output_type": "stream",
     "text": [
      "config_structs_1\n",
      "3.8976902815678827\n"
     ]
    },
    {
     "data": {
      "text/html": [
       "<a href='https://viewer.materialsproject.org?structure=eJy1W8FuHDkO_ZXA56QhUaRI7mkw-wFz2GOQg-NtzASwkyCxFzMb5N_3sbqqVBXLjR1E5QBxUl3d_Zp6JN-j1N9ufnn49O-n-_PNP17dfP7r4fbx9_PH092nL-fT18cvT3ePT1_ON69f3fxyd3_79Wvc9K_t5bs_br_8Hs_9-HR_j__f3z4-friLC99u8FpfPvyJf759m_MpERfS7DkTJ8mvX72hk3jJnJQynd-k-vpVPTkxl6x2ufLu9au3cZtZNjGpl7vmFyuFa0olVxa8mJ5KZaVqNdflqfFyxatyKnJ56nQbqRfzrLtXI00uJYu6vsNzb26Be4-64mE88L49MCNgjut32yfEa1HiEi90__mPeDFPp4QfrcKU8CjHa50f4yHzk-OHLFH1VBWobn6_fXjYPA0PkLFKJTz2n0_3Tw8R41yKn0xyqmzkbrl-x8NfPzyeY6Xefrv5-vl892H5z_n-_HD--Bhr-M9p8T7d3T3Fq5zS9-kjv4_P8BZv-PrV8ldc__Ov_3av39--P9_Pr4b3_fl3k827lRPX7FY0ZV0Wr5yqZSyoM8hwuSYnyZRrEUZg1dxHA5Mfw_Amn8g5OWFBdhiqlpSyGJUZKpVauCSb6Tge1jZedMoVnz-pFuVgk-4DlBiZYaa6XBK3KvgkXG0gOOlSZ10lFzAYZEaEIoxYslRqmvM6lpwADJ-iDo6ZdDk2w9IkKixKiM0bPrmqx1qiruxCqCm5IbojKSZdis1vSCVlRkFwWzEIig6zcJQBFEbCDYCeKE0_DLx6CLpO1ETBbkEt9RUdMhVFD_VIG-9QDFGfChJ2dAqQXP7eQMONVlAdilW7ZMFlBemEypksC4pzci4myzXALxSNo_Ax-HSLj0_gGSpHMqskW2yqxuRojR7JYSc0MmBlSwW9spTR2PR57ECnfKETep2ATbkEnVYwRiAfCdW8YsZnSGQFII_Bp_uGQJKtoL2nNXYztMhdVGNIgeVScfRx54zuMTofOrSbuc5VXZJyppVxiQgFGVXZ1kto2SjFBUs9PFU7jJuhWebMEDGZ2-KhihSmXGiNIxorFjgnGrme8gLf1gJhYByzhYpbcYiChxalZUlTjdxA6y_D20KHa0tHh-IqUFW2SUlC2YNIlLK5VNH2FVp2IDJqHYv2bf5CIiG0cgKP6tQI2AxaCQqV9mUFNyZGzMxHlt8NOO2Aqw7CS8WfEOb1hCxEjZDp6i5v0XhJnPWAyD3n2wyOUOlrVH1pnZ2J0aIo2tZCN9wnijvLyCTdQOvFTarXihUt2qAlEQfhiDZ8gyamkuFjBkLTF_i2rFSO90VGTtJWTQSqIxebGsWecfgQikaLew7Cp8_xSZIoqSY-WTyuqCCwYECyIxxuy2xwS0PFiL5AuDl0YgWeMHtb0xDdMDeWvKVpmDsDKXlkedMX-DYjCwsDmtfo6IsnoBrCF8FsxRjgGAJJRgok2vSr9DwTckYfhbrkFiGY8KropuHB4R0ynHRRtPeL8qXByneLr5OpWD3gAaGaFnJoXMgjDWm5tDYuKgY5MNJg0aZnPY8cChfWk8GxvC5gWDxFl5WLL1VHKiscgw_2WFtkvZaF_IRwK5tKBgshBWDTxpSqoNil6iNjpi-wbZGPCj8VXpSbU2BYK6GotOFLUYBxJcPc-GqtD8LXyVMj0B9SUjduAQuKSKFxlTZ_gF6y0O0jDaq-QLfVocRqxeSt-QTkbghOp4luKH7QmGivlzzVwYmqL5BuVZIQvjDtTVvGvEOjnW08Kjo_QzzZ3-Pcr1eB5ctytl87m1rUUqjeFG3Lw-DP1xLMaQIoivAt1-BsgFnM96T79acA2iVoRTsA_QQzQzEw0kjJSAw-ZaQqxRwWgolDms_wEGBoAQj0RH8L3m__f_hqL3zsMJ8xH8myYClo-Ghn4RMppsmGWxDRkOuwE_vl_e3n0dUrixujG_SnmB2vSNDCIo092sYMWGHLIEryj-Qbh64bu4IapwKXXOqKDvIO6hMNVdZLqMOa0StkHLh6JS_md5UoKDCi1NY10hhE02rSeDeNYacZyUHoag-dsYPv5jEtnNFJbAPAwhK1aCoav0r-cVw4AFyXdcsaKlOBCXRtiyhIYg5_mriVlJpzjKshDg6C142dRjaionjLCcoOmqVpE2dJWNyB9uY8jnWtyj0P3VzZIEwMhQ3NqrEOklypAsi61uAltEKIqcPQ1R66mD7HxlXmVutyiKpoqraGDsuKUEJ4jlvWGVyXdUtTgMQUtFJra1gFHYEJnXbFa2Yp5vuI4UHgupGDUQ2V6dZyM2aWUC5GDS8xhcZKA2uJXeHc0mABA7EC81qU2JEhIUZWytWEYoh-QiIHgasdcIiKQwC4N8ZB26GmOYpz664uinV3eMTR2LqMmwM3jR9yCTO4VDmiglbFuWUqYmuov_6Dpx4HrRc2gImowJm2GGVBL1B0iW1RRjl2_D08UbuCbs4FEr_oOV8FHcjGsNrT6GRpDgqZByZmH8e3Pbh-iUtQaXBeoY4ul1BXtJRyqXpLc4h6XDPc93BwdiVyOVpqQosHuGWhLTbkE3K4qTn0DIh6lDo9CFw3coCBHmUS1nqpLNACRYoWbWIOQiA5qtw4bHZlVZcoVcbyFQ7zOq-qQcfhzzSQWISBlgy5HEPQ0eC6qzqDY_OSYswva-BsOmySCm38VxhamY6NHASuGzkrInhrCae64I3TIWj62laVY74PdazD_UO3kKwlAgoNK4aEbZUkNitBs9Yv0DzgIEA7Hhe4Pbi-MUSjRCvn6Z4ZXJo31L1VEhKoAKSIDgfXpdyiKWGdNWKl67I6Cl-JLfLaKomUEHdxGGpcQuzRdUMXLV8TqlrEaRUpkmscmFpkZkblk9jOKQOVXL1CutXII13VNA4_rA0txTCiautexEIOnVJ5XJ2rV0i3-j2JLRmONVzq3LTjQOiuTRbHdkls8wxc1nqFdIsthEyDaLLSVtUJJruiwjTOmSqqDWjH-SBw3cgBRJgsNP9WhQU_sU0jrdBBqdiklcdxbl9LivYSQogNXQlZ0GZgHigg0rWVF9At7qSjCp31wMURLnWKptVIBxfjoOFGqMByQ9CR0vDI2ZXIoSEknZxMbc21gnYQJd4kniaLk0NlYG_dg-tGjgGkupeaWkagy6Ps4bF2KYXXz456clAp2UduNfExyIlfjV-1ikr8Xi_BhMXJVs3DJzhdyq12DxyXGOKsK1gdDBOeDgbNcVNYjAJyjsfWZdzSH4wg0hRyrgEp8KdVU2mRFPTUODoxfGjY5dsyNAT3EaBiTcvF6BernKyJ9jhVitafB2Lbz9G7iVomMxVSczOFgEuMIway7bUwaBqzlHETzT26bqbWOCEUm12baTCHi4X6zLE7t-5VQERBC5Sj5uj9IhdUR62lzQxOClo-wbpaK8pR9hDoNDx09UroEBDXGHNtZqtxWt4LpG9jXZzuSLGRPm5MUq-wbilySMs4nxe-cHHPJSXUDXJpVa6mqcMNNBD1Cucu2ECr2FqIM5krtlKzx3Eg9tbNoJXDaGC5R4PrUm6hV8xEiDPbxgOi1SIjctMoFBv-AgN21PZDv8x5GBfdzIEjWSGLs7ZMBf9KHEn0owboRXszEofsjrPmm2mNX7YQdWNiGSttcRxx-HSpS7j5XUOigWBaNzUO3b2izVJsDi_dzCxO4pSB_WE_QO9GLjZVo-OXzQ4NknLagLONQkFjlZzkqJ2HbuA04yaqth1zwV_D-xVpjOPYZgI5ZZyMsyuMWydJsQkynfJadmyqxHmwnNuIE3oljHSaX-EAbNbBBpkR55dys82ouugCNdTcGjcHwFohXPSo2X43bgpo4FHe7EyXaFKwCJuBTghP_MTO00HguoFLKL7JYGTyOgyJWT_amLfAmdaKPsY2sG3tB-j9Ehenf8Fyb9P9HN-vK3XSnUtnYPTXOMY8rjPssfUTVY0lYkfN-QFFjXl58w2wYyAizM5R4_N-gYsm4DWOrTanivIWe0o5b8Y5GYDRvIb3ra5zWAQQelQccVDe-PlKVVD22iUUaXiHaA2jk6FLuIXmjhqCRKXNnDVlRdGYvuK1bMDCghlblXGEsyuEW2uXpRxHMtu-A5wE-r8n2-zhwPZITKCGY-sSbqF5ja_Axknpxnxl5fiWa8tTiq9AgIJHQevXtxRJGN-faUYV-RinXlKzDDEEyDFWeka3d9__Bxv0ko8=' target='_blank'>Click to view structure.</a>"
      ],
      "text/plain": [
       "<IPython.core.display.HTML object>"
      ]
     },
     "metadata": {},
     "output_type": "display_data"
    },
    {
     "name": "stdout",
     "output_type": "stream",
     "text": [
      "config_structs_2\n",
      "6.162783616253574\n"
     ]
    },
    {
     "data": {
      "text/html": [
       "<a href='https://viewer.materialsproject.org?structure=eJy1W8uOG0cS_BVhzhJRlZXPPRneD_Bhj4IP8uzAFjCSDGm0sNfwv29ks7urqakh1nBxBGikZpMMZkVmRmQV_7j77sOnf399fLj7x6u7X3__8O7p54ePp_tPnx9OX54-f71_-vr54e71q7vv7h_fffmSN_3rePn-l3eff87nfvz6-Ij_P757enp_nxf-uMNrfX7_G_759m2tp0LcyGrUSlykvn71hk4SrXIxqvTwpujrV3oKYm7V_Hzlx9ev3uZt7tXFRc93rS_WGmsprSoLXsxOTdlIXatuT82Xa6HGpcn5qcttZNE8ql28GlkJaVUs7Ec89-4dcF-iVjyMB37qD6wImPP6_fEJ-VpUuOULPf76S75YlFPBj6kwFTzK-VoPT_mQxynwQ15Io6gB1d3P7z58ODwND5CziRIe-8-nx68fMsa1tTi51KLsFOFV_8TDX94_PeRKvf3j7suvD_fvt_88PD58ePj4lGv4z2XxPt3ff81XOZU_l4_8U36Gt3jD16-2v_L6b7__d3j98d1PD4_rq-F9__67yeHd2om1hjcr1bbFayf1igUNBhnO1-Qklao2YQTWPGI2MPk2DG_qiYJLEBbkAoNaK6WKU1uhUtPGrfhKx_mwjvGiU1V8_mLWjJNNdhmgwsgMd7PtkoSr4JOw-kRwMqTOvkohYDDIjAhlGLFkpWlZ8zqXnAAMn0Inx0yGHFthWRETFiPE5g2fwixyLVFXLkJopYQjujMpJkOKrW9IrVRGQQjfMQiKDrNwlgEURsINgF6oLD8MvHYTdIOoiYHdgloaOzpkKooe6pF13qEYoj41JOzsFCA5_32Ahhu9oTo0Vz9nwXkF6YTKWbwKinMJbi7bNcBvlI2j8W3w2REfn8AzVI7iriRHbGbOFGiNkcnhJzQyYGUvDb2ytdnY7HnsQKd6phN6nYBNtSWddjBOIB8Jad0x4zMU8gaQt8Fnlw2BpHpDey977FZombuoxpAC26UW6OPBFd1jdj4MaLdyndVCinGlnXGFCAUZVdn3S2jZKMUNSz09VQeMW6F55coQMZX74qGKNKbaaI8jGisWuBaauZ7yAt_2AuFgHLOnittxiIGHnqVlS1PL3EDrb9PbwoBrW0eH4mpQVX5ISULZg0iUdrikaPsGLTsRGfWORZdt_kwiIbRyAo90aQTsDq0EhUqXZQU3FkbMPGaW3wM4G4DTAOFF8SeFuZ6QhagRsly9yFs0XpJgu0HknvNtBUeo9JpVX3pnZ2K0KMq2tdEN94nhzjYzSQ_QRnETDVWsaLMOrYgECEd04Bs0MbUKHzMRmr3At22lar4vMnKRtuYiUB21-dIoLhmHD2FotLjnRvjsOT4pkiXVJRaLx4oKAgsGJBeEw22VHW5pqhixFwi3hk68wRPW6Guaohvmxkv0NE1z5yAlzyxv9gLfVmRpYUBzzY6-eQLSFL4IZi_GAMcQSDJTINGhX5XnmVAr-ijUJfcIwYSroZumB4d3qHDSzdDez8qXJivfI75BpmL1gAeE6loooHEhjyyl5dbauJk45MBMg0WHnvU8cihcWE8Gx-q-gGnxDF1Wzr7UAqlscAwx2WMdkY1aFvITwq0dKhkshDSALQdTaoJiVzRmxsxeYNsmHw1-Kr0od6fAsFZCWWnTl6IA40qFuYndWt8I3yBPnUB_SEk7uAUsKCKFxtX6_AF6yVO3zzSo9gLddoeSq5WTt-4TkLspOIMWuqH4QWOivZ7z1CYnqr1Aul1JQvjCtHdtmfMOy3Z28Kjo_Azx5H-Nc99fBVbPy9l_XdjUZl5S9ZZsW5EGf71WYE4LQFGGb7sGZwPM4nFJuu9nAGzn2OkIINyAgFG83MOnilylsk4mgnNc61GoIKmhM1GN21-C98P_H74xOry353ykyhaqhoaPdpY-kXZ4gA-5Djtxubw__H10emVxc3SD_pSz4x0JWlimcWTbWAEbbBlESf2WfPPQDWPXUONM4JKb7ugg76A-0VBlv4Q6bBW9QuaB0yt5sb6rZEGBEaW-rpnGDDuvvl8DO3MMu8xIboROR-icw5GSkdPCFZ3kNgAsLFGPpqHxm9Rvx4UTwA1Zt62hMTWYwLC-iOIgWfrTwr2kaK05roY4uBG8YewssxFNPnpOUA3QrCybOFvC4g60t-B5rFur3JB1a2GDMHHlHIh01kGSGymA7GsNXkIrpJi6GTodocvpc25cVe61rqaoyqbqe-iwrAglhOe8Ze0N4sXQVUhMQSv1voYqNcBFdNodr7uXnO8jhjcCN4wcjGqqzPCemzmzhHJx6niJKTVWmVhL_Arn4qTQnA5vBaGJduo9ShzIkBQjO-UUHTYn_ejGNwKnA3CISsCkRnTGQduhpgWKc--uIYZ1D3jE2diGjFsDt4wfakszuFU5ooZWxbVnKmLrqL_xjaeeB20UNoDJqMCZ9hhVQS8wdIljUUY5Dvw9PVF7MXmeCySRFsvSV29lD-BgtZfRydYcjGoyscY8vl2CG5e4ApUG55Xq6HwJdcVaa-eqtzWHrMda4b6ng_MrkavZUgtaPMBtC-25IV-Qw13NoWdA1KPU2Y3ADSMHGOhRLmmtt8oCLZCavFkXcxACJVDl5mHzK5TbgMC6nDm3Uy7PclS02uiUg0lDQkNslnm9wa9QbltCZXCrcTrrlXIOkYk_y7RkUy3WKrR8TmhngxtSbgXHHq3kHoTsq-rLSZjS6GAO023LcqblRuCGkYPhE7y1pI3e8ObRFSgS65Tj3HyAdLfp5mZIub1-QT5ixVBNepnLnVTkQG9m6GywN8gJnhe4FdxwVTdNCdpbwrE9coHC13KLXHslkZbiLg9DzePcJbqhL8yWbwVVLbv-LlKkah6Y2mRmReWT3M5pE5WcXlnX3cgjI8wtDz_sDa1kIVHrpYRYKKBTlOfVOb0yK9n9nuSWDOcabqVk2XEgdNcui3O7JLd5Ji6rXiHdZgsh0yCavPVVDYLJViRx55ybIaFBO643AjeMHECkyULz74VO8JPbNNJrCZSKL1p5Hucua0mzUUIIsaPwIwt6_4pEAZFufSoGuuWdNL2W9Pb_HFwe4bKg7AuddHAxARoehAosN3ouGU2PnF-JHGpuscXJaO9fCtpBlESXeFY8Tw61ie3rEtwwcgwgGtG09IxAI0XZw2P9UkmvXwP15Eal5DJyu4nPQU7-6vxSFZP8vV-CCcuTrVanT3CGlNvtHjguOcTZV1ADDBNeDgatcTPIvQZyzsc2ZNzWH5yggwyKqQNp8KdqpfVICnpqHp2YPjQc8m0bGoL7CFDzLpdy9ItVLt5Fe54qReuvE7FdztGHidoWM5Vq7jCFgGLPIwZy7LUwaJazlHkTzUt0w0zVPCGUm12HaTCni4XAq7k7t_sMiChogXarOfq4yCXVUWvpMIOThpZPsK7ei3KWPQS6TA-dXgkdAhKWY67DbDVPy0cjPLRHLk93lNxInzcm0Sus24oc0jLP56X12txzKwV1g0J6ldOydLiJGl2vcO6MDbTKrYU8k7lja1ojjwNx9G4GrZz7Y1ju2eCGlNvolTMR4sp-sFlotciI2jUK5Ya_wOPcavthXOYijYsd5sCZrJDF1Xqmgn8tjyTGrQbozUYzkoDszrPmh2lNnLcQ7eATGSvteRxx-nRpSLj1XVOigWCmhxqH7q5os5Sbw1s3c8-TOG1if7gcoA8jl5uq2fHbYYcGSblswPlBoaCxSi1yq52HYeCs4iZSP4654K_h_Zp0xnFuM4GcMk_G-RXG7cOa3ARZTnltOzYqeR6s1j7ihF5JI13WV7gBNh9gg8zI80u122ZUXXQBTTW3xy0AUBXCxW412x_GzQANPKqHnemWTQoW4XAOIYUnfnLn6UbghoErKL7FYWTqPgzJWT_aWPTAuamij7FPbFuXA_RxicvTv2B59Ol-ze_XNV1059YZGP01jzHP6wyX2MaJas6SsaPu_IBCc17efQPsGIgIs3Or8fm4wGUTCM1jq92porzlnlKth3FOBWA0r-l9a-gcNgGEHpVHHIwPfl5JBWWvX0KRhnfI1jA7GYaE22geqCFIVOppCSFpKBrLV7y2DVhYMGdXmUc4v0K4vXZ5qXkks4_24STQ_6P4YQ8HtkdyAjUd25BwG801vwKbJ6U7842N81uuPU8pvwIBCt4K2ri-lUzC_P5MN6rIxzz1UrplyCFAzbHSM7r9-Of_AEfqko8=' target='_blank'>Click to view structure.</a>"
      ],
      "text/plain": [
       "<IPython.core.display.HTML object>"
      ]
     },
     "metadata": {},
     "output_type": "display_data"
    },
    {
     "name": "stdout",
     "output_type": "stream",
     "text": [
      "config_structs_3\n",
      "5.512163547660215\n"
     ]
    },
    {
     "data": {
      "text/html": [
       "<a href='https://viewer.materialsproject.org?structure=eJy1W12PG8cR_CvCPUvETE9_5slwfoAf8ij44Xw5OAJOliGdAjuG_3uql7s7S90cESPDE6CTlkuy2FPd1dUz_OPuu4-f_vn16fHub2_ufv394_3zz4-_nB4-fX48fXn-_PXh-evnx7u3b-6-e3i6__Ilb_rH8fLDv-4__5zP_eXr0xP-_3T__PzhIS_8cYfX-vzhN_zz_ftaT4W4kdWolbhIffvmHZ0kWuViVOnxXdG3b_QUxNyq-fnKj2_fvM_b3KuLi57vWl-sNdZSWlUWvJidmrKRulbdnpov10KNS5PzU5fbyKJ5VLt4NbIS0qpY2I947t09cF-iVjyMB37qD6wImPP6w_EJ-VpUuOULPf36r3yxKKeCH1NhKniU87Uen_Mhj1Pgh7yQRlEDqruf7z9-PDwND5CziRIe-_enp68fM8a1tTi51KLsFOFV_8TDXz48P-ZKvf_j7suvjw8ftv88Pj1-fPzlOdfw78vifXp4-Jqvcip_Lh_5p_wM7_GGb99sf-X1337_z_D60_1Pj0_rq-F9__93k8O7tRNrDW9Wqm2L107qFQsaDDKcr8lJKlVtwgisecRsYPJtGN7VEwWXICzIBQa1VkoVp7ZCpaaNW_GVjvNhHeNFp6r4_MWsGSeb7DJAhZEZ7mbbJQlXwSdh9YngZEidfZVCwGCQGRHKMGLJStOy5nUuOQEYPoVOjpkMObbCsiImLEaIzTs-hVnkWqKuXITQSglHdGdSTIYUW9-QWqmMghC-YxAUHWbhLAMojIQbAL1QWX4YeO0m6AZREwO7BbU0dnTIVBQ91CPrvEMxRH1qSNjZKUBy_vsADTd6Q3Vorn7OgvMK0gmVs3gVFOcS3Fy2a4DfKIWj8W3w2REfn8AzVI7iriRHbGbOFJDGyOTwE4QMWNlLg1a2NhubvYwd6FTPdILWCdhUW9JpB-ME8pGQ1h0zPkMhbwB5G3x2KQgk1RvkveyxW6Fl7qIaoxXYLrWAjgdXqMfsfBjQbuU6q4UU40o74woRCjKqsu-XINkoxQ1LPT1VB4xboXnlymhiKvfFQxVpTLXRHkcIKxa4Fpq5nvIK3_YC4WAcs2cXt-MQAw89S8uWppa5Aelv02VhwLVN0dFxNXRVfkhJQtlDkyjtcEkh-4ZediIy6opFlzJ_JpEQpJzAI12EgN3RK6FDpcuyghsLI2YeM8vvAZwNwGmA8KL4k425npCFqBGyXL3IWwgvSbDdIHIv-baCI1R6zaovXdmZGBJFKVsb3XCfGO5sM5P0AG0UN9FQxYo269CKSIBwRAe-oSemVuFjJkKzV_i2rVTN90VGLq2tuQi6jtp8EYpLxuFDGIQW99wIn73EJ0WypLrEYvFYUUFgwYDkgnC4rbLDLU1tRuwVwq2hE2_whDX6mmbTDXPjJXqaprlzkJJnljd7hW8rsrQwoLmmom-egDQbXwSzF2OAYzRIMrNBooNelZeZUCt0FN0l9wjBhKtBTdODwztUOOlmkPdz50uTO98jvkGmYvWAB4TqvVCgx0V7ZNlabtLGzcTRDsw0WHTQrJeRQ-HCejI4VvcFTItnUFk5-1ILpLLBMcRkj3VENpIs5Ccat3aoZLAQ0gC2HEypCYpd0ZgZM3uFbVv7aPBT6UW5OwWGtRLKSpu-FAUYVyrMTezW-kb4BnnqBPqjlbSDW8CCIlIQrtbnD-iXPPv2mQbVXqHb7lBytXLy1n0CcjcbzqCFbih-6DEhr-c8tcmJaq-Qbu8k0fjCtPfeMucdlnJ28KhQfkbz5H-Nc99fBVbPy9l_XdjUZl6y6y0pW5EGf71WYE4LQFGGb7sGZwPM4nFJuu8nAtQRQA7Yu5xAVNnANEgqBCOdGOW81nELMGdDjIbd_xK-H_4HeHolfjkdgQTkeHaHApXITImszCtig_OB7tdv1_eHaeiGwWsoIyYwok13dOig0OBBs2S_hFJnFeVY5oHTK9Rb31UyZ-H1qC9sZgrDMavv15iXSecyhrgROh2hcw4H6yMHcis6yUk7XCJRj6ZBW03qtxO5CeCGrNvW0JgafFZYX0RxkCwtYOGetVprToShvzeCN4ydZTpCR6PnBNUAzcqyT7JlLO6AggTPY12z11nHpwqdJ2i_K-fMobMOXa-RAsi-1uAl5Dj7lZuh0xG6HPDm3lDlXuxq9i2pW76HDsuKUKK3m7esK7gh61ZwFV2cQK28r6FKDXARYrbjdfeSI3TE8EbghpGDF8xGLrznZo4F0Rw4dbzElG1MmVhL_Arn4qRo6xz2Bb2cgnk9ShzIkNT7nXJaUAyhJyRyI3A6AIeoBHxgRGcc2ifUtEBx7vIaYlj3gA2bjW3IuDVwi8OvLf3WVuWIGqSKa89UxNZRf-Mb2zoP2ihsAJNRgfnrMaoCLTCoxLEooxwH_p6eqL2YvMwFkkgXY2ldt7IHcHCzy3RiEwejmkysMY9vl-DGJa6gTYO5ye7ofAl1xVpr56q3iUPWY60wuNPB-ZXI1ZTUAokHuG2hPfe8C3K4d3PQDPTNKHV2I3DDyAEGNMol3etWWdALwPNbs97MoREogSo3D5tfodwGBO7gzLmdcnlcokJqo1MOPggJjWazzNMGv0K5bQmVwa3GaV5XyjmaTPxZBhJb12KtopfPIehscEPKreDYo5Uc88u-qr4cNimNDv4rDa0sx0ZuBG4YOW8ieGtJp7rhzdMh6EisU45zvo_W3aabmyHl9vqF9hErhmrSy1xuViIHuphB2WBvkBM8L3CX4Ma2FSqOPoOXe1ZwZd1Qj17mSNCiIH9tOrgh5baGFzlpGSvblzVQlVtukWsvc9Ky88zDUPMS4hLdMHTZj1hByc047R2UVM0DU1sPXFGWJbdz2sQ2U6-Qbh8zIF3NLQ8_7Gpbssqp9TpHLBRoopTnFWG9QrrdjEpuyXCu4Vbnlh0HgvT3nj23S3KbZ-Ky6hXSbZ4VPSQ6Om99VYMafqPCdM65GaoNaMf1RuCGkQOIdIDoTHoVFvzkNo30Qoc2ypdGfh7nLmtJs1FCCLFDlZAFXVwjUcBBWC8voFveSbcqdD4Cl0e4LChFq5MOFitAw0MXxS0bAjKaHjm_EjkIQrHFZmkXVwXt0DFF7z-teJ4cahO19RLcMHIMIBrRtPSMgMqj7OGxfqnkIKIG6smNSsll5PYJQ06Z8lfnl6qY5O_9Ehxinmy1On28NKTc7kXBcckJ076CGmCY8HIwaI2boRdtIOd8bEPGbfrghCbN0M51IA3mWa20HkmBpubRiekTzSHftokmuI8ANe-9XM6lscrFu6PIU6WQ_joR2-WUf5iobXF62WoeRiSwE3nEQI5aC_doOeiZN269RDfMVM0TQrnZdRhVc1psdJ81d-d2E4QmCr1Au9WQf1zkkuqotXQYEEqD5BN8tfeinGUPgS7TQ6dXQoeAhOUM7jD4zdPy0dD6dtbl6Y6SG-nzZjh6hXVbkUNa5vm89IWbtW-loG5QSK9yWhaFm2gg9ArnzthAq9z3yDOZO7amNfI4EEdXM_TKaTSw3LPBDSm30SsHNsSV_eABIbXIiNp7FMoNf4EBu9XeyLjMRRoXOwypM1nRFlfrmQr-tTySGLea7jcbDXACbXeeNT-MkuK8wWkHE8tYac_jiNNHX0PCre-aLRoIZnqocVB3hcxSbg5vauaeJ3HaRH24nO4PI5dbvqn47bB9hKRcdgf90KFAWKUWudW2yDBwVnETqR9ncPDX8H5NOuM498BATpnXxvkVxu2TpNyhWU55bdtJKnkerNY-f0W_kka6rK9wA2w-wIY2I88v1W6bUXWhAprd3B63AEBVNC52q42HYdwM0MCjetg2bylSsAiHgU42nvjJbbEbgRsGrqD4FoeRqfswJDciIGPRA-emCh1jnyhbl9P9cYnL079gefSth5rfr2u69J2bMjD0NY8xz1OGS2zjRDVnydhRd35AoTnM774BdgxEhNm51Wx_XOBSBELz2Gp3qihvueFV62GcUwEY4jVdt4bOYWuAoFF5_sL44OeVVFD2-iUUaXiHlIbZyTAk3EbzQA1BotJhzlqqoWgsX_HadodhwZxdZR7h_Arh9trlpeaRzL7vACcB_Y_ihw0m2B7JCdR0bEPCbTTX_ApsnpTuzDc2zm-59jyl_AoEKHgraOP6VjIJ8_sz3agiH_NITumWIYcANcdKL-j245__BWcoko8=' target='_blank'>Click to view structure.</a>"
      ],
      "text/plain": [
       "<IPython.core.display.HTML object>"
      ]
     },
     "metadata": {},
     "output_type": "display_data"
    },
    {
     "name": "stdout",
     "output_type": "stream",
     "text": [
      "config_structs_4\n",
      "7.795373490418991\n"
     ]
    },
    {
     "data": {
      "text/html": [
       "<a href='https://viewer.materialsproject.org?structure=eJy1W12PG8cR_CvCPUvETE9_5slwfoAf8ij4Qb4cbAEnyZBOgR3D_z3Vy92dpW6OSeDhCdBJyyVZ7KnuruoZ_nH33YdP__z6-HD3t1d3v_7-4d3Tzw8fT_efPj-cvjx9_nr_9PXzw93rV3ff3T---_Ilb_rH8fL9L-8-_5zP_fj18RH_f3z39PT-Pi_8cYfX-vz-N_zz7dtaT4W4kdWolbhIff3qDZ0kWuViVOnhTdHXr_QUxNyq-fnKj69fvc3b3KuLi57vWl-sNdZSWlUWvJidmrKRulbdnpov10KNS5PzU5fbyKJ5VLt4NbIS0qpY2I947t074L5ErXgYD_zUH1gRMOf1--MT8rWocMsXevz1l3yxKKeCH1NhKniU87UenvIhj1Pgh7yQRlEDqruf3334cHgaHiBnEyU89q9Pj18_ZIxra3FyqUXZKcKr_omHv7x_esiVevvH3ZdfH-7fb_95eHz48PDxKdfw78vifbq__5qvcip_Lh_5p_wMb_GGr19tf-X1337_9_D647ufHh7XV8P7_vV3k8O7tRNrDW9Wqm2L107qFQsaDDKcr8lJKlVtwgisecRsYPJtGN7UEwWXICzIBQa1VkoVp7ZCpaaNW_GVjvNhHeNFp6r4_MWsGSeb7DJAhZEZ7mbbJQlXwSdh9YngZEidfZVCwGCQGRHKMGLJStOy5nUuOQEYPoVOjpkMObbCsiImLEaIzRs-hVnkWqKuXITQSglHdGdSTIYUW9-QWqmMghC-YxAUHWbhLAMojIQbAL1QWX4YeO0m6AZREwO7BbU0dnTIVBQ91CPrvEMxRH1qSNjZKUBy_vsADTd6Q3Vorn7OgvMK0gmVs3gVFOcS3Fy2a4DfKBtH49vgsyM-PoFnqBzFXUmO2MycKdAaI5PDT2hkwMpeGnpla7Ox2fPYgU71TCf0OgGbaks67WCcQD4S0rpjxmco5A0gb4PPLhsCSfWG9l722K3QMndRjSEFtkst0MeDK7rH7HwY0G7lOquFFONKO-MKEQoyqrLvl9CyUYoblnp6qg4Yt0LzypUhYir3xUMVaUy10R5HNFYscC00cz3lBb7tBcLBOGZPFbfjEAMPPUvLlqaWuYHW36a3hQHXto4OxdWgqvyQkoSyB5Eo7XBJ0fYNWnYiMuodiy7b_JlEQmjlBB7p0gjYHVoJCpUuywpuLIyYecwsvwdwNgCnAcKL4k8Kcz0hC1EjZLl6kbdovCTBdoPIPefbCo5Q6TWrvvTOzsRoUZRta6Mb7hPDnW1mkh6gjeImGqpY0WYdWhEJEI7owDdoYmoVPmYiNHuBb9tK1XxfZOQibc1FoDpq86VRXDIOH8LQaHHPjfDZc3xSJEuqSywWjxUVBBYMSC4Ih9sqO9zSVDFiLxBuDZ14gyes0dc0RTfMjZfoaZrmzkFKnlne7AW-rcjSwoDmmh198wSkKXwRzF6MAY4hkGSmQKJDvyrPM6FW9FGoS-4RgglXQzdNDw7vUOGkm6G9n5UvTVa-R3yDTMXqAQ8I1bVQQONCHllKy621cTNxyIGZBosOPet55FC4sJ4MjtV9AdPiGbqsnH2pBVLZ4Bhissc6Ihu1LOQnhFs7VDJYCGkAWw6m1ATFrmjMjJm9wLZNPhr8VHpR7k6BYa2EstKmL0UBxpUKcxO7tb4RvkGeOoH-kJJ2cAtYUEQKjav1-QP0kqdun2lQ7QW67Q4lVysnb90nIHdTcAYtdEPxg8ZEez3nqU1OVHuBdLuShPCFae_aMucdlu3s4FHR-Rniyf8_zn1_FVg9L-f6S7-xqc28MAfcUxr8invO1xo6FupxGh3KcajjloJ0hd6EHr7E9_0MfLrDfI4vpw8osTn-3LGgCicTIyvfCtngLNBX67fx-2_4fvjfwzeEB9NQsutHzkc2yPD2BWtKyb7tGowhllw8LnP2h78OT6-sbkMZMYERbbpHDwoKAg89S_ZLKHVWUY7Fp4HTK7Fb31UyZ-H1qDMvM4XhmNX3a8zLpHMZQ9wInY7QOYdj2SIHcis6yUk7XCJRj6aht5rUbydyE8ANs2JbQ2Nq8FlhfRHFkQRpAQt32mmtORFG_70RvGHsLOsF-mj0nKUaoFlZ9km2koI70EGC57Gu2cus41NFnyf0flfOmUNnHVSvkQLIvtbgJdpx6pWbodMRuhzw5t5Q5V6Na-qW7Fu-hw7LilBC281b1hXckHUruAoVJ-hW3tdQpQa4iGa243X3kiN0xPBG4IaRgxdMIRfeczPHghAHTh0vMaWMKRNriV_hXJwUss5hX6DlFMzrUeJAhmS_3ymnBcUQ_Y5EbgROB-AQlYAPjOiMg3xCTQsU597_QwzrHrBhs7ENGbcGbnH4taXf2qocUUOr4tozFbF11N_gea3Vr_BthYZyhqjA_PUYVUEvMHSJY1FGOQ78PT1RezF5ngskkS7G0rpuZQ_g4GaX6cTWHIxqMrHGPL5dghuXuAIdCXOT6u18CXXFWmvnqrc1h6zHWmFwp4PzK5Gr2VILWjzAbQvtueddkMNdbaJnQPih1NmNwA0jBxjoUS7pXrfKAi0Az2_NupiDECiBKjcPm1-h3AYE8vbMuZ1yeVyiotVGpxx8EBIaYrPM6w1-hXLbEiqDW43TvK6Uc4hM_FkGEptqsVbhNXIIOhvckHIrOPZoJcf8sq-qL4dNSqODgUhDK8uxkRuBG0bOmwjeWtKpbnjzdAgUiXXKcc73Id1tnlZaO9aQcnv9gnzEiqGa9DKXm5XIgd7M0Nlgb5ATPC9wl-DGvhpdHDqDl3tWcGXdUI9e5kggUZC_Nh3ckHKb4EVOWsbK9mUNVOWWW-Tay5y0VJ55GGpeQlyiG4Yu9YgVlNyM066gpGoemNo0cEVZltzOaRNlpl4h3T4HQbqaWx5-2LttySqn1uscsVBARCnPK8J6hXS7GZXckuFcw63OLTsOhNbfNXtul-Q2z8Rl1Suk2zwrNCQUnbe-qkENv1FhOufcDNUGtON6I3DDyAFEOkAok16FBT-5TSO90EFG-SLk53HuspY0GyWEEDu6ErKgN9dIFHAQ1ssL6JZ30q0KnY_A5REuC8qm1UkHixWg4UFFcUtBQEbTI-dXIoeGUGyxWdqbq4J2UEzR9acVz5NDbWJvvQQ3jBwDiEY0LT0j0OVR9vBYv1RyEFED9eRGpeQycvuEIadM-avzS1VM8vd-CQ4xT7ZanT5eGlJu96LguOSEaV9BDTBMeDkYtMbNoEUbyDkf25BxW39wgkgzyLkOpME8q5XWIynoqXl0YvpEc8i3baIJ7iNAzbuWy7k5Vrl4dxR5qhStv07EdjlHHyZqW5xeSs3DiAR2Io8YyLHXwj1aDnrmjVsv0Q0zVfOEUG52HUbVnBYb6rPm7txugiCioAXadB2sV2KXGwvQIwhOHxBKQ8sn-GrvRTnLHgJdpodOr4QOAQnLGdxh8Jun5aNB-nbW5emOkhvp82Y4eoV1W5FDWub5vPSFm7VvpaBuUEivclqWDjfRQOgVzp2xgVa575FnMndsTWvkcSCO3s2gldNoYLlngxtSbqNXDmyIK_vBA6LVIiNq1yiUG_4CA3arvZFxmYs0LnYYUmeyQhZX65kK_rU8khi3mu43Gw1wArI7z5ofRklx3oG1g4llrLTnccTpo68h4dZ3TYkGgpkeahy6u6LNUu5ubt3MPU_itIn94XK6P4xc7klnx2-H7SMk5bI76AeFgsYqtcittkWGgbOKm0j9OIODv4b3a9IZx7kHBnLKPBnnVxi3T5Jyh2Y55bVtJ6nkebBa-_wVeiWNdFlf4QbYfIANMiPPL9Vum1F10QU01dwetwBAVQgXu9XGwzBuBmjgUT1sm7dsUrAIh4FOCk_85LbYjcANA1dQfIvDyNR9GJIbEWhj0QPnpoo-xj6xbV1O98clLk__guXRtx5qfr-u6aI7t87A6K95jHleZ7jENk5Uc5aMHXXnBxSaw_zuG2DHQESYnVvN9scFLptAaB5b7U4V5S03vGo9jHMqAKN5Te9bQ-ewCSD0qDx_YXzw80oqKHv9Eoo0vEO2htnJMCTcRvNADUGi0mHOWqqhaCxf8dp2h2HBnF1lHuH8CuH22uWl5pHMvu8AJ4H-H8UPG0ywPZITqOnYhoTbaK75Fdg8Kd2Zb2yc33LteUr5FQhQ8FbQxvWtZBLm92e6UUU-5pGc0i1DDgFqjpWe0e3HP_8DgZGSjw==' target='_blank'>Click to view structure.</a>"
      ],
      "text/plain": [
       "<IPython.core.display.HTML object>"
      ]
     },
     "metadata": {},
     "output_type": "display_data"
    },
    {
     "name": "stdout",
     "output_type": "stream",
     "text": [
      "config_structs_5\n",
      "9.54734243572956\n"
     ]
    },
    {
     "data": {
      "text/html": [
       "<a href='https://viewer.materialsproject.org?structure=eJy1W11vG0cS_CuGnm1ipqc_7ynI_YA83KORB0UnJAbkOLDlQ3JB_vtVL3d3lvaIuMBDGZCs5ZIs9lR3V_WM_rz77v2Hf39-erz7x6u73_54f__88-Ovp4cPHx9Pn54_fn54_vzx8e71q7vvHp7uP33Km_51vPzwy_3Hn_O5v35-esLvT_fPz-8e8sKfd3itj-9-x3_fvq31VIgbWY1aiYvU16_e0EmiVS5GlR7fFH39Sk9BzK2an6_8-PrV27zNvbq46Pmu9cVaYy2lVWXBi9mpKRupa9XtqflyLdS4NDk_dbmNLJpHtYtXIyshrYqF_Yjn3t0D9yVqxcN44Kf-wIqAOa8_HJ-Qr0WFW77Q02-_5ItFORV8mQpTwaOcr_X4nA95nAJf5IU0ihpQ3f18__794Wl4gJxNlPDYfz48fX6fMa6txcmlFmWnCK_6Fx7-9O75MVfq7Z93n357fHi3_fL49Pj-8dfnXMN_Lov34eHhc77Kqfy1fOSf8jO8xRu-frV9y-u___Hf4fWn-58en9ZXw_t--7vJ4d3aibWGNyvVtsVrJ_WKBQ0GGc7X5CSVqjZhBNY8YjYw-TIMb-qJgksQFuQCg1orpYpTW6FS08at-ErH-bCO8aJTVXz-YtaMk012GaDCyAx3s-2ShKvgk7D6RHAypM6-SiFgMMiMCGUYsWSlaVnzOpecAAyfQifHTIYcW2FZERMWI8TmDZ_CLHItUVcuQmilhCO6MykmQ4qtb0itVEZBCN8xCIoOs3CWARRGwg2AXqgsXwy8dhN0g6iJgd2CWho7OmQqih7qkXXeoRiiPjUk7OwUIDl_P0DDjd5QHZqrn7PgvIJ0QuUsXgXFuQQ3l-0a4DfKxtH4NvjsiI9P4BkqR3FXkiM2M2cKtMbI5PATGhmwspeGXtnabGz2dexAp3qmE3qdgE21JZ12ME4gHwlp3THjMxTyBpC3wWeXDYGkekN7L3vsVmiZu6jGkALbpRbo48EV3WN2Pgxot3Kd1UKKcaWdcYUIBRlV2fdLaNkoxQ1LPT1VB4xboXnlyhAxlfvioYo0ptpojyMaKxa4Fpq5nvIC3_YC4WAcs6eK23GIgYeepWVLU8vcQOtv09vCgGtbR4fialBVfkhJQtmDSJR2uKRo-wYtOxEZ9Y5Fl23-TCIhtHICj3RpBOwOrQSFSpdlBTcWRsw8ZpbfAzgbgNMA4UXxL4W5npCFqBGyXL3IWzRekmC7QeS-5tsKjlDpNau-9M7OxGhRlG1roxvuE8OdbWaSHqCN4iYaqljRZh1aEQkQjujAN2hiahU-ZiI0e4Fv20rVfF9k5CJtzUWgOmrzpVFcMg4fwtBocc-N8NnX-KRIllSXWCweKyoILBiQXBAOt1V2uKWpYsReINwaOvEGT1ijr2mKbpgbL9HTNM2dg5Q8s7zZC3xbkaWFAc01O_rmCUhT-CKYvRgDHEMgyUyBRId-Vb7OhFrRR6EuuUcIJlwN3TQ9OLxDhZNuhvZ-Vr40Wfke8Q0yFasHPCBU10IBjQt5ZCktt9bGzcQhB2YaLDr0rK8jh8KF9WRwrO4LmBbP0GXl7EstkMoGxxCTPdYR2ahlIT8h3NqhksFCSAPYcjClJih2RWNmzOwFtm3y0eCn0otydwoMayWUlTZ9KQowrlSYm9it9Y3wDfLUCfSHlLSDW8CCIlJoXK3PH6CXPHX7TINqL9Btdyi5Wjl56z4BuZuCM2ihG4ofNCba6zlPbXKi2guk25UkhC9Me9eWOe-wbGcHj4rOzxBP_vc49_1VYPW8nOsP_cKmNvPCHHBPafAr7jlfa-hYqMdpdCjHoY5bCtIVehN6-BLf99-ET3dgK8wDvvV9mzHBv1NkeNdr4lY5xW7hDTMXrTVnX6g0fwvgD_9__OoofnANJdt-5IBkwwJzX7ColPTbrsEZYs3F4zJpf_h2eMPwbW9bUXdRQKzGHj40sUzkyMaxrjjiiV-5fkm_eeiG5GuocibwyU13dBB40J9oqX29UYmtWq77NHB6ZWU3lmVJgRWlnhiZyAxDr75fY14GscuU5EbodITOORykipwXrugkNwJgYol6NA2t36R-OTCcAG64rtu7Zr1AH41OOqqBdSzLPslWUnAHOkjwvGVt9vKy8qmizxN6vyvnzKEvK1SvkQLIHkwsPNpx6pWbodMRuhzw5t5Q5V6Na-qW7Fu-hw7FDqGEtuPZ4IbFZAVXoeIE3cr7GqrUQIVGM9vxunvJETpieCNww8jBC6aQC-_kz7EgxIFTx0tMKWPKxGT1K5yLk0LWOewLtJyCeT1KHMiQ7Pc75bSg2qBgk8iNwOkAHKIS8IERnXGQTygagerX-3-IYd0DNmw2tiHj1sAtDr-29FtbVSZq6AVce6Yito4CFzyvs_oVvq3QUM4QFZi_HqMqKLaGMnyUKhApge_TE7UXk69zgSTSxVha163sARzc7DKd2LSBUU0m1pjHt0tw4xJXoCNhblJ-nC-hrlhr7Vz1tuaQ9VgrDO50cH4lcjWFZkEPBbhtoT33vAtyuMsl9AzoPpQ6uxG4YeQAAz3KJd3rVlkgmOD5rVlXS5DHJVDl5mHzK5TbgEDdnjm3Uy6PS1S02uiUgw9CQkPNlXm9wa9QbltCZXCrcZrXlXIOFYd_y0BiUy3WKsRyDkFngxtSbgXHHq3kmF_2VfXlsElpdPAPaWhlOTZyI3DDyHkTwVtLOtUNb54OgSKxTjnO-T60sU13D0PK7fUL8hErhmrSy1xuViIHejNDZ4N_QE7wvMBdghv7anRx6Axe7lnBlXVDPXqZI4FEQf7adHBDym2CFzlpGSvblzVQlVtukWsvc9JSeeZhqHkJcYluGLrUI1ZQcjNOu4KSqnlgatPAFWVZcjunTZSZeoV0-xwE6Wpuefhh77Ylq5xar3PEQgERpTyvCOsV0u1uT3JLhnMNtzq37DgQWn_X7Lldkts8E5dVr5BuM_bQkFB03vqqBsFiKypM55ybodqAdlxvBG4YOYBIBwhl0quw4Cu3aaQXOsgoX4T8PM5d1pJmo4QQYkdXQhb05hqJAg7CenkB3fJOulWh8xG4PMJlQdm0OulgsQI0PKgobikIyGh65PxK5NAQii02S3tzVdAOiim6_rTieXKoTeytl-CGkWMA0YimpWcEujzKHh7rl0oOImqgntyolFxGbp8w5Ow1f3R-qYpJ_twvwSHmyVar8-yNXqHc7kXBcckJ076CGmCY8HIwaI2bQYs2kHM-tiHjtv7gBJFmkHMdSIN5ViutR1LQU_PoxPSR4ZBv28gQ3EeAmnctl4NfrHLx7ijyVClaf52I7XKMPkzUtji9lJqHEQnsRB4xkGOvhXu0HPTMm2deohtmquYJodzsOsyCOS021GfN3bndBEFEQQu0W03Rx0UuqY5aS4cBoTS0fIKv9l6Us-wh0GV66PRK6BCQsJzBHQa_eVo-GqRvZ12e7ii5kT5vhqNXWLcVOaRlns9LX7hZ-1YK6gaF9CqnZelwEw2EXuHcGRtolRsLeSZzx9a0Rh4H4ujdDFo5jQaWeza4IeU2euXAhriyHzwgWi0yonaNQrnhLzBgt9p8GJe5SONihyF1JitkcbWeqeBfyyOJcavpfrPRACcgu_Os-WGUFOcdWDuYWMZKex5HnD76GhJufdeUaCCY6aHGobsr2izl5ubWzdzzJE6b2B8up_vDyOWedHb8dtg-QlIu229-UChorFKL3GpbZBg4q7iJ1I8zOPhreL8mnXGce2Agp8yTcX6FcfskKXdollNe23aSSp4Hq7XPX6FX0kiX9RVugM0H2CAz8vxS7bYZVRddQFPN7XELAFSFcLFbbTwM42aABh7Vw750yyYFi3AY6KTwxFdui90I3DBwBcW3OIxM3YchuRGBNhY9cG6q6GPsE9vW5XR_XOLy9C9YHn3roebf1zVddOfWGRj9NY8xz-sMl9jGiWrOkrGj7vyAQnOY330D7BiICLNzq9n-uMBlEwjNY6vdqaK85YZXrYdxTgVgNK_pfWvoHDYBhB6VBxyMD35eSQVlr19CkYZ3yNYwOxmGhNtoHqghSFQ6zFlLNRSN5U-8tt1hWDBnV5lHOL9CuL12eal5JLPvO8BJoP9H8cMGE2yP5ARqOrYh4Taaa_4JbJ6U7sw3Ns6_cu15SvknEKDgraCN61vJJMy_n-lGFfmYZ15Ktww5BKg5VvqKbj_-9T9KAZKP' target='_blank'>Click to view structure.</a>"
      ],
      "text/plain": [
       "<IPython.core.display.HTML object>"
      ]
     },
     "metadata": {},
     "output_type": "display_data"
    },
    {
     "name": "stdout",
     "output_type": "stream",
     "text": [
      "config_structs_6\n",
      "8.268241097358105\n"
     ]
    },
    {
     "data": {
      "text/html": [
       "<a href='https://viewer.materialsproject.org?structure=eJy1W8FuHDkO_ZXA56QhUaRI7mkw-wFz2GOQg-NtzASwkyCxFzMb5N_3sbqqVBXLjR1E5QBxUl3d_Zp6fOSj1N9ufnn49O-n-_PNP17dfP7r4fbx9_PH092nL-fT18cvT3ePT1_ON69f3fxyd3_79Wvc9K_t5bs_br_8Hs_9-HR_j__f3z4-friLC99u8FpfPvyJf759m_MpERfS7DkTJ8mvX72hk3jJnJQynd-k-vpVPTkxl6x2ufLu9au3cZtZNjGpl7vmFyuFa0olVxa8mJ5KZaVqNdflqfFyxatyKnJ56nQbqRfzrLtXI00uJYu6vsNzb26Be4-64mE88L49MCNgjut32yfEa1HiEi90__mPeDFPp4QfrcKU8CjHa50f4yHzk-OHLFH1VBWobn6_fXjYPA0PkLFKJTz2n0_3Tw8R41yKn0xyqmzkbrl-x8NfPzyeY6Xefrv5-vl892H5z_n-_HD--Bhr-M9p8T7d3T3Fq5zS9-kjv4_P8BZv-PrV8ldc__Ov_3av39--P9_Pr4b3_fl3k827lRPX7FY0ZV0Wr5yqZSyoM8hwuSYnyZRrEUZg1dxHA5Mfw_Amn8g5OWFBdhiqlpSyGJUZKpVauCSb6Tge1jZedMoVnz-pFuVgk-4DlBiZYaa6XBK3KvgkXG0gOOlSZ10lFzAYZEaEIoxYslRqmvM6lpwADJ-iDo6ZdDk2w9IkKixKiM0bPrmqx1pCV3Yh1JTcEN2RFJMuxeY3pJIyQxDcVgwC0WEWDhmAMBJuAPREafph4NVD0HWiJgp2C7TUV3TIVIge9Egb7yCG0KeChB2dAiSXvzfQcKMVqEOxapcsuKwgnaCcybJAnJNzMVmuAX6hKByFj8GnW3x8As-gHMmskmyxqRqTozR6JIedUMiAlS0V1MpSRmPT57EDnfKFTqh1AjblEnRawRiBfCRU84oZnyGRFYA8Bp_uCwJJtoLyntbYzdAid6HGaAWWS8VRx50zqsfofOjQbuY6V3VJyplWxiUiCDJU2dZLKNmQ4oKlHp6qHcbN0CxzZjQxmdviQUUKUy60xhGFFQucE41cT3mBb6tAGBjHbNHFrThEwUMLaVnSVCM3UPrL8LLQ4dpS0dFxFXRVtklJguyhSZSyuVRR9hW97EBk1CoW7cv8hURCKOUEHtWpELAZeiV0qLSXFdyYGDEzHym_G3DaAVcdhJeKP9GY1xOyEBoh09Vd3qLwkjjrAZF7zrcZHEHpa6i-tMrOxChRFGVroRvuE8WdZWSSbqD14ibVa8WKFm3QkoiDcEQbvqEnppLhYwZC0xf4tqxUjvdFRk6trZoIuo5cbCoUe8bhQygKLe45CJ8-xydJQlJNfLJ4XKEgsGBAsiMcbstscEtDmxF9gXBz6MQKPGH2tqbRdMPcWPKWpmHuDKTkkfKmL_BtRhYWBjSvUdEXT0A1Gl8Es4kxwDEaJBnZINGmXqXnmZAz6ii6S24RggmvimoaHhzeIcNJF0V5v3S-NLjz3eLrZCpWD3hAqNYLOXpctEcareVS2rioGNqBkQaLNjXreeQgXFhPBsfyuoBh8RRVVi6-VB2prHAMPthjbZH1ShbyE41b2SgZLIQUgE0bU6oCsUvVR8ZMX2Db0j4q_FR4UW5OgWGthEJpw5dCgHElw9z4aq0PwtfJUyPQH62kbtwCFhSRQuEqbf6Afsmibx9pUPUFuq0OJVYrJm_NJyB3o-F0mugG8UOPifJ6yVMdnKj6AunWThKNL0x76y1j3qFRzjYeFZWf0TzZ3-Pcr1eB5ctyzr_qDza1qCVmh3sKg59xz-VaQcWCHofRoRiHGm5JSFf0m-iH9_h-_Sl8RRdgM8ydTc1IS8pQDkGEQtJmKFWyK8PT5BWxmaUY2ySmvwXvt_8_erkXPXiGFEXfYzwyX0OoLAE4BfmWa_CFWHEx36fsbz8Prxu85W0zVBfyodnX6KGERRq7tOgpbBmakvwj-cah61KvQONU4JJLXdGhvUP3iYLalhs6rBm1QsaBq1dWdn5XCUGBEaWWFpHGDDtfbb3GPI1hpxnJQehqD52xG0jlMS2c0UlsA8DCErVoKgq_Sv5xXDgAXJd1yxoiOQtMoGtbRDGQLPxp4pYUNecYV6M5OAheN3YaYoYi7y0noDKgWZo2cRa9wx0ob87jWDerXZd1s9qhMbHKMRBprENLrlQBZF1r8BK9QjRTh6GrPXQxfY6Nq8ytVORoqqKoWtPnHHtBaDzHLeu-UHTBwQtGI-fW6B9jQTQHRm1ZiSnamDQwXe3Ksvqpoq0z2Bf0chWL2yoWO0gY9X5d1ZqgN5BsEjkIXO2AQ1QcPtC9LSraJ8iGQ_9a_XdR1GCHDRuNrSslc-Amh59L-K1FSIgKqgHnlgyIrUHinMfVVrvCtxkaFANRgflrMcoCuVUI8Vb3oHiOv4fnQsvX57lA4uFiNKzroiwABzc7TScW_VXKwcTs4_i2B9dXkYQ-EuYmGpDLJfR4Wkq5CMuivyF5NcPgDgdnVyKXo2olVFGAWxbaYs87IYdbwwRZRueHtlMPAteNHGCgDJiEe12UBeUWnl-Ltn4JtTY5VG4cNrtCuQUI-tsL51bKxXGJjGrmjXLwQUho9HOJDgLXz9XK4FbhMK8z5Qx9HP5MA4mlMdCS0S7HEHQ0uC7lZnBsXlKM-WVdVZsOm6RCGwcRhlamYyMHgetGzooI3lrCqS5443QIir42ynHM99Ed63D_0KXcql_o0LBiUJMmc7FZiRxoxQyVDQ4COcHjArcH1_fVqOLoM3i6ZwaX5g11bzJHghYF-avDwXUpt_SUyEmNWOm6rA5VLrFFXpvMSYnmLg5DjUuIPbpu6KIf0QTJjTitHZTkGgemljYzQ5YltnMKj5OSeoV06xwE6aqmcfhhrbYpVK5q0zliIUcTVXmcCNcrpFv9nsSWDMcaLjo37TgQSn_rz2O7JLZ5Bi5rvUK6xRaih0RHZ6WtqhNMdoXCNM6ZKtQGtON8ELhu5AAiTBY6k6bCgp_YppEmdGijbGrkx3FuryVFewkhxIaqhCxoxdUDBRyENnkB3eJOOkrorAcujnCpUxStRjpYLAcNN10ULDcaAlIaHjm7EjkUhKSTzaqtuFbQDh2Tt_5Tk8XJoTKwtu7BdSPHAFLdS00tI1DlIXt4rF1K4fWzQ08OkpJ95FYTH4Oc-NX4VauoxO_1EhxinGzVPHyC06Xc6kXBcYkhzrqC1cEw4elg0Bw3RS9aQM7x2LqMW-qDEZo0RTvXgBSY56qptEgKamocnRg-NOzybRkagvsIULHWy8XoF6ucrDmKOFWK0p8HYtsP0ruJWianF63mZkQCOxFHDGRba-EeNQY94yaae3TdTK1xQig2uzbTYA6Lje4zx-7caoLQRKEXKEfN0fsiF1SH1tJmBicFJZ_gq62JcsgeAp2Gh65eCR0C4hozuM1sNU7Le0Hr21gXpztSbKSPm-HUK6xbRA5pGefzwhcu1r6kBN0gl6ZyNU0VbqCBqFc4d8EGWsXWQpzJXLGVmj2OA7G3aoZeOYwGlns0uC7lFnrFwIY4s208IEotMiK3HoViw19gwI7afujLnIdx0c2GYSQr2uKsLVPBvxJHEv2oAXrR3gDH0XbHWfPNKMkvO7C6MbGMlbY4jjh89NUl3Pyu0aKBYFo3GofqXlFmKbY3l2pmFidxysD6sJ_udyMXe9JR8ctmhwZJOW3A2aZDQWGVnOSonYdu4DTjJqq2ncHBX8P7FWmM49hmAjllXBtnVxi3TpJit3w65bXs2FSJ82A5t_kr-pUw0ml-hQOwWQcb2ow4v5SbbYbqogrU6ObWuDkA1orGRY_aeOjGTQENPMqbnekSRQoWYTPQicYTP3FE4SBw3cAliG8yGJm8DkNiIwJlzFvgTGtFHWMbWLb20_2-xMXpX7Dc29ZDju_XlTr1nUtlYNTXOMY8rjLssfUTVY0lYkfN-QFFjWF-8w2wYyAizM5Rs_2-wEUR8BrHVptThbzFhlfOm3FOBmAUr-F1q-sclgYINSqOOChv_HylKpC9dgkiDe8QpWF0MnQJt9DcoSFIVNrMWVNWiMb0Fa9ldxgWzNiqjCOcXSHcql2WchzJbPsOcBKo_55ss8EE2yMxgRqOrUu4heY1vgIbJ6Ub85WV41uuLU8pvgIBCh4Fra9vKZIwvj_TjCryMU69pGYZYgiQY6z0jG7vvv8PdDCSjw==' target='_blank'>Click to view structure.</a>"
      ],
      "text/plain": [
       "<IPython.core.display.HTML object>"
      ]
     },
     "metadata": {},
     "output_type": "display_data"
    },
    {
     "name": "stdout",
     "output_type": "stream",
     "text": [
      "config_structs_7\n",
      "6.750993986374444\n"
     ]
    },
    {
     "data": {
      "text/html": [
       "<a href='https://viewer.materialsproject.org?structure=eJy1W8uOG0cS_BVhzhJRlZXPPRneD_Bhj4IP49mBLWBkGdJoYa_hf9_IZndXU6oh1lBxBGikZpMMZkVmRmQV_7z77v2Hf39-erz7x6u73_54f__88-Ovp4cPHx9Pn54_fn54_vzx8e71q7vvHp7uP33Km_51vPzwy_3Hn_O5v35-esL_n-6fn9895IU_7_BaH9_9jn--fVvrqRA3shq1Ehepr1-9oZNEq1yMKj2-Kfr6lZ6CmFs1P1_58fWrt3mbe3Vx0fNd64u1xlpKq8qCF7NTUzZS16rbU_PlWqhxaXJ-6nIbWTSPahevRlZCWhUL-xHPvbsH7kvUiofxwE_9gRUBc15_OD4hX4sKt3yhp99-yReLcir4MRWmgkc5X-vxOR_yOAV-yAtpFDWguvv5_v37w9PwADmbKOGx_3x4-vw-Y1xbi5NLLcpOEV71Lzz86d3zY67U2z_vPv32-PBu-8_j0-P7x1-fcw3_uSzeh4eHz_kqp_LX8pF_ys_wFm_4-tX2V17__Y__Dq8_3f_0-LS-Gt73299NDu_WTqw1vFmpti1eO6lXLGgwyHC-JiepVLUJI7DmEbOByZdheFNPFFyCsCAXGNRaKVWc2gqVmjZuxVc6zod1jBedquLzF7NmnGyyywAVRma4m22XJFwFn4TVJ4KTIXX2VQoBg0FmRCjDiCUrTcua17nkBGD4FDo5ZjLk2ArLipiwGCE2b_gUZpFribpyEUIrJRzRnUkxGVJsfUNqpTIKQviOQVB0mIWzDKAwEm4A9EJl-WHgtZugG0RNDOwW1NLY0SFTUfRQj6zzDsUQ9akhYWenAMn57wM03OgN1aG5-jkLzitIJ1TO4lVQnEtwc9muAX6jbByNb4PPjvj4BJ6hchR3JTliM3OmQGuMTA4_oZEBK3tp6JWtzcZmX8cOdKpnOqHXCdhUW9JpB-ME8pGQ1h0zPkMhbwB5G3x22RBIqje097LHboWWuYtqDCmwXWqBPh5c0T1m58OAdivXWS2kGFfaGVeIUJBRlX2_hJaNUtyw1NNTdcC4FZpXrgwRU7kvHqpIY6qN9jiisWKBa6GZ6ykv8G0vEA7GMXuquB2HGHjoWVq2NLXMDbT-Nr0tDLi2dXQorgZV5YeUJJQ9iERph0uKtm_QshORUe9YdNnmzyQSQisn8EiXRsDu0EpQqHRZVnBjYcTMY2b5PYCzATgNEF4Uf1KY6wlZiBohy9WLvEXjJQm2G0Tua76t4AiVXrPqS-_sTIwWRdm2NrrhPjHc2WYm6QHaKG6ioYoVbdahFZEA4YgOfIMmplbhYyZCsxf4tq1UzfdFRi7S1lwEqqM2XxrFJePwIQyNFvfcCJ99jU-KZEl1icXisaKCwIIByQXhcFtlh1uaKkbsBcKtoRNv8IQ1-pqm6Ia58RI9TdPcOUjJM8ubvcC3FVlaGNBcs6NvnoA0hS-C2YsxwDEEkswUSHToV-XrTKgVfRTqknuEYMLV0E3Tg8M7VDjpZmjvZ-VLk5XvEd8gU7F6wANCdS0U0LiQR5bScmtt3EwccmCmwaJDz_o6cihcWE8Gx-q-gGnxDF1Wzr7UAqlscAwx2WMdkY1aFvITwq0dKhkshDSALQdTaoJiVzRmxsxeYNsmHw1-Kr0od6fAsFZCWWnTl6IA40qFuYndWt8I3yBPnUB_SEk7uAUsKCKFxtX6_AF6yVO3zzSo9gLddoeSq5WTt-4TkLspOIMWuqH4QWOivZ7z1CYnqr1Aul1JQvjCtHdtmfMOy3Z28Kjo_Azx5H-Pc99fBVbPy7n-0i9sajMvzAH3lAa_4p7ztYaOhXqcRodyHOq4pSBdoTehhy_xff9N-No5ZuuvSpc2tSIt0RoiE9KyCq-XWhVIYl4a7fopcnwL4Fhw-Vvwfvj_o1dH0YNnKNn0I8cjGxZY-4IlpSTfdg2-ECsuHpcp-8O3w9Mr8HJ0g_6Us-N9IdHCMo0j28a63gZbBlFSvyTfPHRD6jXUOBO45KY7Oiwr1CcaquyXUIetolfIPHB6ZWXXd5UsKDCi1NMi05hh59X3a8zLGHaZkdwInY7QOYeDVJHTwhWd5DYALCxRj6ah8ZvUL8eFE8ANWbetoTE1mMCwvojiIFn608I9KbTWHFdDHNwI3jB2lsUMNSV6TlAN0KwsmzhbvcMdaG_B81jXy9yL1Q7CxJVzINJZB0lupACyrzV4Ca2QYupm6HSELqfPuXFVubeKmqIqm6rvocOyIpQQnvOWdQU3ZN0KrkJiClqp9zVUqQEuotPueN295HwfMbwRuGHkYFRTZYb33MyZJZSLU8dLTKmxysRa4lc4FyeF5nR4KwhNBfN6lDiQISlGdsppQTFEPyGRG4HTAThEJWBSIzrjoO1Q0wLFuYuTEMO6BzzibGxDxq2BW8YPtaUZ3KocQZwYce2Zitg66m_wvMbvV_i2QkM5Q1TgTHuMIJpqDjT1WJRRjgN_T0_UnhKDKlKgI2FuUoCcLyF1rbV2Lixb_c2SpxUGdx7fVlR-RW7W7FoFXRTgtlh67nkXpEkXTCjLUH6oJnYjcMPIAQbagEu61y150W7h-a1Z10votSVQSOZh8ys6fQMCfXsW6rtOz-MSFd0suk6HD0LOQM-VeeXXr1BuW0JlcKtxmteVcg4dhz_LQGITBtYq5HIOQWeDG1JuBccereSYX_ZV9eWwSWl0cBBpaGU5NnIjcMPIeRPBW0s61Q1vng5B07dOOc75PtSxTfcPQ8rtpg8KDSuGatK9YW5WIgd6v0DzgINATvC8wF2CG_tqNEq0cl7uWcGVdUM9epkjgQpA_tp0cEPKbZoSOWkZK9uXNVCVW26Ray9z0lLc5WGoeQlxiW4Yumz5VlByM067SJGqeWBqk5kVZVlyO6dNVHJ6hXT7HATpam55-GEfUZSscmq9zhELBXSK8rwirFdIt_s9yS0ZzjXc6tyy40DWOuc0t0tym2fisuoV0m22EDINoslbX9UgmGxFhemcczNUG9CO643ADSMHEGmyoEx6FRb85DaN9EIHeeeLVp7Hucta0myUEELs6ErIgt5cI1FApFsvL6Bb3km3KnQ-ApdHuCwom1YnHVxMgIYHFQXLDUFARtMj51cih4ZQbHEy2purgnZQTNH1pxXPk0NtYm-9BDeMHAOIRjQtPSPQ5VH28Fi_VNLr10A9uVEpuYzcbuJzkJO_Or9UxSR_75dgwvJkq9XpE5wh5Xa7B45LDnH2FdQAw4SXg0Fr3AxatIGc87ENGbf1ByeINIOc60Aa_KlaaT2Sgp6aRyemDw2HfNuGhuA-AtS8a7kc_WKVi3dHkadK0frrRGyXg_RhorbF6aXUPEwhYCfyiIEcey3co-UsZd5E8xLdMFM1TwjlZtdhGsy5LwH1WXN3bjdBEFHQAu1Wc_RxkUuqo9bSYQYnDS2f4Ku9F-Usewh0mR46vRI6BCQsx1yH2Wqelo8G6dtZl6c7Sm6kzxuT6BXWbUUOaZnn89IXbta-lYK6QSG9ymlZOtxEA6FXOHfGBlrl1kKeydyxNa2Rx4E4ejeDVk6jgeWeDW5IuY1eObAhruwHD4hWi4yoXaNQbvgLDNitth_GZS7SuNhhDpzJCllcrWcq-NfySGLcaoDebDTACcjuPGt-GCXFeQfWDiaWsdKexxGnj76GhFvfNSUaCGZ6qHHo7oo2S7m9uXUz9zyJ0yb2h8sB-jByuSedHb8ddmiQlMsGnB8UChqr1CK32nkYBs4qbiL14wwO_hrer0lnHOc2E8gp82ScX2HcPknKTZDllNe2Y6OS58Fq7fNX6JU00mV9hRtg8wE2yIw8v1S7bUbVRRfQVHN73AIAVSFc7Faz_WHcDNDAo3rYmW7ZpGARDgOdFJ74yZ2nG4EbBq6g-BaHkan7MCRn_Whj0QPnpoo-xj6xbV1O98clLk__guXRz2vU_H5d00V3bp2B0V_zGPO8znCJbZyo5iwZO-rODyg0h_ndN8COgYgwO7ea7Y8LXDaB0Dy22p0qylvuKdV6GOdUAEbzmt63hs5hE0DoUXnEwfjg55VUUPb6JRRpeIdsDbOTYUi4jeaBGoJEpcOctVRD0Vi-4rVtwMKCObvKPML5FcLttctLzSOZfd8BTgL9P4ofNphgeyQnUNOxDQm30VzzK7B5Uroz39g4v-Xa85TyKxCg4K2gjetbySTM7890o4p8zFMvpVuGHALUHCt9Rbcf__ofbheSjw==' target='_blank'>Click to view structure.</a>"
      ],
      "text/plain": [
       "<IPython.core.display.HTML object>"
      ]
     },
     "metadata": {},
     "output_type": "display_data"
    },
    {
     "name": "stdout",
     "output_type": "stream",
     "text": [
      "config_structs_8\n",
      "4.773673973614206\n"
     ]
    },
    {
     "data": {
      "text/html": [
       "<a href='https://viewer.materialsproject.org?structure=eJy1W8tuHEcS_BWBZ2lQlZXPPRneD_Bhj4IPNJewBVCWIVELew3_-0b2dHf1iKXBGqqhAFHqafbEZEVmRmQV_7z77v2Hf39-erz7x6u73_54f__88-Ovp4cPHx9Pn54_fn54_vzx8e71q7vvHp7uP33Km_51vPzwy_3Hn_Nnf_389IT_P90_P797yAt_3uFZH9_9jn--fVvrqRA3shq1Ehepr1-9oZNEq1yMKj2-Kfr6lZ6CmFs1P1_58fWrt3mbe3Vx0fNd68NaYy2lVWXBw-zUlI3Uter2o_m4Fmpcmpx_dLmNLJpHtYunkZWQVsXCfsTP3t0D9yVqxct44af-woqAOa8_HH8gn0WFWz7o6bdf8mFRTgVfpsJU8Crnsx6f8yWPU-CLvJBGUQOqu5_v378__BheIGcTJbz2nw9Pn99njGtrcXKpRdkpwqv-hZc_vXt-zJV6--fdp98eH95t_3l8enz_-OtzruE_l8X78PDwOZ9yKn8tH_mn_Axv8YavX21_5fXf__jv8PrT_U-PT-vT8L7f_m5yeLd2Yq3hzUq1bfHaSb1iQYNBhvM1OUmlqk0YgTWPmA1MvgzDm3qi4BKEBbnAoNZKqeLUVqjUtHErvtJxPqxjvOhUFZ-_mDXjZJNdBqgwMsPdbLsk4Sr4JKw-EZwMqbOvUggYDDIjQhlGLFlpWta8ziUnAMOn0MkxkyHHVlhWxITFCLF5w6cwi1xL1JWLEFop4YjuTIrJkGLrG1IrlVEQwncMgqLDLJxlAIWRcAOgFyrLFwOv3QTdIGpiYLeglsaODpmKood6ZJ13KIaoTw0JOzsFSM5_H6DhRm-oDs3Vz1lwXkE6oXIWr4LiXIKby3YN8Btl42h8G3x2xMcn8AyVo7gryRGbmTMFWmNkcvgJjQxY2UtDr2xtNjZ7GTvQqZ7phF4nYFNtSacdjBPIR0Jad8z4DIW8AeRt8NllQyCp3tDeyx67FVrmLqoxpMB2qQX6eHBF95idDwParVxntZBiXGlnXCFCQUZV9v0SWjZKccNST0_VAeNWaF65MkRM5b54qCKNqTba44jGigWuhWaup3yFb3uBcDCO2VPF7TjEwEPP0rKlqWVuoPW36W1hwLWto0NxNagqP6QkoexBJEo7XFK0fYOWnYiMeseiyzZ_JpEQWjmBR7o0AnaHVoJCpcuyghsLI2YeM8vvAZwNwGmA8KL4k8JcT8hC1AhZrl7kLRovSbDdIHIv-baCI1R6zaovvbMzMVoUZdva6Ib7xHBnm5mkB2ijuImGKla0WYdWRAKEIzrwDZqYWoWPmQjNvsK3baVqvi8ycpG25iJQHbX50iguGYcPYWi0uOdG-OwlPimSJdUlFovHigoCCwYkF4TDbZUdbmmqGLGvEG4NnXiDJ6zR1zRFN8yNl-hpmubOQUqeWd7sK3xbkaWFAc01O_rmCUhT-CKYvRgDHEMgyUyBRId-VV5mQq3oo1CX3CMEE66GbpoeHN6hwkk3Q3s_K1-arHyP-AaZitUDHhCqa6GAxoU8spSWW2vjZuKQAzMNFh161svIoXBhPRkcq_sCpsUzdFk5-1ILpLLBMcRkj3VENmpZyE8It3aoZLAQ0gC2HEypCYpd0ZgZM_sK2zb5aPBT6UW5OwWGtRLKSpu-FAUYVyrMTezW-kb4BnnqBPpDStrBLWBBESk0rtbnD9BLnrp9pkG1r9Btdyi5Wjl56z4BuZuCM2ihG4ofNCba6zlPbXKi2ldItytJCF-Y9q4tc95h2c4OHhWdnyGe_O9x7vurwOp5Oddv-oVNbeaFOeCe0uBX3HO-1tCxUI_T6FCOQx23FKQr9Cb08CW-778JXzvHrH-7sKkVaZnKlgTKMWX4eqnmvBYKxW2_hAIjmrI4_ha6H_7_4NVR8GAZSvb8yOnIeg2R8gKQlNzbrsEWYsHxOS4z9odvh6dX4OXkBu0pR8f7OqKDZRZHdo11uQ2uDJqkfsm9eeiGzGsocSYwyU13dFB3EJ_op7JfQhm2ilYh88DplZVd31WynsCHUs-KzGKGm1ffrzEvU9hlRHIjdDpC5xwOUkUOC1d0krsAcLBEPZqGvm9Sv5wWTgA3ZN22hsbUkLVhfRHFQbK0p4V7UmitOa2GNrgRvGHsLGsZenz0nKAaoFlZ9nC2coc7UGCC57FurXJD1q1lDLrElXMe0lkHRW6kALKvNXgJqZBa6mbodIQuh8-5b1W5d4qamip7qu-hw7IilNCd85Z1BTdk3dYUoDAFndT7GqrUABfRaHe87l5yvI8Y3gjcMHLwqSkyw3tu5sgSwsWp4yWmlFhlYi3xK5yLk0JyOqwVdKaCeT1KHMiQ1CI75bSgGKKfkMiNwOkAHKIS8KgRnXGQdqhpgeLctUmIYd0DFnE2tiHj1sAt04fa0gtuVY6ooVVx7ZmK2Drqb_C8xu9X-LZCQzlDVGBMe4yqoBcYusSxKKMcB_6enqi9mLzMBZJIh2XcBR3IxnDay-Rkaw5GNZlYYx7fLsGNS1yBxoXxSnV0voS6Yq21c9XbmkPWY60w39PB-ZXI1WypBS0e4LaF9tyPL8jhrubQMyBLUersRuCGkQMM9CiXdNZbZYEWaNKsWRdzEAIlUOXmYfMrlNuAQHyfOdc9hGOZ0WqjUw4eDQkNsVnm9Qa_QrltCZXBrcZprFfKOUQm_izDkk21WKvQ8jmgnQ1uSLkVHHu0klsQsq-qLwdhSqODvUmzLcuRlhuBG0bOmwjeWtJFb3jz5AoUiXXKce49QLrbdHMzpNxevyAfsWKoJr3M5UYqcqA3M3Q22BvkBM8L3CW4sedHF4fO4OWeFVxZN_ujlzkSSBTkr00HN6TcJniRk5axsn1ZA1W55fa99jInLZVnHtSalxCX6IahSz1iBSU347QrKKmah7k2DVxRliW3mtpEmalXSLfPaJCu5pYHM_ZuW7LKqfU6RywUEFHK84qwXiHdbkYlt4s413Crc8tuCKH1d82eWzm5BTVxWfUK6TbPCg0JReetr2pQw3dUmM45N0O1Ae243gjcMHIAkQ4QyqRXYcFXbiFJL3SQUb4I-Xmcu6wll_O53YsSO7oSsqA310gUcBB9QFdAt7yTblXofAQuj5dZUDatTjpYrAANDyqKWwoCMpoeOb8SOTSEYovN0t5cFbSDYoquP614nmpqE3vrJbhh5BhANKJp6RmBLo-yh9f6pZKDiBqoJzcqJZeR2ycMOWXKb51fqmKS3_dLcIh56tbq9PHSkHK7FwXHJSdM-wpqgGHCy6GlNW4GLdpAzvnYhozb-oMTRJpBznUgDeZZrbQeSUFPzWMd0yeaQ75tE01wHwFaZvortJxLY5WLd0eRJ17R-utEbJdT_mGitsXppdQ8jEhgJ_L4gxx7Ldyj5aBn3rj1Et0wUzVPL-VG3GFUzWmxoT5r7hzuJggiClqg3WrIPy5ySXXUWjoMCKWh5RN8tfeinGUPgS7TQ6dXQoeAhOUM7jD4zZP80SB9O-vy5EnJTf55Mxy9wrqtyCEt8-xg-sLN2rdSUDcopFc5LUuHm2gg9ArnzthAq9z3yPOiO7amNfKoEkfvZtDKaTSw3LPBDSm30SsHNsSV_eAB0WqREbVrFMrDCAIDdqu9kXGZizQudhhSZ7JCFlfrmQr-tTwuGbea7o83WgOyO8_BH0ZJcd4dtoOJZay051HJ6aOvIeHWd02JBoKZHmocuruizVLuvW7dzD1PCbWJ_eFyuj-MXO6XZ8dvh-0jJOWyO-gHhYLGKrXIrbZFhoGziptI_TiDg7-G92vSGce5BwZyyjwZ51cYt0-ScodmOYG2bSep5Fm1Wvv8FXoljXRZn3ADbD7ABpmRZ6tqt82ouugCmmpuj1sAoCqEi91q42EYNwM08Kgets1bNilYhMNAJ4UnvnJb7EbghoErKL7FYWTqPgzJjQi0seiBc1NFH2Of2LYup_vjZDBnSXzU3ZU20hyYd20Oy4PFhqG41fx8XESy0IbmsdXuBlFCclOp1sPIpAIwGsT03jBU55vIQB_IMw7GB8-spILS0i-hEEKfZ_mdTbihGdyoFMhTJAMdZpmlGhJz-RWvbQcWNsfZVea1e79CuL0-eKl5JLPP9qHW0WOj-GETB9ZCcsozHduQcBvNNX8FNk9Kd-YbG-dvuXaVRPkrEKDgraCNa0jJJMzfn-lmEPmYx15Kl-VptGuObl7Q7ce__gd1gpKP' target='_blank'>Click to view structure.</a>"
      ],
      "text/plain": [
       "<IPython.core.display.HTML object>"
      ]
     },
     "metadata": {},
     "output_type": "display_data"
    },
    {
     "name": "stdout",
     "output_type": "stream",
     "text": [
      "config_structs_9\n",
      "4.7736737198325\n"
     ]
    },
    {
     "data": {
      "text/html": [
       "<a href='https://viewer.materialsproject.org?structure=eJy1W8uOG0cS_BVhzhJRlVn52pPh_QAf9ij4MJ4d2AJGliGNFvYa_veNbHZ3NTUlYg0VR4BGajbJYFZkZkRW8c-7795_-Pfnp8e7f7y6--2P9_fPPz_-enr48PHx9On54-eH588fH-9ev7r77uHp_tOnvOlfx8sPv9x__Dmf--vnpyf8_-n--fndQ1748w6v9fHd7_jn27e1ngo1JqtRK7Ui9fWrN3SS4NqKUaXHN0Vfv9JTUGtczc9Xfnz96m3e5l5dXPR81_pizE1L4apN8GJ2Ym1G6lp1e2q-HIdaKyznpy63kQV7VLt4NbISwlUs7Ec89-4euC9RKx7GAz_1B1YEreX1h-MT8rWoNM4Xevrtl3yxKKeCH1NpVPBoy9d6fM6HPE6BH_JCGkUNqO5-vn___vA0PEDeTJTw2H8-PH1-nzGuzHFyqUWbU4RX_QsPf3r3_Jgr9fbPu0-_PT682_7z-PT4_vHX51zDfy6L9-Hh4XO-yqn8tXzkn_IzvMUbvn61_ZXXf__jv8PrT_c_PT6tr4b3_fZ3k8O78alpDWcr1bbF45N6xYJGAxnO1-QklaqyNATWPGI2MPkyDG_qiaKVICzIBQY1LqWKE69QiZUbF1_pOB_WMV50qorPX8zYWrLJLgNUGjLD3Wy7JOEq-CRNfSI4GVJnX6UQMBhkRoQyjFiywlrWvM4lJwDDp9DJMZMhx1ZYVsSkiRFi86adwixyLVFXLkJopYQjujMpJkOKrW9IXGpDQQjfMQiKTmvSsgygMBJuAPRCZflpwGs3QTeImhjYLailsaNDpqLooR5Z5x2KIeoTI2FnpwDJ-e8DNNzojOrArn7OgvMK0gmVs3gVFOcSjV22a4DPlI2D223w2RFfO4FnqBzFXUmO2My8UaA1RiaHn9DIgLV5YfRK5tnY7GXsQKd6phN6nYBNlZNOOxgnkI-EtO6Y8RkKOQPkbfDZZUMgqc5o72WP3QotcxfVGFJgu8SBPh6tonvMzocB7VauN7WQYq3SzrhChIKMquz7JbRslGLGUk9P1QHjVmheW20QMbX1xUMV4UaVaY8jGisWuBaauZ7yFb7tBcLBuNY8VdyOQww89CwtW5pa5gZaP09vCwOubR0diouhqvyQkoSyB5EofLikaPsGLTsRGfWORZdt_kwiIbRyAo90aQTNHVoJCpUuywpuLA0x85hZfg_gbABOA4QXxZ8U5npCFqJGyHL1Im_ReEmi2Q0i95JvKzhCpdes-tI7e6OGFkXZtja64T4x3Mkzk_QAbRQ30VDFirJ1aEUkQDiiA9-giYkrfMxEaPYVvm0rVfN9kZGLtDUXgeqo7EujuGQcPoSh0eKeG-Gzl_ikSJZUl1gsXlNUEFgwILkgHG6rzeGWpooR-wrh1tCJMzxhjb6mKbphbrxET9M0dw5Stpnlzb7CtxVZWhjQXLOjb56ANIUvgtmLMcA1CCSZKZDo0K_Ky0yoFX0U6rL1CMGEq6GbpgeHd6hw0mxo72flS5OV7xHfIFOxesADQnUtFNC4kEeW0nJrbY1NHHJgpsGiQ896GTkULqxnA8fqvoBp8QxdVs6-1AKpbHAMMdljHZGNWhbyE8KND5UMFkIYYMvBlJqg2BWNmTGzr7Btk48GP5VetHWn0GCthLLSpi9FAcaVCnMTu7W-Eb5BnjqB_pCSdnALWFBECo2L-_wBeslTt880qPYVuu0OJVcrJ2_dJyB3U3AGLXRD8YPGRHs956lNTlT7Cul2JQnhC9PetWXOOyzb2cGjovM3iCf_e5z7_iqwel7O9Zd-YVPZvLQWcE9p8CvuOV9jdCzU4zQ6lONQxy0F6Qq9CT18ie_7b8LH55itv_wLm1qRlpSeFCKIMwfOlyrELzpELBPPOMHxQIICHxytqv0tdD_8_8Gro-DBMpTs-ZHTkfUakHjBilJyb7sGW4gFF4_LjP3h2-HpFXg5uUF7ytHxvo7oYJnFkV1jXW6DK4MmqV9ybx66IfMYJc4EJpl1Rwd1B_GJfir7JZRhq2gVMg-cXlnZ9V0l6wl8KPWsyCwG50x9v9baMoVdRiQ3QqcjdN7CQarIYeGKTnIXAA6WqEcTqVNN6pfTwgnghqzb1tAaMTxgWF9EcZAs7WlpPSkUqYyKDG1wI3jD2FnWMvT46DlBNUCzsuzhbOUOd6C7RZvHurXKDVm3FjvoEteW85DOOihyIwWQfa3BS0iF1FI3Q6cjdDl8zn2r2nqnqKmpsqf6HjosK0IJ3TlvWVdwQ9at4Cr6gaCTel9DlRrgIhrtjtfdS473EcMbgRtGDj41RWZ4z80cWUK4OHW81CglVplYS_wK57bWCRiIFZjXo9QCGZJaZKecFhRD9BMSuRE4HYBDVAIeNaIzDtIONS1QnLs2CTGse8AizsY2ZNwauGX6UDm94FbliBitqtWeqYito_5Gm9f4_QrfVmgoZ4gKjGmPURX0AkOXOBZllOPA39MTtReTl7lAEumwLG31VvYADk57mZxszcGoJhNrzOPbJbhxiSvQuDBeqY5WtRmAxnyueltzyHqsFeZ7Oji_ErmaLbWgxXfdG5778QU53NVcSWmcpc5uBG4YOcBAj3JJZ71VFmgBFja2LuYgBEqgys3D5lcotwGB-D5zbqdcHuWoaLXRKQePhoSG2CzzeoNfody2hNrALW5prFfKOUQm_izDkk21GFdo-RzQzgY3pNwKrnlwyS0I2VfVl4Mwhelgb9Jsy3Kk5UbghpFzFsFbS7roDW-eXIEisU65lnsPkO423dwMKbfXL8hHrBiqSS9zuZGKHOjNDJ0N9gY50eYF7hLc2POji0NntOWeFVxZN_ujlzkSSBTkr00HN6TcJniRk5axsn1ZA1WZc_tee5kTTuWZB7XmJcQlumHoUo9YQcnNOO0KSqrmYa5NA1eUZcmtJp4oM_UK6fYZDdLV3HSflaDblqxyar3OUROKnKK0eUVYr5BuN6OS20Ut13Crc8tuCKH1d82eWzm5BTVxWfUK6TbPCg0JRefcVzWI8RsVpnPOzVBtQLtWbwRuGDmASAcIZdKrsOAnt5CkFzrIKF-E_DzOXdYStlFCCDVHV0IW9OYaiQIOwnp5Ad3yTrpVofMRuDxeZkHZtDrpYLECNDyoqMYpCMhoeuT8SuTQEIotNkt7c1XQDoopuv604nmqiSf21ktww8g1ANEI1tIzAl0eZQ-P9UslBxE1UE9uVEouI7dPGHLKlL86v1TFJH_vl-AQ89St1enjpSHldi8KjktOmPYV1ADDpC2Hlta4GbQog5zzsQ0Zt_UHJ4g0g5zrQBjmWa1wj6Sgp-axjukTzSHftokmuI8AsXctl3NprHLx7ijyxCtaf52I7XLKP0xUXpxeSs3DiAR2Io8_yLHXwj1aDnrmjVsv0Q0zVfP0Um7EHUbVLS021GfNXZPdBEFEQQvwrYb84yKXVEetpcOAUBgtn-CrvRflLHsIdJkeOr0SOgQkLGdwh8FvnuQPhvTtrMuTJyU3-efNcPQK67Yih7TMs4PpCzdrz6VYbnRJr3Jalg430UDoFc6dsYFWue-R50V3bKw18qhSi97NoJXTaGC5Z4MbUm6jVw5sqNXmBw-IVouMqF2jUB5GEBiwW-2NjMtcpHGxw5A6kxWyuFrPVPCP87hk3Gq6z6ONVixcaJ6DP4yS4rw7bAcT27DSnkclp4--hoRb3zUlGghmeqhx6O6KNku597p1M_c8JcQT-8PldH8Yudwvz47Ph-0jJOWyO-gHhYLGKrXIrbZFxtvnFTeR-nEGB38N78fSGddyDwzklHkyzq8wbp8k5Q7NcgJt205SybNqtfb5K_RKGumyvsINsPkAG2RGnq2q3Taj6qILaKq5PW4BgKoQLnarjYdh3AzQwKN62DbnbFKwCIeBTgpP_OS22I3ADQNX8qyGw8jUfRiSGxFoY9ED56aKPtZ8Ytu6nO6PS1yeTAbLo2891PzuH-uiO7fO0NBf84j1vM5wOT8fF5EstKF5bLW7QZSQ3FSq9TAyqQxjxhNV3CW4YRVR9IE842Dt4JmVVFBa-iUUQujzLL-zCTdc1I1KgTxFMtBhllmqITGXr3htO7CwOd5cZd6iXmIbJkPNo0B5JLPP9qHW0WOj-GETB9ZCcsozHduQcJsf0PwKbJ6U7hbBmrX8lmvPBcqvQICCt4I2riElD3Tl92e6GYTBz2MvpcvyNNo1Rzcv6PbjX_8DM3ySjw==' target='_blank'>Click to view structure.</a>"
      ],
      "text/plain": [
       "<IPython.core.display.HTML object>"
      ]
     },
     "metadata": {},
     "output_type": "display_data"
    }
   ],
   "source": [
    "# find the distances between the oxygen vacancies.\n",
    "for key in config_Struct_dict:\n",
    "    print(key)\n",
    "    config_Struct_dict[key].remove_oxidation_states()\n",
    "    struct = config_Struct_dict[key]\n",
    "    sites_itt = [struct.index(site) for site in struct.sites if site.species_string == 'Be']\n",
    "    print(struct.distance_matrix[sites_itt[0]][sites_itt[1]])\n",
    "    gvl(config_Struct_dict[key])"
   ]
  },
  {
   "cell_type": "markdown",
   "metadata": {},
   "source": [
    "Remove the Be atoms and create the vacancies."
   ]
  },
  {
   "cell_type": "code",
   "execution_count": 13,
   "metadata": {
    "code_folding": [
     0
    ],
    "scrolled": true
   },
   "outputs": [
    {
     "name": "stdout",
     "output_type": "stream",
     "text": [
      "config_structs_0\n",
      "Ce32 Be1 O62\n",
      "Ce32 Be1 O61\n",
      "config_structs_1\n",
      "Ce32 Be1 O62\n",
      "Ce32 Be1 O61\n",
      "config_structs_2\n",
      "Ce32 Be1 O62\n",
      "Ce32 Be1 O61\n",
      "config_structs_3\n",
      "Ce32 Be1 O62\n",
      "Ce32 Be1 O61\n",
      "config_structs_4\n",
      "Ce32 Be1 O62\n",
      "Ce32 Be1 O61\n",
      "config_structs_5\n",
      "Ce32 Be1 O62\n",
      "Ce32 Be1 O61\n",
      "config_structs_6\n",
      "Ce32 Be1 O62\n",
      "Ce32 Be1 O61\n",
      "config_structs_7\n",
      "Ce32 Be1 O62\n",
      "Ce32 Be1 O61\n",
      "config_structs_8\n",
      "Ce32 Be1 O62\n",
      "Ce32 Be1 O61\n",
      "config_structs_9\n",
      "Ce32 Be1 O62\n",
      "Ce32 Be1 O61\n"
     ]
    }
   ],
   "source": [
    "# induce oxygen vacancies.\n",
    "for key in config_Struct_dict:\n",
    "    print(key)\n",
    "    config_Struct_dict[key].remove_oxidation_states()\n",
    "    struct = config_Struct_dict[key]\n",
    "    sites_itt = [struct.index(site) for site in struct.sites if site.species_string == 'Be']\n",
    "    for site in sites_itt:\n",
    "        config_Struct_dict[key].pop(site)    \n",
    "        print(config_Struct_dict[key].composition)"
   ]
  },
  {
   "cell_type": "markdown",
   "metadata": {},
   "source": [
    "# Initial Relaxation: Vacancy Configs\n",
    "Create the DFT sim files. Selecting 3 structures to actually simulate. config 3 (in 2nd NN O$_{vac}$ shell), config 5 (farthest part) and config 9 (4.7)\n",
    "\n",
    "Sync command\n",
    "\n",
    "    rsync -azPn struct_opt/ tboland1@agave.asu.edu:/scratch/tboland1/2vac/struct_opt/\n",
    "    \n",
    "    rsync -azPn --include='KPOINTS' --include='INCAR' --include='*/' --exclude='*' struct_opt/ tboland1@agave.asu.edu:/scratch/tboland1/2vac/struct_opt/\n",
    "    \n",
    "    rsync -azPn --include='INCAR' --include='*/' --exclude='*' struct_opt/ tboland1@agave.asu.edu:/scratch/tboland1/2vac/struct_opt/\n",
    "    \n",
    "    rsync -azPn --exclude='WAVECAR*' --include='*' tboland1@agave.asu.edu:/scratch/tboland1/2vac/struct_opt/ struct_opt/"
   ]
  },
  {
   "cell_type": "code",
   "execution_count": 10,
   "metadata": {
    "code_folding": [
     0
    ]
   },
   "outputs": [],
   "source": [
    "# write slurm, POSCAR, INCAR, KPOINTS and POTCAR files (ran)\n",
    "for key in config_Struct_dict.keys():\n",
    "    from pymatgen.io.vasp.inputs import Incar, Kpoints, Potcar\n",
    "    path = wd+'struct_opt/o_cf_'+key.split('_')[2]+'/'\n",
    "    try :\n",
    "        os.makedirs(wd+'struct_opt/o_cf_'+key.split('_')[2])\n",
    "    except :\n",
    "        path = path\n",
    "    # create the structure\n",
    "    struct = config_Struct_dict[key]\n",
    "    struct.remove_oxidation_states()\n",
    "    struct.to(filename = path +'POSCAR_init', fmt = 'POSCAR')\n",
    "    \n",
    "    \n",
    "    # create INCAR\n",
    "    relax_init_incar = Incar.from_file(home+'INCAR')\n",
    "    relax_init_incar['System']= \"2 vac initial relax \"+key\n",
    "    relax_init_incar['NPAR']=2\n",
    "    relax_init_incar['KPAR']=1\n",
    "    relax_init_incar['ENCUT']=520\n",
    "    relax_init_incar['ISIF']=3\n",
    "    relax_init_incar['EDIFFG'] = -0.01\n",
    "    relax_init_incar['EDIFF']  = 0.1E-05\n",
    "    \n",
    "    ul = [-1]*len(struct.symbol_set)\n",
    "    uu = [0]*len(struct.symbol_set)\n",
    "    counter = 0\n",
    "    for element in list(struct.symbol_set):\n",
    "        if element == 'Ce':\n",
    "            ul[counter] = 3    \n",
    "            uu[counter] = 5 \n",
    "        counter += 1\n",
    "    relax_init_incar['LDAUL']  = ul\n",
    "    relax_init_incar['LDAUU']  = uu\n",
    "    relax_init_incar['LDAUJ']  = [0]*len(struct.symbol_set)\n",
    "    \n",
    "    relax_init_incar.write_file(path+'INCAR')\n",
    "    \n",
    "    # create KPOINTS\n",
    "    kp_file = Kpoints.automatic_density(structure=struct,kppa=50)\n",
    "    kp_file.write_file(path+'KPOINTS')\n",
    "    \n",
    "    # create POTCAR\n",
    "    potcar = Potcar(symbols=list(struct.symbol_set),\n",
    "                functional=\"PBE\")\n",
    "    potcar.write_file(path+'POTCAR')\n",
    "    \n",
    "    # slurm for each calc\n",
    "    with open(path + \"parallel.sh\", \"w\") as f:\n",
    "        f.write(\n",
    "            \"#!/bin/bash\\n\"\n",
    "            \n",
    "            \"#SBATCH -J 2vCF\" +key.split('_')[2] + \" \\n\"\n",
    "            \n",
    "            \"#SBATCH -t 0-06:00\\n\"\n",
    "            \"#SBATCH -n 56\\n\"\n",
    "            \n",
    "            \"#SBATCH -q aggressive \\n#SBATCH --mem-per-cpu=4000\\n\"\n",
    "            \"#SBATCH --exclusive\\n#SBATCH -o error.%j.out\\n\"\n",
    "            \n",
    "            \"cd /scratch/tboland1/2vac/struct_opt/o_cf_\"+ key.split('_')[2]+'/' + \"\\n\"\n",
    "            \n",
    "            \"\\nmodule load intel/2018x\\nmodule load vasp/5.4.4-elpa\\n\"\n",
    "            'export I_MPI_HYDRA_BOOTSTRAP_EXEC_EXTRA_ARGS=\"--cpu-bind=verbose,none\"\\n'\n",
    "            \"export I_MPI_HYDRA_BOOTSTRAP=slurm\\nexport I_MPI_HYDRA_BOOTSTRAP_EXEC=srun\\n\\n\\n\"\n",
    "            \"mpiexec.hydra vasp_gam\")"
   ]
  },
  {
   "cell_type": "code",
   "execution_count": 13,
   "metadata": {
    "code_folding": [
     0
    ]
   },
   "outputs": [],
   "source": [
    "# high kp rlx (ran)\n",
    "for key in config_Struct_dict.keys():\n",
    "    from pymatgen.io.vasp.inputs import Incar, Kpoints, Potcar\n",
    "    path = wd+'struct_opt/o_cf_'+key.split('_')[2]+'/'\n",
    "      \n",
    "    # create INCAR\n",
    "    relax_init_incar = Incar.from_file(home+'INCAR')\n",
    "    relax_init_incar['System'] = \"2 vac High KP relax \"+key\n",
    "    relax_init_incar['NPAR']   = 2\n",
    "    relax_init_incar['KPAR']   = 1\n",
    "    relax_init_incar['ENCUT']  = 520\n",
    "    relax_init_incar['ISIF']   = 3\n",
    "    relax_init_incar['EDIFFG'] = -0.01\n",
    "    relax_init_incar['EDIFF']  = 0.1E-05\n",
    "    relax_init_incar['MAGMOM'] = ' '.join(str(el) for el in [2]*32+[0.5]*63)\n",
    "    relax_init_incar['ISPIN']  = 2\n",
    "    \n",
    "    ul = [-1]*len(struct.symbol_set)\n",
    "    uu = [0]*len(struct.symbol_set)\n",
    "    counter = 0\n",
    "    for element in list(struct.symbol_set):\n",
    "        if element == 'Ce':\n",
    "            ul[counter] = 3    \n",
    "            uu[counter] = 5 \n",
    "        counter += 1\n",
    "    relax_init_incar['LDAUL']  = ul\n",
    "    relax_init_incar['LDAUU']  = uu\n",
    "    relax_init_incar['LDAUJ']  = [0]*len(struct.symbol_set)\n",
    "    relax_init_incar.write_file(path+'INCAR')\n",
    "    \n",
    "    kp_file = Kpoints.automatic_density(structure=struct,kppa=800)\n",
    "    kp_file.write_file(path+'KPOINTS')       "
   ]
  },
  {
   "cell_type": "code",
   "execution_count": 15,
   "metadata": {
    "code_folding": [
     0
    ]
   },
   "outputs": [],
   "source": [
    "# spE ported o_cf_{3,5,9} (ran) \n",
    "for key in config_Struct_dict.keys():\n",
    "    from pymatgen.io.vasp.inputs import Incar, Kpoints, Potcar\n",
    "    path = wd+'struct_opt/o_cf_'+key.split('_')[2]+'/'\n",
    "      \n",
    "    # create INCAR\n",
    "    relax_init_incar = Incar.from_file(home+'INCAR')\n",
    "    relax_init_incar['System']= \"2 vac spE \"+key\n",
    "    relax_init_incar['NPAR']    = 2\n",
    "    relax_init_incar['KPAR']    = 1\n",
    "    relax_init_incar['ENCUT']   = 400\n",
    "    relax_init_incar['ISIF']    = 2\n",
    "    relax_init_incar['NSW']     = 0\n",
    "    relax_init_incar['IBRION']  = -1\n",
    "    \n",
    "    relax_init_incar['ISPIN']   = 2\n",
    "    \n",
    "    relax_init_incar['EDIFF']   = 0.1E-05\n",
    "    relax_init_incar.pop('EDIFFG')\n",
    "    relax_init_incar.pop('POTIM')    \n",
    "    \n",
    "    ul = [-1]*len(struct.symbol_set)\n",
    "    uu = [0]*len(struct.symbol_set)\n",
    "    counter = 0\n",
    "    for element in list(struct.symbol_set):\n",
    "        if element == 'Ce':\n",
    "            ul[counter] = 3    \n",
    "            uu[counter] = 5 \n",
    "        counter += 1\n",
    "    relax_init_incar['LDAUL']  = ul\n",
    "    relax_init_incar['LDAUU']  = uu\n",
    "    relax_init_incar['LDAUJ']  = [0]*len(struct.symbol_set)\n",
    "    relax_init_incar.write_file(path+'INCAR')\n",
    "    \n",
    "    "
   ]
  },
  {
   "cell_type": "markdown",
   "metadata": {},
   "source": [
    "### Analyzing System Energy for 2 O$_{vac}$'s "
   ]
  },
  {
   "cell_type": "code",
   "execution_count": 15,
   "metadata": {
    "code_folding": [
     0
    ]
   },
   "outputs": [
    {
     "name": "stdout",
     "output_type": "stream",
     "text": [
      "The final energy for config o_cf_3 is -763.66\n",
      "The percent volume change in final relax is 0.36%.\n",
      "The composition is Ce32 O62\n",
      "The final energy for config o_cf_9 is -764.12\n",
      "The percent volume change in final relax is 0.00%.\n",
      "The composition is Ce32 O62\n",
      "The final energy for config o_cf_5 is -764.75\n",
      "The percent volume change in final relax is 0.20%.\n",
      "The composition is Ce32 O62\n"
     ]
    }
   ],
   "source": [
    "# dos & final energy (done)\n",
    "for key in ['o_cf_3','o_cf_9','o_cf_5']:\n",
    "    from pymatgen.io.vasp.inputs import Incar, Kpoints, Potcar\n",
    "    path = wd+'struct_opt/o_cf_'+key.split('_')[2]+'/'\n",
    "    E_vac = Oszicar(filename=path + \"spE/OSZICAR\")\n",
    "    print(\"The final energy for config {}\"\n",
    "          \" is {:0.2f}\".format(key,\n",
    "              E_vac.final_energy))\n",
    "    # check the volume change on the final relaxation\n",
    "    try :\n",
    "        RlxVolume_init =Poscar.from_file(\n",
    "            path+'relax-v1/POSCAR').structure.volume\n",
    "        RlxVolume_final=Poscar.from_file(\n",
    "            path+'relax-v1/CONTCAR').structure.volume\n",
    "        print('The percent volume change in final relax is {:0.2f}%.'.format(\n",
    "            (1-RlxVolume_init/RlxVolume_final)*100))\n",
    "    except :\n",
    "        RlxVolume_init =Poscar.from_file(\n",
    "            path+'relax-v1.1/POSCAR').structure.volume\n",
    "        RlxVolume_final=Poscar.from_file(\n",
    "            path+'relax-v1.1/CONTCAR').structure.volume\n",
    "        print('The percent volume change in final relax is {:0.2f}%.'.format(\n",
    "            (1-RlxVolume_init/RlxVolume_final)*100))        \n",
    "    print('The composition is {}'.format(Poscar.from_file(\n",
    "        path+'spE/POSCAR').structure.composition))"
   ]
  },
  {
   "cell_type": "code",
   "execution_count": 16,
   "metadata": {
    "code_folding": [
     0
    ],
    "scrolled": true
   },
   "outputs": [
    {
     "name": "stdout",
     "output_type": "stream",
     "text": [
      "o_cf_3\n"
     ]
    },
    {
     "data": {
      "image/png": "[encoded data removed]",
      "text/plain": [
       "<Figure size 432x288 with 1 Axes>"
      ]
     },
     "metadata": {
      "needs_background": "light"
     },
     "output_type": "display_data"
    },
    {
     "data": {
      "image/png": "[encoded data removed]",
      "text/plain": [
       "<Figure size 432x288 with 1 Axes>"
      ]
     },
     "metadata": {
      "needs_background": "light"
     },
     "output_type": "display_data"
    },
    {
     "name": "stdout",
     "output_type": "stream",
     "text": [
      "o_cf_5\n"
     ]
    },
    {
     "data": {
      "image/png": "[encoded data removed]",
      "text/plain": [
       "<Figure size 432x288 with 1 Axes>"
      ]
     },
     "metadata": {
      "needs_background": "light"
     },
     "output_type": "display_data"
    },
    {
     "data": {
      "image/png": "[encoded data removed]",
      "text/plain": [
       "<Figure size 432x288 with 1 Axes>"
      ]
     },
     "metadata": {
      "needs_background": "light"
     },
     "output_type": "display_data"
    },
    {
     "name": "stdout",
     "output_type": "stream",
     "text": [
      "o_cf_9\n"
     ]
    },
    {
     "data": {
      "image/png": "[encoded data removed]",
      "text/plain": [
       "<Figure size 432x288 with 1 Axes>"
      ]
     },
     "metadata": {
      "needs_background": "light"
     },
     "output_type": "display_data"
    },
    {
     "data": {
      "image/png": "[encoded data removed]",
      "text/plain": [
       "<Figure size 432x288 with 1 Axes>"
      ]
     },
     "metadata": {
      "needs_background": "light"
     },
     "output_type": "display_data"
    }
   ],
   "source": [
    "for key in ['o_cf_3','o_cf_5','o_cf_9']:\n",
    "    from pymatgen.io.vasp.inputs import Incar, Kpoints, Potcar\n",
    "    path = wd+'struct_opt/o_cf_'+key.split('_')[2]+'/'\n",
    "    print(key)\n",
    "    plot_density_of_states(path+'spE/')"
   ]
  },
  {
   "cell_type": "markdown",
   "metadata": {},
   "source": [
    "# Working on it: Migration Energy: 2 Vacancies 2x2x2\n",
    "\n",
    "Method isif2 is used to relax the structures. \n",
    "\n",
    "Sync command:\n",
    "\n",
    "    rsync -azPn migration/ tboland1@agave.asu.edu:/scratch/tboland1/2vac/migration/\n",
    "    \n",
    "    rsync -azPn --include='KPOINTS' --include='INCAR' --include='*/' --exclude='*' migration/ tboland1@agave.asu.edu:/scratch/tboland1/2vac/migration/\n",
    "    \n",
    "    rsync -azPn --include='INCAR' --include='*/' --exclude='*' migration/ tboland1@agave.asu.edu:/scratch/tboland1/2vac/migration/\n",
    "    \n",
    "    rsync -azPn --exclude='WAVECAR*' --include='*' tboland1@agave.asu.edu:/scratch/tboland1/2vac/migration/ migration/"
   ]
  },
  {
   "cell_type": "code",
   "execution_count": 14,
   "metadata": {
    "code_folding": [
     0
    ]
   },
   "outputs": [],
   "source": [
    "# write slurm, POSCAR, INCAR, KPOINTS and POTCAR files ()\n",
    "for key in config_Struct_dict.keys():\n",
    "    from pymatgen.io.vasp.inputs import Incar, Kpoints, Potcar\n",
    "    path = wd+'migration/o_cf_'+key.split('_')[2]+'/'\n",
    "    try :\n",
    "        os.makedirs(wd+'migration/o_cf_'+key.split('_')[2])\n",
    "    except :\n",
    "        path = path\n",
    "    \n",
    "    # create the structure\n",
    "    struct = config_Struct_dict[key]\n",
    "    struct.remove_oxidation_states()\n",
    "    struct.to(filename = path +'POSCAR_init', fmt = 'POSCAR')\n",
    "    \n",
    "    \n",
    "    # create INCAR\n",
    "    relax_init_incar = Incar.from_file(home+'INCAR')\n",
    "    relax_init_incar['System'] = \"2 vac initial relax \"+key\n",
    "    relax_init_incar['NPAR']   = 2\n",
    "    relax_init_incar['KPAR']   = 1\n",
    "    relax_init_incar['ENCUT']  = 520\n",
    "    relax_init_incar['ISIF']   = 3\n",
    "    relax_init_incar['EDIFFG'] = -0.01\n",
    "    relax_init_incar['EDIFF']  = 0.1E-05\n",
    "    \n",
    "    ul = [-1]*len(struct.symbol_set)\n",
    "    uu = [0]*len(struct.symbol_set)\n",
    "    counter = 0\n",
    "    for element in list(struct.symbol_set):\n",
    "        if element == 'Ce':\n",
    "            ul[counter] = 3    \n",
    "            uu[counter] = 5 \n",
    "        counter += 1\n",
    "    relax_init_incar['LDAUL']  = ul\n",
    "    relax_init_incar['LDAUU']  = uu\n",
    "    relax_init_incar['LDAUJ']  = [0]*len(struct.symbol_set)\n",
    "    \n",
    "    relax_init_incar.write_file(path+'INCAR')\n",
    "    \n",
    "    # create KPOINTS\n",
    "    kp_file = Kpoints.automatic_density(structure=struct,kppa=50)\n",
    "    kp_file.write_file(path+'KPOINTS')\n",
    "    \n",
    "    # create POTCAR\n",
    "    potcar = Potcar(symbols=list(struct.symbol_set),\n",
    "                functional=\"PBE\")\n",
    "    potcar.write_file(path+'POTCAR')\n",
    "    \n",
    "    # slurm for each calc\n",
    "    with open(path + \"parallel.sh\", \"w\") as f:\n",
    "        f.write(\n",
    "            \"#!/bin/bash\\n\"\n",
    "            \n",
    "            \"#SBATCH -J 2vCF\" +key.split('_')[2] + \" \\n\"\n",
    "            \n",
    "            \"#SBATCH -t 0-06:00\\n\"\n",
    "            \"#SBATCH -n 56\\n\"\n",
    "            \n",
    "            \"#SBATCH -q aggressive \\n#SBATCH --mem-per-cpu=4000\\n\"\n",
    "            \"#SBATCH --exclusive\\n#SBATCH -o error.%j.out\\n\"\n",
    "            \n",
    "            \"cd /scratch/tboland1/2vac/migration/o_cf_\"+ key.split('_')[2]+'/' + \"\\n\"\n",
    "            \n",
    "            \"\\nmodule load intel/2018x\\nmodule load vasp/5.4.4-elpa\\n\"\n",
    "            'export I_MPI_HYDRA_BOOTSTRAP_EXEC_EXTRA_ARGS=\"--cpu-bind=verbose,none\"\\n'\n",
    "            \"export I_MPI_HYDRA_BOOTSTRAP=slurm\\nexport I_MPI_HYDRA_BOOTSTRAP_EXEC=srun\\n\\n\\n\"\n",
    "            \"mpiexec.hydra vasp_gam\")"
   ]
  },
  {
   "cell_type": "code",
   "execution_count": null,
   "metadata": {
    "code_folding": [
     0
    ]
   },
   "outputs": [],
   "source": [
    "# high kp rlx ()\n",
    "for key in config_Struct_dict.keys():\n",
    "    from pymatgen.io.vasp.inputs import Incar, Kpoints, Potcar\n",
    "    path = wd+'migration/o_cf_'+key.split('_')[2]+'/'\n",
    "      \n",
    "    # create INCAR\n",
    "    relax_init_incar = Incar.from_file(home+'INCAR')\n",
    "    relax_init_incar['System'] = \"2 vac High KP relax \"+key\n",
    "    relax_init_incar['NPAR']   = 2\n",
    "    relax_init_incar['KPAR']   = 1\n",
    "    relax_init_incar['ENCUT']  = 520\n",
    "    relax_init_incar['ISIF']   = 3\n",
    "    relax_init_incar['EDIFFG'] = -0.01\n",
    "    relax_init_incar['EDIFF']  = 0.1E-05\n",
    "    relax_init_incar['MAGMOM'] = ' '.join(str(el) for el in [2]*32+[0.5]*63)\n",
    "    relax_init_incar['ISPIN']  = 2\n",
    "    \n",
    "    ul = [-1]*len(struct.symbol_set)\n",
    "    uu = [0]*len(struct.symbol_set)\n",
    "    counter = 0\n",
    "    for element in list(struct.symbol_set):\n",
    "        if element == 'Ce':\n",
    "            ul[counter] = 3    \n",
    "            uu[counter] = 5 \n",
    "        counter += 1\n",
    "    relax_init_incar['LDAUL']  = ul\n",
    "    relax_init_incar['LDAUU']  = uu\n",
    "    relax_init_incar['LDAUJ']  = [0]*len(struct.symbol_set)\n",
    "    relax_init_incar.write_file(path+'INCAR')\n",
    "    \n",
    "    kp_file = Kpoints.automatic_density(structure=struct,kppa=800)\n",
    "    kp_file.write_file(path+'KPOINTS')       "
   ]
  },
  {
   "cell_type": "code",
   "execution_count": null,
   "metadata": {
    "code_folding": [
     0
    ]
   },
   "outputs": [],
   "source": [
    "# spE ported o_cf_{3,5,9} () \n",
    "for key in config_Struct_dict.keys():\n",
    "    from pymatgen.io.vasp.inputs import Incar, Kpoints, Potcar\n",
    "    path = wd+'migration/o_cf_'+key.split('_')[2]+'/'\n",
    "      \n",
    "    # create INCAR\n",
    "    relax_init_incar = Incar.from_file(home+'INCAR')\n",
    "    relax_init_incar['System']= \"2 vac spE \"+key\n",
    "    relax_init_incar['NPAR']    = 2\n",
    "    relax_init_incar['KPAR']    = 1\n",
    "    relax_init_incar['ENCUT']   = 400\n",
    "    relax_init_incar['ISIF']    = 2\n",
    "    relax_init_incar['NSW']     = 0\n",
    "    relax_init_incar['IBRION']  = -1\n",
    "    \n",
    "    relax_init_incar['ISPIN']   = 2\n",
    "    \n",
    "    relax_init_incar['EDIFF']   = 0.1E-05\n",
    "    relax_init_incar.pop('EDIFFG')\n",
    "    relax_init_incar.pop('POTIM')    \n",
    "    \n",
    "    ul = [-1]*len(struct.symbol_set)\n",
    "    uu = [0]*len(struct.symbol_set)\n",
    "    counter = 0\n",
    "    for element in list(struct.symbol_set):\n",
    "        if element == 'Ce':\n",
    "            ul[counter] = 3    \n",
    "            uu[counter] = 5 \n",
    "        counter += 1\n",
    "    relax_init_incar['LDAUL']  = ul\n",
    "    relax_init_incar['LDAUU']  = uu\n",
    "    relax_init_incar['LDAUJ']  = [0]*len(struct.symbol_set)\n",
    "    relax_init_incar.write_file(path+'INCAR')\n",
    "    \n",
    "    "
   ]
  },
  {
   "cell_type": "markdown",
   "metadata": {},
   "source": [
    "## Analyzing Migration Energy Isif2"
   ]
  },
  {
   "cell_type": "code",
   "execution_count": null,
   "metadata": {
    "code_folding": [
     0
    ]
   },
   "outputs": [],
   "source": [
    "# final energy ()\n",
    "for key in ['o_cf_3','o_cf_9','o_cf_5']:\n",
    "    from pymatgen.io.vasp.inputs import Incar, Kpoints, Potcar\n",
    "    path = wd+'migration/o_cf_'+key.split('_')[2]+'/'\n",
    "    E_vac = Oszicar(filename=path + \"spE/OSZICAR\")\n",
    "    print(\"The final energy for config {}\"\n",
    "          \" is {:0.2f}\".format(key,\n",
    "              E_vac.final_energy))\n",
    "    # check the volume change on the final relaxation\n",
    "    try :\n",
    "        RlxVolume_init =Poscar.from_file(\n",
    "            path+'relax-v1/POSCAR').structure.volume\n",
    "        RlxVolume_final=Poscar.from_file(\n",
    "            path+'relax-v1/CONTCAR').structure.volume\n",
    "        print('The percent volume change in final relax is {:0.2f}%.'.format(\n",
    "            (1-RlxVolume_init/RlxVolume_final)*100))\n",
    "    except :\n",
    "        RlxVolume_init =Poscar.from_file(\n",
    "            path+'relax-v1.1/POSCAR').structure.volume\n",
    "        RlxVolume_final=Poscar.from_file(\n",
    "            path+'relax-v1.1/CONTCAR').structure.volume\n",
    "        print('The percent volume change in final relax is {:0.2f}%.'.format(\n",
    "            (1-RlxVolume_init/RlxVolume_final)*100))        \n",
    "    print('The composition is {}'.format(Poscar.from_file(\n",
    "        path+'spE/POSCAR').structure.composition))    "
   ]
  },
  {
   "cell_type": "code",
   "execution_count": null,
   "metadata": {
    "code_folding": [
     0
    ]
   },
   "outputs": [],
   "source": [
    "for key in ['o_cf_3','o_cf_5','o_cf_9']:\n",
    "    from pymatgen.io.vasp.inputs import Incar, Kpoints, Potcar\n",
    "    path = wd+'migration/o_cf_'+key.split('_')[2]+'/'\n",
    "    plot_density_of_states(path+'spE/')"
   ]
  }
 ],
 "metadata": {
  "kernelspec": {
   "display_name": "Environment (conda_anaconda3)",
   "language": "python",
   "name": "conda_anaconda3"
  },
  "language_info": {
   "codemirror_mode": {
    "name": "ipython",
    "version": 3
   },
   "file_extension": ".py",
   "mimetype": "text/x-python",
   "name": "python",
   "nbconvert_exporter": "python",
   "pygments_lexer": "ipython3",
   "version": "3.6.8"
  },
  "latex_envs": {
   "LaTeX_envs_menu_present": true,
   "autoclose": true,
   "autocomplete": true,
   "bibliofile": "biblio.bib",
   "cite_by": "apalike",
   "current_citInitial": 1,
   "eqLabelWithNumbers": true,
   "eqNumInitial": 1,
   "hotkeys": {
    "equation": "Ctrl-E",
    "itemize": "Ctrl-I"
   },
   "labels_anchors": false,
   "latex_user_defs": false,
   "report_style_numbering": false,
   "user_envs_cfg": false
  },
  "notify_time": "5",
  "varInspector": {
   "cols": {
    "lenName": 16,
    "lenType": 16,
    "lenVar": 40
   },
   "kernels_config": {
    "python": {
     "delete_cmd_postfix": "",
     "delete_cmd_prefix": "del ",
     "library": "var_list.py",
     "varRefreshCmd": "print(var_dic_list())"
    },
    "r": {
     "delete_cmd_postfix": ") ",
     "delete_cmd_prefix": "rm(",
     "library": "var_list.r",
     "varRefreshCmd": "cat(var_dic_list()) "
    }
   },
   "position": {
    "height": "680px",
    "left": "567px",
    "right": "20px",
    "top": "120px",
    "width": "336px"
   },
   "types_to_exclude": [
    "module",
    "function",
    "builtin_function_or_method",
    "instance",
    "_Feature"
   ],
   "window_display": false
  }
 },
 "nbformat": 4,
 "nbformat_minor": 2
}
