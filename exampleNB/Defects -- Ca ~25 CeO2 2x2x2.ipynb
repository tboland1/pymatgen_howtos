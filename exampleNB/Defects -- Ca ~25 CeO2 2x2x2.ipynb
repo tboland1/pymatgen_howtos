{
 "cells": [
  {
   "cell_type": "code",
   "execution_count": 1,
   "metadata": {
    "code_folding": [
     0
    ],
    "slideshow": {
     "slide_type": "skip"
    }
   },
   "outputs": [
    {
     "data": {
      "application/javascript": [
       "IPython.notebook.set_autosave_interval(120000)"
      ]
     },
     "metadata": {},
     "output_type": "display_data"
    },
    {
     "name": "stdout",
     "output_type": "stream",
     "text": [
      "Autosaving every 120 seconds\n",
      "Last ran on /home/tboland1/Crozier Group Dropbox/Crozier Group/Crozier Group User- Tara Boland/pymatgen from 2019-02-11 16:58:35.917202. \n",
      "\n",
      "home is /home/tboland1/Dropbox/TaraB/DFT/\n"
     ]
    }
   ],
   "source": [
    "### python imports & personal functions ###\n",
    "\n",
    "%autosave 120\n",
    "%matplotlib inline\n",
    "from basicimports import *\n",
    "\n",
    "# The directory for the 25CCO calculations\n",
    "forme_loc = home+'cco25/'"
   ]
  },
  {
   "cell_type": "markdown",
   "metadata": {
    "slideshow": {
     "slide_type": "slide"
    }
   },
   "source": [
    "## Making 25% Ca doped CeO2 \n",
    "Initially I have started with a 1x1x1 conventional unit cell of CeO$_{2}$.\n",
    "\n",
    "This is done to ensure that the code produces results which align with what I believe the correct answer is.\n",
    "\n",
    "This code should only get one crystallographically unique structure. "
   ]
  },
  {
   "cell_type": "code",
   "execution_count": 3,
   "metadata": {
    "code_folding": [
     0
    ],
    "slideshow": {
     "slide_type": "fragment"
    }
   },
   "outputs": [
    {
     "name": "stdout",
     "output_type": "stream",
     "text": [
      "There is a total of 4 structures created using the ODT.\n"
     ]
    }
   ],
   "source": [
    "# Define the Specie, Create the Structure, Use OrdDisTran generator\n",
    "specie = [{\"Ce4+\":0.75,\"Ca2+\":0.25}, {\"O2-\":1}]\n",
    "structure = Structure.from_spacegroup(\"Fm-3m\", Lattice.cubic(5.494),\n",
    "                                 specie, \n",
    "                                 [[0, 0, 0],[0.25,0.25,0.25]])\n",
    "struct = structure.copy()\n",
    "\n",
    "from pymatgen.transformations.standard_transformations import OrderDisorderedStructureTransformation\n",
    "# generate all possible crystallographical configurations\n",
    "trans = OrderDisorderedStructureTransformation()\n",
    "ss = trans.apply_transformation(struct, return_ranked_list=10000)\n",
    "print('There is a total of {} structures created using the ODT.'.format(len(ss)))"
   ]
  },
  {
   "cell_type": "markdown",
   "metadata": {
    "slideshow": {
     "slide_type": "subslide"
    }
   },
   "source": [
    "## Remove Duplicated Structures from our list\n",
    "This generator method does not remove duplicate structures.\n",
    "\n",
    "Pymatgen's structure matcher can be used to reduce the number of duplicated structures generated using the OrderDisorderedStructureTransformation."
   ]
  },
  {
   "cell_type": "code",
   "execution_count": 4,
   "metadata": {
    "code_folding": [
     0
    ],
    "slideshow": {
     "slide_type": "fragment"
    }
   },
   "outputs": [
    {
     "name": "stdout",
     "output_type": "stream",
     "text": [
      "The total number of unique structures found is 1.\n",
      "The number frequency with which each structure occures is \n",
      "\t 4.\n"
     ]
    }
   ],
   "source": [
    "# rm duplicate structs\n",
    "from pymatgen.analysis.structure_matcher import StructureMatcher\n",
    "\n",
    "# initialize the object\n",
    "matcher = StructureMatcher()\n",
    "\n",
    "# Pass a list of structures to the matcher\n",
    "# so the SM can group the structures by their similarity\n",
    "matches = matcher.group_structures([d[\"structure\"] for d in ss])\n",
    "\n",
    "groups = [matches[i][0] for i in range(len(matches))]\n",
    "unique_count = len(groups)\n",
    "num_freq =  [len(matches[i]) for i in range(len(matches))]\n",
    "print(\"The total number of unique structures found is {}.\\n\"\n",
    "       \"The number frequency with which each structure occures is \\n\\t {}.\".format(\n",
    "           unique_count, ' '.join([str(x) for x in num_freq])))"
   ]
  },
  {
   "cell_type": "markdown",
   "metadata": {},
   "source": [
    "### Repeat for  2x2x2 unit cell\n",
    "* make the 2x2x2 supercell\n",
    "* check the struct\n",
    "* apply the odst"
   ]
  },
  {
   "cell_type": "code",
   "execution_count": 5,
   "metadata": {},
   "outputs": [
    {
     "data": {
      "text/html": [
       "<a href='https://viewer.materialsproject.org?structure=eJzVmEFvm0AQhf-KxbUJsjHskpwi5Qfk0KMVVZigxBK2IxtXSaP89wKGsjOe3VP70rkEA4a8efO9Ae9HdLfdP53qKrqdRa_v26J5rnZxuT9U8bE5nMrmdKiiq1l0V9bF8dh96bt7uHwpDs_dtbtTXbf7ddE0m7I78BG19zps3tqPq9ViHt_k-dVsHs_7P49Xs1X_2Tnx55hz4rE9GBXtLcbvRWt3p3R3ivr1pfvqTX99tK4aZ--52G6d3Z_7-rTtVC6WiYlNmttsntjksz113DRVV-fqIzq-VuVm3Knqalvtms6B-770_dvmqWg2-92PY1M03c3S_t77sjy1O_PYZu396IWFfGFCL0yyz77udVef48nZpOjt_Zd4vC7WVX3-N8m32-427bn7Ku0-t_VFvZr_r6ZMrCmL05tUZ1WZ2Km-IMW9ysReDVXp7FYm5mpqlM5uZWKy3KoUd-siWy6Aivt1kS5al86O9RAm2fkvnxxJbFM7bDRXZn2V5XGSLnRWZj0960tS3TPr6dlQmc6eZZ6cDcNDddIyT9JobYr7JmRtqE112jJP2mhtOvuWTK9YpG8DjNNDQHNl1leZ5p5dZm2ozB0nmmuTuuZGTl1t1pO1YYAozpr1ZM2tTHPPLrM2VKY6a9aTNVqbzr4lzsvW_HKOTA8B1ZUJE9IdlEprs76uTeNEdWVC19zIqavNerLmvvTr7Jr1ZI1Wprlrl1lzf85o7tpl1mhlf6drD7LCayJxQfUtzkBNG0fjIl7aZXucbonMh-T6X2syQU0mzo3FaTIhn85a4D6ZkE-jJpRPJsAT9QfnkwnwxDWBfRJ5oj2D-yTyxDWhfFpaP09puz__Ap6oJhPUBPZJ5GnUhOaJapJ9QvOUB3i6ic0i_QKe8gBPXBPYJ5GnUROapzzAE9cEzt00EgTG6UxAa5JzR_MH05SHfKKsozXJPlGuYIyLPI1a0DzlAZ64JrBPIk-jJjRPeYAnrgn8u0XkaXymoHmimuTfLWieBk0iT6MmNE9Uk-wTmicT4Gl89qJ5MgGeuCawTyJPoyY0TybAE9f0NfNpaUOz4LxFa8qDms5-oWeB7BN9FqM1yT7R5x56FlCf-CxA-WQCPHFNYJ9EnvgsAPsk8sQ1gXM3jQSBcToT0Jrk3NH8wTSZkE-UdbQm2SfKFYxxkSe-Fg3OncgT1wT2SeSJr0WDfRJ54ppQPtG1aOoTX4tG-UQ15UFNYJ9EnvhaNNgnkSeuCeVTHuCJr0WjfMoDPHFNYJ9EnvhaNNgnkSeuCZw78X2cr0WDcye-j3NNYJ_E93G-Fg32SXwf55rAuRN54mvR4NyJPHFNYJ9EnvhaNNgnkSeuyefT4-dvblBOZQ==' target='_blank'>Click to view structure.</a>"
      ],
      "text/plain": [
       "<IPython.core.display.HTML object>"
      ]
     },
     "metadata": {},
     "output_type": "display_data"
    }
   ],
   "source": [
    "struct_222 = structure.copy()\n",
    "struct_222.make_supercell([2,2,2])\n",
    "gvl(struct_222)"
   ]
  },
  {
   "cell_type": "code",
   "execution_count": 6,
   "metadata": {},
   "outputs": [
    {
     "name": "stdout",
     "output_type": "stream",
     "text": [
      "100\n"
     ]
    }
   ],
   "source": [
    "ss = trans.apply_transformation(struct_222, return_ranked_list=100)\n",
    "print(len(ss))"
   ]
  },
  {
   "cell_type": "markdown",
   "metadata": {},
   "source": [
    "Vacancy creating code because I can't find resources to do pymatgen\n",
    "\n",
    "This was the structure variable for the first for loop structure editing to obtain the correct formalism for one atom structure to be extended to multiple structures.\n",
    "% teststr = groups[1][0]\n",
    "\n",
    "Function: Iteration to ensure we are removing the oxygen atoms from within the (0,0,0) unit cell. The get_neighbor function returns a list of atom numbers from nearby unit cells.\n",
    "\n",
    "Augmentations to the structure: Delete the atom from the structure corresponding to each dopant. The loop then breaks from the current dopant in the structure and moves to the next dopant site to look at where to remove an oxygen atom from next.\n",
    "\n",
    "Set the break and counter flag for the iterations. Run over each atom finding the  from the list"
   ]
  },
  {
   "cell_type": "markdown",
   "metadata": {},
   "source": [
    "### Get Unique structures \n",
    "This should return more unique structures for the 2x2x2 supercell since there are more possible combinations of unique Ca arrangements. "
   ]
  },
  {
   "cell_type": "code",
   "execution_count": 7,
   "metadata": {
    "code_folding": [
     0
    ]
   },
   "outputs": [
    {
     "name": "stdout",
     "output_type": "stream",
     "text": [
      "The total number of unique structures found is 3.\n",
      "The number frequency with which each structure occures is \n",
      "\t 12 4 84.\n"
     ]
    },
    {
     "data": {
      "text/html": [
       "<a href='https://viewer.materialsproject.org?structure=eJzFmMFu2kAURX8FeVtiGWPPDF1F6gdk0SVClXFGCZKBCExFivLvtY1d5j2_GVWRuNmE2BByOJx54LlEj9v986my0fdJ9Pa-LeoXu4vL_cHGx_pwKuvTwUbTSfRYVsXx2D7op3u6fC0OL-3f7k5V1RxXRV1vyvbEJWqe67A5N78ul7MkXhgznSRx0v1YTSfL7nfnjn_nnDtWzcmoaJ5ieFy0dg9K96Co3l7bhy66v4_WtnaOXort1jn8va9O25ZyNk9VrDKj8yTV6Udz13FT2_Z1Li_R8c2Wm-HAVnZrd3Vr4EfRvvT9efNc1Jv97texLur2ydLuufdleWqf-aNjX7eMzutK4rw9f37_Q8_ncbbIVp3Bta2u_yX9FjVEd-DIRY4OAUeSi0Z6CKiTXHTi6sCxpB3H9Wfi0KSxzvR00t_090FYtI_FxGk2Q7Foj5ceAupFe7z0LJ_3YmWW7L_mSiLOlRGFze5FMfLhThUMRy7acGcKkGPkg04U4DszDBX-3rhDBcuifSzd4kGxaI8Xd6hgWcZe3KGCKlfopY8WXEzuKYbSQN0IzfQ04GpyTzWUBuUmvY1e4ub2wYwz47BoHwvWy7iZnsUNGUsjmXHTAdBoTzO3L1A4M9rTjMuC9TJupmcBN6M9zVAa7HpKR1dr9PpIuFq7I4320biKYO_U2A29RsLSjN3Qq6TP0DzJMA-ha7bZVcvtxiGaxXM9b87TWwL1lD7cm0kFmVRslMYxqZCnKwvckwp5GphQnlSgJ-oH50kFeuJMYE9iT_Q9g3sSe-JMKE9z7e8pa46TL-iJMqkgE9iT2NPAhO6JMsme0D2ZQE-LWM2yL-jJBHriTGBPYk8DE7onE-iJM4HX3W0kCI3TmYBmktcdXX8wJhPyRFtHM8meaFewxsWeBhZ0TybQE2cCexJ7GpjQPZlAT5wJfN0i9jR8pqB7okzydQu6p55J7GlgQvdEmWRP6J5UoKfhsxfdkwr0xJnAnsSeBiZ0TyrQE2f6mvk016FZcL1FM5kg09UXehbInuhnMZpJ9kQ_99CzgHriswDlSQV64kxgT2JPfBaAPYk9cSbwuruNBKFxOhPQTPK6o-sPxqRCnmjraCbZE-0K1rjYE9-LBq87sSfOBPYk9sT3osGexJ44E8oT3YumnvheNMoTZTJBJrAnsSe-Fw32JPbEmVCeTKAnvheN8mQCPXEmsCexJ74XDfYk9sSZwOtO_D7O96LB6078Ps6ZwJ7E7-N8LxrsSfw-zpnA607sie9Fg9ed2BNnAnsSe-J70WBPYk-cyedp9fEXJiep-A==' target='_blank'>Click to view structure.</a>"
      ],
      "text/plain": [
       "<IPython.core.display.HTML object>"
      ]
     },
     "metadata": {},
     "output_type": "display_data"
    },
    {
     "data": {
      "text/html": [
       "<a href='https://viewer.materialsproject.org?structure=eJzFmM1u2kAURl8FeVtigbFnhq4i9QGy6BJFlXFGCZKBCExFGuXd69967vWdqRSJLxscG3AOhzNjM-_R_f74dClt9H0Wvb7t8-rZHuLieLLxuTpdiupystF8Ft0XZX4-Ny_66R4uXvLTc_Pew6Us6_0yr6pd0Rx4j-pznXbX-s_NZrmI18bMZ4t40T48zmeb9m_niX_HnCce64NRXp9ieF20dXcKdycvX1-al67b90dbWzl7z_l-7-z-PpaXfUO5XCUqVqnR2SLRyUf91HlX2eZzbt6j86stdsOOLe3eHqrGwI-8-ejH6-4pr3bHw69zlVfNyZL23MeiuDRn_mjZtw2j87m6Dxpd3_6Ix8t8a8vufyTfoprnVhSZSJHF6TpFcWSijRYB6iMTffQcKCOZ2McoA2UkEwtxOaBGJo24XwvUyaQSSvIpK1ZmSf9XbJJ1j7zZJNap7jeUxaa3ZdE-FhMn6RLFoj1eWgiwF-3x0rOgvGSeXvpswcVknmIoDdSN0ExPA64m81RDaVBukvFCQNz0X9E4xLEs2seC9TJtpmdxQ8bSSGbcdAA02tNMny60Ge1pxmXBepk207OAm9GeZigNdjwlk_s898Ik3OfdnEUYTe6ggtFon5kxZDCLYMZNB1bwtBn3go0yoz3NUBasmWkz7s0D1sy0GcryGTMPMsxd6DfcsvuKxo1DtIxXelUfp1sC9ZDc3ZpJBZlUbJTGMamQp44F7kmFPA1MKE8q0BP1g_OkAj1xJrAnsSf6ncE9iT1xJpSnlfb3lNb7iy_oiTKpIBPYk9jTwITuiTLJntA9mUBP61gt0y_oyQR64kxgT2JPAxO6JxPoiTOBx904JQiN0zkBzSSPOzr-YEwm5Im2jmaSPdGuYI2LPQ0s6J5MoCfOBPYk9jQwoXsygZ44E_h3i9jTcE1B90SZ5N8t6J56JrGngQndE2WSPaF7UoGehmsvuicV6IkzgT2JPQ1M6J5UoCfO9DXz00qH5oJui2YyQabOF3oukD3RazGaSfZEr3vouYB64nMBypMK9MSZwJ7EnvhcAPYk9sSZwONunBKExumcgGaSxx0dfzAmFfJEW0czyZ5oV7DGxZ74WjR43Ik9cSawJ7EnvhYN9iT2xJlQnuhaNPXE16JRniiTCTKBPYk98bVosCexJ86E8mQCPfG1aJQnE-iJM4E9iT3xtWiwJ7EnzgQed-L9OF-LBo878X6cM4E9iffjfC0a7Em8H-dM4HEn9sTXosHjTuyJM4E9iT3xtWiwJ7EnzuTz9PjxF13eqfg=' target='_blank'>Click to view structure.</a>"
      ],
      "text/plain": [
       "<IPython.core.display.HTML object>"
      ]
     },
     "metadata": {},
     "output_type": "display_data"
    },
    {
     "data": {
      "text/html": [
       "<a href='https://viewer.materialsproject.org?structure=eJzFmMFu4jAURX8FZTs0CiaxzawqzQd0MUuERiGNWqQAFYRRO1X_fZKQFL-XZ6uqxGVDcALhcH38Yvs9ut_uH09VGf2cRC9v27x-KndxsT-U8bE-nIr6dCij6SS6L6r8eGw_9Ns9XTznh6f2u7tTVTXtKq_rTdGeeI-aex02r83b5XKWxAtrp5MkTrqX1XSy7N47Fz7PORdWzckob24xfC5au43CbeTVy3P70UX3_Whd1k7rKd9unebffXXatpSzudKxTq3JEmXUR3PpuKnL9n8u36PjS1lshkZZldtyV7cJ_Mrbv75_3Tzm9Wa_-3Os87q9meruvS-KU3vnj4593TI6_yuJs_b869s_ej6L00W66hJcl9X5V9SPqCG6AkcmcnQIOJJMJHEhwCyqezUCjYpNaqYTG6t0BqAx2acsyqXpfr-_1CEBWJQTTeKw9JH0h_4ahMX4WC7xwPpozNJDfJ-llFnSL9WWRKwtI4oyvRbFKA-3smA4MjGNCwKeQ6govpp_PZJRz9BKC3RkKCncErekYFmMj0Wo-NdjMZ5c-loCzcV4cnHLG8pcwRf6XEYlk3l6qacB91Pm6SdKg-op5ZmzXCYIuGQcFuNjweYydqZncUXG0kjJuOoAaIynn9x5LpZl3E89C7ifjKefKA3WYTVaq9E1AGo2464CBBo3IlhPjddH7sMANbsynn6iLNhkxv1EV0jfoXmQYe5C67XZOZbLwSGaxXMzb87TI4F6UHfXZtJBJh1bbXBMOpTTmQWekw7lNDChctIBn2g-uJx0wCfOBM5J9In2GTwn0SfOhMppbvw-pU07uYFPlEkHmcA5iT4NTGifKJOcE9onG_BpEetZegOfbMAnzgTOSfRpYEL7ZAM-cSbwuLuUBMFxWhPQTPK4o-MPxmRDOVHX0UxyTtQrmOOiTwML2icb8IkzgXMSfRqY0D7ZgE-cCbxuEX0anilonyiTvG5B-9QziT4NTGifKJOcE9onHfBpePaifdIBnzgTOCfRp4EJ7ZMO-MSZblOf5iZUC85HNJMNMp3zQtcCOSf6LEYzyTnR5x66FtCceC1A5aQDPnEmcE6iT7wWgHMSfeJM4HF3KQmC47QmoJnkcUfHH4xJh3KirqOZ5JyoVzDHRZ_4XjR43Ik-cSZwTqJPfC8anJPoE2dC5UT3omlOfC8alRNlskEmcE6iT3wvGpyT6BNnQuVkAz7xvWhUTjbgE2cC5yT6xPeiwTmJPnEm8LgT5-N8Lxo87sT5OGcC5yTOx_leNDgncT7OmcDjTvSJ70WDx53oE2cC5yT6xPeiwTmJPnEmX06rj__WUan4' target='_blank'>Click to view structure.</a>"
      ],
      "text/plain": [
       "<IPython.core.display.HTML object>"
      ]
     },
     "metadata": {},
     "output_type": "display_data"
    }
   ],
   "source": [
    "# pass list of structs to SM\n",
    "matches = matcher.group_structures([d[\"structure\"] for d in ss])\n",
    "\n",
    "# get the first structure out of each unique structure listed\n",
    "groups = [matches[i][0] for i in range(len(matches))]\n",
    "\n",
    "unique_count = len(groups)\n",
    "num_freq =  [len(matches[i]) for i in range(len(matches))]\n",
    "\n",
    "print(\"The total number of unique structures found is {}.\\n\"\n",
    "       \"The number frequency with which each structure occures is \\n\\t {}.\".format(\n",
    "           unique_count, ' '.join([str(x) for x in num_freq])))\n",
    "\n",
    "for i in range(len(groups)):\n",
    "    gvl(groups[i])"
   ]
  },
  {
   "cell_type": "markdown",
   "metadata": {},
   "source": [
    "### Write out the doped structure and induce vacancies\n",
    "\n",
    "Create the structure files in poscar format and remove the extra O atom to enforce charge neutrality. "
   ]
  },
  {
   "cell_type": "code",
   "execution_count": 8,
   "metadata": {
    "code_folding": [
     0
    ]
   },
   "outputs": [
    {
     "name": "stdout",
     "output_type": "stream",
     "text": [
      "Getting the location of the dopant atoms\n",
      "\n",
      "The starting composition is:  Ca2+8 Ce4+24 O2-64\n",
      "(PeriodicSite: O2- (1.3735, 1.3735, 6.8675) [0.1250, 0.1250, 0.6250], 2.378971784195853, 33, array([0, 0, 0]))\n",
      "(PeriodicSite: O2- (1.3735, 6.8675, 6.8675) [0.1250, 0.6250, 0.6250], 2.378971784195853, 35, array([0, 0, 0]))\n",
      "(PeriodicSite: O2- (6.8675, 1.3735, 6.8675) [0.6250, 0.1250, 0.6250], 2.378971784195853, 37, array([0, 0, 0]))\n",
      "(PeriodicSite: O2- (6.8675, 6.8675, 6.8675) [0.6250, 0.6250, 0.6250], 2.378971784195853, 39, array([0, 0, 0]))\n",
      "(PeriodicSite: O2- (1.3735, 1.3735, 1.3735) [0.1250, 0.1250, 0.1250], 2.378971784195853, 32, array([0, 0, 0]))\n",
      "(PeriodicSite: O2- (1.3735, 6.8675, 1.3735) [0.1250, 0.6250, 0.1250], 2.378971784195853, 34, array([0, 0, 0]))\n",
      "(PeriodicSite: O2- (6.8675, 1.3735, 1.3735) [0.6250, 0.1250, 0.1250], 2.378971784195853, 36, array([0, 0, 0]))\n",
      "(PeriodicSite: O2- (6.8675, 6.8675, 1.3735) [0.6250, 0.6250, 0.1250], 2.378971784195853, 38, array([0, 0, 0]))\n",
      "There are 8 dopant atoms in the structure.\n",
      "The defect composition is Ca2+8 Ce4+24 O2-56\n",
      "The charge is 0.0\n"
     ]
    },
    {
     "data": {
      "text/html": [
       "<a href='https://viewer.materialsproject.org?structure=eJzFmF9vokAUR7-K4XUtQYSZcZ-a7Afowz4as0E6aU3wTxQ37Tb97gsIde7lzqRp4q8vWlDp8XhmgHmL7rf7x3Nlo5-T6PC6Leonu4vL_dHGp_p4Luvz0UbTSXRfVsXp1L7pt7u7fC6OT-1nd-eqararoq43ZbvjLWqOddy8NH8ul7MkXhgznSRx0j2sppNl97fzwsc-54VVszMqmkMM74vW7kbpbhTV4bl966L7fLS2tbP1VGy3zubffXXetpSzeapilRmdJ6lO35uXTpvatt9z-RadDrbcDBu2slu7q1sDv4r2q-9fNo9Fvdnv_pzqom4PlnbH3pfluT3ye8e-bhmd75XEebv_5fUf3Z_H2SJbdQbXtrr8l_RH1BDdgCMXOToEHEkuGukhoE5y0YmrA8eSdhyXx8ShSWOd6emkf-pfg7BoH4uJ02yGYtEeLz0E1Iv2eOlZvu7FyizZp-aVRJxXRhQ2uxXFyIc7q2A4ctGGO6cAOUY-6IwC_GWGSYX_Nu6kgmXRPpZu8KBYtMeLO6lgWcZe3EkFVa7QSx8tuJjcUwylgboRmulpwNXknmooDcpNep16iZvriRlnxmHRPhasl3EzPYsbMpZGMuOmA6DRnmauF1A4M9rTjMuC9TJupmcBN6M9zVAa7HhKR3dr9P5IuFu7IY320biKYL_U2A29R8LSjN3Qu6Sv0DzIMHehe7b5BWSWDk8OUdZsJ83-WfOu-cczgXpI727NpIJMKjZK45hUyNOFBe5JhTwNTChPJtDTIlaz7Bt6MoGeOBPYk9jTwITuyQR64kzgcXedEoTG6ZyAZpLHHR1_MCYT8kRbRzPJnmhXsMbFngYWdE8m0BNnAnsSexqY0D2ZQE-cCeWpP6mIPQ3nFHRPlEkFmcCexJ4GJnRPlEn2hO5JBXoazr3onlSgJ84E9iT2NDChe1KBnjjT98xPcx2aCy7PaCYTZLr4Qs8Fsid6LkYzyZ7oeQ89F1BPfC5AeVKBnjgT2JPYE58LwJ7EnjgTeNxdpwShcTonoJnkcUfHH4xJhTzR1tFMsifaFaxxsSe6ngIfd2JPnAnsSeyJrvHAPYk9cSaUJ7oWTT3xtWiUJ8pkgkxgT2JPfC0a7EnsiTOhPJlAT3wtGuXJBHriTGBPYk98LRrsSeyJM4HHnXg9zteiweNOvB7nTGBP4vU4X4sGexKvxzkTeNyJPfG1aPC4E3viTGBPYk98LRrsSeyJM_k8rd7_A8Hqc8E=' target='_blank'>Click to view structure.</a>"
      ],
      "text/plain": [
       "<IPython.core.display.HTML object>"
      ]
     },
     "metadata": {},
     "output_type": "display_data"
    },
    {
     "name": "stdout",
     "output_type": "stream",
     "text": [
      "\n",
      "The starting composition is:  Ca2+8 Ce4+24 O2-64\n",
      "(PeriodicSite: O2- (1.3735, 1.3735, 1.3735) [0.1250, 0.1250, 0.1250], 2.378971784195853, 32, array([0, 0, 0]))\n",
      "(PeriodicSite: O2- (1.3735, 1.3735, 6.8675) [0.1250, 0.1250, 0.6250], 2.378971784195853, 33, array([0, 0, 0]))\n",
      "(PeriodicSite: O2- (1.3735, 6.8675, 1.3735) [0.1250, 0.6250, 0.1250], 2.378971784195853, 34, array([0, 0, 0]))\n",
      "(PeriodicSite: O2- (1.3735, 6.8675, 6.8675) [0.1250, 0.6250, 0.6250], 2.378971784195853, 35, array([0, 0, 0]))\n",
      "(PeriodicSite: O2- (6.8675, 1.3735, 1.3735) [0.6250, 0.1250, 0.1250], 2.378971784195853, 36, array([0, 0, 0]))\n",
      "(PeriodicSite: O2- (6.8675, 1.3735, 6.8675) [0.6250, 0.1250, 0.6250], 2.378971784195853, 37, array([0, 0, 0]))\n",
      "(PeriodicSite: O2- (6.8675, 6.8675, 1.3735) [0.6250, 0.6250, 0.1250], 2.378971784195853, 38, array([0, 0, 0]))\n",
      "(PeriodicSite: O2- (6.8675, 6.8675, 6.8675) [0.6250, 0.6250, 0.6250], 2.378971784195853, 39, array([0, 0, 0]))\n",
      "There are 8 dopant atoms in the structure.\n",
      "The defect composition is Ca2+8 Ce4+24 O2-56\n",
      "The charge is 0.0\n"
     ]
    },
    {
     "data": {
      "text/html": [
       "<a href='https://viewer.materialsproject.org?structure=eJzFmM1u4jAURl8FZTttBCGxzawqzQN0MUtUjUJqtUjhRxBG7SDeffJbfG-uXakSXzeEBEgPh2Mn9Tl62OyeT6WNfk6i_fsmr17sNi52Bxsfq8OpqE4HG91NooeizI_H5k2_3cPFa354aT67PZVlvV_mVbUumgPnqD7XYf1WP10uZ9N4YczdZBpP24enu8myfe688HHMeeGpPhjl9SmG90Urd6dwd_Jy_9q8ddF-PlrZytl7yTcbZ_fvrjxtGsrZPFGxSo3OpolOLvVLx3Vlm--5PEfHvS3Ww44t7cZuq8bAr7z56ru39XNerXfbP8cqr5qTJe25d0Vxas58adlXDaPzvbovGr29_xOPl_nKlt3fSH5ENc-tKDKRIovTRYriyEQbLQLURyb66DlQRjKxj6sMlJFMLMTlgBoZNeL-LFAno0ooyZesWJkl_azYJOseebNJrFPdbyiLTW_Lon0sJk7SGYpFe7y0EGAv2uOlZ0F5yTy99NmCi8k8xVAaqBuhmZ4GXE3mqYbSoNwk1wsBcdP_RNchjmXRPhasl3EzPYsbMpZGMuOmA6DRnmb6dKHNaE8zLgvWy7iZngXcjPY0Q2mw4ykZ3ee5FybhPu_mLMJocgcVjEb7zFxDBrMIZtx0YAWPm3Ev2Cgz2tMMZcGaGTfj3jxgzYyboSxfMfMow9yH_oebdyCzZNg4RGm9P62Pz-p3zT-2BOoxub81kwoyqdgojWNSIU8dC9yTCnkamFCeTKCnRaxm6Tf0ZAI9cSawJ7GngQndkwn0xJnA4-46JQiN0zkBzSSPOzr-YEwm5Im2jmaSPdGuYI2LPQ0s6J5MoCfOBPYk9jQwoXsygZ44E8pTf1ERexquKeieKJMKMoE9iT0NTOieKJPsCd2TCvQ0XHvRPalAT5wJ7EnsaWBC96QCPXGm75mf5jo0F3RbNJMJMnW-0HOB7Ilei9FMsid63UPPBdQTnwtQnlSgJ84E9iT2xOcCsCexJ84EHnfXKUFonM4JaCZ53NHxB2NSIU-0dTST7Il2BWtc7Imup8DHndgTZwJ7EnuiazxwT2JPnAnlia5FU098LRrliTKZIBPYk9gTX4sGexJ74kwoTybQE1-LRnkygZ44E9iT2BNfiwZ7EnviTOBxJ96P87Vo8LgT78c5E9iTeD_O16LBnsT7cc4EHndiT3wtGjzuxJ44E9iT2BNfiwZ7EnviTD5PT5f_-aFzwQ==' target='_blank'>Click to view structure.</a>"
      ],
      "text/plain": [
       "<IPython.core.display.HTML object>"
      ]
     },
     "metadata": {},
     "output_type": "display_data"
    },
    {
     "name": "stdout",
     "output_type": "stream",
     "text": [
      "\n",
      "The starting composition is:  Ca2+8 Ce4+24 O2-64\n",
      "(PeriodicSite: O2- (1.3735, 1.3735, 6.8675) [0.1250, 0.1250, 0.6250], 2.378971784195853, 33, array([0, 0, 0]))\n",
      "(PeriodicSite: O2- (1.3735, 6.8675, 6.8675) [0.1250, 0.6250, 0.6250], 2.378971784195853, 35, array([0, 0, 0]))\n",
      "(PeriodicSite: O2- (6.8675, 6.8675, 6.8675) [0.6250, 0.6250, 0.6250], 2.378971784195853, 39, array([0, 0, 0]))\n",
      "(PeriodicSite: O2- (6.8675, 1.3735, 6.8675) [0.6250, 0.1250, 0.6250], 2.378971784195853, 37, array([0, 0, 0]))\n",
      "(PeriodicSite: O2- (6.8675, 1.3735, 1.3735) [0.6250, 0.1250, 0.1250], 2.378971784195853, 36, array([0, 0, 0]))\n",
      "(PeriodicSite: O2- (1.3735, 1.3735, 1.3735) [0.1250, 0.1250, 0.1250], 2.378971784195853, 32, array([0, 0, 0]))\n",
      "(PeriodicSite: O2- (1.3735, 6.8675, 1.3735) [0.1250, 0.6250, 0.1250], 2.378971784195853, 34, array([0, 0, 0]))\n",
      "(PeriodicSite: O2- (6.8675, 6.8675, 1.3735) [0.6250, 0.6250, 0.1250], 2.378971784195853, 38, array([0, 0, 0]))\n",
      "There are 8 dopant atoms in the structure.\n",
      "The defect composition is Ca2+8 Ce4+24 O2-56\n",
      "The charge is 0.0\n"
     ]
    },
    {
     "data": {
      "text/html": [
       "<a href='https://viewer.materialsproject.org?structure=eJzFmM1uozAURl8lYjspIg7YzqwqzQN0McsoGhFqtZHIjxIyaqfquw8QaHwvF6uqlK-bEAMhh8_HF-O36H67fzyXLvo5iQ6v27x6cru42B9dfKqO56I6H100nUT3RZmfTs1Jv_3dxXN-fGp-uzuXZd0u86raFM2Ot6i-1nHzUn9dLmdJvLB2OknipP1YTSfL9rt34GOfd2BV74zy-hL9edHabxR-Iy8Pz82pi_b30dpVXusp32695t99ed42lLO50rFOrckSZdR7fei0qVxzn8u36HRwxaZvuNJt3a5qEviVN7e-f9k85tVmv_tzqvKquZhqr70vinNz5feWfd0weveVxFmz_-X1H92fxekiXbUJrl15-Rf1I6qJbsCRiRwtAo4kE0l8CDCLaj-NQKNik5rpxMYqnQFoTPYhi_Jp2v_vDrVIABblRZN4LF0k3aY7BmExYyzXeGB9NGTpIL7O4mSW9FO1JRFry4DCpbeiGOThVxYMRyamcUXAcwgVZazm345k0DO00gId6UsKt8QvKVgWM8YiVPzbsZiRXLpaAs3FjOTilzeUuYIv9LmMSiYb6aWOBtxP2Ug_URpUT6mROct1goBLxmMxYyzYXIbOdCy-yFgaKRlfHQCNGeknf56LZRn2U8cC7icz0k-UBuuwGryr0XcA1GzGfwsQaPyIYD01fD_yHwao2ZUZ6SfKgk1m2E_0DekrNA8yzF3ofW1-AZmpfuMRpXU7qffP6rPmH1sC9aDubs2kg0w6ttrgmHQopwsLPCcdyqlnQuVkAz4tYj1Lv8EnG_CJM4FzEn3qmdA-2YBPnAk87q4lQXCc1gQ0kzzu6PiDMdlQTtR1NJOcE_UK5rjoU8-C9skGfOJM4JxEn3omtE824BNnQuXUPVREn_pnCtonyqSDTOCcRJ96JrRPlEnOCe2TDvjUP3vRPumAT5wJnJPoU8-E9kkHfOJM31Of5iZUCy5bNJMNMl3yQtcCOSf6LEYzyTnR5x66FtCceC1A5aQDPnEmcE6iT7wWgHMSfeJM4HF3LQmC47QmoJnkcUfHH4xJh3KirqOZ5JyoVzDHRZ_oegp83Ik-cSZwTqJPdI0HnpPoE2dC5UTXomlOfC0alRNlskEmcE6iT3wtGpyT6BNnQuVkAz7xtWhUTjbgE2cC5yT6xNeiwTmJPnEm8LgT5-N8LRo87sT5OGcC5yTOx_laNDgncT7OmcDjTvSJr0WDx53oE2cC5yT6xNeiwTmJPnGmsZxW7_8BciNzwQ==' target='_blank'>Click to view structure.</a>"
      ],
      "text/plain": [
       "<IPython.core.display.HTML object>"
      ]
     },
     "metadata": {},
     "output_type": "display_data"
    }
   ],
   "source": [
    "# creating structures, dft inputs, \n",
    "print(\"Getting the location of the dopant atoms\")\n",
    "## Now find all Ca2+ and get the NN and remove 1 Oxygen atom from the NN shell\n",
    "file_counter = 0\n",
    "struct_doped = []\n",
    "for temp_struc in groups:\n",
    "    # 1. get the dopant atoms from each unique structure in the array\n",
    "    nn = []\n",
    "    for atom in temp_struc:\n",
    "        # get the element symbol from the structure\n",
    "        atom_tag = str(atom.specie.element)\n",
    "        if atom_tag == \"Ca\":\n",
    "            #print(atom.coords)\n",
    "            nn_list = temp_struc.get_neighbors(\n",
    "                site=atom, r=2.4, include_image=True, include_index=True)\n",
    "            nn.append(nn_list)\n",
    "    #print(nn)\n",
    "    # get a copy to change the structure of\n",
    "    del_struc = temp_struc.copy()\n",
    "    print(\"\\nThe starting composition is: \", del_struc.composition)\n",
    "    # define flags & counters\n",
    "    b_flag, counter = 0, 0\n",
    "    remove_atoms = []\n",
    "\n",
    "    # pull out the dopant atoms from the list and check the vacancy\n",
    "    # locations are within the [0,0,0] unit cell for each structure at each dopant\n",
    "    for dopant_atom in nn:\n",
    "        # break flag reset to move onto next dopant\n",
    "        if b_flag == 1:\n",
    "            #print(\"Flag tripped moving to the next dopant atom to remove O\")\n",
    "            b_flag = 0\n",
    "        #print(dopant_atom)\n",
    "        for index in range(len(dopant_atom)):\n",
    "            vacancy_site = dopant_atom[index]\n",
    "            location = vacancy_site[len(vacancy_site) - 1]\n",
    "            # make sure that the oxygen atom is in the [0,0,0] unit cell\n",
    "            if str(location) == '[0 0 0]':\n",
    "                if del_struc[vacancy_site[2]] != vacancy_site[0]:\n",
    "                    print(\n",
    "                        \"Warning vacancy site being removed is not equal to the defect location in the [0,0,0] unit cell\"\n",
    "                    )\n",
    "                print(dopant_atom[index])\n",
    "                remove_atoms.append(vacancy_site[2])\n",
    "                b_flag = 1\n",
    "                counter += 1\n",
    "                break\n",
    "    for remove in sorted(remove_atoms, reverse=True):\n",
    "        del del_struc[remove]\n",
    "\n",
    "    print(\"There are {} dopant atoms in the structure.\"\n",
    "          \"\\nThe defect composition is {}\"\n",
    "          \"\\nThe charge is {}\".format(counter, del_struc.composition,\n",
    "                                      del_struc.charge))\n",
    "    struct_doped.append(del_struc)\n",
    "    gvl(del_struc)\n",
    "    filename = \"POSCAR_\" + str(file_counter) + str(del_struc.composition)\n",
    "    file_counter += 1\n",
    "    del_struc.to(filename=filename, fmt=\"POSCAR\")"
   ]
  },
  {
   "cell_type": "code",
   "execution_count": 9,
   "metadata": {
    "code_folding": [
     0
    ]
   },
   "outputs": [],
   "source": [
    "# show structs\n",
    "show_struct_ase(Poscar.from_file(\"POSCAR_0Ca2+8 Ce4+24 O2-56\").structure)\n",
    "\n",
    "show_struct_ase(Poscar.from_file(\"POSCAR_1Ca2+8 Ce4+24 O2-56\").structure)\n",
    "\n",
    "show_struct_ase(Poscar.from_file(\"POSCAR_2Ca2+8 Ce4+24 O2-56\").structure)"
   ]
  },
  {
   "cell_type": "markdown",
   "metadata": {},
   "source": [
    "# Relaxed Analysis needed\n",
    "\n",
    "Of the three structures cfig3 had the lowest energy. Cfig1 is running NEB currently.\n",
    "* The initial state is the original relaxed configuration\n",
    "* One atom is moved to create the final state for 2 structures\n",
    "    * The highest energy state and the lowest energy state \n",
    "    * This will compare the energy of the two final states to discern if the set up for the vacancies played a significant role in the system's total energy. \n",
    "* Need to create code which looks at the NN  and NNN to intelligently pick the vacancy site. Or look into the vacancy generator in pymatgen. * Run & create NEB for cfig3\n",
    "\n",
    "**CFIG1**\n",
    "\n",
    "Import the poscar's to perform NEB. Translate the 70th atom to the nearby vacancy site. Site was picked using VESTA. The atom number to reference from VESTA to pymatgen is Atom: #-1. \n",
    "\n",
    "poscar_nebCfig1_initial is the first structure create above relaxed in vasp.\n",
    "poscar_nebCfig1_final is *not* relaxed and is the final structure for the NEB calculation. It is currently relaxing"
   ]
  },
  {
   "cell_type": "code",
   "execution_count": 18,
   "metadata": {
    "code_folding": [
     0
    ]
   },
   "outputs": [],
   "source": [
    "# translate sites\n",
    "# path_1 = os.path.dirname(path='ca25/POSCAR_cfig3-relaxed')\n",
    "path_1=\"POSCAR_cfig3-relaxed\"\n",
    "poscar_nebCfig1_intial = Poscar.from_file(filename=path_1).structure\n",
    "poscar_nebCfig1_final = poscar_nebCfig1_intial.copy()\n",
    "poscar_nebCfig1_final.translate_sites(\n",
    "    indices=69, vector=[0, 0, -2.72269],\n",
    "    frac_coords=False, to_unit_cell=True)\n",
    "show_struct_ase(poscar_nebCfig1_final)\n",
    "poscar_nebCfig1_final.to(fmt=\"POSCAR\", \n",
    "                         filename=\"POSCAR-cfig1-neb-final\")"
   ]
  },
  {
   "cell_type": "markdown",
   "metadata": {},
   "source": [
    "Poscar_cfig1-neb-final is relaxed.The location of the file is currently on the cluster. "
   ]
  },
  {
   "cell_type": "markdown",
   "metadata": {},
   "source": [
    "**CFIG3**\n",
    "\n",
    "Repeat steps above used for cfig1 with cfig3.\n",
    "OXYGEN ATOM 36 is moved in the -x direction."
   ]
  },
  {
   "cell_type": "code",
   "execution_count": null,
   "metadata": {
    "code_folding": [
     0
    ]
   },
   "outputs": [],
   "source": [
    "# translate sites\n",
    "path_1 = os.path.abspath(path=pymatgen_loc + 'ca25/POSCAR_cfig3-relaxed')\n",
    "poscar_nebCfig1_initial = Poscar.from_file(filename=path_1).structure\n",
    "poscar_nebCfig1_final = poscar_nebCfig1_initial.copy()\n",
    "show_struct_ase(poscar_nebCfig1_initial)\n",
    "poscar_nebCfig1_final.translate_sites(\n",
    "    indices=36, vector=[-2.72269, 0, 0], frac_coords=False, to_unit_cell=True)\n",
    "show_struct_ase(poscar_nebCfig1_final)\n",
    "poscar_nebCfig1_final.to(fmt=\"POSCAR\", filename=\"ca25/POSCAR-cfig1-neb-final\")"
   ]
  },
  {
   "cell_type": "markdown",
   "metadata": {},
   "source": [
    "Then interpolate between the final and initial structure to get the images to do an NEB calculation."
   ]
  },
  {
   "cell_type": "code",
   "execution_count": 15,
   "metadata": {
    "scrolled": true
   },
   "outputs": [
    {
     "data": {
      "image/png": "[encoded data removed]",
      "text/plain": [
       "<Figure size 432x288 with 1 Axes>"
      ]
     },
     "metadata": {
      "needs_background": "light"
     },
     "output_type": "display_data"
    },
    {
     "data": {
      "image/png": "[encoded data removed]",
      "text/plain": [
       "<Figure size 432x288 with 1 Axes>"
      ]
     },
     "metadata": {
      "needs_background": "light"
     },
     "output_type": "display_data"
    }
   ],
   "source": [
    "plot_density_of_states('/home/tboland1/Dropbox/TaraB/DFT/CaDopedBulk/relax-25CaCfigs/cfig3/nfa0-sv/')"
   ]
  }
 ],
 "metadata": {
  "celltoolbar": "Slideshow",
  "kernelspec": {
   "display_name": "Python 3",
   "language": "python",
   "name": "python3"
  },
  "language_info": {
   "codemirror_mode": {
    "name": "ipython",
    "version": 3
   },
   "file_extension": ".py",
   "mimetype": "text/x-python",
   "name": "python",
   "nbconvert_exporter": "python",
   "pygments_lexer": "ipython3",
   "version": "3.6.8"
  },
  "latex_envs": {
   "LaTeX_envs_menu_present": true,
   "autoclose": false,
   "autocomplete": true,
   "bibliofile": "biblio.bib",
   "cite_by": "apalike",
   "current_citInitial": 1,
   "eqLabelWithNumbers": true,
   "eqNumInitial": 1,
   "hotkeys": {
    "equation": "Ctrl-E",
    "itemize": "Ctrl-I"
   },
   "labels_anchors": false,
   "latex_user_defs": false,
   "report_style_numbering": false,
   "user_envs_cfg": false
  },
  "notify_time": "30",
  "varInspector": {
   "cols": {
    "lenName": 16,
    "lenType": 16,
    "lenVar": 40
   },
   "kernels_config": {
    "python": {
     "delete_cmd_postfix": "",
     "delete_cmd_prefix": "del ",
     "library": "var_list.py",
     "varRefreshCmd": "print(var_dic_list())"
    },
    "r": {
     "delete_cmd_postfix": ") ",
     "delete_cmd_prefix": "rm(",
     "library": "var_list.r",
     "varRefreshCmd": "cat(var_dic_list()) "
    }
   },
   "position": {
    "height": "421px",
    "left": "550px",
    "right": "20px",
    "top": "120px",
    "width": "381px"
   },
   "types_to_exclude": [
    "module",
    "function",
    "builtin_function_or_method",
    "instance",
    "_Feature"
   ],
   "window_display": false
  }
 },
 "nbformat": 4,
 "nbformat_minor": 2
}
