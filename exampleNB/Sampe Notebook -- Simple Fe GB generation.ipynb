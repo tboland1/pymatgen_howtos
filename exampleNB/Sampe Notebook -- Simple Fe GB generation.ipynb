{
 "cells": [
  {
   "cell_type": "code",
   "execution_count": 1,
   "metadata": {
    "collapsed": true
   },
   "outputs": [],
   "source": [
    "import pymatgen as mg\n",
    "from pymatgen import Lattice, Structure, Molecule\n",
    "from pymatgen.symmetry.analyzer import SpacegroupAnalyzer\n",
    "from pymatgen.analysis.gb import gb\n",
    "from pymatgen.core.operations import SymmOp\n",
    "from pymatgen.symmetry.analyzer import SpacegroupAnalyzer\n",
    "from pymatgen.io.vasp import Poscar\n",
    "from bin import get_viewer_link"
   ]
  },
  {
   "cell_type": "markdown",
   "metadata": {},
   "source": [
    "STEP 1: You have to define a lattice which you want to combine into a GB"
   ]
  },
  {
   "cell_type": "code",
   "execution_count": 2,
   "metadata": {
    "collapsed": true
   },
   "outputs": [],
   "source": [
    "lattice = Lattice.cubic(5.411)\n",
    "coord = [[0,0,0],[0.5,0.5,0.5]]\n",
    "bcc_struc = Structure(lattice=lattice,\n",
    "                      species=[\"Fe\",\"Fe\"],\n",
    "                      coords=coord)"
   ]
  },
  {
   "cell_type": "markdown",
   "metadata": {},
   "source": [
    "Make sure the cell is \n",
    "1) cubic \n",
    "2) convetional unit cell\n",
    "3) get conventional standard"
   ]
  },
  {
   "cell_type": "code",
   "execution_count": 3,
   "metadata": {},
   "outputs": [
    {
     "data": {
      "text/html": [
       "<a href='https://viewer.materialsproject.org?structure=eJydj89ugzAMxl8F-YwiYERtd-ppL7Aj4hAyiyI5gPJnaot498a0WzNtp-WQ2L_Y32cvcDTTRyCE1wzmi1G-x1HoyaJw3gbtg0XIMzhqUs5x0XuK9UnZnnvHQBRzUt4PmsECUcsO5xg2jRR1WeZZIYrtavOs2eIn_0ZP3kYGKvY_qqBLYp3EiuYT1x22XujQJ1mvjEnSz4mC4flKuRd1ta_qUr4Uh3h2a_x2g0feslnAzaiHrwQJDY6e93_bFp-0DqyybkN2PE4y_30hOF-uf3JSHdJDK7r-z0uy3P1KvCqxK2SkP99fpu16A7-0g-U=' target='_blank'>Click to view structure.</a>"
      ],
      "text/plain": [
       "<IPython.core.display.HTML object>"
      ]
     },
     "metadata": {},
     "output_type": "display_data"
    }
   ],
   "source": [
    "get_viewer_link(bcc_struc)"
   ]
  },
  {
   "cell_type": "markdown",
   "metadata": {},
   "source": [
    "You can also check the coordinates"
   ]
  },
  {
   "cell_type": "code",
   "execution_count": 4,
   "metadata": {},
   "outputs": [
    {
     "name": "stdout",
     "output_type": "stream",
     "text": [
      "Full Formula (Fe2)\n",
      "Reduced Formula: Fe\n",
      "abc   :   5.411000   5.411000   5.411000\n",
      "angles:  90.000000  90.000000  90.000000\n",
      "Sites (2)\n",
      "  #  SP      a    b    c\n",
      "---  ----  ---  ---  ---\n",
      "  0  Fe    0    0    0\n",
      "  1  Fe    0.5  0.5  0.5\n"
     ]
    }
   ],
   "source": [
    "print(bcc_struc)"
   ]
  },
  {
   "cell_type": "markdown",
   "metadata": {},
   "source": [
    "Now generate all possible GB's for this unit cell by passing the GB module genertor a structure"
   ]
  },
  {
   "cell_type": "code",
   "execution_count": 5,
   "metadata": {
    "collapsed": true
   },
   "outputs": [],
   "source": [
    "gb_gen = gb.GBGenerator(bcc_struc,symprec=0.1,angle_tolerance=1)"
   ]
  },
  {
   "cell_type": "markdown",
   "metadata": {},
   "source": [
    "Now we can drill down in GB selectivity by using associated functions which operate on the object gb_gen"
   ]
  },
  {
   "cell_type": "code",
   "execution_count": 6,
   "metadata": {},
   "outputs": [
    {
     "name": "stdout",
     "output_type": "stream",
     "text": [
      "{5: [53.13010235415597, 36.86989764584402, 126.86989764584402, 143.13010235415598]}\n"
     ]
    }
   ],
   "source": [
    "gb_gen_cubic_sigma = gb_gen.enum_sigma_cubic(5,[0,0,1])\n",
    "print(gb_gen_cubic_sigma)"
   ]
  },
  {
   "cell_type": "markdown",
   "metadata": {},
   "source": [
    "The next function we can investigate is to create the GB from the parameter. So to create the GB from the list of GBs generated above (gb_gen) you can print them out and use keys() to find GB of interest"
   ]
  },
  {
   "cell_type": "code",
   "execution_count": 7,
   "metadata": {},
   "outputs": [
    {
     "name": "stdout",
     "output_type": "stream",
     "text": [
      "Make sure this is for cubic system\n"
     ]
    },
    {
     "data": {
      "text/plain": [
       "[36.86989764584402, 53.13010235415597, 126.86989764584402, 143.13010235415598]"
      ]
     },
     "execution_count": 7,
     "metadata": {},
     "output_type": "execute_result"
    }
   ],
   "source": [
    "gb_gen.get_rotation_angle_from_sigma(5,[0,0,1])\n",
    "#print(gb_gen)"
   ]
  },
  {
   "cell_type": "code",
   "execution_count": 8,
   "metadata": {},
   "outputs": [
    {
     "name": "stdout",
     "output_type": "stream",
     "text": [
      "Make sure this is for cubic system with conventional cell\n"
     ]
    }
   ],
   "source": [
    "gb_210_0 = gb_gen.gb_from_parameters(rotation_axis=[0,0,1], \n",
    "                                         rotation_angle=36.86989764584402,\n",
    "                                         expand_times=1)"
   ]
  },
  {
   "cell_type": "code",
   "execution_count": 9,
   "metadata": {},
   "outputs": [
    {
     "name": "stdout",
     "output_type": "stream",
     "text": [
      "Make sure this is for cubic system with conventional cell\n"
     ]
    }
   ],
   "source": [
    "gb_210_1 = gb_gen.gb_from_parameters(rotation_axis=[0,1,0], \n",
    "                                         rotation_angle=36.86989764584402,\n",
    "                                         expand_times=1)"
   ]
  },
  {
   "cell_type": "code",
   "execution_count": 10,
   "metadata": {},
   "outputs": [
    {
     "name": "stdout",
     "output_type": "stream",
     "text": [
      "Make sure this is for cubic system with conventional cell\n"
     ]
    }
   ],
   "source": [
    "gb_210_2 = gb_gen.gb_from_parameters(rotation_axis=[1,0,0], \n",
    "                                         rotation_angle=36.86989764584402,\n",
    "                                         expand_times=1)"
   ]
  },
  {
   "cell_type": "code",
   "execution_count": 11,
   "metadata": {},
   "outputs": [
    {
     "name": "stdout",
     "output_type": "stream",
     "text": [
      "Make sure this is for cubic system with conventional cell\n"
     ]
    }
   ],
   "source": [
    "gb_210_3 = gb_gen.gb_from_parameters(rotation_axis=[1,0,0], \n",
    "                                         rotation_angle=36.86989764584402,\n",
    "                                         expand_times=1,\n",
    "                                    plane=[0,3,1])"
   ]
  },
  {
   "cell_type": "code",
   "execution_count": 12,
   "metadata": {},
   "outputs": [
    {
     "name": "stdout",
     "output_type": "stream",
     "text": [
      "Make sure this is for cubic system with conventional cell\n"
     ]
    }
   ],
   "source": [
    "gb_210_4 = gb_gen.gb_from_parameters(rotation_axis=[1,0,0], \n",
    "                                         rotation_angle=36.86989764584402,\n",
    "                                         expand_times=1,\n",
    "                                    normal=True,\n",
    "                                    plane=[0,3,1])"
   ]
  },
  {
   "cell_type": "code",
   "execution_count": 13,
   "metadata": {},
   "outputs": [
    {
     "name": "stdout",
     "output_type": "stream",
     "text": [
      "gb_210_1\n",
      "gb_210_2\n",
      "gb_210_3\n",
      "gb_210_4\n"
     ]
    }
   ],
   "source": [
    "for i,j in zip([gb_210_1,gb_210_2,gb_210_3,gb_210_4],['gb_210_1','gb_210_2','gb_210_3','gb_210_4']):\n",
    "    print(j)\n",
    "    struc_file = i.to(fmt=\"poscar\",\n",
    "                           filename='POSCAR'+j)"
   ]
  },
  {
   "cell_type": "code",
   "execution_count": 14,
   "metadata": {},
   "outputs": [
    {
     "name": "stdout",
     "output_type": "stream",
     "text": [
      "Make sure this is for cubic system with conventional cell\n"
     ]
    }
   ],
   "source": [
    "gb_210_5 = gb_gen.gb_from_parameters(rotation_axis=[0,0,1],\n",
    "                                     rotation_angle=36.86989764584402,\n",
    "                                     expand_times=2,\n",
    "                                     normal=True,\n",
    "                                     plane=[3,1,0],\n",
    "                                    max_search=50)"
   ]
  },
  {
   "cell_type": "code",
   "execution_count": 15,
   "metadata": {},
   "outputs": [
    {
     "name": "stdout",
     "output_type": "stream",
     "text": [
      "Make sure this is for cubic system with conventional cell\n"
     ]
    }
   ],
   "source": [
    "gb_210_6 = gb_gen.gb_from_parameters(rotation_axis=[0,0,1], \n",
    "                                         rotation_angle=36.86989764584402,\n",
    "                                         expand_times=4,\n",
    "                                    normal=True,\n",
    "                                    plane=[3,1,0],\n",
    "                                   vacuum_thickness=5,\n",
    "                                    max_search=60)"
   ]
  },
  {
   "cell_type": "code",
   "execution_count": 16,
   "metadata": {},
   "outputs": [
    {
     "name": "stdout",
     "output_type": "stream",
     "text": [
      "Make sure this is for cubic system with conventional cell\n"
     ]
    }
   ],
   "source": [
    "gb_210_7 = gb_gen.gb_from_parameters(rotation_axis=[0,0,1], \n",
    "                                         rotation_angle=36.86989764584402,\n",
    "                                         expand_times=1,\n",
    "                                    normal=True,\n",
    "                                    plane=[3,1,0],\n",
    "                                     vacuum_thickness=1,\n",
    "                                    max_search=10)"
   ]
  },
  {
   "cell_type": "markdown",
   "metadata": {},
   "source": [
    "Test to see if the normal=True enforces the tilt GB or if it is indeed the plane. (i dont always know what misorientation angle goes with what plane)"
   ]
  },
  {
   "cell_type": "code",
   "execution_count": 17,
   "metadata": {},
   "outputs": [
    {
     "name": "stdout",
     "output_type": "stream",
     "text": [
      "Make sure this is for cubic system with conventional cell\n"
     ]
    }
   ],
   "source": [
    "gb_210_8 = gb_gen.gb_from_parameters(rotation_axis=[0,0,1], \n",
    "                                         rotation_angle=36.86989764584402,\n",
    "                                         expand_times=1,\n",
    "                                    normal=True,\n",
    "                                     vacuum_thickness=1,\n",
    "                                    max_search=10)"
   ]
  },
  {
   "cell_type": "markdown",
   "metadata": {},
   "source": [
    "Print the file to test my hypothesis."
   ]
  },
  {
   "cell_type": "code",
   "execution_count": 18,
   "metadata": {},
   "outputs": [
    {
     "name": "stdout",
     "output_type": "stream",
     "text": [
      "gb_210_8\n"
     ]
    }
   ],
   "source": [
    "for i,j in zip([gb_210_8],['gb_210_8']):\n",
    "    print(j)\n",
    "    struc_file = i.to(fmt=\"poscar\",\n",
    "                           filename='POSCAR'+j)"
   ]
  },
  {
   "cell_type": "markdown",
   "metadata": {},
   "source": [
    "Nope!!! you need the plane."
   ]
  },
  {
   "cell_type": "markdown",
   "metadata": {
    "collapsed": true
   },
   "source": [
    "Dump all the files to poscars to check using zip"
   ]
  },
  {
   "cell_type": "code",
   "execution_count": 19,
   "metadata": {},
   "outputs": [
    {
     "name": "stdout",
     "output_type": "stream",
     "text": [
      "gb_210_4\n",
      "gb_210_5\n",
      "gb_210_6\n",
      "gb_210_7\n"
     ]
    }
   ],
   "source": [
    "for i,j in zip([gb_210_4,gb_210_5,gb_210_6,gb_210_7],['gb_210_4','gb_210_5','gb_210_6','gb_210_7']):\n",
    "    print(j)\n",
    "    struc_file = i.to(fmt=\"poscar\",\n",
    "                           filename='POSCAR'+j)"
   ]
  },
  {
   "cell_type": "code",
   "execution_count": 20,
   "metadata": {},
   "outputs": [
    {
     "name": "stdout",
     "output_type": "stream",
     "text": [
      "gb_210_7\n"
     ]
    }
   ],
   "source": [
    "for i,j in zip([gb_210_7],['gb_210_7']):\n",
    "    print(j)\n",
    "    struc_file = i.to(fmt=\"poscar\",\n",
    "                           filename='POSCAR'+j)"
   ]
  },
  {
   "cell_type": "markdown",
   "metadata": {},
   "source": [
    "CONVERT the GB to a poscar to view it (online viewer limited in atom count)"
   ]
  },
  {
   "cell_type": "code",
   "execution_count": 21,
   "metadata": {
    "collapsed": true
   },
   "outputs": [],
   "source": [
    "struc_file = gb_210_7.to(fmt=\"poscar\",\n",
    "                             filename='POSCAR_mystruct')"
   ]
  },
  {
   "cell_type": "markdown",
   "metadata": {},
   "source": [
    "WE can specify just the top or the bottom of the GB"
   ]
  },
  {
   "cell_type": "code",
   "execution_count": 22,
   "metadata": {},
   "outputs": [
    {
     "name": "stdout",
     "output_type": "stream",
     "text": [
      "Full Formula (Fe10)\n",
      "Reduced Formula: Fe\n",
      "abc   :  12.099364  12.099364  10.822000\n",
      "angles:  90.000000  90.000000  90.000000\n",
      "Sites (10)\n",
      "  #  SP      a    b     c  grain_label\n",
      "---  ----  ---  ---  ----  -------------\n",
      "  0  Fe    0    0    0.5   top_incident\n",
      "  1  Fe    0.4  0.2  0.5   top\n",
      "  2  Fe    0.2  0.6  0.5   top\n",
      "  3  Fe    0.8  0.4  0.5   top\n",
      "  4  Fe    0.6  0.8  0.5   top\n",
      "  5  Fe    0.1  0.3  0.75  top\n",
      "  6  Fe    0.5  0.5  0.75  top_incident\n",
      "  7  Fe    0.3  0.9  0.75  top\n",
      "  8  Fe    0.9  0.7  0.75  top\n",
      "  9  Fe    0.7  0.1  0.75  top\n"
     ]
    }
   ],
   "source": [
    "gb_top = gb_210_0.top_grain\n",
    "print(gb_top)\n",
    "struc_file = gb_top.to(fmt=\"poscar\",\n",
    "                             filename='POSCAR_gb_top')"
   ]
  },
  {
   "cell_type": "code",
   "execution_count": null,
   "metadata": {
    "collapsed": true
   },
   "outputs": [],
   "source": []
  },
  {
   "cell_type": "code",
   "execution_count": null,
   "metadata": {
    "collapsed": true
   },
   "outputs": [],
   "source": []
  }
 ],
 "metadata": {
  "kernelspec": {
   "display_name": "Python 3",
   "language": "python",
   "name": "python3"
  },
  "language_info": {
   "codemirror_mode": {
    "name": "ipython",
    "version": 3
   },
   "file_extension": ".py",
   "mimetype": "text/x-python",
   "name": "python",
   "nbconvert_exporter": "python",
   "pygments_lexer": "ipython3",
   "version": "3.6.8"
  },
  "latex_envs": {
   "LaTeX_envs_menu_present": true,
   "autoclose": true,
   "autocomplete": true,
   "bibliofile": "biblio.bib",
   "cite_by": "apalike",
   "current_citInitial": 1,
   "eqLabelWithNumbers": true,
   "eqNumInitial": 1,
   "hotkeys": {
    "equation": "Ctrl-E",
    "itemize": "Ctrl-I"
   },
   "labels_anchors": false,
   "latex_user_defs": false,
   "report_style_numbering": false,
   "user_envs_cfg": false
  },
  "varInspector": {
   "cols": {
    "lenName": 16,
    "lenType": 16,
    "lenVar": 40
   },
   "kernels_config": {
    "python": {
     "delete_cmd_postfix": "",
     "delete_cmd_prefix": "del ",
     "library": "var_list.py",
     "varRefreshCmd": "print(var_dic_list())"
    },
    "r": {
     "delete_cmd_postfix": ") ",
     "delete_cmd_prefix": "rm(",
     "library": "var_list.r",
     "varRefreshCmd": "cat(var_dic_list()) "
    }
   },
   "types_to_exclude": [
    "module",
    "function",
    "builtin_function_or_method",
    "instance",
    "_Feature"
   ],
   "window_display": false
  }
 },
 "nbformat": 4,
 "nbformat_minor": 2
}
