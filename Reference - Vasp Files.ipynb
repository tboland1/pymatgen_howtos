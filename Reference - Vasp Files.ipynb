{
 "cells": [
  {
   "cell_type": "code",
   "execution_count": 4,
   "metadata": {},
   "outputs": [
    {
     "name": "stdout",
     "output_type": "stream",
     "text": [
      "Last ran on /home/tboland1/Dropbox/Crozier Group User- Tara Boland/pymatgen from 2019-03-14 16:53:10.546709. \n",
      "\n",
      "home is /home/tboland1/Dropbox/TaraB/DFT/\n"
     ]
    }
   ],
   "source": [
    "from basicimports import *\n"
   ]
  },
  {
   "cell_type": "code",
   "execution_count": null,
   "metadata": {},
   "outputs": [],
   "source": [
    "from pymatgen.io.vasp.sets import MPRelaxSet\n",
    "from atomate.vasp.config import SMALLGAP_KPOINT_MULTIPLY, \\\n",
    "    STABILITY_CHECK, VASP_CMD, DB_FILE, \\\n",
    "    ADD_WF_METADATA, ADD_NAMEFILE\n",
    "from atomate.vasp.workflows.base.core import get_wf\n",
    "from atomate.vasp.powerups import add_small_gap_multiply, \\\n",
    "    add_stability_check, add_modify_incar, \\\n",
    "    add_wf_metadata, add_common_powerups\n",
    "\n",
    "def wf_struct_opt(structure, vasp_input_set, c=None):\n",
    "    c = c or {}\n",
    "    c['ADD_WF_METADATA']=ADD_WF_METADATA\n",
    "    c['ADD_NAMEFILE']=ADD_NAMEFILE\n",
    "    vasp_cmd = c.get(\"VASP_CMD\", VASP_CMD)\n",
    "    db_file = c.get(\"DB_FILE\", DB_FILE)\n",
    "    user_incar_settings = c.get(\"USER_INCAR_SETTINGS\")\n",
    "    \n",
    "    # vasp inputs\n",
    "    vasp_input_set = vasp_input_set or MPRelaxSet(structure,\n",
    "        user_incar_settings=user_incar_settings)\n",
    "    wf = get_wf(structure, \"optimize_only.yaml\",\n",
    "                vis=vasp_input_set,\n",
    "                common_params={\"vasp_cmd\": vasp_cmd,\n",
    "                               \"db_file\": db_file})\n",
    "\n",
    "    wf = add_common_powerups(wf, c)\n",
    "    wf = add_wf_metadata(wf, structure)\n",
    "\n",
    "    return wf\n"
   ]
  },
  {
   "cell_type": "code",
   "execution_count": null,
   "metadata": {},
   "outputs": [],
   "source": []
  },
  {
   "cell_type": "markdown",
   "metadata": {},
   "source": [
    "Atomate Customizing WF"
   ]
  },
  {
   "cell_type": "code",
   "execution_count": null,
   "metadata": {
    "code_folding": [
     0,
     6
    ]
   },
   "outputs": [],
   "source": [
    "# create custom wf\n",
    "from fireworks import Workflow\n",
    "from atomate.vasp.fireworks.core import OptimizeFW\n",
    "from pymatgen.io.vasp.sets import MPRelaxSet\n",
    "from pymatgen import Structure\n",
    "\n",
    "def get_gb_optimize_wf(structure, name=\"GB optimization wf\", vasp_input_set=None,\n",
    "                    vasp_cmd=\"vasp\", db_file=None, user_kpoints_settings=None,\n",
    "                    tag=\"\", metadata=None):\n",
    "    \"\"\"\n",
    "    Returns a structure optimization workflow.\n",
    "\n",
    "    Args:\n",
    "        structure (Structure): input structure to be optimized and run\n",
    "        name (str): some appropriate name for the transmuter fireworks.\n",
    "        vasp_input_set (DictSet): vasp input set.\n",
    "        vasp_cmd (str): command to run\n",
    "        db_file (str): path to file containing the database credentials.\n",
    "        user_kpoints_settings (dict): example: {\"grid_density\": 7000}\n",
    "        tag (str): some unique string that will be appended to the names of the fireworks so that\n",
    "            the data from those tagged fireworks can be queried later during the analysis.\n",
    "        metadata (dict): meta data\n",
    "\n",
    "    Returns:\n",
    "        Workflow\n",
    "    \"\"\"\n",
    "    # input set for relaxation\n",
    "    vis_relax = vasp_input_set or MPRelaxSet(structure, potcar_functional='PBE_54')\n",
    "    if user_kpoints_settings:\n",
    "        v = vis_relax.as_dict()\n",
    "        v.update({\"user_kpoints_settings\": user_kpoints_settings})\n",
    "        vis_relax = vis_relax.__class__.from_dict(v)\n",
    "\n",
    "    # Structure optimization firework\n",
    "    fws = [OptimizeFW(structure=structure, vasp_input_set=vis_relax, vasp_cmd=vasp_cmd,\n",
    "                      db_file=db_file, name=\"{} structure optimization\".format(tag))]\n",
    "\n",
    "    wfname = \"{}:{}\".format(structure.composition.reduced_formula, name)\n",
    "\n",
    "    return Workflow(fws, name=wfname, metadata=metadata)\n",
    "\n",
    "# load your structure, e.g. from a POSCAR\n",
    "struct = Structure.from_file('POSCAR')\n",
    "\n",
    "# create a custom input set\n",
    "my_custom_input_set = MPRelaxSet(struct)\n",
    "\n",
    "# create the workflow\n",
    "my_wf = get_optimize_wf(struct, vasp_input_set=my_custom_input_set)"
   ]
  },
  {
   "cell_type": "code",
   "execution_count": null,
   "metadata": {
    "code_folding": [
     0
    ]
   },
   "outputs": [],
   "source": [
    "# define out input set\n",
    "from pymatgen.io.vasp.sets import MPRelaxSet\n",
    "from pymatgen.io.vasp.inputs import Kpoints\n",
    "from pymatgen import Structure\n",
    "def GBInputSet(MPRelaxSet):\n",
    "    def __init__(self, structure,  shift=(0,0,0), **kwargs):\n",
    "        super(MPRelaxSet, self).__init__(structure,\n",
    "                                         MPRelaxSet.CONFIG,\n",
    "                                         potcar_functional = 'PBE_54', **kwargs)\n",
    "        self.points = points\n",
    "        self.shift = shift\n",
    "        self\n",
    "        \n",
    "    @property\n",
    "    def kpoints(self):\n",
    "        # choose either of these\n",
    "        # use Monkhorst-Pack scheme\n",
    "        return Kpoints.monkhorst_automatic(kpts=self.points, shift=self.shift)\n",
    "        # use a Gamma centered scheme\n",
    "        return Kpoints.gamma_automatic(kpts=self.points, shift=self.shift)\n"
   ]
  },
  {
   "cell_type": "markdown",
   "metadata": {},
   "source": [
    "# Hard Relaxation Convergence"
   ]
  },
  {
   "cell_type": "code",
   "execution_count": null,
   "metadata": {},
   "outputs": [],
   "source": [
    "ADDGRID = True                                                                  \n",
    "ALGO = Fast                                                                     \n",
    "EDIFF = 1e-07                                                                   \n",
    "EDIFFG = -0.01                                                                  \n",
    "ENAUG = 1040                                                                    \n",
    "ENCUT = 520                                                                     \n",
    "IBRION = 3                                                                      \n",
    "ICHARG = 1                                                                      \n",
    "ISIF = 2                                                                        \n",
    "ISMEAR = 0                                                                      \n",
    "ISPIN = 1                                                                       \n",
    "ISYM = 0                                                                        \n",
    "KPAR = 2                                                                        \n",
    "LORBIT = 11                                                                     \n",
    "LREAL = Auto                                                                    \n",
    "LWAVE = False                                                                   \n",
    "MAGMOM = 46*5.0 96*0.6                                                          \n",
    "NELM = 100                                                                      \n",
    "NPAR = 5                                                                        \n",
    "NSW = 99                                                                        \n",
    "POTIM = 0.125                                                                   \n",
    "PREC = High                                                                     \n",
    "SIGMA = 0.1                                                                     \n",
    "SMASS = 0.75"
   ]
  },
  {
   "cell_type": "code",
   "execution_count": null,
   "metadata": {},
   "outputs": [],
   "source": [
    "ADDGRID = True\n",
    "ALGO = Normal\n",
    "EDIFF = 1e-07\n",
    "EDIFFG = -0.01\n",
    "ENAUG = 1040\n",
    "ENCUT = 520 \n",
    "IBRION = 2 \n",
    "ICHARG = 1 \n",
    "IMIX = 1 \n",
    "ISIF = 2 \n",
    "ISMEAR = -5\n",
    "ISPIN = 1 \n",
    "ISTART = 1 \n",
    "ISYM = 0 \n",
    "KPAR = 2 \n",
    "LDAU = True\n",
    "LDAUJ = 0 0 0 \n",
    "LDAUL = 3 -1 -1\n",
    "LDAUPRINT = 1 \n",
    "LDAUTYPE = 2 \n",
    "LDAUU = 5 0 0 \n",
    "LMAXMIX = 6 \n",
    "LORBIT = 11\n",
    "LREAL = False\n",
    "LWAVE = False\n",
    "MAGMOM = 46*5.0 96*0.6\n",
    "NELM = 100 \n",
    "NPAR = 4 \n",
    "NSW = 99\n",
    "PREC = High\n",
    "SIGMA = 0.1"
   ]
  },
  {
   "cell_type": "markdown",
   "metadata": {},
   "source": [
    "### 1.0 Initial Relax"
   ]
  },
  {
   "cell_type": "markdown",
   "metadata": {},
   "source": [
    "Without spin BMIX = 0.0001 AMIX = 0.28 mag are fine\n",
    "\n",
    "With spin: AMIX = 0.35, BMIX = 0.0001, AMIX_MAG  = 0.80, BMIX_MAG  = 0.0001"
   ]
  },
  {
   "cell_type": "code",
   "execution_count": null,
   "metadata": {
    "code_folding": [
     8,
     70
    ]
   },
   "outputs": [],
   "source": [
    "## edit\n",
    "for  in :\n",
    "    from pymatgen.io.vasp.inputs import Incar, Kpoints, Potcar\n",
    "    from basicimports import set_u\n",
    "    \n",
    "    path = wd +  + '/'\n",
    "    try:\n",
    "        os.makedirs(path)\n",
    "    except:\n",
    "        path = path\n",
    "    \n",
    "    # create the structure\n",
    "    struct = \n",
    "    struct.remove_oxidation_states()\n",
    "    struct.to(filename = path+'POSCAR_'+, fmt='POSCAR')\n",
    "    \n",
    "    \n",
    "    # create INCAR\n",
    "    \n",
    "    # write out ldau tags for ce\n",
    "    ul, uu = set_u(struct)\n",
    "    incar_tags= dict(\n",
    "        System = \" initial relax\",\n",
    "        \n",
    "        IALGO = 38,\n",
    "        NPAR =,\n",
    "        NSIM = 6,\n",
    "        KPAR = 1,\n",
    "        \n",
    "        IBRION = 2,\n",
    "        ISIF = 3,\n",
    "        NSW = 100,\n",
    "        POTIM = 0.1,\n",
    "        EDIFFG = -0.01,\n",
    "        \n",
    "        ISYM = 0,\n",
    "        \n",
    "        LDAU = '.TRUE.',\n",
    "        LDAUTYPE = 2,\n",
    "        LMAXMIX = 6,\n",
    "        LDAUL = ul,\n",
    "        LDAUU = uu,\n",
    "        LDAUJ = [0]*len(struct.symbol_set),\n",
    "        \n",
    "        ISMEAR = 0,\n",
    "        SIGMA = 0.1,\n",
    "        ISPIN = 1,\n",
    "        AMIX = 0.28,\n",
    "        BMIX = 0.0001,\n",
    "        \n",
    "        LREAL = 'Auto',\n",
    "        \n",
    "        ENCUT = 520,\n",
    "        EDIFF = 0.1E-05)\n",
    "    incar = Incar.from_dict(incar_tags)\n",
    "    incar.write_file(path+'INCAR')\n",
    "    \n",
    "    \n",
    "    # create KPOINTS\n",
    "    kp_file = Kpoints.automatic_density(structure=struct,kppa=400)\n",
    "    kp_file.write_file(path+'KPOINTS')\n",
    "    \n",
    "    \n",
    "    # create POTCAR\n",
    "    potcar = Potcar(symbols=[i.replace('populate_me','_sv')\n",
    "                     for i in struct.symbol_set],functional=\"PBE\")\n",
    "    potcar.write_file(path+'POTCAR')\n",
    "    \n",
    "    \n",
    "    # slurm for each calc\n",
    "    with open(path + \"parallel.sh\", \"w\") as f:\n",
    "        f.write(\n",
    "            \"#!/bin/bash\\n\"\n",
    "            \n",
    "            \"#SBATCH -J  \\n\"\n",
    "            \n",
    "            \"#SBATCH -t 1-00:00\\n\"\n",
    "            \"#SBATCH -n \\n\"\n",
    "            \n",
    "            \"#SBATCH -q aggressive \\n#SBATCH --mem-per-cpu=4000\\n\"\n",
    "            \"#SBATCH --exclusive\\n#SBATCH -o error.%j.out\\n\"\n",
    "            \"module purge\\n\"\n",
    "            \n",
    "            \"cd /scratch/tboland1/ \"+  +  + \"\\n\"\n",
    "            \n",
    "            \"\\nmodule load intel/2018x\\nmodule load vasp/5.4.4-elpa\\n\"\n",
    "            'export I_MPI_HYDRA_BOOTSTRAP_EXEC_EXTRA_ARGS=\"--cpu-bind=verbose,none\"\\n'\n",
    "            \"export I_MPI_HYDRA_BOOTSTRAP=slurm\\nexport I_MPI_HYDRA_BOOTSTRAP_EXEC=srun\\n\\n\\n\"\n",
    "            \"mpiexec.hydra vasp_std\")"
   ]
  },
  {
   "cell_type": "markdown",
   "metadata": {},
   "source": [
    "### 1.1 Higher KP Relax\n",
    "* Check DOS from prior run to make sure the calculation is insulting\n",
    "* Ensure that the ediff accounts for the power in the total energy"
   ]
  },
  {
   "cell_type": "code",
   "execution_count": null,
   "metadata": {
    "code_folding": []
   },
   "outputs": [],
   "source": [
    "System = \"High KP relax\",\n",
    "ISPIN = 2,\n",
    "MAGMOM = ' '.join([str(el) for el in [5]*12+[0.6]*24]*gb_flag),\n",
    "\n",
    "kp_file = Kpoints.automatic_density(structure=struct,kppa=800)\n",
    "kp_file.write_file(path+'KPOINTS')"
   ]
  },
  {
   "cell_type": "markdown",
   "metadata": {},
   "source": [
    "#### 1.4.0 Relax Converge Checks -- spE"
   ]
  },
  {
   "cell_type": "code",
   "execution_count": null,
   "metadata": {
    "code_folding": []
   },
   "outputs": [],
   "source": [
    "System = \"spin final E\"\n",
    "ENCUT = 400\n",
    "ISIF = 2\n",
    "NSW = 0\n",
    "IBRION = -1\n",
    "ISPIN = 2\n",
    "# copy chgcar & wavecar\n",
    "EDIFF = 0.1E-05\n",
    "# Remove EDIFFG, and POTIM from dict"
   ]
  },
  {
   "cell_type": "markdown",
   "metadata": {},
   "source": [
    "# NEB Relax INCAR"
   ]
  },
  {
   "cell_type": "code",
   "execution_count": null,
   "metadata": {
    "code_folding": [
     0
    ]
   },
   "outputs": [],
   "source": [
    "# create NEB INCAR\n",
    "relax_init_incar = Incar.from_file(wd+'../INCAR')\n",
    "## edit\n",
    "relax_init_incar['System'] = \"NEB    image relax\"\n",
    "relax_init_incar['NPAR']   = 2\n",
    "relax_init_incar['KPAR']   = 1\n",
    "relax_init_incar['ENCUT']  = 400\n",
    "relax_init_incar['ISIF']   = 2\n",
    "\n",
    "relax_init_incar['IBRION'] = 3\n",
    "relax_init_incar[\"LSCALAPACK\"]=\".FALSE.\"\n",
    "relax_init_incar['ISYM']   = 0\n",
    "relax_init_incar[\"NSW\"]    = 500\n",
    "relax_init_incar[\"LCLIMB\"] = \".TRUE.\"\n",
    "relax_init_incar[\"ICHAIN\"] = 0\n",
    "relax_init_incar['SPRING'] = -5\n",
    "relax_init_incar['IMAGES'] = len(neb_structs)-2\n",
    "relax_init_incar['POTIM']  = 0\n",
    "relax_init_incar['EDIFFG'] = -0.01\n",
    "relax_init_incar['EDIFF']  = 0.1E-05\n",
    "relax_init_incar.write_file(path+'INCAR')"
   ]
  },
  {
   "cell_type": "markdown",
   "metadata": {},
   "source": [
    "# Bader Analysis"
   ]
  },
  {
   "cell_type": "code",
   "execution_count": null,
   "metadata": {
    "code_folding": [
     0
    ]
   },
   "outputs": [],
   "source": [
    "# edits\n",
    "    relax_init_incar['ENCUT']  = 400\n",
    "    relax_init_incar['ISIF']   = 2\n",
    "    relax_init_incar['NSW']    = 0\n",
    "    relax_init_incar['IBRION'] = -1\n",
    "    relax_init_incar['ISPIN']  = 1\n",
    "    relax_init_incar['NGXF']   =\n",
    "    relax_init_incar['NGYF']   =\n",
    "    relax_init_incar['NGZF']   = \n",
    "    relax_init_incar['LAECHG'] ='.TRUE.'\n",
    "    \n",
    "    relax_init_incar.pop('EDIFFG')\n",
    "    relax_init_incar.pop('POTIM')"
   ]
  },
  {
   "cell_type": "raw",
   "metadata": {},
   "source": [
    "Initial sync\n",
    "* rsync -azPn / tboland1@agave.asu.edu:/scratch/tboland1// \n",
    "\n",
    "Second Sync\n",
    "* rsync -azPn --include='INCAR' --include='*/' --exclude='*' / \n",
    "tboland1@agave.asu.edu:/scratch/tboland1//\n",
    "\n",
    "Sync Back\n",
    "* rsync -azPn --include='*' --exclude='WAVECAR*' / tboland1@agave.asu.edu:/scratch/tboland1//"
   ]
  },
  {
   "cell_type": "markdown",
   "metadata": {},
   "source": [
    "### Random Tags"
   ]
  },
  {
   "cell_type": "code",
   "execution_count": null,
   "metadata": {},
   "outputs": [],
   "source": [
    "struct.add_site_property('magmom',[2]*32+[0.5]*63)\n",
    "relax_init_incar['MAGMOM'] = ' '.join(str(el) for el in [2]*32+[0.5]*63)\n",
    "relax_init_incar['ISPIN']  = 2"
   ]
  },
  {
   "cell_type": "markdown",
   "metadata": {},
   "source": [
    "For insulators 100 kp/ atom in the full brillouin zone is sufficient to reduce the energy error to less than 10 meV / atom. For metals 1000 kp/atom. For problematic cases (transition metals w/ steep DOS @ Fermi Level)  5000/atom gets you 1 meV/atom.  "
   ]
  },
  {
   "cell_type": "code",
   "execution_count": 76,
   "metadata": {},
   "outputs": [
    {
     "data": {
      "text/plain": [
       "pymatgen 4.7.6+ generated KPOINTS with grid density = 5000 / atom\n",
       "0\n",
       "Gamma\n",
       "3 3 3"
      ]
     },
     "execution_count": 76,
     "metadata": {},
     "output_type": "execute_result"
    }
   ],
   "source": [
    "Kpoints.automatic_density(structure=struct,kppa=5000)\n",
    "# for a 2^3 ceo2 super cell"
   ]
  },
  {
   "cell_type": "markdown",
   "metadata": {},
   "source": [
    "### Pickling"
   ]
  },
  {
   "cell_type": "code",
   "execution_count": null,
   "metadata": {},
   "outputs": [],
   "source": [
    "# Original pickling of \n",
    "with open(\".pkl\",'wb') as f:\n",
    "    pickle.dump(,f)\n",
    "# load Pickled var to save time\n",
    "with open(\".pkl\", 'rb') as f:\n",
    "    = pickle.load(f)"
   ]
  },
  {
   "cell_type": "markdown",
   "metadata": {},
   "source": [
    "### NEB set up"
   ]
  },
  {
   "cell_type": "code",
   "execution_count": null,
   "metadata": {},
   "outputs": [],
   "source": [
    "from pymatgen.io.vasp import Poscar\n",
    "init_struct = Poscar.from_file(wd+'1vac/vac_loc/ispin2/magmom/m2x1/39/POSCAR').structure\n",
    "final_struct = Poscar.from_file(wd+'1vac/vac_loc/ispin2/magmom/m2x1/78/POSCAR').structure\n",
    "final_struct.modify_lattice(init_struct.lattice)\n",
    "from pymatgen_diffusion.neb.pathfinder import IDPPSolver\n",
    "\n",
    "obj = IDPPSolver.from_endpoints(\n",
    "    endpoints=[init_struct,final_struct],\n",
    "    nimages=4, sort_tol=.5)\n",
    "for i,struct in enumerate(obj.structures):\n",
    "    p = Poscar(struct)\n",
    "    p.write_file('POSCAR'+str(i))\n",
    "\n",
    "newpath=obj.run(maxiter=5000,gtol=1e-3,species=['O'])\n",
    "\n",
    "for i,struct in enumerate(newpath):\n",
    "    p = Poscar(struct)\n",
    "    p.write_file('POSCAR'+str(i))"
   ]
  },
  {
   "cell_type": "code",
   "execution_count": null,
   "metadata": {},
   "outputs": [],
   "source": []
  },
  {
   "cell_type": "code",
   "execution_count": null,
   "metadata": {},
   "outputs": [],
   "source": []
  },
  {
   "cell_type": "markdown",
   "metadata": {},
   "source": [
    "\n",
    "- - - - - \n",
    "- - - - - \n",
    "usage for vasprun.xml file\n",
    "- - - - -\n",
    "- - - - -\n",
    "# Plot the DOS for this DFT run  \n",
    "* use the vasprun file to obtain the complete DOS"
   ]
  },
  {
   "cell_type": "code",
   "execution_count": 27,
   "metadata": {},
   "outputs": [
    {
     "data": {
      "image/png": "[encoded data removed]",
      "text/plain": [
       "<Figure size 864x576 with 1 Axes>"
      ]
     },
     "metadata": {},
     "output_type": "display_data"
    }
   ],
   "source": [
    "from pymatgen.electronic_structure.plotter import DosPlotter\n",
    "comp_dos = vasprun.complete_dos\n",
    "plotter = DosPlotter()\n",
    "plotter.add_dos(\"Total dos\",comp_dos)\n",
    "plotter.show()"
   ]
  },
  {
   "cell_type": "code",
   "execution_count": 81,
   "metadata": {
    "code_folding": [
     0
    ]
   },
   "outputs": [],
   "source": [
    "# adjust occupancy\n",
    "# 1. simplify Li occupancy to 0.625\n",
    "# 2. Ge/P sites fixed as Ge and P.\n",
    "#for i, site in enumerate(structure):\n",
    "#    if not site.is_ordered:\n",
    "#        if structure[i][\"Li+\"] == 0.466:\n",
    "#            structure[i] = {\"Li+\": 0.625}\n",
    "#        elif structure[i][\"Li+\"] == 0.74 or structure[i][\"Li+\"] == 0.81 or structure[i][\"Li+\"] == 0.86:\n",
    "##            structure[i] = {\"Li+\": 0.625}\n",
    " #       else:\n",
    " ##           if round(site.coords[0], 6) == 4.3595:\n",
    "  #              structure[i] = {\"Ge4+\": 1.0}\n",
    "  #          elif round(site.coords[0], 6) == 0:\n",
    "  #              structure[i] = {\"P5+\": 1.0}"
   ]
  },
  {
   "cell_type": "markdown",
   "metadata": {},
   "source": [
    "### Data obtainable from the vasprun.xml file\n",
    "* KP data obtained from vasprun.xml file\n",
    "* initial & final structs\n",
    "* to much to really comprehend."
   ]
  },
  {
   "cell_type": "markdown",
   "metadata": {},
   "source": [
    "# Band structure related"
   ]
  },
  {
   "cell_type": "code",
   "execution_count": 25,
   "metadata": {},
   "outputs": [
    {
     "data": {
      "text/plain": [
       "<pymatgen.electronic_structure.bandstructure.BandStructure at 0x7fd31a733b00>"
      ]
     },
     "execution_count": 25,
     "metadata": {},
     "output_type": "execute_result"
    }
   ],
   "source": [
    "vasprun.get_band_structure()"
   ]
  },
  {
   "cell_type": "code",
   "execution_count": 26,
   "metadata": {
    "code_folding": [
     0
    ]
   },
   "outputs": [
    {
     "name": "stdout",
     "output_type": "stream",
     "text": [
      "\n"
     ]
    }
   ],
   "source": [
    "# code to plot bandstructure along symmetry lines\n",
    "'''\n",
    "bz_lattice = vasprun.lattice_rec\n",
    "bs = vasprun.get_band_structure()\n",
    "kpoints = vasprun.kpoints\n",
    "labels = vasprun.kpoints.labels\n",
    "fold = True\n",
    "from pymatgen.electronic_structure.plotter import BSPlotter\n",
    "bsp = BSPlotter(bs)\n",
    "#bsp. plot_brillouin()\n",
    "#lot_brillouin_zone(bz_lattice=bz_lattice,kpoints=kpoints, fold=fold)\n",
    "'''\n",
    "print()"
   ]
  },
  {
   "cell_type": "code",
   "execution_count": 27,
   "metadata": {},
   "outputs": [
    {
     "data": {
      "text/plain": [
       "<pymatgen.electronic_structure.dos.Dos at 0x7fd31af1d160>"
      ]
     },
     "execution_count": 27,
     "metadata": {},
     "output_type": "execute_result"
    }
   ],
   "source": [
    "vasprun.idos"
   ]
  },
  {
   "cell_type": "code",
   "execution_count": 28,
   "metadata": {},
   "outputs": [
    {
     "data": {
      "text/plain": [
       "[]"
      ]
     },
     "execution_count": 28,
     "metadata": {},
     "output_type": "execute_result"
    }
   ],
   "source": [
    "vasprun.pdos"
   ]
  },
  {
   "cell_type": "code",
   "execution_count": 29,
   "metadata": {},
   "outputs": [],
   "source": [
    "vasprun.projected_eigenvalues"
   ]
  },
  {
   "cell_type": "code",
   "execution_count": 30,
   "metadata": {},
   "outputs": [
    {
     "data": {
      "text/plain": [
       "<pymatgen.electronic_structure.dos.Dos at 0x7fd344551828>"
      ]
     },
     "execution_count": 30,
     "metadata": {},
     "output_type": "execute_result"
    }
   ],
   "source": [
    "vasprun.tdos"
   ]
  },
  {
   "cell_type": "markdown",
   "metadata": {
    "slideshow": {
     "slide_type": "slide"
    }
   },
   "source": [
    "# Ionic relaxation related"
   ]
  },
  {
   "cell_type": "code",
   "execution_count": 31,
   "metadata": {},
   "outputs": [
    {
     "data": {
      "text/plain": [
       "0"
      ]
     },
     "execution_count": 31,
     "metadata": {},
     "output_type": "execute_result"
    }
   ],
   "source": [
    "vasprun.ionic_step_offset"
   ]
  },
  {
   "cell_type": "code",
   "execution_count": 32,
   "metadata": {},
   "outputs": [
    {
     "data": {
      "text/plain": [
       "[{'e_fr_energy': -579.22936827,\n",
       "  'e_wo_entrp': -579.22936827,\n",
       "  'e_0_energy': -0.0,\n",
       "  'forces': [[-0.00168013, -0.00106876, -0.00106876],\n",
       "   [0.00350032, 0.00210448, 0.00210448],\n",
       "   [-0.00145585, -5.929e-05, -5.929e-05],\n",
       "   [-0.00168013, -0.00106876, -0.00106876],\n",
       "   [0.00350032, 0.00210448, 0.00210448],\n",
       "   [-0.00145585, -5.929e-05, -5.929e-05],\n",
       "   [0.00350032, 0.00210448, 0.00210448],\n",
       "   [-0.00145585, -5.929e-05, -5.929e-05],\n",
       "   [-0.00168013, -0.00106876, -0.00106876],\n",
       "   [-0.00168013, -0.00106876, -0.00106876],\n",
       "   [0.00350032, 0.00210448, 0.00210448],\n",
       "   [-0.00145585, -5.929e-05, -5.929e-05],\n",
       "   [0.00040623, -0.00099033, -0.00099033],\n",
       "   [-0.00086497, -0.00147634, -0.00147634],\n",
       "   [0.00163919, 0.00303504, 0.00303504],\n",
       "   [-0.00086497, -0.00147634, -0.00147634],\n",
       "   [0.00163919, 0.00303504, 0.00303504],\n",
       "   [0.00040623, -0.00099033, -0.00099033],\n",
       "   [-0.00086497, -0.00147634, -0.00147634],\n",
       "   [0.00163919, 0.00303504, 0.00303504],\n",
       "   [0.00040623, -0.00099033, -0.00099033],\n",
       "   [-0.00086497, -0.00147634, -0.00147634],\n",
       "   [0.00163919, 0.00303504, 0.00303504],\n",
       "   [0.00040623, -0.00099033, -0.00099033],\n",
       "   [3.539e-05, 0.00388811, 0.00388811],\n",
       "   [0.00734116, 0.00434754, 0.00434754],\n",
       "   [-0.00158002, 0.00061584, 0.00061584],\n",
       "   [0.00214552, 0.00102471, 0.00102471],\n",
       "   [-0.00843307, -0.01012772, -0.01012772],\n",
       "   [-0.00271265, 0.00069478, 0.00069478],\n",
       "   [3.539e-05, 0.00388811, 0.00388811],\n",
       "   [0.00734116, 0.00434754, 0.00434754],\n",
       "   [-0.00158002, 0.00061584, 0.00061584],\n",
       "   [-0.00271265, 0.00069478, 0.00069478],\n",
       "   [0.00214552, 0.00102471, 0.00102471],\n",
       "   [-0.00843307, -0.01012772, -0.01012772],\n",
       "   [3.539e-05, 0.00388811, 0.00388811],\n",
       "   [0.00734116, 0.00434754, 0.00434754],\n",
       "   [-0.00158002, 0.00061584, 0.00061584],\n",
       "   [0.00214552, 0.00102471, 0.00102471],\n",
       "   [-0.00843307, -0.01012772, -0.01012772],\n",
       "   [-0.00271265, 0.00069478, 0.00069478],\n",
       "   [0.00734116, 0.00434754, 0.00434754],\n",
       "   [-0.00158002, 0.00061584, 0.00061584],\n",
       "   [3.539e-05, 0.00388811, 0.00388811],\n",
       "   [0.00214552, 0.00102471, 0.00102471],\n",
       "   [-0.00843307, -0.01012772, -0.01012772],\n",
       "   [-0.00271265, 0.00069478, 0.00069478],\n",
       "   [0.00183059, -0.00157684, -0.00157684],\n",
       "   [0.00065111, 0.00177192, 0.00177192],\n",
       "   [-0.0106926, -0.00899795, -0.00899795],\n",
       "   [0.00517235, 0.00131963, 0.00131963],\n",
       "   [0.00334966, 0.00634328, 0.00634328],\n",
       "   [0.00134779, -0.00084807, -0.00084807],\n",
       "   [0.00065111, 0.00177192, 0.00177192],\n",
       "   [-0.0106926, -0.00899795, -0.00899795],\n",
       "   [0.00183059, -0.00157684, -0.00157684],\n",
       "   [0.00517235, 0.00131963, 0.00131963],\n",
       "   [0.00334966, 0.00634328, 0.00634328],\n",
       "   [0.00134779, -0.00084807, -0.00084807],\n",
       "   [0.00065111, 0.00177192, 0.00177192],\n",
       "   [-0.0106926, -0.00899795, -0.00899795],\n",
       "   [0.00183059, -0.00157684, -0.00157684],\n",
       "   [0.00517235, 0.00131963, 0.00131963],\n",
       "   [0.00334966, 0.00634328, 0.00634328],\n",
       "   [0.00134779, -0.00084807, -0.00084807],\n",
       "   [0.00065111, 0.00177192, 0.00177192],\n",
       "   [-0.0106926, -0.00899795, -0.00899795],\n",
       "   [0.00183059, -0.00157684, -0.00157684],\n",
       "   [0.00334966, 0.00634328, 0.00634328],\n",
       "   [0.00134779, -0.00084807, -0.00084807],\n",
       "   [0.00517235, 0.00131963, 0.00131963]],\n",
       "  'stress': [[-45.89168786, 0.44777006, 0.44777006],\n",
       "   [0.44777006, -46.0564041, 0.6124863],\n",
       "   [0.44777006, 0.6124863, -46.0564041]],\n",
       "  'electronic_steps': [{'alphaZ': 3053.30779915,\n",
       "    'ewald': -40719.63282932,\n",
       "    'hartreedc': -8311.5234827,\n",
       "    'XCdc': 1515.14342964,\n",
       "    'pawpsdc': 43668.29829137,\n",
       "    'pawaedc': -43105.3980648,\n",
       "    'eentropy': -0.0,\n",
       "    'bandstr': -2941.06099391,\n",
       "    'atom': 46261.6177424,\n",
       "    'e_fr_energy': -579.24810816,\n",
       "    'e_wo_entrp': -579.24810816,\n",
       "    'e_0_energy': -579.24810816},\n",
       "   {'e_fr_energy': -579.26012328,\n",
       "    'e_wo_entrp': -579.26012328,\n",
       "    'e_0_energy': -579.26012328},\n",
       "   {'e_fr_energy': -579.22806989,\n",
       "    'e_wo_entrp': -579.22806989,\n",
       "    'e_0_energy': -579.22806989},\n",
       "   {'e_fr_energy': -579.22913111,\n",
       "    'e_wo_entrp': -579.22913111,\n",
       "    'e_0_energy': -579.22913111},\n",
       "   {'e_fr_energy': -579.22926343,\n",
       "    'e_wo_entrp': -579.22926343,\n",
       "    'e_0_energy': -579.22926343},\n",
       "   {'e_fr_energy': -579.22943403,\n",
       "    'e_wo_entrp': -579.22943403,\n",
       "    'e_0_energy': -579.22943403},\n",
       "   {'e_fr_energy': -579.22934883,\n",
       "    'e_wo_entrp': -579.22934883,\n",
       "    'e_0_energy': -579.22934883},\n",
       "   {'e_fr_energy': -579.2293689,\n",
       "    'e_wo_entrp': -579.2293689,\n",
       "    'e_0_energy': -579.2293689},\n",
       "   {'alphaZ': 3053.30779915,\n",
       "    'ewald': -40719.63282932,\n",
       "    'hartreedc': -8321.93777271,\n",
       "    'XCdc': 1515.50411352,\n",
       "    'pawpsdc': 43700.68352523,\n",
       "    'pawaedc': -43135.68876549,\n",
       "    'eentropy': -0.0,\n",
       "    'bandstr': -2933.08318106,\n",
       "    'atom': 46261.6177424,\n",
       "    'e_fr_energy': -579.22936827,\n",
       "    'e_wo_entrp': -579.22936827,\n",
       "    'e_0_energy': -579.22936827}],\n",
       "  'structure': Structure Summary\n",
       "  Lattice\n",
       "      abc : 7.67384807379511 7.67384807379511 19.680479262525594\n",
       "   angles : 89.99999995689292 90.00000004310711 119.98779540024711\n",
       "   volume : 1003.7974606436441\n",
       "        A : -5.42589632 -0.00066733 5.42656364\n",
       "        B : 5.42589632 -5.42656364 0.00066733\n",
       "        C : 11.36253 11.36253 11.36253\n",
       "  PeriodicSite: Ce (3.6834, -1.6921, 3.7352) [0.3365, 0.6635, 0.1680]\n",
       "  PeriodicSite: Ce (1.9206, 1.9741, 7.4013) [0.6700, 0.3300, 0.3314]\n",
       "  PeriodicSite: Ce (5.4520, -5.3503, 0.0769) [0.0031, 0.9969, 0.0052]\n",
       "  PeriodicSite: Ce (0.9704, 1.0212, 3.7348) [0.3365, 0.1635, 0.1680]\n",
       "  PeriodicSite: Ce (4.6335, -0.7392, 7.4017) [0.6700, 0.8300, 0.3314]\n",
       "  PeriodicSite: Ce (2.7390, -2.6370, 0.0766) [0.0031, 0.4969, 0.0052]\n",
       "  PeriodicSite: Ce (4.6335, 1.9744, 4.6881) [0.1700, 0.3300, 0.3314]\n",
       "  PeriodicSite: Ce (2.7390, -5.3506, 2.7902) [0.5031, 0.9969, 0.0052]\n",
       "  PeriodicSite: Ce (0.9704, -1.6924, 6.4485) [0.8365, 0.6635, 0.1680]\n",
       "  PeriodicSite: Ce (-1.7425, 1.0209, 6.4481) [0.8365, 0.1635, 0.1680]\n",
       "  PeriodicSite: Ce (7.3465, -0.7388, 4.6884) [0.1700, 0.8300, 0.3314]\n",
       "  PeriodicSite: Ce (0.0261, -2.6373, 2.7899) [0.5031, 0.4969, 0.0052]\n",
       "  PeriodicSite: Ce (2.0847, 4.8553, 10.2825) [0.8369, 0.1631, 0.5052]\n",
       "  PeriodicSite: Ce (7.5518, 4.8956, 10.3228) [0.5035, 0.4965, 0.6680]\n",
       "  PeriodicSite: Ce (13.0277, 4.9425, 10.3697) [0.1700, 0.8300, 0.8314]\n",
       "  PeriodicSite: Ce (12.9777, 2.1827, 7.6099) [0.0035, 0.9965, 0.6680]\n",
       "  PeriodicSite: Ce (7.6018, 7.6554, 13.0826) [0.6700, 0.3300, 0.8314]\n",
       "  PeriodicSite: Ce (7.5106, 2.1423, 7.5695) [0.3369, 0.6631, 0.5052]\n",
       "  PeriodicSite: Ce (10.2648, 4.8959, 7.6095) [0.0035, 0.4965, 0.6680]\n",
       "  PeriodicSite: Ce (10.3147, 4.9421, 13.0830) [0.6700, 0.8300, 0.8314]\n",
       "  PeriodicSite: Ce (4.7976, 4.8556, 7.5692) [0.3369, 0.1631, 0.5052]\n",
       "  PeriodicSite: Ce (10.2648, 2.1823, 10.3232) [0.5035, 0.9965, 0.6680]\n",
       "  PeriodicSite: Ce (10.3147, 7.6557, 10.3694) [0.1700, 0.3300, 0.8314]\n",
       "  PeriodicSite: Ce (4.7976, 2.1420, 10.2828) [0.8369, 0.6631, 0.5052]\n",
       "  PeriodicSite: O (3.2246, 0.5626, 3.2763) [0.1698, 0.3302, 0.2072]\n",
       "  PeriodicSite: O (6.8748, -1.2106, 6.9303) [0.5033, 0.9967, 0.3695]\n",
       "  PeriodicSite: O (-0.4278, -3.0914, 5.0495) [0.8364, 0.6636, 0.0449]\n",
       "  PeriodicSite: O (-0.3805, 2.3854, 7.8127) [0.8366, 0.1634, 0.2880]\n",
       "  PeriodicSite: O (8.8266, 0.7448, 6.1720) [0.1702, 0.8298, 0.4619]\n",
       "  PeriodicSite: O (1.3745, -1.2885, 4.1388) [0.5031, 0.4969, 0.1239]\n",
       "  PeriodicSite: O (3.2246, -2.1510, 5.9899) [0.6698, 0.8302, 0.2072]\n",
       "  PeriodicSite: O (6.8748, 1.5030, 4.2166) [0.0033, 0.4967, 0.3695]\n",
       "  PeriodicSite: O (-0.4278, -0.3777, 2.3359) [0.3364, 0.1636, 0.0449]\n",
       "  PeriodicSite: O (6.8004, -4.0014, 1.4258) [0.0031, 0.9969, 0.1239]\n",
       "  PeriodicSite: O (5.0454, -0.3275, 5.0997) [0.3366, 0.6634, 0.2880]\n",
       "  PeriodicSite: O (3.4007, 3.4578, 8.8850) [0.6702, 0.3298, 0.4619]\n",
       "  PeriodicSite: O (5.9376, -2.1506, 3.2766) [0.1698, 0.8302, 0.2072]\n",
       "  PeriodicSite: O (4.1618, 1.5027, 6.9299) [0.5033, 0.4967, 0.3695]\n",
       "  PeriodicSite: O (-3.1408, -0.3781, 5.0492) [0.8364, 0.1636, 0.0449]\n",
       "  PeriodicSite: O (2.3324, 2.3858, 5.0994) [0.3366, 0.1634, 0.2880]\n",
       "  PeriodicSite: O (6.1136, 0.7445, 8.8853) [0.6702, 0.8298, 0.4619]\n",
       "  PeriodicSite: O (4.0875, -1.2881, 1.4255) [0.0031, 0.4969, 0.1239]\n",
       "  PeriodicSite: O (9.5877, -1.2103, 4.2170) [0.0033, 0.9967, 0.3695]\n",
       "  PeriodicSite: O (2.2851, -3.0910, 2.3362) [0.3364, 0.6636, 0.0449]\n",
       "  PeriodicSite: O (0.5117, 0.5623, 5.9895) [0.6698, 0.3302, 0.2072]\n",
       "  PeriodicSite: O (2.3324, -0.3278, 7.8130) [0.8366, 0.6634, 0.2880]\n",
       "  PeriodicSite: O (6.1136, 3.4581, 6.1717) [0.1702, 0.3298, 0.4619]\n",
       "  PeriodicSite: O (4.0875, -4.0018, 4.1391) [0.5031, 0.9969, 0.1239]\n",
       "  PeriodicSite: O (3.4337, 6.2039, 11.6311) [0.8369, 0.1631, 0.6239]\n",
       "  PeriodicSite: O (8.9172, 6.2584, 11.6857) [0.5034, 0.4966, 0.7880]\n",
       "  PeriodicSite: O (14.5125, 6.4237, 11.8510) [0.1698, 0.8302, 0.9619]\n",
       "  PeriodicSite: O (6.1890, 6.2455, 11.6728) [0.6702, 0.3298, 0.7072]\n",
       "  PeriodicSite: O (11.6520, 6.2795, 11.7067) [0.3367, 0.6633, 0.8695]\n",
       "  PeriodicSite: O (11.5785, 0.7842, 6.2114) [0.0036, 0.9964, 0.5449]\n",
       "  PeriodicSite: O (11.6302, 3.5452, 11.6860) [0.5034, 0.9966, 0.7880]\n",
       "  PeriodicSite: O (11.7995, 9.1370, 11.8506) [0.1698, 0.3302, 0.9619]\n",
       "  PeriodicSite: O (6.1466, 3.4906, 11.6314) [0.8369, 0.6631, 0.6239]\n",
       "  PeriodicSite: O (8.9020, 3.5323, 11.6731) [0.6702, 0.8298, 0.7072]\n",
       "  PeriodicSite: O (8.9391, 8.9928, 11.7064) [0.3367, 0.1633, 0.8695]\n",
       "  PeriodicSite: O (8.8656, 3.4974, 6.2111) [0.0036, 0.4964, 0.5449]\n",
       "  PeriodicSite: O (14.3431, 3.5455, 8.9727) [0.0034, 0.9966, 0.7880]\n",
       "  PeriodicSite: O (9.0866, 9.1367, 14.5639) [0.6698, 0.3302, 0.9619]\n",
       "  PeriodicSite: O (8.8596, 3.4909, 8.9181) [0.3369, 0.6631, 0.6239]\n",
       "  PeriodicSite: O (8.9020, 6.2459, 8.9595) [0.1702, 0.3298, 0.7072]\n",
       "  PeriodicSite: O (8.9391, 6.2792, 14.4200) [0.8367, 0.6633, 0.8695]\n",
       "  PeriodicSite: O (8.8656, 0.7838, 8.9247) [0.5036, 0.9964, 0.5449]\n",
       "  PeriodicSite: O (11.6302, 6.2588, 8.9724) [0.0034, 0.4966, 0.7880]\n",
       "  PeriodicSite: O (11.7995, 6.4234, 14.5643) [0.6698, 0.8302, 0.9619]\n",
       "  PeriodicSite: O (6.1466, 6.2042, 8.9178) [0.3369, 0.1631, 0.6239]\n",
       "  PeriodicSite: O (6.2261, 8.9924, 14.4197) [0.8367, 0.1633, 0.8695]\n",
       "  PeriodicSite: O (6.1526, 3.4971, 8.9243) [0.5036, 0.4964, 0.5449]\n",
       "  PeriodicSite: O (11.6149, 3.5326, 8.9598) [0.1702, 0.8298, 0.7072]}]"
      ]
     },
     "execution_count": 32,
     "metadata": {},
     "output_type": "execute_result"
    }
   ],
   "source": [
    "vasprun.ionic_steps"
   ]
  },
  {
   "cell_type": "code",
   "execution_count": 33,
   "metadata": {},
   "outputs": [
    {
     "data": {
      "text/plain": [
       "0"
      ]
     },
     "execution_count": 33,
     "metadata": {},
     "output_type": "execute_result"
    }
   ],
   "source": [
    "vasprun.ionic_step_offset"
   ]
  },
  {
   "cell_type": "code",
   "execution_count": 34,
   "metadata": {},
   "outputs": [
    {
     "data": {
      "text/plain": [
       "1"
      ]
     },
     "execution_count": 34,
     "metadata": {},
     "output_type": "execute_result"
    }
   ],
   "source": [
    "vasprun.nionic_steps"
   ]
  },
  {
   "cell_type": "markdown",
   "metadata": {},
   "source": [
    "# Random vasp details"
   ]
  },
  {
   "cell_type": "code",
   "execution_count": 35,
   "metadata": {},
   "outputs": [],
   "source": [
    "#vasprun.from_dict()"
   ]
  },
  {
   "cell_type": "code",
   "execution_count": 36,
   "metadata": {},
   "outputs": [],
   "source": [
    "# get the atomic symbols for the files\n",
    "atom_sym = vasprun.atomic_symbols"
   ]
  },
  {
   "cell_type": "code",
   "execution_count": 37,
   "metadata": {},
   "outputs": [
    {
     "data": {
      "text/plain": [
       "True"
      ]
     },
     "execution_count": 37,
     "metadata": {},
     "output_type": "execute_result"
    }
   ],
   "source": [
    "vasprun.is_spin"
   ]
  },
  {
   "cell_type": "code",
   "execution_count": 38,
   "metadata": {},
   "outputs": [
    {
     "data": {
      "text/plain": [
       "1e-08"
      ]
     },
     "execution_count": 38,
     "metadata": {},
     "output_type": "execute_result"
    }
   ],
   "source": [
    "vasprun.occu_tol"
   ]
  },
  {
   "cell_type": "markdown",
   "metadata": {},
   "source": [
    "# Optical/dielectric"
   ]
  },
  {
   "cell_type": "code",
   "execution_count": 39,
   "metadata": {},
   "outputs": [],
   "source": [
    "#vasprun.optical_absorption_coeff"
   ]
  },
  {
   "cell_type": "code",
   "execution_count": 40,
   "metadata": {},
   "outputs": [
    {
     "data": {
      "text/plain": [
       "{}"
      ]
     },
     "execution_count": 40,
     "metadata": {},
     "output_type": "execute_result"
    }
   ],
   "source": [
    "vasprun.other_dielectric"
   ]
  },
  {
   "cell_type": "markdown",
   "metadata": {},
   "source": [
    "# Run related"
   ]
  },
  {
   "cell_type": "code",
   "execution_count": 41,
   "metadata": {},
   "outputs": [
    {
     "data": {
      "text/plain": [
       "{'program': 'vasp',\n",
       " 'version': '5.4.4.18Apr17-6-g9f103f2a35',\n",
       " 'subversion': '(build Nov 09 2018 06:40:05) complex            parallel',\n",
       " 'platform': 'LinuxIFC',\n",
       " 'date': '2018 11 28',\n",
       " 'time': '13:51:36'}"
      ]
     },
     "execution_count": 41,
     "metadata": {},
     "output_type": "execute_result"
    }
   ],
   "source": [
    "vasprun.generator"
   ]
  },
  {
   "cell_type": "code",
   "execution_count": 42,
   "metadata": {},
   "outputs": [
    {
     "data": {
      "text/plain": [
       "ComputedStructureEntry None - Ce24 O48\n",
       "Energy = -579.2294\n",
       "Correction = 0.0000\n",
       "Parameters:\n",
       "potcar_symbols = ['PAW_PBE Ce 23Dec2003', 'PAW_PBE O 08Apr2002']\n",
       "run_type = GGA+U\n",
       "is_hubbard = True\n",
       "potcar_spec = [{'titel': 'PAW_PBE Ce 23Dec2003', 'hash': '5ba9e8be431d6cd8cfb153f83a69d842'}, {'titel': 'PAW_PBE O 08Apr2002', 'hash': '9bb4b91e6c47f70fd2bce603bd5d6832'}]\n",
       "hubbards = {'Ce': 5.0, 'O': 0.0}\n",
       "Data:"
      ]
     },
     "execution_count": 42,
     "metadata": {},
     "output_type": "execute_result"
    }
   ],
   "source": [
    "vasprun.get_computed_entry()"
   ]
  },
  {
   "cell_type": "code",
   "execution_count": 43,
   "metadata": {},
   "outputs": [
    {
     "data": {
      "text/plain": [
       "{'SYSTEM': '(Ce60 O119)2 POSCAR-112-FINAL-NONSTOIC-',\n",
       " 'LCOMPAT': False,\n",
       " 'PREC': 'normal',\n",
       " 'ENMAX': 400.0,\n",
       " 'ENAUG': 605.392,\n",
       " 'EDIFF': 1e-05,\n",
       " 'IALGO': 38,\n",
       " 'IWAVPR': 10,\n",
       " 'NBANDS': 381,\n",
       " 'NELECT': 576.0,\n",
       " 'TURBO': 0,\n",
       " 'IRESTART': 0,\n",
       " 'NREBOOT': 0,\n",
       " 'NMIN': 0,\n",
       " 'EREF': 0.0,\n",
       " 'ISMEAR': 0,\n",
       " 'SIGMA': 0.1,\n",
       " 'KSPACING': 0.5,\n",
       " 'KGAMMA': True,\n",
       " 'LREAL': True,\n",
       " 'ROPT': [-0.0005, -0.0005],\n",
       " 'LMAXPAW': -100,\n",
       " 'LMAXMIX': 6,\n",
       " 'NLSPLINE': False,\n",
       " 'ISTART': 1,\n",
       " 'ICHARG': 0,\n",
       " 'INIWAV': 1,\n",
       " 'ISPIN': 2,\n",
       " 'LNONCOLLINEAR': False,\n",
       " 'MAGMOM': [1.0,\n",
       "  1.0,\n",
       "  1.0,\n",
       "  1.0,\n",
       "  1.0,\n",
       "  1.0,\n",
       "  1.0,\n",
       "  1.0,\n",
       "  1.0,\n",
       "  1.0,\n",
       "  1.0,\n",
       "  1.0,\n",
       "  1.0,\n",
       "  1.0,\n",
       "  1.0,\n",
       "  1.0,\n",
       "  1.0,\n",
       "  1.0,\n",
       "  1.0,\n",
       "  1.0,\n",
       "  1.0,\n",
       "  1.0,\n",
       "  1.0,\n",
       "  1.0,\n",
       "  1.0,\n",
       "  1.0,\n",
       "  1.0,\n",
       "  1.0,\n",
       "  1.0,\n",
       "  1.0,\n",
       "  1.0,\n",
       "  1.0,\n",
       "  1.0,\n",
       "  1.0,\n",
       "  1.0,\n",
       "  1.0,\n",
       "  1.0,\n",
       "  1.0,\n",
       "  1.0,\n",
       "  1.0,\n",
       "  1.0,\n",
       "  1.0,\n",
       "  1.0,\n",
       "  1.0,\n",
       "  1.0,\n",
       "  1.0,\n",
       "  1.0,\n",
       "  1.0,\n",
       "  1.0,\n",
       "  1.0,\n",
       "  1.0,\n",
       "  1.0,\n",
       "  1.0,\n",
       "  1.0,\n",
       "  1.0,\n",
       "  1.0,\n",
       "  1.0,\n",
       "  1.0,\n",
       "  1.0,\n",
       "  1.0,\n",
       "  1.0,\n",
       "  1.0,\n",
       "  1.0,\n",
       "  1.0,\n",
       "  1.0,\n",
       "  1.0,\n",
       "  1.0,\n",
       "  1.0,\n",
       "  1.0,\n",
       "  1.0,\n",
       "  1.0,\n",
       "  1.0],\n",
       " 'NUPDOWN': -1.0,\n",
       " 'LSORBIT': False,\n",
       " 'SAXIS': [0.0, 0.0, 1.0],\n",
       " 'LSPIRAL': False,\n",
       " 'QSPIRAL': [0.0, 0.0, 0.0],\n",
       " 'LZEROZ': False,\n",
       " 'LASPH': False,\n",
       " 'LMETAGGA': False,\n",
       " 'NELM': 60,\n",
       " 'NELMDL': 0,\n",
       " 'NELMIN': 2,\n",
       " 'ENINI': 400.0,\n",
       " 'LDIAG': True,\n",
       " 'LSUBROT': False,\n",
       " 'WEIMIN': 0.0,\n",
       " 'EBREAK': 1e-08,\n",
       " 'DEPER': 0.3,\n",
       " 'NRMM': 4,\n",
       " 'TIME': 0.4,\n",
       " 'AMIX': 0.4,\n",
       " 'BMIX': 1.0,\n",
       " 'AMIN': 0.1,\n",
       " 'AMIX_MAG': 1.6,\n",
       " 'BMIX_MAG': 1.0,\n",
       " 'IMIX': 4,\n",
       " 'MIXFIRST': False,\n",
       " 'MAXMIX': -45,\n",
       " 'WC': 100.0,\n",
       " 'INIMIX': 1,\n",
       " 'MIXPRE': 1,\n",
       " 'MREMOVE': 5,\n",
       " 'LDIPOL': False,\n",
       " 'LMONO': False,\n",
       " 'IDIPOL': 0,\n",
       " 'EPSILON': 1.0,\n",
       " 'DIPOL': [-100.0, -100.0, -100.0],\n",
       " 'EFIELD': 0.0,\n",
       " 'NGX': 40,\n",
       " 'NGY': 40,\n",
       " 'NGZ': 96,\n",
       " 'NGXF': 80,\n",
       " 'NGYF': 80,\n",
       " 'NGZF': 192,\n",
       " 'ADDGRID': False,\n",
       " 'NSW': 0,\n",
       " 'IBRION': -1,\n",
       " 'MDALGO': 0,\n",
       " 'ISIF': 2,\n",
       " 'PSTRESS': 0.0,\n",
       " 'EDIFFG': 0.0001,\n",
       " 'NFREE': 0,\n",
       " 'POTIM': 0.5,\n",
       " 'SMASS': -3.0,\n",
       " 'SCALEE': 1.0,\n",
       " 'TEBEG': 0.0001,\n",
       " 'TEEND': 0.0001,\n",
       " 'NBLOCK': 1,\n",
       " 'KBLOCK': 1,\n",
       " 'NPACO': 256,\n",
       " 'APACO': 16.0,\n",
       " 'ISYM': 2,\n",
       " 'SYMPREC': 1e-05,\n",
       " 'LORBIT': 0,\n",
       " 'RWIGS': [-1.0, -1.0],\n",
       " 'NEDOS': 301,\n",
       " 'EMIN': 10.0,\n",
       " 'EMAX': -10.0,\n",
       " 'EFERMI': 0.0,\n",
       " 'NWRITE': 2,\n",
       " 'LWAVE': True,\n",
       " 'LDOWNSAMPLE': False,\n",
       " 'LCHARG': True,\n",
       " 'LPARD': False,\n",
       " 'LVTOT': False,\n",
       " 'LVHAR': False,\n",
       " 'LELF': False,\n",
       " 'LOPTICS': False,\n",
       " 'STM': [0.0, 0.0, 0.0, 0.0, 0.0, 0.0, 0.0],\n",
       " 'NPAR': 3,\n",
       " 'NSIM': 4,\n",
       " 'NBLK': -1,\n",
       " 'LPLANE': True,\n",
       " 'LSCALAPACK': True,\n",
       " 'LSCAAWARE': False,\n",
       " 'LSCALU': False,\n",
       " 'LASYNC': False,\n",
       " 'LORBITALREAL': False,\n",
       " 'IDIOT': 3,\n",
       " 'ISPECIAL': 0,\n",
       " 'LMUSIC': False,\n",
       " 'POMASS': [140.115, 16.0],\n",
       " 'DARWINR': [0.0, 0.0],\n",
       " 'DARWINV': [1.0, 1.0],\n",
       " 'LCORR': True,\n",
       " 'GGA_COMPAT': True,\n",
       " 'LBERRY': False,\n",
       " 'ICORELEVEL': 0,\n",
       " 'LDAU': True,\n",
       " 'LDAUTYPE': [2],\n",
       " 'LDAUL': [3],\n",
       " 'LDAUU': [5.0],\n",
       " 'LDAUJ': [0.0],\n",
       " 'LDAUPRINT': 0,\n",
       " 'I_CONSTRAINED_M': 0,\n",
       " 'GGA': 'PE',\n",
       " 'VOSKOWN': 0,\n",
       " 'LHFCALC': False,\n",
       " 'PRECFOCK': '',\n",
       " 'LSYMGRAD': False,\n",
       " 'LHFONE': False,\n",
       " 'LRHFCALC': False,\n",
       " 'LTHOMAS': False,\n",
       " 'LMODELHF': False,\n",
       " 'ENCUT4O': -1.0,\n",
       " 'EXXOEP': 0,\n",
       " 'FOURORBIT': 0,\n",
       " 'AEXX': 0.0,\n",
       " 'HFALPHA': 0.0,\n",
       " 'MCALPHA': 0.0,\n",
       " 'ALDAX': 1.0,\n",
       " 'AGGAX': 1.0,\n",
       " 'ALDAC': 1.0,\n",
       " 'AGGAC': 1.0,\n",
       " 'NKREDX': 1,\n",
       " 'NKREDY': 1,\n",
       " 'NKREDZ': 1,\n",
       " 'SHIFTRED': False,\n",
       " 'ODDONLY': False,\n",
       " 'EVENONLY': False,\n",
       " 'LMAXFOCK': 0,\n",
       " 'NMAXFOCKAE': 0,\n",
       " 'LFOCKAEDFT': False,\n",
       " 'HFSCREEN': 0.0,\n",
       " 'HFSCREENC': 0.0,\n",
       " 'NBANDSGWLOW': 0,\n",
       " 'LUSE_VDW': False,\n",
       " 'Zab_VDW': -0.8491,\n",
       " 'PARAM1': 0.1234,\n",
       " 'PARAM2': 1.0,\n",
       " 'PARAM3': 0.0,\n",
       " 'MODEL_GW': 0,\n",
       " 'MODEL_EPS0': 8.36497884,\n",
       " 'MODEL_ALPHA': 1.0,\n",
       " 'LEPSILON': False,\n",
       " 'LRPA': False,\n",
       " 'LNABLA': False,\n",
       " 'LVEL': False,\n",
       " 'KINTER': 0,\n",
       " 'CSHIFT': 0.1,\n",
       " 'OMEGAMAX': -1.0,\n",
       " 'DEG_THRESHOLD': 0.002,\n",
       " 'RTIME': -0.1,\n",
       " 'WPLASMAI': 0.0,\n",
       " 'DFIELD': [0.0, 0.0, 0.0],\n",
       " 'WPLASMA': [0.0, 0.0, 0.0, 0.0, 0.0, 0.0, 0.0, 0.0, 0.0],\n",
       " 'NUCIND': False,\n",
       " 'MAGPOS': [0.0, 0.0, 0.0],\n",
       " 'LNICSALL': True,\n",
       " 'ORBITALMAG': False,\n",
       " 'LMAGBLOCH': False,\n",
       " 'LCHIMAG': False,\n",
       " 'LGAUGE': True,\n",
       " 'MAGATOM': 0,\n",
       " 'MAGDIPOL': [0.0, 0.0, 0.0],\n",
       " 'AVECCONST': [0.0, 0.0, 0.0],\n",
       " 'LADDER': False,\n",
       " 'LRPAFORCE': False,\n",
       " 'LFXC': False,\n",
       " 'LHARTREE': True,\n",
       " 'IBSE': 0,\n",
       " 'KPOINT': [-1, 0, 0, 0],\n",
       " 'LTCTE': False,\n",
       " 'LTETE': False,\n",
       " 'LTRIPLET': False,\n",
       " 'LFXCEPS': False,\n",
       " 'LFXHEG': False,\n",
       " 'NATURALO': 2,\n",
       " 'L2ORDER': False,\n",
       " 'LMP2LT': False,\n",
       " 'LUSEW': False,\n",
       " 'ENCUTGW': -2.0,\n",
       " 'ENCUTGWSOFT': -2.0,\n",
       " 'ENCUTLF': -1.0,\n",
       " 'LMAXMP2': -1,\n",
       " 'SCISSOR': 0.0,\n",
       " 'NOMEGA': 0,\n",
       " 'NOMEGAR': 0,\n",
       " 'NBANDSGW': -1,\n",
       " 'NBANDSO': -1,\n",
       " 'NBANDSV': -1,\n",
       " 'NELMHF': 1,\n",
       " 'DIM': 3,\n",
       " 'ANTIRES': 0,\n",
       " 'OMEGAMIN': -30.0,\n",
       " 'OMEGATL': -200.0,\n",
       " 'OMEGAGRID': 140,\n",
       " 'SELFENERGY': False,\n",
       " 'LSPECTRAL': False,\n",
       " 'LSPECTRALGW': False,\n",
       " 'LSINGLES': False,\n",
       " 'LFERMIGW': False,\n",
       " 'ODDONLYGW': False,\n",
       " 'EVENONLYGW': False,\n",
       " 'NKREDLFX': 1,\n",
       " 'NKREDLFY': 1,\n",
       " 'NKREDLFZ': 1,\n",
       " 'MAXMEM': 2800,\n",
       " 'TELESCOPE': 0,\n",
       " 'TAUPAR': 1,\n",
       " 'OMEGAPAR': -1,\n",
       " 'LAMBDA': 1.0,\n",
       " 'OFIELD_KAPPA': 0.0,\n",
       " 'OFIELD_K': [0.0, 0.0, 0.0],\n",
       " 'OFIELD_Q6_NEAR': 0.0,\n",
       " 'OFIELD_Q6_FAR': 0.0,\n",
       " 'OFIELD_A': 0.0}"
      ]
     },
     "execution_count": 43,
     "metadata": {},
     "output_type": "execute_result"
    }
   ],
   "source": [
    "vasprun.parameters"
   ]
  },
  {
   "cell_type": "code",
   "execution_count": 44,
   "metadata": {},
   "outputs": [
    {
     "data": {
      "text/plain": [
       "'GGA+U'"
      ]
     },
     "execution_count": 44,
     "metadata": {},
     "output_type": "execute_result"
    }
   ],
   "source": [
    "vasprun.run_type"
   ]
  },
  {
   "cell_type": "code",
   "execution_count": 45,
   "metadata": {},
   "outputs": [
    {
     "data": {
      "text/plain": [
       "{'Ce': 5.0, 'O': 0.0}"
      ]
     },
     "execution_count": 45,
     "metadata": {},
     "output_type": "execute_result"
    }
   ],
   "source": [
    "vasprun.hubbards"
   ]
  },
  {
   "cell_type": "markdown",
   "metadata": {},
   "source": [
    "# Potcar specifics"
   ]
  },
  {
   "cell_type": "code",
   "execution_count": 46,
   "metadata": {},
   "outputs": [
    {
     "data": {
      "text/plain": [
       "[{'titel': 'PAW_PBE Ce 23Dec2003', 'hash': '5ba9e8be431d6cd8cfb153f83a69d842'},\n",
       " {'titel': 'PAW_PBE O 08Apr2002', 'hash': '9bb4b91e6c47f70fd2bce603bd5d6832'}]"
      ]
     },
     "execution_count": 46,
     "metadata": {},
     "output_type": "execute_result"
    }
   ],
   "source": [
    "vasprun.potcar_spec"
   ]
  },
  {
   "cell_type": "code",
   "execution_count": 47,
   "metadata": {},
   "outputs": [
    {
     "data": {
      "text/plain": [
       "<bound method Vasprun.update_potcar_spec of <pymatgen.io.vasp.outputs.Vasprun object at 0x7fd344349ef0>>"
      ]
     },
     "execution_count": 47,
     "metadata": {},
     "output_type": "execute_result"
    }
   ],
   "source": [
    "vasprun.update_potcar_spec"
   ]
  },
  {
   "cell_type": "code",
   "execution_count": 48,
   "metadata": {},
   "outputs": [
    {
     "data": {
      "text/plain": [
       "['PAW_PBE Ce 23Dec2003', 'PAW_PBE O 08Apr2002']"
      ]
     },
     "execution_count": 48,
     "metadata": {},
     "output_type": "execute_result"
    }
   ],
   "source": [
    "vasprun.potcar_symbols"
   ]
  },
  {
   "cell_type": "code",
   "execution_count": 49,
   "metadata": {},
   "outputs": [
    {
     "data": {
      "text/plain": [
       "<bound method Vasprun.update_charge_from_potcar of <pymatgen.io.vasp.outputs.Vasprun object at 0x7fd344349ef0>>"
      ]
     },
     "execution_count": 49,
     "metadata": {},
     "output_type": "execute_result"
    }
   ],
   "source": [
    "vasprun.update_charge_from_potcar"
   ]
  },
  {
   "cell_type": "code",
   "execution_count": 50,
   "metadata": {
    "scrolled": true
   },
   "outputs": [
    {
     "data": {
      "text/plain": [
       "<bound method Vasprun.get_potcars of <pymatgen.io.vasp.outputs.Vasprun object at 0x7fd344349ef0>>"
      ]
     },
     "execution_count": 50,
     "metadata": {},
     "output_type": "execute_result"
    }
   ],
   "source": [
    "vasprun.get_potcars"
   ]
  },
  {
   "cell_type": "markdown",
   "metadata": {},
   "source": [
    "# Structural"
   ]
  },
  {
   "cell_type": "code",
   "execution_count": 51,
   "metadata": {},
   "outputs": [],
   "source": [
    "structs = vasprun.structures"
   ]
  },
  {
   "cell_type": "code",
   "execution_count": 52,
   "metadata": {},
   "outputs": [
    {
     "data": {
      "text/plain": [
       "Lattice\n",
       "    abc : 0.9453282636523603 0.9453282636523603 0.3192597712365499\n",
       " angles : 90.000000024894 89.999999975106 60.01220459975288\n",
       " volume : 0.24711181604638305\n",
       "      A : -0.38599983858148285 -0.38585745216728473 0.7718572907487675\n",
       "      B : 0.38599983858148285 -0.7718572907487675 0.38585745216728473\n",
       "      C : 0.18432471463836517 0.1843247149780781 0.1843247149780781"
      ]
     },
     "execution_count": 52,
     "metadata": {},
     "output_type": "execute_result"
    }
   ],
   "source": [
    "vasprun.lattice_rec"
   ]
  },
  {
   "cell_type": "code",
   "execution_count": 53,
   "metadata": {},
   "outputs": [
    {
     "data": {
      "text/plain": [
       "Lattice\n",
       "    abc : 7.67384807379511 7.67384807379511 19.680479262525594\n",
       " angles : 89.99999995689292 90.00000004310711 119.98779540024711\n",
       " volume : 1003.7974606436441\n",
       "      A : -5.42589632 -0.00066733 5.42656364\n",
       "      B : 5.42589632 -5.42656364 0.00066733\n",
       "      C : 11.36253 11.36253 11.36253"
      ]
     },
     "execution_count": 53,
     "metadata": {},
     "output_type": "execute_result"
    }
   ],
   "source": [
    "vasprun.lattice"
   ]
  },
  {
   "cell_type": "code",
   "execution_count": 54,
   "metadata": {},
   "outputs": [
    {
     "data": {
      "text/plain": [
       "<bound method MSONable.to_json of <pymatgen.io.vasp.outputs.Vasprun object at 0x7fd344349ef0>>"
      ]
     },
     "execution_count": 54,
     "metadata": {},
     "output_type": "execute_result"
    }
   ],
   "source": [
    "vasprun.to_json"
   ]
  },
  {
   "cell_type": "code",
   "execution_count": null,
   "metadata": {},
   "outputs": [],
   "source": []
  }
 ],
 "metadata": {
  "kernelspec": {
   "display_name": "Environment (conda_anaconda3)",
   "language": "python",
   "name": "conda_anaconda3"
  },
  "language_info": {
   "codemirror_mode": {
    "name": "ipython",
    "version": 3
   },
   "file_extension": ".py",
   "mimetype": "text/x-python",
   "name": "python",
   "nbconvert_exporter": "python",
   "pygments_lexer": "ipython3",
   "version": "3.6.8"
  },
  "latex_envs": {
   "LaTeX_envs_menu_present": true,
   "autoclose": true,
   "autocomplete": true,
   "bibliofile": "biblio.bib",
   "cite_by": "apalike",
   "current_citInitial": 1,
   "eqLabelWithNumbers": true,
   "eqNumInitial": 1,
   "hotkeys": {
    "equation": "Ctrl-E",
    "itemize": "Ctrl-I"
   },
   "labels_anchors": false,
   "latex_user_defs": false,
   "report_style_numbering": false,
   "user_envs_cfg": false
  },
  "notify_time": "5",
  "varInspector": {
   "cols": {
    "lenName": 16,
    "lenType": 16,
    "lenVar": 40
   },
   "kernels_config": {
    "python": {
     "delete_cmd_postfix": "",
     "delete_cmd_prefix": "del ",
     "library": "var_list.py",
     "varRefreshCmd": "print(var_dic_list())"
    },
    "r": {
     "delete_cmd_postfix": ") ",
     "delete_cmd_prefix": "rm(",
     "library": "var_list.r",
     "varRefreshCmd": "cat(var_dic_list()) "
    }
   },
   "types_to_exclude": [
    "module",
    "function",
    "builtin_function_or_method",
    "instance",
    "_Feature"
   ],
   "window_display": false
  }
 },
 "nbformat": 4,
 "nbformat_minor": 2
}
